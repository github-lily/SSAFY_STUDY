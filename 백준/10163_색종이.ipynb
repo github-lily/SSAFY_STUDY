{
 "cells": [
  {
   "cell_type": "code",
   "execution_count": null,
   "metadata": {},
   "outputs": [],
   "source": [
    "# 1차 시도\n",
    "# 색종이가 덮이면 기존 색종이의 면적 -1을 하고 현재 색종이 면적 +1을 함\n",
    "# tc2번에서 오류남\n",
    "\n",
    " \n",
    "N = int(input())    #색종이 장수\n",
    "arr = [[0] * 1001 for _ in range(1001)]\n",
    "total = [0] * (N+1)\n",
    "for i in range(1,N+1) :\n",
    "    r1,c1,w,h = map(int,input().split())\n",
    "\n",
    "    for r in range(r1,r1+h) :\n",
    "        for c in range(c1,c1+w) :\n",
    "            if arr[r][c] != 0 : # 이미 다른 색종이가 있는 경우\n",
    "                k = arr[r][c]\n",
    "                total[k] -= 1   # 기존 색종이 면적 감소\n",
    "\n",
    "            arr[r][c] = i       # 현재 색종이 번호로 갱신\n",
    "            total[i] += 1       # 현재 색종이 면적 증가\n",
    "\n",
    "\n",
    "for line in total[1:] :\n",
    "    print(line)"
   ]
  },
  {
   "cell_type": "code",
   "execution_count": null,
   "metadata": {},
   "outputs": [],
   "source": [
    "# 2차 시도\n",
    "# 이것도 답이 이상하게 나옴\n",
    "\n",
    "N = int(input())    #색종이 장수\n",
    "arr = [[0] * 1001 for _ in range(1001)]\n",
    "for i in range(1,N+1) :\n",
    "    r1,c1,w,h = map(int,input().split())\n",
    "\n",
    "    for r in range(r1,r1+h) :\n",
    "        for c in range(c1,c1+w) :\n",
    "            arr[r][c] = i  # 현재 색종이 번호로 갱신\n",
    "\n",
    "\n",
    "for k in range(1,N+1) :\n",
    "    count = 0\n",
    "    for row in arr:\n",
    "        count += row.count(k)\n",
    "    print(count)\n"
   ]
  }
 ],
 "metadata": {
  "language_info": {
   "name": "python"
  }
 },
 "nbformat": 4,
 "nbformat_minor": 2
}
