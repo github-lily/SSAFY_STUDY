{
 "cells": [
  {
   "cell_type": "markdown",
   "metadata": {},
   "source": [
    "- 번호표를 뽑는다\n",
    "- 첫번째 학생은 무조건 0번\n",
    "- 두번째는 0 또는 1번, 세번째는 0,1,2 중 하나\n",
    "- 번호표 속 숫자만큼 앞으로 가서 줄을 설 수 있음\n",
    "- 번호표는 자신이 선 순서보다 작은 수\n",
    "- 최종적으로 줄을 선 순서"
   ]
  },
  {
   "cell_type": "code",
   "execution_count": null,
   "metadata": {},
   "outputs": [],
   "source": [
    "# 1차 시도 : 실패\n",
    "# 값이 뒤로 밀려나지 않고 바껴서 답과 다른 답이 나옴\n",
    "\n",
    "N = int(input())\n",
    "num = [x for x in range(1,N+1)]     # 학생들 번호 리스트\n",
    "pick = list(map(int,input().split()))\n",
    "\n",
    "for i in range(1, N) :\n",
    "    move = i - pick[i]\n",
    "    num[i],num[move] = num[move],num[i]\n",
    "\n",
    "print(*num)"
   ]
  },
  {
   "cell_type": "code",
   "execution_count": null,
   "metadata": {},
   "outputs": [],
   "source": [
    "# 2차 시도 : 성공\n",
    "\n",
    "N = int(input())\n",
    "pick = list(map(int,input().split()))\n",
    "num = []\n",
    "\n",
    "for i in range(N) :\n",
    "    num.insert(i-pick[i], i+1)\n",
    "    # 현재 위치(i)에서 pick[i]만큼 앞으로 간 곳에 i+1번을 삽입한다\n",
    "    # insert(index,value)\n",
    "\n",
    "print(*num)"
   ]
  }
 ],
 "metadata": {
  "language_info": {
   "name": "python"
  }
 },
 "nbformat": 4,
 "nbformat_minor": 2
}
