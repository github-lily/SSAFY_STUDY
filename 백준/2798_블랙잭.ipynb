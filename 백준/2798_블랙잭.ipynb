{
 "cells": [
  {
   "cell_type": "markdown",
   "metadata": {},
   "source": [
    "- 카드 합이 21을 넘지 않는 한도 내에서 카드의 합을 최대로 만드는 게임\n",
    "- 각 카드에는 양의 정수\n",
    "- N장의 카드를 모두 숫자가 보이게 바닥에 놓는다\n",
    "- 그 다음 숫자 M을 크게 외친다\n",
    "- N장의 카드 중 3장을 고른다\n",
    "- 카드 합은 M을 넘지 않으면서 M과 최대한 가깝게\n",
    "- 합이 M을 넘지 않는 카드 3장을 찾을 수 있는 경우만 주어진다"
   ]
  },
  {
   "cell_type": "code",
   "execution_count": null,
   "metadata": {},
   "outputs": [],
   "source": [
    "# 3개짜리 중복없는 조합 구하기\n",
    "# 조합을 구해야하는데 순열을 구함..!\n",
    "# 속도 196ms 메모리 39368kb\n",
    "\n",
    "\n",
    "def superset(k,cur_sum) :\n",
    "    global max_val\n",
    "\n",
    "    if cur_sum > M :\n",
    "        return\n",
    "\n",
    "    if k == 3 :\n",
    "        if max_val < cur_sum :\n",
    "            max_val = cur_sum\n",
    "        return cur_sum\n",
    "    \n",
    "    for i in range(N) :\n",
    "        if visit[i] == 0 :\n",
    "            visit[i] = 1\n",
    "            path.append(cards[i])\n",
    "            superset(k+1,cur_sum + cards[i])\n",
    "            visit[i] = 0\n",
    "\n",
    "\n",
    "\n",
    "N,M = map(int,input().split())\n",
    "cards = list(map(int,input().split()))\n",
    "visit = [0] * N\n",
    "path = []\n",
    "\n",
    "max_val = 0\n",
    "superset(0,0)\n",
    "\n",
    "print(max_val)"
   ]
  },
  {
   "cell_type": "code",
   "execution_count": null,
   "metadata": {},
   "outputs": [],
   "source": [
    "# 중복없는 조합\n",
    "# 속도 208ms, 메모리 비슷함\n",
    "\n",
    "\n",
    "def superset(k,start,cur_sum) :\n",
    "    global max_val\n",
    "\n",
    "    if cur_sum > M :\n",
    "        return\n",
    "\n",
    "    if k == 3 :\n",
    "        if max_val < cur_sum :\n",
    "            max_val = cur_sum\n",
    "        return cur_sum\n",
    "    \n",
    "    for i in range(N) :\n",
    "        if visit[i] == 0 :\n",
    "            visit[i] = 1\n",
    "            path.append(cards[i])\n",
    "            superset(k+1, i+1, cur_sum + cards[i])\n",
    "            visit[i] = 0\n",
    "\n",
    "\n",
    "\n",
    "N,M = map(int,input().split())\n",
    "cards = list(map(int,input().split()))\n",
    "visit = [0] * N\n",
    "path = []\n",
    "\n",
    "max_val = 0\n",
    "superset(0,0,0)\n",
    "\n",
    "print(max_val)"
   ]
  }
 ],
 "metadata": {
  "language_info": {
   "name": "python"
  }
 },
 "nbformat": 4,
 "nbformat_minor": 2
}
