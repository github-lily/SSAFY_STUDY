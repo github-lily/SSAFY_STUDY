{
 "cells": [
  {
   "cell_type": "markdown",
   "metadata": {},
   "source": [
    "### 문제 설명\n",
    "- 수빈이 위치 : N, 동생 위치 : K\n",
    "- 수빈이의 위치가 X일 때 걸으면 1초 뒤 X-1 또는 X+1로 이동\n",
    "- 수빈이의 위치가 X일 때 순간이동하면 초 뒤 2*X로 이동\n",
    "- 수빈이가 동생을 찾을 수 이쓴 가장 빠른 시간 구하기\n",
    "\n",
    "### 입력값\n",
    "1. N, K\n",
    "\n",
    "### 출력값\n",
    "- 동생을 찾는 가장 빠른 시간"
   ]
  },
  {
   "cell_type": "code",
   "execution_count": 6,
   "metadata": {},
   "outputs": [
    {
     "name": "stdout",
     "output_type": "stream",
     "text": [
      "2\n"
     ]
    }
   ],
   "source": [
    "# 시간 : 172ms, 메모리 37044KB\n",
    "# 범위 설정 하는게 킥! 안하면 범위 벗어남\n",
    "\n",
    "import heapq\n",
    "\n",
    "N,K = map(int,input().split())\n",
    "\n",
    "# 필요 변수 선언\n",
    "\n",
    "INF = int(1e9)\n",
    "MAX_POS = 100001\n",
    "time_lst = [INF] * MAX_POS\n",
    "\n",
    "\n",
    "def dijkstra(start) :\n",
    "    q = []\n",
    "    heapq.heappush(q,(0,start))\n",
    "    time_lst[start] = 0\n",
    "\n",
    "\n",
    "\n",
    "    while q :\n",
    "        time, X = heapq.heappop(q)\n",
    "\n",
    "        # 이동 가능한 후보\n",
    "        candidate = [(time+1,X-1), (time+1,X+1), (time,2*X)]\n",
    "\n",
    "        if time > time_lst[X] :\n",
    "            continue\n",
    "\n",
    "\n",
    "        for go_time, go in candidate :\n",
    "            # 범위 내인지 확인. 안하면 리스트 범위 벗어남\n",
    "            if 0 <= go < MAX_POS and time_lst[go] > go_time :\n",
    "                time_lst[go] = go_time \n",
    "                heapq.heappush(q,(go_time,go))\n",
    "\n",
    "        \n",
    "dijkstra(N)\n",
    "\n",
    "ans = time_lst[K]\n",
    "\n",
    "print(ans)\n",
    "\n"
   ]
  },
  {
   "cell_type": "code",
   "execution_count": null,
   "metadata": {},
   "outputs": [],
   "source": [
    "# 다른사람 풀이(주석은 내가 달았음)\n",
    "# 시간 40ms, 메모리 31120KB\n",
    "# 재귀.. 알고리즘은 이렇게 풀어야하는구나...!\n",
    "\n",
    "import sys\n",
    "\n",
    "def search(N,K):\n",
    "\n",
    "    # 동생이 수빈이보다 뒤쪽에 있을 경우\n",
    "    # 1초씩 사용하며 뒤로 가는 수밖에 없음\n",
    "    if K <= N: \n",
    "        return N - K\n",
    "    \n",
    "    # 수빈이가 0에 도달한 경우\n",
    "    # 다시 앞으로 이동해야 함(시간에 +1 하고, N+1부터 다시 시작)\n",
    "    elif N == 0: \n",
    "        return 1 + search(N+1,K)\n",
    "    \n",
    "\n",
    "    # 동생의 위치가 짝수인 경우 => 순간이동 가능\n",
    "    # 1칸씩 이동하는 것과 순간이동 중 최소시간 구하기\n",
    "    elif K%2 == 0: \n",
    "        return min(K-N,search(N,K//2))\n",
    "    \n",
    "    # 동생의 위치가 홀수인 경우\n",
    "    # +1 또는 -1을 이용해 짝수로 만든 뒤 순간이동하기\n",
    "    # +1과 -1 중 최소값 구하기\n",
    "\n",
    "    else: \n",
    "        return 1 + min(search(N,K-1),search(N,K+1))\n",
    "\n",
    "N, K = map(int,sys.stdin.readline().split())\n",
    "print(search(N,K))"
   ]
  }
 ],
 "metadata": {
  "kernelspec": {
   "display_name": "Python 3",
   "language": "python",
   "name": "python3"
  },
  "language_info": {
   "codemirror_mode": {
    "name": "ipython",
    "version": 3
   },
   "file_extension": ".py",
   "mimetype": "text/x-python",
   "name": "python",
   "nbconvert_exporter": "python",
   "pygments_lexer": "ipython3",
   "version": "3.9.13"
  }
 },
 "nbformat": 4,
 "nbformat_minor": 2
}
