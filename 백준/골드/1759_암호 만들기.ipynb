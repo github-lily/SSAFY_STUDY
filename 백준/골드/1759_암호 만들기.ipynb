{
 "cells": [
  {
   "cell_type": "markdown",
   "metadata": {},
   "source": [
    "### 문제 설명\n",
    "- 서로 다른 L개의 알파벳 소문자들로 구성되며 최소 한 개의 모음(a,e,i,o,u)과 최소 두 개의 자음으로 구성되어있는 암호\n",
    "- 암호는 증가하는 순서로 배열되어 있다\n",
    "- 암호로 사용했을 법한 문자의 종류는 C가지\n",
    "\n",
    "### 입력값\n",
    "1. L, C (3 ≤ L ≤ C ≤ 15)\n",
    "2. C개의 문자들이 공백으로 구분되어 주어짐\n",
    "    - 모두 소문자이며 중복 없음\n",
    "\n",
    "### 출력값\n",
    "- 사전식으로 가능성 있는 암호를 모두 출력"
   ]
  },
  {
   "cell_type": "code",
   "execution_count": null,
   "metadata": {},
   "outputs": [],
   "source": [
    "# 111412KB, 112ms(PyPy3)\n",
    "\n",
    "L,C = map(int,input().split())\n",
    "char = sorted(list(input().split()))\n",
    "\n",
    "\n",
    "code = [0]*L\n",
    "vowel = ['a','e','i','o','u']\n",
    "\n",
    "\n",
    "def check() :\n",
    "    vowel = 0\n",
    "    consonant = 0\n",
    "\n",
    "    for k in code :\n",
    "        if k == 'a' or k == 'e' or k == 'i' or k == 'o' or k == 'u' :\n",
    "            vowel += 1\n",
    "        else :\n",
    "            consonant += 1     \n",
    "\n",
    "    if consonant >= 2 and vowel >= 1 :\n",
    "        return True \n",
    "\n",
    "    return False\n",
    "\n",
    "\n",
    "\n",
    "def combi(old_idx, new_idx) :\n",
    "    global consonant_flag, vowel_flag\n",
    "\n",
    "    # 암호 개수를 채우면 종료\n",
    "    if new_idx == L :\n",
    "        if check() :\n",
    "            ans = ''.join(code)\n",
    "            print(ans)\n",
    "        return\n",
    "\n",
    "    # 배열의 끝에 도달하면 종료\n",
    "    if old_idx == C :\n",
    "        return\n",
    "\n",
    "\n",
    "    code[new_idx] = char[old_idx]\n",
    "    combi(old_idx+1, new_idx+1)\n",
    "\n",
    "\n",
    "    combi(old_idx+1, new_idx)\n",
    "    \n",
    "\n",
    "combi(0,0)"
   ]
  }
 ],
 "metadata": {
  "kernelspec": {
   "display_name": "Python 3",
   "language": "python",
   "name": "python3"
  },
  "language_info": {
   "name": "python",
   "version": "3.9.13"
  }
 },
 "nbformat": 4,
 "nbformat_minor": 2
}
