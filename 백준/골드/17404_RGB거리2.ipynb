{
 "cells": [
  {
   "cell_type": "markdown",
   "metadata": {},
   "source": [
    "### 문제 설명\n",
    "- 1번부터 N번까지의 집\n",
    "- 빨강, 초록, 파랑 중 하나의 색으로 집을 칠한다\n",
    "- 좌우의 집과 다른 색으로 칠해야한다(1번과 N번 색도 달라야 함)\n",
    "\n",
    "\n",
    "### 입력값\n",
    "1. 집의 수 N\n",
    "2. 각 집을 빨강, 초록, 파랑으로 칠하는 비용이 1번부터 N개 줄에 걸쳐 주어짐\n",
    "\n",
    "\n",
    "### 출력값\n",
    "- 모든 집을 칠하는 비용의 최솟값\n"
   ]
  },
  {
   "cell_type": "code",
   "execution_count": null,
   "metadata": {},
   "outputs": [],
   "source": [
    "# 메모리 110432KB, 시간 108ms : PyPy\n",
    "# 메모리 31120KB, 시간 60ms : Python3\n",
    "\n",
    "N = int(input())\n",
    "arr = [list(map(int,input().split())) for _ in range(N)]\n",
    "INF = int(1e9)\n",
    "ans = INF\n",
    "\n",
    "\n",
    "# first : 첫번째 집의 색상\n",
    "for first in range(3) :\n",
    "    # 색상별로 최솟값을 기록해둘 배열\n",
    "    dp = [[INF]*3 for _ in range(N)]\n",
    "    dp[0][first] = arr[0][first]        # 첫번째로 칠할 집 색상만 기록\n",
    "    \n",
    "    # dp 테이블 채우기\n",
    "    for i in range(1,N) :\n",
    "        dp[i][0] = min(dp[i-1][1], dp[i-1][2]) + arr[i][0]\n",
    "        dp[i][1] = min(dp[i-1][0], dp[i-1][2]) + arr[i][1]\n",
    "        dp[i][2] = min(dp[i-1][0], dp[i-1][1]) + arr[i][2]\n",
    "\n",
    "\n",
    "\n",
    "    # 첫번째 집의 색상과 마지막 집의 색상이 다를 때에만 결과 갱신\n",
    "    for last in range(3) :\n",
    "        if first != last :\n",
    "            ans = min(ans,dp[N-1][last])\n",
    "\n",
    "print(ans)"
   ]
  },
  {
   "cell_type": "code",
   "execution_count": null,
   "metadata": {},
   "outputs": [],
   "source": [
    "# 다른사람 코드\n",
    "# 메모리 31120KB, 시간 60ms\n",
    "\n",
    "\n",
    "INF = 2147000000\n",
    "n = int(input())\n",
    "rgb = []\n",
    "ans = INF\n",
    "for _ in range(n):\n",
    "    rgb.append(list(map(int, input().split())))\n",
    "\n",
    "for i in range(3):\n",
    "    dp = [[INF, INF, INF] for _ in range(n)]\n",
    "    dp[0][i] = rgb[0][i]\n",
    "    for j in range(1, n):\n",
    "        dp[j][0] = rgb[j][0] + min(dp[j-1][1], dp[j-1][2])\n",
    "        dp[j][1] = rgb[j][1] + min(dp[j-1][0], dp[j-1][2])\n",
    "        dp[j][2] = rgb[j][2] + min(dp[j-1][0], dp[j-1][1])\n",
    "\n",
    "    for j in range(3):\n",
    "        if i != j:\n",
    "            ans = min(ans, dp[-1][j])\n",
    "print(ans)"
   ]
  },
  {
   "cell_type": "code",
   "execution_count": null,
   "metadata": {},
   "outputs": [],
   "source": [
    "# 다른사람 코드 보고 복기\n",
    "# 메모리 31120KB, 시간 56ms\n",
    "\n",
    "N = int(input())\n",
    "arr = [list(map(int,input().split())) for _ in range(N)]\n",
    "INF = int(1e9)\n",
    "ans = INF\n",
    "\n",
    "\n",
    "for first in range(3) :\n",
    "    dp = [[INF]*3 for _ in range(N)]\n",
    "    dp[0][first] = arr[0][first]\n",
    "    for i in range(1,N) :\n",
    "        dp[i][0] = arr[i][0] + min(dp[i-1][1],dp[i-1][2])\n",
    "        dp[i][1] = arr[i][1] + min(dp[i-1][0],dp[i-1][2])\n",
    "        dp[i][2] = arr[i][2] + min(dp[i-1][0],dp[i-1][1])\n",
    "\n",
    "    # ans와 첫번째 집과 색이 다른 마지막행의 last열을 확인하며 최솟값 찾기\n",
    "    for last in range(3) :\n",
    "        if first != last :\n",
    "            ans = min(ans,dp[-1][last])\n",
    "print(ans)"
   ]
  }
 ],
 "metadata": {
  "language_info": {
   "name": "python"
  }
 },
 "nbformat": 4,
 "nbformat_minor": 2
}
