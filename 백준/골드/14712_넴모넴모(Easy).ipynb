{
 "cells": [
  {
   "cell_type": "markdown",
   "metadata": {},
   "source": [
    "- 한 턴 : 비어있는 칸에 임의로 넴모 하나를 올려두거나, 넴모가 2x2를 이루는 부분을 찾아 넴모를 없애는 것\n",
    "- 없앨 수 있는 넴모가 없으면 게임 끝\n",
    "- 게임을 그만두었을 때 나올 수 있는 넴모 배치의 가짓수\n",
    "- 2x2 -> 2의 4승 - 1(모두 네모가 올라간 경우) = 15"
   ]
  }
 ],
 "metadata": {
  "language_info": {
   "name": "python"
  }
 },
 "nbformat": 4,
 "nbformat_minor": 2
}
