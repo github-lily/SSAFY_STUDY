{
 "cells": [
  {
   "cell_type": "code",
   "execution_count": null,
   "metadata": {},
   "outputs": [],
   "source": [
    "# 120044KB, 6744ms\n",
    "\n",
    "def dfs(n) :\n",
    "    global ans\n",
    "\n",
    "\n",
    "    if n == N :\n",
    "        ans += 1\n",
    "        return\n",
    "    \n",
    "    for j in range(N) :\n",
    "        if v1[j] ==  v2[n+j] ==  v3[n-j] == 0 :\n",
    "            v1[j] = v2[n+j] = v3[n-j] = 1\n",
    "            dfs(n+1)\n",
    "            v1[j] = v2[n+j] = v3[n-j] = 0\n",
    "\n",
    "    \n",
    "\n",
    "N = int(input())\n",
    "ans = 0\n",
    "\n",
    "# 가로 확인\n",
    "v1 = [0] * N\n",
    "\n",
    "# 우상 대각선 확인\n",
    "v2 = [0] * (2*N) # 1 <= N <15 \n",
    "\n",
    "# 좌상 대각선 확인\n",
    "v3 = [0] *  (2*N)\n",
    "\n",
    "dfs(0)\n",
    "\n",
    "print(ans)"
   ]
  }
 ],
 "metadata": {
  "language_info": {
   "name": "python"
  }
 },
 "nbformat": 4,
 "nbformat_minor": 2
}
