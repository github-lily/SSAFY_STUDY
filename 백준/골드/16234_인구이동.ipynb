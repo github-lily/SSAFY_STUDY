{
 "cells": [
  {
   "cell_type": "markdown",
   "metadata": {},
   "source": [
    "- NxN 크기의 땅\n",
    "- 인구이동\n",
    "    - 국경선을 공유하는 두 나라의 인구 차이가 L명 이상, R명 이하라면 두 나라\n"
   ]
  }
 ],
 "metadata": {
  "language_info": {
   "name": "python"
  }
 },
 "nbformat": 4,
 "nbformat_minor": 2
}
