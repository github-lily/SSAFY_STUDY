{
 "cells": [
  {
   "cell_type": "markdown",
   "metadata": {},
   "source": [
    "## 문제\n",
    "- NxN 배열\n",
    "\n",
    "### 인구이동(하루동안 발생)\n",
    "- 두 나라이 인구 차이가 L명 이상 R 명 이상이면 국경선이 열림(연합)\n",
    "- 연합국 사이 각 칸의 인구 수 : 연합 인구수 // 연합을 이루고 있는 칸의 개수\n",
    "- 이 과정이 인구 이동이 없을 때까지 반복됨\n",
    "\n",
    "## OUTPUT\n",
    "- 인구 이동이 며칠동안 발생하는가"
   ]
  },
  {
   "cell_type": "code",
   "execution_count": null,
   "metadata": {},
   "outputs": [],
   "source": [
    "from collections import deque\n",
    "\n",
    "\n",
    "def bfs(start) :\n",
    "    global move\n",
    "\n",
    "    union = [start]     # 연합 목록(나중에 연합 인구합 구할때 사용)\n",
    "    q = deque()\n",
    "    q.append(start)\n",
    "\n",
    "\n",
    "    while q :\n",
    "        ci,cj = q.popleft()\n",
    "        for di,dj in (0,1),(1,0), (0,-1), (-1,0) :\n",
    "            ni,nj = ci+di,cj+dj\n",
    "            if 0<=ni<N and 0<=nj<N and v[ni][nj] == 0 :\n",
    "                if L <= abs(arr[ni][nj]-arr[ci][cj])<=R :\n",
    "                    v[ni][nj] = 1\n",
    "                    q.append((ni,nj))\n",
    "                    union.append(ni,nj)\n",
    "                    move += 1\n",
    "\n",
    "    result = sum(arr[r][c] for r,c in union)//len(union)\n",
    "    for r,c in union :\n",
    "        arr[r][c] = result\n",
    "    \n",
    "\n",
    "\n",
    "N, L, R = map(int, input().split())\n",
    "arr = [list(map(int,input().split())) for _ in range(N)]\n",
    "days = 0\n",
    "\n",
    "\n",
    "while True :\n",
    "    days += 1\n",
    "    v = [[0]* N for _ in range(N)]  #날 바뀔때마다 갱신\n",
    "    move = 0            # 이동 여부 확인\n",
    "\n",
    "    # 전체 배열을 순회하면서 연합국 찾기\n",
    "    for r in range(N) :\n",
    "        for c in range(N) :\n",
    "            if v[r][c] == 0 :\n",
    "                v[r][c] = 1\n",
    "                bfs((r,c))\n",
    "\n",
    "    if move == 0 :      # 인구이동이 없으면 종료\n",
    "        days -= 1       # 하루 늘려줬던거 줄이고\n",
    "        break\n",
    "\n",
    "print(days)\n"
   ]
  }
 ],
 "metadata": {
  "language_info": {
   "name": "python"
  }
 },
 "nbformat": 4,
 "nbformat_minor": 2
}
