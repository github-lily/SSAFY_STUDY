{
 "cells": [
  {
   "cell_type": "markdown",
   "metadata": {},
   "source": [
    "- 100x100 사이즈 도화지에 10x10 사이즈 색종이를 여러장 겹쳐 붙였을 때\n",
    "- 색종이가 붙은 영역의 넓이를 출력하라"
   ]
  },
  {
   "cell_type": "code",
   "execution_count": null,
   "metadata": {},
   "outputs": [],
   "source": [
    "# 1차시도 : 성공\n",
    "# x,y 그래프임에 주의해서 인덱스 계산하기\n",
    "\n",
    "def check(row,col) :\n",
    "    global cnt\n",
    "    for r in range(row,row+10) :\n",
    "        for c in range(col,col+10) :\n",
    "            if arr[r][c] == 0 :\n",
    "                arr[r][c] = 1\n",
    "                cnt += 1        #너비 카운트\n",
    "    return cnt\n",
    "\n",
    "\n",
    "\n",
    "arr = [[0]*100 for _ in range(100)]\n",
    "N = int(input())        # 색종이의 수\n",
    "cnt = 0\n",
    "for _ in range(N) :\n",
    "    i,j = map(int,input().split())\n",
    "\n",
    "    # 시작 좌표\n",
    "    row = 90 - i  # N-1 - i - w + 1 = N-i-w\n",
    "    col = j\n",
    "\n",
    "    check(row,col)\n",
    "\n",
    "print(cnt)\n"
   ]
  }
 ],
 "metadata": {
  "language_info": {
   "name": "python"
  }
 },
 "nbformat": 4,
 "nbformat_minor": 2
}
