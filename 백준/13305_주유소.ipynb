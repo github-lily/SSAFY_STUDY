{
 "cells": [
  {
   "cell_type": "markdown",
   "metadata": {},
   "source": [
    "- 주유소에서 기름을 넣고 출발\n",
    "- 기름통의 크기는 무제한\n",
    "- 1km 당 1L 사용\n",
    "- 최소 비용 출력"
   ]
  },
  {
   "cell_type": "markdown",
   "metadata": {},
   "source": [
    "- 탐욕 알고리즘\n",
    "1. 첫번째 주유소에서 왕창 넣기\n",
    "    -> 첫번째 주유소가 가장 비싸면?\n",
    "2. 제일 싼 주유소에서 왕창 넣기\n",
    "    -> 제일 싼 주유소가 마지막에 있을 땐? -> 두번째로 싼 주유소\n",
    "    -> 거기까지 가는 기름은 어디서?\n",
    "3. 모든 주유소에서 넣기\n",
    "    -> 제일 비싼 주유소에서 제일 긴 거리만큼 넣어야한다면?\n",
    "\n",
    "\n",
    "1. 첫 주유소가 제일 싸면 km sum만큼 충전\n",
    "2. else : 두번째 주유소와 세번째 주유소 비교\n",
    "3. 더 싼 곳으로 갈 때 필요한 만큼 첫번째 주유소에서 충전\n",
    "\n",
    "\n",
    "\n",
    "1. 현재 주유소가 다음 주유소보다 싸면 그 다음 주유소와 현재 주유소 비교\n",
    "\n",
    "\n",
    "1. 구간 반복하면서 경우의 수 구하기"
   ]
  },
  {
   "cell_type": "code",
   "execution_count": null,
   "metadata": {},
   "outputs": [],
   "source": [
    "def cheaper():\n",
    "    global best_fee\n",
    "    for i in range(1, N - 1):  # 각 주유소에서 충전한 비용을 계산, 첫번째와 목적 도시는 제외\n",
    "        oil_fee = (sum(city[i:]) * price[i]) + (sum(city[:i]) * price[i - 1])  # i-1보다 더 싼 주유소가 있으면..?\n",
    "        if best_fee > oil_fee:\n",
    "            best_fee = oil_fee\n",
    "    return best_fee\n",
    "\n",
    "    # if x == N :\n",
    "    #     return\n",
    "\n",
    "    # for i in range(N) :\n",
    "    #     path.append(i)\n",
    "    #     cheaper(x+1, total+(price[x]*sum(city[])))\n",
    "\n",
    "\n",
    "T = 2\n",
    "for tc in range(1, 3):\n",
    "    N = int(input())  # 도시의 개수\n",
    "    city = list(map(int, input().split()))  # 도시간 거리\n",
    "    price = list(map(int, input().split()))\n",
    "\n",
    "    path = []\n",
    "    total_fee = 0\n",
    "    best_fee = 999999999999999999\n",
    "\n",
    "    # 첫 주유소가 제일 싼 경우\n",
    "    if min(price) == price[0]:\n",
    "        total_fee = price[0] * sum(city)\n",
    "\n",
    "    # 더 싼 주유소가 있을 경우\n",
    "    else:\n",
    "        total_fee = price[0] * city[0]\n",
    "        cheaper()\n",
    "        total_fee += best_fee\n",
    "\n",
    "    print(f'#{tc} {total_fee}')\n",
    "\n",
    "    # 24, 10 나옴"
   ]
  }
 ],
 "metadata": {
  "language_info": {
   "name": "python"
  }
 },
 "nbformat": 4,
 "nbformat_minor": 2
}
