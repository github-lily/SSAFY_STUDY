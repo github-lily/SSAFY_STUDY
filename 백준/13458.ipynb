{
 "cells": [
  {
   "cell_type": "markdown",
   "metadata": {},
   "source": [
    "# 시험 감독\n",
    "- i 번 시험장의 응시자 수 Ai 명\n",
    "- 총감독관이 감시할 수 있는 응시자 수 B명(1명)\n",
    "- 부감독관이 감시할 수 있는 응시자 수 C명(sub_ad명)\n",
    "- 필요한 감독관 수의 최솟값 : min_ad = sub_ad + 1"
   ]
  },
  {
   "cell_type": "code",
   "execution_count": 1,
   "metadata": {},
   "outputs": [
    {
     "ename": "ValueError",
     "evalue": "not enough values to unpack (expected 2, got 1)",
     "output_type": "error",
     "traceback": [
      "\u001b[1;31m---------------------------------------------------------------------------\u001b[0m",
      "\u001b[1;31mValueError\u001b[0m                                Traceback (most recent call last)",
      "Cell \u001b[1;32mIn[1], line 3\u001b[0m\n\u001b[0;32m      1\u001b[0m N \u001b[38;5;241m=\u001b[39m \u001b[38;5;28mint\u001b[39m(\u001b[38;5;28minput\u001b[39m())\n\u001b[0;32m      2\u001b[0m A \u001b[38;5;241m=\u001b[39m \u001b[38;5;28mmap\u001b[39m(\u001b[38;5;28mint\u001b[39m,\u001b[38;5;28minput\u001b[39m()\u001b[38;5;241m.\u001b[39msplit())    \u001b[38;5;66;03m#각 시험장의 응시자 수\u001b[39;00m\n\u001b[1;32m----> 3\u001b[0m B, C \u001b[38;5;241m=\u001b[39m \u001b[38;5;28mmap\u001b[39m(\u001b[38;5;28mint\u001b[39m,\u001b[38;5;28minput\u001b[39m()\u001b[38;5;241m.\u001b[39msplit())\n\u001b[0;32m      5\u001b[0m \u001b[38;5;28;01mfor\u001b[39;00m i \u001b[38;5;129;01min\u001b[39;00m \u001b[38;5;28mrange\u001b[39m(N) :\n\u001b[0;32m      6\u001b[0m     min_ad \u001b[38;5;241m=\u001b[39m \u001b[38;5;28mround\u001b[39m(((A[i]\u001b[38;5;241m-\u001b[39mB)\u001b[38;5;241m/\u001b[39mC),\u001b[38;5;241m2\u001b[39m) \u001b[38;5;241m+\u001b[39m \u001b[38;5;241m1\u001b[39m\n",
      "\u001b[1;31mValueError\u001b[0m: not enough values to unpack (expected 2, got 1)"
     ]
    }
   ],
   "source": [
    "N = int(input())\n",
    "A = map(int,input().split())    #각 시험장의 응시자 수\n",
    "B, C = map(int,input().split())\n",
    "\n",
    "for i in range(N) :\n",
    "    min_ad = round(((A[i]-B)/C),2) + 1\n",
    "    #이렇게 하면 문제 : "
   ]
  }
 ],
 "metadata": {
  "kernelspec": {
   "display_name": "Python 3",
   "language": "python",
   "name": "python3"
  },
  "language_info": {
   "codemirror_mode": {
    "name": "ipython",
    "version": 3
   },
   "file_extension": ".py",
   "mimetype": "text/x-python",
   "name": "python",
   "nbconvert_exporter": "python",
   "pygments_lexer": "ipython3",
   "version": "3.9.13"
  }
 },
 "nbformat": 4,
 "nbformat_minor": 2
}
