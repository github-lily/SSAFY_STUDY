{
 "cells": [
  {
   "cell_type": "markdown",
   "metadata": {},
   "source": [
    "- 1부터 N까지 자연수 중에서 중복없이 M개를 고른 수열\n",
    "- 오름차순이어야 함"
   ]
  },
  {
   "cell_type": "code",
   "execution_count": null,
   "metadata": {},
   "outputs": [],
   "source": [
    "def dfs(n,lst,cnt) :\n",
    "    if cnt == M or n > N :\n",
    "        if cnt == M :\n",
    "            ans.append(lst)\n",
    "        return\n",
    "    \n",
    "\n",
    "    # 포함\n",
    "    dfs(n+1,lst+[n],cnt+1)\n",
    "\n",
    "    # 미포함\n",
    "    dfs(n+1,lst,cnt)\n",
    "\n",
    "\n",
    "N,M = map(int,input().split())\n",
    "ans = []\n",
    "\n",
    "dfs(1,[],0)\n",
    "\n",
    "for lst in ans :\n",
    "    print(*lst)"
   ]
  }
 ],
 "metadata": {
  "language_info": {
   "name": "python"
  }
 },
 "nbformat": 4,
 "nbformat_minor": 2
}
