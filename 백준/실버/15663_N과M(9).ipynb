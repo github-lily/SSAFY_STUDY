{
 "cells": [
  {
   "cell_type": "markdown",
   "metadata": {},
   "source": [
    "- 중복된 원소가 포함된 수열에서 중복되지 않은 순열을 구하는 문제\n",
    "- 중복된 원소를 포함하는 입력에서 중복되지 않은 순열을 생성\n",
    "- 사전 순으로 출력"
   ]
  },
  {
   "cell_type": "code",
   "execution_count": null,
   "metadata": {},
   "outputs": [],
   "source": [
    "# 2736ms, 724332KB(PyPy3)\n",
    "# 이중 리스트를 set으로 변환하는 것 주의\n",
    "\n",
    "def dfs(n,tlst) :\n",
    "    if len(tlst) == M :\n",
    "        lst.append(tuple(tlst))\n",
    "        return\n",
    "    \n",
    "    if n == N :\n",
    "        return\n",
    "    \n",
    "    \n",
    "    for i in range(N) :\n",
    "        if v[i] == 0 :\n",
    "            v[i] = 1\n",
    "            dfs(n+1,tlst+[nlst[i]])\n",
    "            v[i] = 0\n",
    "\n",
    "        else :\n",
    "            dfs(n+1,tlst)\n",
    "\n",
    "\n",
    "N,M = map(int,input().split())\n",
    "nlst = list(map(int,input().split()))\n",
    "lst = []\n",
    "v = [0]*N\n",
    "\n",
    "dfs(0,[])\n",
    "\n",
    "set_lst = set(lst)\n",
    "\n",
    "ans_lst = sorted(list(set_lst))\n",
    "\n",
    "\n",
    "for ans in ans_lst :\n",
    "    print(*ans)"
   ]
  },
  {
   "cell_type": "code",
   "execution_count": null,
   "metadata": {},
   "outputs": [],
   "source": [
    "# 코드 개선(내장 라이브러리 사용)\n",
    "# 114504KB, 128ms\n",
    "\n",
    "from itertools import permutations\n",
    "\n",
    "N, M = map(int, input().split())\n",
    "nlst = sorted(map(int, input().split()))  # 입력을 정렬하여 사전 순으로 처리\n",
    "result = set(permutations(nlst, M))  # 중복되지 않은 순열을 집합으로 처리\n",
    "\n",
    "for perm in sorted(result):  # 결과를 정렬하여 출력\n",
    "    print(*perm)\n"
   ]
  },
  {
   "cell_type": "code",
   "execution_count": null,
   "metadata": {},
   "outputs": [],
   "source": [
    "# dfs\n",
    "# 117268KB, 164ms\n",
    "\n",
    "def dfs(depth, path, visited):\n",
    "    if depth == M:\n",
    "        result.add(tuple(path))  # 결과를 튜플로 저장하여 중복 제거\n",
    "        return\n",
    "\n",
    "    for i in range(N):\n",
    "        if not visited[i]:\n",
    "            visited[i] = True\n",
    "            dfs(depth + 1, path + [nlst[i]], visited)\n",
    "            visited[i] = False\n",
    "\n",
    "N, M = map(int, input().split())\n",
    "nlst = sorted(map(int, input().split()))  # 입력 정렬\n",
    "result = set()\n",
    "visited = [False] * N\n",
    "\n",
    "dfs(0, [], visited)\n",
    "\n",
    "for perm in sorted(result):  # 결과를 정렬하여 출력\n",
    "    print(*perm)\n"
   ]
  }
 ],
 "metadata": {
  "language_info": {
   "name": "python"
  }
 },
 "nbformat": 4,
 "nbformat_minor": 2
}
