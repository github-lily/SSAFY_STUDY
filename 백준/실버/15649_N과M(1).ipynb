{
 "cells": [
  {
   "cell_type": "code",
   "execution_count": null,
   "metadata": {},
   "outputs": [],
   "source": [
    "N,M = map(int,input().split())\n",
    "visit = [0] * (N+1)\n",
    "ans = []\n",
    "\n",
    "def dfs(n, ans) :       # n : 개수\n",
    "    if  n == M :\n",
    "        print(*ans)\n",
    "        return\n",
    "\n",
    "    for i in range(1,N+1) :\n",
    "        if visit[i] == 1 :\n",
    "            continue\n",
    "        visit[i] = 1\n",
    "        dfs(n+1,ans+[i])\n",
    "        visit[i] = 0\n",
    "\n",
    "dfs(0,ans)"
   ]
  },
  {
   "cell_type": "code",
   "execution_count": null,
   "metadata": {},
   "outputs": [],
   "source": [
    "def dfs(n,lst) :\n",
    "    if n == M :\n",
    "        ans.append(lst)\n",
    "        return\n",
    "    \n",
    "    for i in range(1,N+1) :\n",
    "        if visit[i] == 0 :\n",
    "            visit[i] = 1\n",
    "            dfs(n+1, lst+[i])\n",
    "            visit[i] = 0\n",
    "\n",
    "\n",
    "N,M = map(int,input().split())\n",
    "visit = [0] * (N+1)\n",
    "ans = []\n",
    "\n",
    "\n",
    "dfs(0,[])\n",
    "for lst in ans :\n",
    "    print(*lst)"
   ]
  }
 ],
 "metadata": {
  "language_info": {
   "name": "python"
  }
 },
 "nbformat": 4,
 "nbformat_minor": 2
}
