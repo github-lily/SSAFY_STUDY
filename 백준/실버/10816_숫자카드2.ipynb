{
 "cells": [
  {
   "cell_type": "markdown",
   "metadata": {},
   "source": [
    "- 숫자 카드 N개\n",
    "- M개의 정수가 주어졌을 때 동일한 숫자의 카드 개수를 구하라"
   ]
  },
  {
   "cell_type": "code",
   "execution_count": null,
   "metadata": {},
   "outputs": [],
   "source": [
    "# 시간초과\n",
    "# count + for문이라 N^2\n",
    "\n",
    "N = int(input())\n",
    "card = list(map(int,input().split()))\n",
    "M = int(input())\n",
    "have = list(map(int,input().split()))\n",
    "\n",
    "ans = [card.count(num) for num in have]\n",
    "print(*ans)"
   ]
  },
  {
   "cell_type": "code",
   "execution_count": null,
   "metadata": {},
   "outputs": [],
   "source": [
    "# 입력방식 개선\n",
    "# O(M*N)되서 시간초과\n",
    "import sys\n",
    "\n",
    "input = sys.stdin.read\n",
    "data = input().split()\n",
    "\n",
    "N = int(data[0])\n",
    "cards = list(map(int, data[1:N+1]))\n",
    "M = int(data[N+1])\n",
    "have = list(map(int, data[N+2:]))\n",
    "\n",
    "ans = [cards.count(num) for num in have]\n",
    "print(*ans)\n"
   ]
  },
  {
   "cell_type": "code",
   "execution_count": null,
   "metadata": {},
   "outputs": [],
   "source": [
    "# 263069KB, 468ms\n",
    "# O(M+N)\n",
    "\n",
    "import sys\n",
    "from collections import Counter\n",
    "\n",
    "input = sys.stdin.read\n",
    "data = input().split()\n",
    "\n",
    "N = int(data[0])\n",
    "cards = list(map(int, data[1:N+1]))\n",
    "M = int(data[N+1])\n",
    "have = list(map(int, data[N+2:]))\n",
    "\n",
    "# 카드의 개수를 센다\n",
    "counter = Counter(cards)\n",
    "\n",
    "# 원하는 숫자의 개수를 가져온다\n",
    "ans = [counter[num] for num in have]\n",
    "print(*ans)\n"
   ]
  }
 ],
 "metadata": {
  "kernelspec": {
   "display_name": "Python 3",
   "language": "python",
   "name": "python3"
  },
  "language_info": {
   "codemirror_mode": {
    "name": "ipython",
    "version": 3
   },
   "file_extension": ".py",
   "mimetype": "text/x-python",
   "name": "python",
   "nbconvert_exporter": "python",
   "pygments_lexer": "ipython3",
   "version": "3.9.13"
  }
 },
 "nbformat": 4,
 "nbformat_minor": 2
}
