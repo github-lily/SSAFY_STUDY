{
 "cells": [
  {
   "cell_type": "markdown",
   "metadata": {},
   "source": [
    "### 문제 설명\n",
    "- 최소 M 미터의 나무를 집에 가져가기 위해 절단기에 설정할 수 있는 높이의 최대값 구하기\n",
    "- 높이 H 이하의 나무는 잘리지 않음\n",
    "- 높이 H 이상일 경우 나무의 높이 - H 만큼의 나무를 가져갈 수 있음\n",
    "\n",
    "### 입력값\n",
    "1. 나무의 수 N, 나무의 길이 M  \n",
    "(1 ≤ N ≤ 1,000,000, 1 ≤ M ≤ 2,000,000,000)\n",
    "2. 나무의 높이 (나무 높이의 합은 항상 M보다 크거나 같음)\n",
    "(0 ≤ H ≤ 1,000,000,000 )\n",
    "\n",
    "### 출력값\n",
    "- 최소 M 미터의 나무를 집에 가져가기 위해 절단기에 설정할 수 있는 높이의 최대값 구하기"
   ]
  },
  {
   "cell_type": "code",
   "execution_count": null,
   "metadata": {},
   "outputs": [],
   "source": [
    "N,M = map(int,input().split())\n",
    "trees = list(map(int,input().split()))\n",
    "\n"
   ]
  }
 ],
 "metadata": {
  "kernelspec": {
   "display_name": "Python 3",
   "language": "python",
   "name": "python3"
  },
  "language_info": {
   "name": "python",
   "version": "3.9.13"
  }
 },
 "nbformat": 4,
 "nbformat_minor": 2
}
