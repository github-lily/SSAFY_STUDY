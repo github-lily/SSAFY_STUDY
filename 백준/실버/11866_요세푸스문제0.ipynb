{
 "cells": [
  {
   "cell_type": "code",
   "execution_count": null,
   "metadata": {},
   "outputs": [],
   "source": [
    "from collections import deque\n",
    "\n",
    "N, K = map(int,input().split())\n",
    "\n",
    "q = deque(range(1,N+1))\n",
    "result = []\n",
    "\n",
    "while q:\n",
    "    for _ in range(K-1) :\n",
    "        q.append(q.popleft())\n",
    "    result.append(q.popleft())\n",
    "\n",
    "\n",
    "ans = '<{}>'.format(\", \".join(map(str,result)))\n",
    "\n",
    "print(ans)\n",
    "\n"
   ]
  }
 ],
 "metadata": {
  "language_info": {
   "name": "python"
  }
 },
 "nbformat": 4,
 "nbformat_minor": 2
}
