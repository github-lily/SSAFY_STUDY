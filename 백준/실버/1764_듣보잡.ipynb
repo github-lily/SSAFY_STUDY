{
 "cells": [
  {
   "cell_type": "markdown",
   "metadata": {},
   "source": [
    "### 문제 설명\n",
    "- 듣도 보도 못한 사람의 명단을 구하는 프로그램\n",
    "\n",
    "### 입력값\n",
    "1. 듣도 못한 사람 수 N, 보도 못한 사람 수 M\n",
    "2. 듣도 못한 사람 이름(N줄)\n",
    "3. 보도 못한 사람 이름(M줄)\n",
    "- 1 <= N,M <= 500,000\n",
    "- 듣도 못한 사람의 명단에는 중복되는 이름 없음. 이름은 20자 이하\n",
    "\n",
    "### 출력값\n",
    "- 듣보잡의 수와 그 명단을 사전순으로 출력력"
   ]
  },
  {
   "cell_type": "code",
   "execution_count": null,
   "metadata": {},
   "outputs": [],
   "source": [
    "# 시간초과\n",
    "\n",
    "N,M = map(int,input().split())\n",
    "hear = []\n",
    "union = []\n",
    "\n",
    "\n",
    "for _ in range(N) :\n",
    "    h = input()\n",
    "    hear.append(h)\n",
    "\n",
    "for _ in range(M) :\n",
    "    w = input()\n",
    "    if w in hear :\n",
    "        union.append(w)\n",
    "\n",
    "\n",
    "\n",
    "print(len(union))\n",
    "for name in union :\n",
    "    print(name)  \n"
   ]
  },
  {
   "cell_type": "code",
   "execution_count": null,
   "metadata": {},
   "outputs": [],
   "source": [
    "# 120732KB, 180ms\n",
    "\n",
    "N, M = map(int, input().split())\n",
    "\n",
    "# 듣도 못한 사람과 보지도 못한 사람을 set으로 저장\n",
    "hear = {input().strip() for _ in range(N)}\n",
    "watch = {input().strip() for _ in range(M)}\n",
    "\n",
    "# 교집합 계산\n",
    "union = sorted(hear & watch)\n",
    "\n",
    "# 결과 출력\n",
    "print(len(union))\n",
    "print(\"\\n\".join(union))\n"
   ]
  }
 ],
 "metadata": {
  "kernelspec": {
   "display_name": "Python 3",
   "language": "python",
   "name": "python3"
  },
  "language_info": {
   "name": "python",
   "version": "3.9.13"
  }
 },
 "nbformat": 4,
 "nbformat_minor": 2
}
