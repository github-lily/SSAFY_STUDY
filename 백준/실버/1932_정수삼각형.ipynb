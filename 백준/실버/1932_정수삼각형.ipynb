{
 "cells": [
  {
   "cell_type": "markdown",
   "metadata": {},
   "source": [
    "```\n",
    "        7\n",
    "      3   8\n",
    "    8   1   0\n",
    "  2   7   4   4\n",
    "4   5   2   6   5\n",
    "```\n",
    "\n",
    "- 크기가 5인 정수삼각형의 모습\n",
    "- 7층부터 시작해 아래에 있는 수 중 하나를 선택하여 아래층으로 내려올 때, 이제까지 선택된 수의 합이 최대가 되는 경로를 구하는 프로그램\n",
    "- 대각선 왼쪽, 오른쪽으로만 선택할 수 있음\n",
    "- n(1 ≤ n ≤ 500)"
   ]
  },
  {
   "cell_type": "code",
   "execution_count": null,
   "metadata": {},
   "outputs": [],
   "source": [
    "# 111668KB, 116ms\n",
    "\n",
    "n = int(input())\n",
    "arr = [list(map(int,input().split())) for _ in range(n)]\n",
    "\n",
    "\n",
    "dp = [[0] * n for _ in range(n)]\n",
    "\n",
    "\n",
    "\n",
    "dp[0][0] = arr[0][0]\n",
    "\n",
    "\n",
    "for i in range(1,n) :\n",
    "    dp[i][0] = dp[i-1][0] + arr[i][0]       # 맨 왼쪽\n",
    "    dp[i][i] = dp[i-1][i-1] + arr[i][i]     # 맨 오른쪽\n",
    "    for j in range(1,i) :\n",
    "        dp[i][j] = max(dp[i-1][j-1], dp[i-1][j]) + arr[i][j]\n",
    "\n",
    "\n",
    "\n",
    "print(max(dp[n-1]))"
   ]
  }
 ],
 "metadata": {
  "language_info": {
   "name": "python"
  }
 },
 "nbformat": 4,
 "nbformat_minor": 2
}
