{
 "cells": [
  {
   "cell_type": "code",
   "execution_count": null,
   "metadata": {},
   "outputs": [],
   "source": [
    "import sys\n",
    "input = sys.stdin.readline\n",
    "\n",
    "T = int(input())\n",
    "for _ in range(T):\n",
    "    N = int(input())\n",
    "    arr = [list(map(int, input().split())) for _ in range(2)]\n",
    "\n",
    "    if N == 1:\n",
    "        print(max(arr[0][0], arr[1][0]))\n",
    "        continue\n",
    "\n",
    "    dp = [[0] * N for _ in range(2)]\n",
    "\n",
    "    dp[0][0], dp[1][0] = arr[0][0], arr[1][0]\n",
    "    dp[0][1], dp[1][1] = arr[0][1] + dp[1][0], arr[1][1] + dp[0][0]\n",
    "\n",
    "    for j in range(2, N):\n",
    "        dp[0][j] = arr[0][j] + max(dp[1][j-1], dp[1][j-2])\n",
    "        dp[1][j] = arr[1][j] + max(dp[0][j-1], dp[0][j-2])\n",
    "\n",
    "    print(max(dp[0][N-1], dp[1][N-1]))\n"
   ]
  }
 ],
 "metadata": {
  "language_info": {
   "name": "python"
  }
 },
 "nbformat": 4,
 "nbformat_minor": 2
}
