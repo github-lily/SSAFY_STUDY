{
 "cells": [
  {
   "cell_type": "markdown",
   "metadata": {},
   "source": [
    "## 문제 설명\n",
    "- MxN 크기의 보드\n",
    "- 보드를 잘라서 8x8 사이즈의 체스판을 만들기\n",
    "- 검은색과 흰색이 번갈아가면서 칠해져야함\n",
    "- 다시 칠해야하는 정사각형의 최소 개수\n",
    "\n",
    "## 입력값\n",
    "- 첫째줄 : M,N\n",
    "- 둘째줄 : 보드판\n",
    "\n",
    "## 출력값\n",
    "- 칠해야하는 정사각형의 개수"
   ]
  },
  {
   "cell_type": "code",
   "execution_count": null,
   "metadata": {},
   "outputs": [],
   "source": [
    "dr = [0,1,0,-1]\n",
    "dc = [1,0,-1,0]\n",
    "\n",
    "def dfs(r,c,cnt) :\n",
    "    global ans, er, ec\n",
    "    \n",
    "    if cnt > ans :\n",
    "        return\n",
    "    \n",
    "    if r == er and c == ec :\n",
    "        ans = min(ans,cnt)\n",
    "        return ans\n",
    "    \n",
    "    for i in range(4) :\n",
    "        nr, nc = r + dr[i], c+dc[i]\n",
    "        # 체스판의 범위 이내여야 함\n",
    "        if r<= nr <= er and c<= nc <= ec :\n",
    "            if arr[r][c] == arr[nr][nc] :   # 같다면\n",
    "                cnt += 1\n",
    "                if arr[r][c] == 'W' :\n",
    "                    arr[nr][nc] = 'B'\n",
    "                else :\n",
    "                    arr[nr][nc] = 'W'\n",
    "    \n",
    "    \n",
    "\n",
    "\n",
    "M,N = map(int,input().split())\n",
    "arr = [list(input()) for _ in range(M)]\n",
    "ans = 99999999999999999999999999999999999999999999999\n",
    "\n",
    "for i in range(N) :\n",
    "    for j in range(M) :\n",
    "        # 오른쪽, 아래쪽으로 8x8을 만들 수 있을 때 dfs 호출\n",
    "        # 종료를 위해 끝 지점 저장\n",
    "        er, ec = i+7, j+7\n",
    "        if 0<= er <M and 0<=ec<N :\n",
    "            dfs(i,j,er,ec,0)\n",
    "\n",
    "print(ans)\n"
   ]
  }
 ],
 "metadata": {
  "language_info": {
   "name": "python"
  }
 },
 "nbformat": 4,
 "nbformat_minor": 2
}
