{
 "cells": [
  {
   "cell_type": "markdown",
   "metadata": {},
   "source": [
    "## 문제 설명\n",
    "- MxN 크기의 보드\n",
    "- 보드를 잘라서 8x8 사이즈의 체스판을 만들기\n",
    "- 검은색과 흰색이 번갈아가면서 칠해져야함\n",
    "- 다시 칠해야하는 정사각형의 최소 개수\n",
    "\n",
    "## 입력값\n",
    "- 첫째줄 : M,N\n",
    "- 둘째줄 : 보드판\n",
    "\n",
    "## 출력값\n",
    "- 칠해야하는 정사각형의 개수"
   ]
  },
  {
   "cell_type": "code",
   "execution_count": null,
   "metadata": {},
   "outputs": [],
   "source": [
    "# 1차 시도\n",
    "# 실패\n",
    "\n",
    "def dfs(sr,sc) :\n",
    "    global cnt, er, ec\n",
    "    \n",
    "    cnt = 0\n",
    "    for r in range(er+1) :\n",
    "        for c in range(ec+1) :\n",
    "            # 오른쪽과 아래만 확인하면 됨(우하)\n",
    "            dr = [0,1]\n",
    "            dc = [1,0]\n",
    "            for i in range(2) :\n",
    "                nr, nc = r + dr[i], c+dc[i]\n",
    "                # 체스판의 범위 이내여야 함\n",
    "                if sr<= nr <= er and sc<= nc <= ec :\n",
    "                    if arr[r][c] == arr[nr][nc] :   # 같다면\n",
    "                        cnt += 1\n",
    "                        if arr[r][c] == 'W' :\n",
    "                            arr[nr][nc] = 'B'\n",
    "                        else :\n",
    "                            arr[nr][nc] = 'W'\n",
    "    \n",
    "    return cnt\n",
    "    \n",
    "\n",
    "\n",
    "\n",
    "M,N = map(int,input().split())\n",
    "arr = [list(input()) for _ in range(M)]\n",
    "ans = 99999999999999999999999999999999999999999999999\n",
    "\n",
    "for i in range(N) :\n",
    "    for j in range(M) :\n",
    "        # 오른쪽, 아래쪽으로 8x8을 만들 수 있을 때 dfs 호출\n",
    "        # 종료를 위해 끝 지점 저장\n",
    "        er, ec = i+7, j+7\n",
    "        if 0<= er <M and 0<=ec<N :\n",
    "            cnt = dfs(i,j)\n",
    "            ans = min(ans,cnt)\n",
    "\n",
    "print(ans)\n"
   ]
  }
 ],
 "metadata": {
  "language_info": {
   "name": "python"
  }
 },
 "nbformat": 4,
 "nbformat_minor": 2
}
