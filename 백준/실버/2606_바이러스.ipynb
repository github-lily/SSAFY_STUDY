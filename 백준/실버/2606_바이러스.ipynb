{
 "cells": [
  {
   "cell_type": "markdown",
   "metadata": {},
   "source": [
    "### 문제 설명\n",
    "- 한 컴퓨터가 바이러스에 걸리면 연결되어있는 모든 컴퓨터가 바이러스에 걸린다.\n",
    "- 1번 컴퓨터부터 시작\n",
    "- 양방향\n",
    "\n",
    "### 입력\n",
    "1. 컴퓨터의 수 (노드의 수 N)\n",
    "2. 연결되어 있는 컴퓨터 쌍의 수 (간선의 수 E)\n",
    "3. 연결된 컴퓨터 번호 쌍\n",
    "\n",
    "### 출력\n",
    "- 1번 컴퓨터가 웜바이러스에 걸렸을 때, 1번 컴퓨터를 통해 바이러스에 걸리게 되는 컴퓨터의 수"
   ]
  },
  {
   "cell_type": "code",
   "execution_count": null,
   "metadata": {},
   "outputs": [],
   "source": [
    "# 메모리 112004KB, 시간 120ms\n",
    "\n",
    "from collections import deque\n",
    "\n",
    "def bfs(s) :\n",
    "    global ans\n",
    "\n",
    "    v = [0] * (N+1)\n",
    "    q = deque()\n",
    "\n",
    "    q.append(s)\n",
    "    v[s] = 1\n",
    "\n",
    "    while q :\n",
    "        c = q.popleft()\n",
    "\n",
    "        for w in contact[c] :       # c와 연결된 컴퓨터 번호를 하나씩 가져옴\n",
    "            if v[w] == 0 :\n",
    "                q.append(w)\n",
    "                v[w] = 1\n",
    "                ans += 1            # 감염된 컴퓨터 +1\n",
    "    \n",
    "\n",
    "\n",
    "N = int(input())        # 노드의 수\n",
    "E = int(input())        # 간선의 수\n",
    "ans = 0                 # 감염시킨 컴퓨터 수\n",
    "\n",
    "# 연결 정보를 저장할 리스트\n",
    "contact = [[] for _ in range(N+1)]\n",
    "for _ in range(E) :\n",
    "    c1,c2 = map(int,input().split())\n",
    "    contact[c1].append(c2)\n",
    "    contact[c2].append(c1)\n",
    "\n",
    "bfs(1)\n",
    "\n",
    "print(ans)\n"
   ]
  }
 ],
 "metadata": {
  "language_info": {
   "name": "python"
  }
 },
 "nbformat": 4,
 "nbformat_minor": 2
}
