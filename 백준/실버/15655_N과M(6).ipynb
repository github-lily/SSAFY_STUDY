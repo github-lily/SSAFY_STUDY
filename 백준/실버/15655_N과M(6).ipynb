{
 "cells": [
  {
   "cell_type": "code",
   "execution_count": null,
   "metadata": {},
   "outputs": [],
   "source": [
    "def dfs(n,s,lst) :\n",
    "    if n == M :\n",
    "        temp.append(lst)\n",
    "        return\n",
    "\n",
    "    for i in range(s,N) :\n",
    "        if v[i] == 0 :\n",
    "            v[i] = 1\n",
    "            dfs(n+1,i+1,lst+[nlst[i]])\n",
    "            v[i] = 0 \n",
    "\n",
    "N,M = map(int,input().split())\n",
    "nlst = sorted(list(map(int,input().split())))\n",
    "v = [0] * (N+1)\n",
    "temp = []\n",
    "\n",
    "# 선택 개수, 시작 위치, 리스트\n",
    "dfs(0,0,[]) \n",
    "\n",
    "for ans in temp :\n",
    "    print(*ans)"
   ]
  }
 ],
 "metadata": {
  "language_info": {
   "name": "python"
  }
 },
 "nbformat": 4,
 "nbformat_minor": 2
}
