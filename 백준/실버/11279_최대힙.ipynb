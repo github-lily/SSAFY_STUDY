{
 "cells": [
  {
   "cell_type": "code",
   "execution_count": null,
   "metadata": {},
   "outputs": [],
   "source": [
    "# 런타임 에러\n",
    "\n",
    "\n",
    "from queue import PriorityQueue\n",
    "\n",
    "q = PriorityQueue()\n",
    "N = int(input())\n",
    "\n",
    "for _ in range(N) :\n",
    "    i = int(input())\n",
    "    if i == 0 :\n",
    "        if q.empty() :\n",
    "            print(0)\n",
    "                   \n",
    "        else :\n",
    "            num = -q.get()\n",
    "            print(num)\n",
    "    else :\n",
    "        q.put(-i)\n",
    "\n"
   ]
  },
  {
   "cell_type": "markdown",
   "metadata": {},
   "source": [
    "- PriorityQueue.get()은 기본적으로 블로킹(blocking) 모드입니다.\n",
    "- 큐가 비어 있을 때 get()을 호출하면 스레드가 멈출 수도 있음 (백준에서는 런타임 에러 발생).\n",
    "- 반면, heapq.heappop()은 큐가 비어 있으면 IndexError를 발생시키지만 멈추지는 않음."
   ]
  },
  {
   "cell_type": "code",
   "execution_count": null,
   "metadata": {},
   "outputs": [],
   "source": [
    "# 114208KB, 160ms\n",
    "\n",
    "\n",
    "import sys\n",
    "import heapq\n",
    "\n",
    "input = sys.stdin.readline\n",
    "q = []\n",
    "\n",
    "N = int(input().strip())\n",
    "\n",
    "for _ in range(N) :\n",
    "    x = int(input().strip())\n",
    "\n",
    "    if x == 0 :\n",
    "        if q :\n",
    "            print(-heapq.heappop(q))\n",
    "        else :\n",
    "            print(0)\n",
    "\n",
    "    else :\n",
    "        heapq.heappush(q, -x)\n",
    "        \n"
   ]
  }
 ],
 "metadata": {
  "language_info": {
   "name": "python"
  }
 },
 "nbformat": 4,
 "nbformat_minor": 2
}
