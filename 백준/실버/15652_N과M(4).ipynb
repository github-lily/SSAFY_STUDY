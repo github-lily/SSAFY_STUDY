{
 "cells": [
  {
   "cell_type": "markdown",
   "metadata": {},
   "source": [
    "- 1부터 N까지 자연수 중 M개를 고른 수열\n",
    "- 중복 가능\n",
    "- 수열은 비내림차순(작은거 먼저. 오름차순)"
   ]
  },
  {
   "cell_type": "code",
   "execution_count": 2,
   "metadata": {},
   "outputs": [
    {
     "name": "stdout",
     "output_type": "stream",
     "text": [
      "[1, 2] [1, 3] [1, 4] [2, 3] [2, 4] [3, 4]\n"
     ]
    }
   ],
   "source": [
    "# 오류.. 중복없이 나옴!\n",
    "def dfs(n,s,lst) :\n",
    "\n",
    "    if n == M :\n",
    "        ans.append(lst)\n",
    "        return\n",
    "    \n",
    "    if s > N :\n",
    "        return\n",
    "\n",
    "\n",
    "    dfs(n+1,s+1,lst+[s])\n",
    "    dfs(n,s+1,lst)\n",
    "\n",
    "\n",
    "# 시작\n",
    "N,M = map(int,input().split())\n",
    "ans = []\n",
    "\n",
    "dfs(0,1,[])\n",
    "\n",
    "\n",
    "print(*ans)"
   ]
  },
  {
   "cell_type": "code",
   "execution_count": 3,
   "metadata": {},
   "outputs": [
    {
     "name": "stdout",
     "output_type": "stream",
     "text": [
      "1 1\n",
      "1 2\n",
      "1 3\n",
      "1 4\n",
      "2 2\n",
      "2 3\n",
      "2 4\n",
      "3 3\n",
      "3 4\n",
      "4 4\n"
     ]
    }
   ],
   "source": [
    "def dfs(n,s,lst) :\n",
    "\n",
    "    if n == M :\n",
    "        ans.append(lst)\n",
    "        return\n",
    "    \n",
    "    if s > N :\n",
    "        return\n",
    "\n",
    "    for j in range(s,N+1) :\n",
    "        dfs(n+1,j,lst+[j])\n",
    "\n",
    "N,M = map(int,input().split())\n",
    "ans = []\n",
    "\n",
    "dfs(0,1,[])\n",
    "\n",
    "for lst in ans :\n",
    "    print(*lst)"
   ]
  }
 ],
 "metadata": {
  "kernelspec": {
   "display_name": "Python 3",
   "language": "python",
   "name": "python3"
  },
  "language_info": {
   "codemirror_mode": {
    "name": "ipython",
    "version": 3
   },
   "file_extension": ".py",
   "mimetype": "text/x-python",
   "name": "python",
   "nbconvert_exporter": "python",
   "pygments_lexer": "ipython3",
   "version": "3.9.13"
  }
 },
 "nbformat": 4,
 "nbformat_minor": 2
}
