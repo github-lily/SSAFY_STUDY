{
 "cells": [
  {
   "cell_type": "code",
   "execution_count": null,
   "metadata": {},
   "outputs": [],
   "source": [
    "def bfs() :\n",
    "q = []\n",
    "v = [0] * (N+1)\n",
    "\n",
    "\n",
    "\n",
    "\n",
    "N,M = map(int,input().split())\n",
    "bfs(N,M)\n"
   ]
  }
 ],
 "metadata": {
  "language_info": {
   "name": "python"
  }
 },
 "nbformat": 4,
 "nbformat_minor": 2
}
