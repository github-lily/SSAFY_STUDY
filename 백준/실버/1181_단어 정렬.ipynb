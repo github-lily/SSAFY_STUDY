{
 "cells": [
  {
   "cell_type": "markdown",
   "metadata": {},
   "source": [
    "### 문제 설명\n",
    "- 알파벳 소문자로 이루어진 N개의 단어가 들어오면 아래와 같은 조건에 따라 정렬하는 프로그램\n",
    "- 중복된 단어는 하나만 남기고 제거\n",
    "\n",
    "1. 길이가 짧은 것부터\n",
    "2. 길이가 같으면 사전 순으로\n",
    "\n",
    "### 입력값\n",
    "1. 단어의 개수 N\n",
    "2. ~N : 단어(길이 < 50)\n",
    "\n",
    "### 출력값\n",
    "- 조건에 따라 단어들 출력"
   ]
  },
  {
   "cell_type": "code",
   "execution_count": null,
   "metadata": {},
   "outputs": [],
   "source": [
    "# 114312KB, 152ms(PyPy3)\n",
    "\n",
    "N = int(input())\n",
    "\n",
    "\n",
    "sentence = set()            # set으로 중복 제거\n",
    "for _ in range(N) :\n",
    "    word = input()\n",
    "    sentence.add(word)\n",
    "\n",
    "\n",
    "sentence = sorted(sentence)             # 사전순 정렬\n",
    "sentence.sort(key=lambda x : len(x))    # 길이순 정렬\n",
    "# sentence.sort(key=len) 로 해도 됨!\n",
    "\n",
    "\n",
    "for word in sentence :\n",
    "    print(word)"
   ]
  },
  {
   "cell_type": "code",
   "execution_count": null,
   "metadata": {},
   "outputs": [],
   "source": [
    "import sys\n",
    "N = int(sys.stdin.readline())\n",
    "word_temp = [[] for _ in range(50)]\n",
    "for i in range(N):\n",
    "    word = sys.stdin.readline().strip()\n",
    "    \n",
    "    word_temp[len(word)-1].append(word)\n",
    "\n",
    "for word_list in word_temp:\n",
    "    word_t = ''\n",
    "    if len(word_list) >= 1:\n",
    "        for word in sorted(word_list):\n",
    "            if word != word_t:\n",
    "                print(word)\n",
    "                word_t = word\n",
    "            else:\n",
    "                continue"
   ]
  },
  {
   "cell_type": "code",
   "execution_count": null,
   "metadata": {},
   "outputs": [],
   "source": [
    "# 113368KB, 140ms\n",
    "\n",
    "N = int(input())\n",
    "\n",
    "temp = [[] for _ in range(50)]      # 단어 길이 50 이하\n",
    "for _ in range(N) :\n",
    "    word = input()\n",
    "    temp[len(word)-1].append(word)  # 길이순 입력\n",
    "\n",
    "# 사전순 정렬\n",
    "for words in temp :\n",
    "    test = ''                       # 중복 체크\n",
    "    if words :                      # 값이 있을 때 확인\n",
    "        for word in sorted(words) :\n",
    "            if word != test :\n",
    "                print(word)\n",
    "                test = word"
   ]
  }
 ],
 "metadata": {
  "kernelspec": {
   "display_name": "Python 3",
   "language": "python",
   "name": "python3"
  },
  "language_info": {
   "name": "python",
   "version": "3.9.13"
  }
 },
 "nbformat": 4,
 "nbformat_minor": 2
}
