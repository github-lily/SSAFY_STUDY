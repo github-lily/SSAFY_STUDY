{
 "cells": [
  {
   "cell_type": "markdown",
   "metadata": {},
   "source": [
    "### 문제 설명\n",
    "- X가 자연수인 경우 배열에 X를 추가하기\n",
    "- X가 0이라면 배열에서 가장 작은 값을 출력하고 그 값을 배열에서 제거\n",
    "- X는 2^31보다 작은 수 또는 0, 음수는 없음\n",
    "- 입력에서 0이 주어진 횟수만큼 답을 출력\n",
    "- 배열이 비어있을 때 가장 작은 값을 출력하라고 한 경우에는 0을 출력\n",
    "- 제한시간 1초!"
   ]
  },
  {
   "cell_type": "code",
   "execution_count": null,
   "metadata": {},
   "outputs": [],
   "source": [
    "# 176ms, 114204KB(PyPy3)\n",
    "\n",
    "import heapq\n",
    "import sys\n",
    "\n",
    "input = sys.stdin.readline\n",
    "\n",
    "q = []\n",
    "ans_lst = []\n",
    "N = int(input())\n",
    "for _ in range(N) :\n",
    "    message = int(input())\n",
    "    if message == 0 :\n",
    "        if q :\n",
    "            min_val = heapq.heappop(q)\n",
    "            ans_lst.append(min_val)\n",
    "        else :\n",
    "            ans_lst.append(0)\n",
    "    else :\n",
    "        heapq.heappush(q,message)\n",
    "\n",
    "\n",
    "for ans in ans_lst :\n",
    "    print(ans)\n"
   ]
  },
  {
   "cell_type": "code",
   "execution_count": null,
   "metadata": {},
   "outputs": [],
   "source": [
    "# 이게 B형의 풀이인가...\n",
    "# 113552KB, 140ms(PyPy3)\n",
    "\n",
    "import sys\n",
    "\n",
    "def insert_heap(data) :\n",
    "    heap_size = len(heap)\n",
    "    heap.append(data)\n",
    "    i = heap_size\n",
    "    while i != 1 and heap[i] < heap[i//2] :\n",
    "        heap[i], heap[i//2] = heap[i//2], heap[i]\n",
    "        i //= 2\n",
    "        \n",
    "def delete_heap() :\n",
    "    heap_size = len(heap)-1\n",
    "    heap[1] = heap[heap_size]\n",
    "    heap_size -= 1\n",
    "    i = 1\n",
    "    while i * 2 <= heap_size :\n",
    "        next_i = i * 2\n",
    "        if next_i + 1 <= heap_size and heap[next_i] > heap[next_i + 1] :\n",
    "            next_i += 1\n",
    "        if heap[i] < heap[next_i] :\n",
    "            break\n",
    "        heap[i], heap[next_i] = heap[next_i], heap[i]\n",
    "        i = next_i\n",
    "    del heap[len(heap)-1]\n",
    "\n",
    "n = int(input())\n",
    "heap = [0]\n",
    "for i in range(n) :\n",
    "    x = int(sys.stdin.readline().rstrip())\n",
    "    if x != 0 :\n",
    "        insert_heap(x)\n",
    "    else :\n",
    "        if len(heap) == 1 :\n",
    "            print(0)\n",
    "        else :\n",
    "            print(heap[1])\n",
    "            delete_heap()"
   ]
  }
 ],
 "metadata": {
  "kernelspec": {
   "display_name": "Python 3",
   "language": "python",
   "name": "python3"
  },
  "language_info": {
   "codemirror_mode": {
    "name": "ipython",
    "version": 3
   },
   "file_extension": ".py",
   "mimetype": "text/x-python",
   "name": "python",
   "nbconvert_exporter": "python",
   "pygments_lexer": "ipython3",
   "version": "3.9.13"
  }
 },
 "nbformat": 4,
 "nbformat_minor": 2
}
