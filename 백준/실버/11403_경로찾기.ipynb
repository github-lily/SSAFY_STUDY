{
 "cells": [
  {
   "cell_type": "code",
   "execution_count": null,
   "metadata": {},
   "outputs": [],
   "source": [
    "# 111132KB, 116ms\n",
    "\n",
    "N = int(input())\n",
    "adj = [list(map(int,input().split())) for _ in range(N) ]\n",
    "\n",
    "arr = [row[:] for row in adj]\n",
    "\n",
    "for k in range(N) :\n",
    "    for i in range(N) :\n",
    "        for j in range(N) :\n",
    "            if (arr[i][j] == 1) or (arr[i][k] == 1 and arr[k][j] == 1) :\n",
    "                arr[i][j] = 1\n",
    "\n",
    "\n",
    "for line in arr :\n",
    "    print(*line)"
   ]
  },
  {
   "cell_type": "code",
   "execution_count": null,
   "metadata": {},
   "outputs": [],
   "source": [
    "# 111048KB, 120ms\n",
    "N = int(input())\n",
    "\n",
    "# 새로 찾은 경로도 arr 에 지속적으로 반영해줘야 하므로 덧입히기!\n",
    "arr = [list(map(int,input().split())) for _ in range(N) ]\n",
    "\n",
    "for k in range(N) :\n",
    "    for i in range(N) :\n",
    "        for j in range(N) :\n",
    "            if (arr[i][j] == 1) or (arr[i][k] == 1 and arr[k][j] == 1) :\n",
    "                arr[i][j] = 1\n",
    "\n",
    "\n",
    "for line in arr :\n",
    "    print(*line)"
   ]
  },
  {
   "cell_type": "markdown",
   "metadata": {},
   "source": [
    "# 플로이드 워셜 알고리즘\n",
    "- i -> j 로가는 경로 탐색\n",
    "- i -> j or i -> j -> k  경로가 있는지 탐색하여 반영\n",
    "- 주의할 점은, 위 문제에서는 adj, arr을 따로 보지 말고 새로 탐색한 경로를 지속적으로 업데이트 해줘야지만 올바르게 답이 나옴옴"
   ]
  }
 ],
 "metadata": {
  "kernelspec": {
   "display_name": "Python 3",
   "language": "python",
   "name": "python3"
  },
  "language_info": {
   "name": "python",
   "version": "3.9.13"
  }
 },
 "nbformat": 4,
 "nbformat_minor": 2
}
