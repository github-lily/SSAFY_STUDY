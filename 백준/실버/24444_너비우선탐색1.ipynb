{
 "cells": [
  {
   "cell_type": "code",
   "execution_count": null,
   "metadata": {},
   "outputs": [],
   "source": [
    "# 시간계산필요\n",
    "# python3은 시간초과, pypy는 통과(384ms, 133636KB)\n",
    "# 오름차순정렬 주의\n",
    "# 방문순서저장방법 기억하기\n",
    "\n",
    "from collections import deque\n",
    "\n",
    "\n",
    "N,M,R = map(int,input().split())\n",
    "adj = [[] for _ in range(N+1)]\n",
    "visit = [0]*(N+1)\n",
    "\n",
    "# 인접리스트 받기\n",
    "for _ in range(M) :\n",
    "    u,v = map(int,input().split())\n",
    "    adj[u].append(v)\n",
    "    adj[v].append(u)\n",
    "\n",
    "# 오름차순으로 정렬\n",
    "for edges in adj :\n",
    "    edges.sort()\n",
    "\n",
    "\n",
    "# 너비우선탐색\n",
    "def bfs(start) :\n",
    "    q = deque([start])\n",
    "    order = 1\n",
    "    visit[start] = order\n",
    "\n",
    "    while q :\n",
    "        c = q.popleft()\n",
    "        \n",
    "        for w in adj[c] :\n",
    "            if visit[w] == 0 :\n",
    "                order += 1\n",
    "                visit[w] = order\n",
    "                q.append(w)\n",
    "\n",
    "\n",
    "bfs(R)\n",
    "\n",
    "for i in range(1,N+1) :\n",
    "    print(visit[i])\n",
    "\n"
   ]
  }
 ],
 "metadata": {
  "language_info": {
   "name": "python"
  }
 },
 "nbformat": 4,
 "nbformat_minor": 2
}
