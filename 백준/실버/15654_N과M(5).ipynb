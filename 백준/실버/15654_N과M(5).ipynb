{
 "cells": [
  {
   "cell_type": "markdown",
   "metadata": {},
   "source": [
    "- 재밌군..........!!!!!\n",
    "- N개의 자연수 중 M개를 고른 수열\n",
    "- N개는 모두 다른 수\n",
    "- 숫자는 중복안됨([1,9],[9,1] 중복은 됨됨)\n",
    "- 오름차순 출력"
   ]
  },
  {
   "cell_type": "code",
   "execution_count": 9,
   "metadata": {},
   "outputs": [
    {
     "name": "stdout",
     "output_type": "stream",
     "text": [
      "1 7\n",
      "1 8\n",
      "1 9\n",
      "7 1\n",
      "7 8\n",
      "7 9\n",
      "8 1\n",
      "8 7\n",
      "8 9\n",
      "9 1\n",
      "9 7\n",
      "9 8\n"
     ]
    }
   ],
   "source": [
    "def dfs(n,temp) :\n",
    "    if n == M :\n",
    "        ans.append(temp)\n",
    "        return\n",
    "    \n",
    "    for i in range(0,N) :\n",
    "        if v[i] == 0 :\n",
    "            v[i] = 1\n",
    "            dfs(n+1,temp+[lst[i]])\n",
    "            v[i] = 0\n",
    "\n",
    "\n",
    "N,M = map(int,input().split())\n",
    "lst = sorted(list(map(int,input().split())))\n",
    "v = [0] * (N+1)\n",
    "ans = []\n",
    "\n",
    "dfs(0,[])\n",
    "\n",
    "for lst in ans :\n",
    "    print(*lst)\n"
   ]
  }
 ],
 "metadata": {
  "kernelspec": {
   "display_name": "Python 3",
   "language": "python",
   "name": "python3"
  },
  "language_info": {
   "codemirror_mode": {
    "name": "ipython",
    "version": 3
   },
   "file_extension": ".py",
   "mimetype": "text/x-python",
   "name": "python",
   "nbconvert_exporter": "python",
   "pygments_lexer": "ipython3",
   "version": "3.9.13"
  }
 },
 "nbformat": 4,
 "nbformat_minor": 2
}
