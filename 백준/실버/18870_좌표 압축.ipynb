{
 "cells": [
  {
   "cell_type": "markdown",
   "metadata": {},
   "source": [
    "### 문제 설명\n",
    "- 수직선 위에 N개의 좌표 X1, X2, ..., XN \n",
    "- Xi를 좌표 압축한 결과 X'i의 값은 Xi > Xj를 만족하는 서로 다른 좌표 Xj의 개수와 같아야 한다.\n",
    "- 즉, X'i의 값은 Xi보다 작은 값의 개수\n",
    "\n",
    "### 입력값\n",
    "1. N\n",
    "2. 공백 한 칸으로 구분된 X1, X2, ..., XN\n",
    "\n",
    "### 출력값\n",
    "- X1, X2, ..., XN에 좌표 압축을 적용한 결과 X'1, X'2, ..., X'N 을 공백 한칸으로 구분해서 출력"
   ]
  },
  {
   "cell_type": "code",
   "execution_count": null,
   "metadata": {},
   "outputs": [
    {
     "name": "stdout",
     "output_type": "stream",
     "text": [
      "\n"
     ]
    }
   ],
   "source": [
    "# 시간초과\n",
    "# 아무래도 append, for문 2개,,\n",
    "# N값이 100만개까지라서 초과\n",
    "\n",
    "N = int(input())\n",
    "\n",
    "# 원본 리스트\n",
    "X = list(map(int,input().split()))\n",
    "\n",
    "# 중복 제거 -> 리스트로 변환 후 정렬\n",
    "Y = sorted(list(set(X)))     # [-10, -9, 2, 4]\n",
    "\n",
    "\n",
    "num_dict = {}        # {num : index}    \n",
    "\n",
    "# key :각 숫자, value :인덱스(작은값 개수)\n",
    "for num in Y :\n",
    "    num_dict[num] = Y.index(num)   \n",
    "\n",
    "\n",
    "# print(num_dict)   # {-10: 0, -9: 1, 2: 2, 4: 3}\n",
    "\n",
    "\n",
    "# 원본리스트의 숫자 인덱스를 순서대로 저장\n",
    "ans = []\n",
    "for number in X :\n",
    "    ans.append(num_dict[number])\n",
    "\n",
    "print(*ans)"
   ]
  },
  {
   "cell_type": "code",
   "execution_count": null,
   "metadata": {},
   "outputs": [],
   "source": [
    "# 294436KB, 852ms\n",
    "\n",
    "# sorted할 때 리스트로 알아서 변환해줌\n",
    "# index 대신 enumerate 사용 : O(NlogN)(정렬) + O(N)(딕셔너리 생성)\n",
    "# index와 for문을 같이 사용하면 O(N) + for문이므로 O(N^2)\n",
    "# ans는 리스트컴프리헨션으로 간편하게 바꿈(원리는같음)\n",
    "\n",
    "\n",
    "N = int(input())\n",
    "\n",
    "# 원본 리스트\n",
    "X = list(map(int,input().split()))\n",
    "\n",
    "# 중복 제거 후 정렬(리스트로 반환됨)\n",
    "Y = sorted(set(X))     # [-10, -9, 2, 4]\n",
    "\n",
    "# enumerate : index, value를 반환\n",
    "num_dict = {value: idx for idx, value in enumerate(Y)}      \n",
    "\n",
    "# 결과 생성\n",
    "ans = [num_dict[number] for number in X]\n",
    "\n",
    "print(*ans)"
   ]
  }
 ],
 "metadata": {
  "kernelspec": {
   "display_name": "Python 3",
   "language": "python",
   "name": "python3"
  },
  "language_info": {
   "codemirror_mode": {
    "name": "ipython",
    "version": 3
   },
   "file_extension": ".py",
   "mimetype": "text/x-python",
   "name": "python",
   "nbconvert_exporter": "python",
   "pygments_lexer": "ipython3",
   "version": "3.9.13"
  }
 },
 "nbformat": 4,
 "nbformat_minor": 2
}
