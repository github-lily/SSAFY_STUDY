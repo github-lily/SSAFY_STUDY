{
 "cells": [
  {
   "cell_type": "markdown",
   "metadata": {},
   "source": [
    "### 문제 설명\n",
    "수 N개가 주어졌을 때, i번째 수부터 j번째 수까지 합을 구하는 프로그램\n",
    "\n",
    "### 입력\n",
    "1. N,M\n",
    "2. N개의 수\n",
    "3. 구간 i,j\n",
    "\n",
    "### 출력\n",
    "M개의 줄에 입력으로 주어진 i번째 수부터 j번째 수까지 합을 출력\n",
    "\n",
    "\n",
    "### 제한\n",
    "- 1 ≤ N ≤ 100,000\n",
    "- 1 ≤ M ≤ 100,000\n",
    "- 1 ≤ i ≤ j ≤ N"
   ]
  },
  {
   "cell_type": "markdown",
   "metadata": {},
   "source": [
    "https://code-angie.tistory.com/22"
   ]
  },
  {
   "cell_type": "code",
   "execution_count": null,
   "metadata": {},
   "outputs": [],
   "source": [
    "# 시간초과\n",
    "\n",
    "import sys\n",
    "input = sys.stdin.readline\n",
    "\n",
    "N,M = map(int,input().split())\n",
    "lst = list(map(int,input().split()))\n",
    "for _ in range(M) :\n",
    "    s,e = map(int,input().split())\n",
    "    print(sum(lst[s-1:e]))"
   ]
  },
  {
   "cell_type": "code",
   "execution_count": null,
   "metadata": {},
   "outputs": [],
   "source": [
    "# 123012KB, 168ms(PyPy3)\n",
    "\n",
    "import sys\n",
    "input = sys.stdin.readline\n",
    "\n",
    "N,M = map(int,input().split())\n",
    "lst = [0] + list(map(int,input().split()))\n",
    "\n",
    "\n",
    "sum_lst = [0]*(N+1)\n",
    "sum_lst[1] = lst[1]\n",
    "\n",
    "for i in range(2,N+1) :\n",
    "    sum_lst[i] = sum_lst[i-1]+lst[i]\n",
    "\n",
    "\n",
    "for _ in range(M) :\n",
    "    s,e = map(int,input().split())\n",
    "    print(sum_lst[e]-sum_lst[s-1])\n"
   ]
  }
 ],
 "metadata": {
  "kernelspec": {
   "display_name": "Python 3",
   "language": "python",
   "name": "python3"
  },
  "language_info": {
   "codemirror_mode": {
    "name": "ipython",
    "version": 3
   },
   "file_extension": ".py",
   "mimetype": "text/x-python",
   "name": "python",
   "nbconvert_exporter": "python",
   "pygments_lexer": "ipython3",
   "version": "3.9.13"
  }
 },
 "nbformat": 4,
 "nbformat_minor": 2
}
