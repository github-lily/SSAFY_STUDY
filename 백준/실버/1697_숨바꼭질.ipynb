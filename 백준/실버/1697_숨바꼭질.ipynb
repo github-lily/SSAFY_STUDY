{
 "cells": [
  {
   "cell_type": "markdown",
   "metadata": {},
   "source": [
    "### 문제 설명\n",
    "- 수빈이는 현재 점 N(0 ≤ N ≤ 100,000)에 있고, 동생은 점 K(0 ≤ K ≤ 100,000)에 있다\n",
    "- 수빈이는 걷거나 순간이동을 할 수 있다. \n",
    "- 수빈이의 위치가 X일 때 걷는다면 1초 후에 X-1 또는 X+1로 이동\n",
    "- 순간이동을 하는 경우에는 1초 후에 2*X의 위치로 이동\n",
    "수빈이가 동생을 찾을 수 있는 가장 빠른 시간이 몇 초 후인지 구하는 프로그램\n",
    "\n",
    "### 입력값\n",
    "1. 수빈이가 있는 위치 N과 동생이 있는 위치 K\n",
    "\n",
    "### 출력값\n",
    "- 수빈이가 동생을 찾는 가장 빠른 시간"
   ]
  },
  {
   "cell_type": "code",
   "execution_count": null,
   "metadata": {},
   "outputs": [],
   "source": [
    "# DFS : RecursionError\n",
    "\n",
    "N,K = map(int,input().split())\n",
    "min_time = 999999\n",
    "\n",
    "def find(n,k,sec) :\n",
    "    global min_time\n",
    "\n",
    "    if n == k :\n",
    "        if min_time > sec :\n",
    "            min_time = sec\n",
    "        return min_time\n",
    "\n",
    "    find(2*n, k, sec+1) \n",
    "    find(n-1, k, sec+1) \n",
    "    find(n+1, k, sec+1) \n",
    "\n",
    "\n",
    "find(N,K,0)\n",
    "\n",
    "print(min_time)\n",
    "\n"
   ]
  },
  {
   "cell_type": "code",
   "execution_count": null,
   "metadata": {},
   "outputs": [],
   "source": [
    "# 한번에 얼만큼씩 이동해서 최소를 찾는 문제 => BFS\n",
    "# 115476KB, 128ms(PyPy3)\n",
    "\n",
    "from collections import deque\n",
    "\n",
    "def find(start,end) :\n",
    "\n",
    "    q = deque()\n",
    "    v = [0]*200001\n",
    "\n",
    "    q.append(start)\n",
    "    v[start] = 1\n",
    "\n",
    "    while q :\n",
    "        cn = q.popleft()\n",
    "\n",
    "        if cn == end :\n",
    "            return v[cn]-1\n",
    "        \n",
    "        for w in (2*cn, cn-1, cn+1) :\n",
    "            if 0<= w < 200000 :        # 범위 내\n",
    "                if v[w] ==0 :\n",
    "                    v[w] = v[cn] +1\n",
    "                    q.append(w)\n",
    "                    \n",
    "    return -1       # 디버깅용용\n",
    "\n",
    "\n",
    "N,K = map(int,input().split())\n",
    "\n",
    "\n",
    "ans = find(N,K)\n",
    "print(ans)"
   ]
  }
 ],
 "metadata": {
  "kernelspec": {
   "display_name": "Python 3",
   "language": "python",
   "name": "python3"
  },
  "language_info": {
   "name": "python",
   "version": "3.9.13"
  }
 },
 "nbformat": 4,
 "nbformat_minor": 2
}
