{
 "cells": [
  {
   "cell_type": "markdown",
   "metadata": {},
   "source": [
    "### 문제설명\n",
    "- 비어있는 공집합 S가 주어졌을 때, 아래 연산을 수행하는 프로그램\n",
    "\n",
    "- add x: S에 x를 추가한다. (1 ≤ x ≤ 20) S에 x가 이미 있는 경우에는 연산을 무시한다.\n",
    "- remove x: S에서 x를 제거한다. (1 ≤ x ≤ 20) S에 x가 없는 경우에는 연산을 무시한다.\n",
    "- check x: S에 x가 있으면 1을, 없으면 0을 출력한다. (1 ≤ x ≤ 20)\n",
    "- toggle x: S에 x가 있으면 x를 제거하고, 없으면 x를 추가한다. (1 ≤ x ≤ 20)\n",
    "- all: S를 {1, 2, ..., 20} 으로 바꾼다.\n",
    "- empty: S를 공집합으로 바꾼다.\n",
    "\n",
    "### 입력값\n",
    "1. 수행해야 하는 연산의 수 M\n",
    "2. M개줄에 걸쳐 수행해야하는 연산이 한 줄에 하나씩 주어진다\n",
    "\n",
    "### 출력값\n",
    "check 연산이 주어질 때마다 결과를 출력한다"
   ]
  },
  {
   "cell_type": "code",
   "execution_count": 3,
   "metadata": {},
   "outputs": [
    {
     "name": "stdout",
     "output_type": "stream",
     "text": [
      "[1, 2, 3, 4, 5, 6, 7, 8, 9, 10, 11, 12, 13, 14, 15, 16, 17, 18, 19, 20]\n"
     ]
    }
   ],
   "source": [
    "# 메모리 초과\n",
    "\n",
    "import sys\n",
    "input = sys.stdin.readline\n",
    "\n",
    "M = int(input())\n",
    "S = set()\n",
    "\n",
    "# all_S = [x for x in range(1,21)]\n",
    "# 속도를 위해 set으로 만듦\n",
    "\n",
    "all_S = {1, 2, 3, 4, 5, 6, 7, 8, 9, 10, 11, 12, 13, 14, 15, 16, 17, 18, 19, 20}\n",
    "\n",
    "\n",
    "for _ in range(M) :\n",
    "    request = input().split()\n",
    "\n",
    "    if request[0] == 'all' :\n",
    "        S = all_S\n",
    "\n",
    "    elif request[0] == 'empty' :\n",
    "        S = set()\n",
    "    \n",
    "    # 이 경우엔 무조건 request[1]이 존재함\n",
    "    else :\n",
    "        if request[0] == 'add' :\n",
    "            S.add(int(request[1]))\n",
    "\n",
    "        elif request[0] == 'remove' :\n",
    "            if int(request[1]) in S :\n",
    "                S.remove(int(request[1]))\n",
    "                # remove는 값이 없으면 error를 발생시키므로 주의\n",
    "                \n",
    "        elif request[0] == 'check' :\n",
    "            if int(request[1]) in S :\n",
    "                print(1)\n",
    "            else :\n",
    "                print(0)\n",
    "\n",
    "        elif request[0] == 'toggle' :\n",
    "            if int(request[1]) in S :\n",
    "                S.remove(int(request[1]))\n",
    "            else :\n",
    "                S.add(int(request[1]))\n",
    "\n",
    "\n"
   ]
  },
  {
   "cell_type": "code",
   "execution_count": null,
   "metadata": {},
   "outputs": [],
   "source": [
    "# 값이 없으면 오류를 만드는 remove 대신 값이 없어도 오류를 발생시키지 않는 discard로 수정\n",
    "# 32412KB, 3080ms\n",
    "\n",
    "import sys\n",
    "input = sys.stdin.readline\n",
    "\n",
    "M = int(input())\n",
    "S = set()\n",
    "\n",
    "# all_S = [x for x in range(1,21)]\n",
    "# 속도를 위해 set으로 만듦\n",
    "\n",
    "all_S = {1, 2, 3, 4, 5, 6, 7, 8, 9, 10, 11, 12, 13, 14, 15, 16, 17, 18, 19, 20}\n",
    "\n",
    "\n",
    "for _ in range(M) :\n",
    "    request = input().split()\n",
    "\n",
    "    if request[0] == 'all' :\n",
    "        S = all_S.copy()\n",
    "        # S = all_S  # 이렇게 하면 S가 수정될 때 all_S도 같이 수정될 수 있음\n",
    "\n",
    "    elif request[0] == 'empty' :\n",
    "        S = set()\n",
    "    \n",
    "    # 이 경우엔 무조건 request[1]이 존재함\n",
    "    else :\n",
    "        if request[0] == 'add' :\n",
    "            S.add(int(request[1]))\n",
    "\n",
    "        elif request[0] == 'remove' :\n",
    "            S.discard(int(request[1]))\n",
    "            # 값이 없어도 에러를 발생시키지 않음\n",
    "\n",
    "        elif request[0] == 'check' :\n",
    "            if int(request[1]) in S :\n",
    "                print(1)\n",
    "            else :\n",
    "                print(0)\n",
    "\n",
    "        elif request[0] == 'toggle' :\n",
    "            if int(request[1]) in S :\n",
    "                S.remove(int(request[1]))\n",
    "            else :\n",
    "                S.add(int(request[1]))\n"
   ]
  },
  {
   "cell_type": "code",
   "execution_count": null,
   "metadata": {},
   "outputs": [],
   "source": [
    "all_S = {1, 2, 3}\n",
    "S = all_S\n",
    "# 동일한 객체를 가리키게 됨\n",
    "\n",
    "S.add(4)\n",
    "print(S)      # 출력: {1, 2, 3, 4}\n",
    "print(all_S)  # 출력: {1, 2, 3, 4} (all_S도 변경됨!)\n",
    "\n"
   ]
  },
  {
   "cell_type": "code",
   "execution_count": null,
   "metadata": {},
   "outputs": [],
   "source": []
  }
 ],
 "metadata": {
  "kernelspec": {
   "display_name": "Python 3",
   "language": "python",
   "name": "python3"
  },
  "language_info": {
   "codemirror_mode": {
    "name": "ipython",
    "version": 3
   },
   "file_extension": ".py",
   "mimetype": "text/x-python",
   "name": "python",
   "nbconvert_exporter": "python",
   "pygments_lexer": "ipython3",
   "version": "3.9.13"
  }
 },
 "nbformat": 4,
 "nbformat_minor": 2
}
