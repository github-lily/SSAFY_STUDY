{
 "cells": [
  {
   "cell_type": "markdown",
   "metadata": {},
   "source": [
    "### 문제설명\n",
    "- 비어있는 공집합 S가 주어졌을 때, 아래 연산을 수행하는 프로그램\n",
    "\n",
    "- add x: S에 x를 추가한다. (1 ≤ x ≤ 20) S에 x가 이미 있는 경우에는 연산을 무시한다.\n",
    "- remove x: S에서 x를 제거한다. (1 ≤ x ≤ 20) S에 x가 없는 경우에는 연산을 무시한다.\n",
    "- check x: S에 x가 있으면 1을, 없으면 0을 출력한다. (1 ≤ x ≤ 20)\n",
    "- toggle x: S에 x가 있으면 x를 제거하고, 없으면 x를 추가한다. (1 ≤ x ≤ 20)\n",
    "- all: S를 {1, 2, ..., 20} 으로 바꾼다.\n",
    "- empty: S를 공집합으로 바꾼다.\n",
    "\n",
    "### 입력값\n",
    "1. 수행해야 하는 연산의 수 M\n",
    "2. M개줄에 걸쳐 수행해야하는 연산이 한 줄에 하나씩 주어진다\n",
    "\n",
    "### 출력값\n",
    "check 연산이 주어질 때마다 결과를 출력한다"
   ]
  },
  {
   "cell_type": "code",
   "execution_count": 3,
   "metadata": {},
   "outputs": [
    {
     "name": "stdout",
     "output_type": "stream",
     "text": [
      "[1, 2, 3, 4, 5, 6, 7, 8, 9, 10, 11, 12, 13, 14, 15, 16, 17, 18, 19, 20]\n"
     ]
    }
   ],
   "source": [
    "M = int(input())\n",
    "S = set()\n",
    "# all_S = [x for x in range(1,21)]\n",
    "# 속도를 위해 set으로 만듦\n",
    "all_S = (1, 2, 3, 4, 5, 6, 7, 8, 9, 10, 11, 12, 13, 14, 15, 16, 17, 18, 19, 20)\n",
    "\n",
    "\n",
    "for _ in range(M) :\n",
    "    request = input()\n",
    "    if request[0] == 'all' :\n",
    "        S = all_S\n",
    "    elif request[0] == 'empty' :\n",
    "        S = set()\n",
    "    else :\n",
    "        if request[0] == 'add' :\n",
    "            S.add(int(request[1]))\n",
    "        elif request[0] == 'remove' :\n",
    "            S.remove(int(request[1]))\n",
    "        elif request[0] == 'check' :\n",
    "            if int(request[1]) in S :\n",
    "                print(1)\n",
    "            else :\n",
    "                print(0)\n",
    "        elif request[0] == 'toggle' :\n",
    "            if int(request[1]) in S :\n",
    "                S.remove(int(request[1]))\n",
    "            else :\n",
    "                S.add(int(request[1]))\n",
    "\n"
   ]
  }
 ],
 "metadata": {
  "kernelspec": {
   "display_name": "Python 3",
   "language": "python",
   "name": "python3"
  },
  "language_info": {
   "codemirror_mode": {
    "name": "ipython",
    "version": 3
   },
   "file_extension": ".py",
   "mimetype": "text/x-python",
   "name": "python",
   "nbconvert_exporter": "python",
   "pygments_lexer": "ipython3",
   "version": "3.9.13"
  }
 },
 "nbformat": 4,
 "nbformat_minor": 2
}
