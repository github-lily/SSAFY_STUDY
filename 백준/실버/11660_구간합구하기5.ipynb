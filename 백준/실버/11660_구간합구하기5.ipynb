{
 "cells": [
  {
   "cell_type": "markdown",
   "metadata": {},
   "source": [
    "### 문제 조건\n",
    "- N×N개의 수가 N×N 크기의 표에 채워져 있다. (x1, y1)부터 (x2, y2)까지 합을 구하는 프로그램\n",
    "- 인덱스는 1번부터 시작함\n",
    "\n",
    "### 입력값\n",
    "- 첫째줄 : 표의 크기 N과 합을 구해야 하는 횟수 M\n",
    "- 이후 N개 줄 : 표에 채워진 수\n",
    "- 이후 M개 줄 : 네 개의 정수(x1, y1, x2, y2)"
   ]
  },
  {
   "cell_type": "code",
   "execution_count": 1,
   "metadata": {},
   "outputs": [
    {
     "ename": "ValueError",
     "evalue": "too many values to unpack (expected 2)",
     "output_type": "error",
     "traceback": [
      "\u001b[1;31m---------------------------------------------------------------------------\u001b[0m",
      "\u001b[1;31mValueError\u001b[0m                                Traceback (most recent call last)",
      "Cell \u001b[1;32mIn[1], line 10\u001b[0m\n\u001b[0;32m      5\u001b[0m             sum_val \u001b[38;5;241m+\u001b[39m\u001b[38;5;241m=\u001b[39m arr[r][c]\n\u001b[0;32m      6\u001b[0m     \u001b[38;5;28;01mreturn\u001b[39;00m sum_val\n\u001b[1;32m---> 10\u001b[0m N,M \u001b[38;5;241m=\u001b[39m \u001b[38;5;28mmap\u001b[39m(\u001b[38;5;28mint\u001b[39m,\u001b[38;5;28minput\u001b[39m()\u001b[38;5;241m.\u001b[39msplit())\n\u001b[0;32m     11\u001b[0m arr \u001b[38;5;241m=\u001b[39m [\u001b[38;5;28mlist\u001b[39m(\u001b[38;5;28mmap\u001b[39m(\u001b[38;5;28mint\u001b[39m,\u001b[38;5;28minput\u001b[39m()\u001b[38;5;241m.\u001b[39msplit())) \u001b[38;5;28;01mfor\u001b[39;00m _ \u001b[38;5;129;01min\u001b[39;00m \u001b[38;5;28mrange\u001b[39m(N)]\n\u001b[0;32m     12\u001b[0m \u001b[38;5;28;01mfor\u001b[39;00m _ \u001b[38;5;129;01min\u001b[39;00m \u001b[38;5;28mrange\u001b[39m(M) :\n",
      "\u001b[1;31mValueError\u001b[0m: too many values to unpack (expected 2)"
     ]
    }
   ],
   "source": [
    "# 정답이지만 시간초과\n",
    "\n",
    "def zone_sum(si,sj,ei,ej) :\n",
    "    global sum_val\n",
    "    for r in range(si,ei+1) :\n",
    "        for c in range(sj,ej+1) :\n",
    "            sum_val += arr[r][c]\n",
    "    return sum_val\n",
    "\n",
    "\n",
    "\n",
    "N,M = map(int,input().split())\n",
    "arr = [list(map(int,input().split())) for _ in range(N)]\n",
    "for _ in range(M) :\n",
    "    sr,sc,er,ec = map(int,input().split())\n",
    "    sr,sc,er,ec = sr-1,sc-1,er-1,ec-1       # 인덱스 맞춰주기\n",
    "    sum_val = 0                             # 구간합\n",
    "    ans = zone_sum(sr,sc,er,ec)\n",
    "    print(ans)"
   ]
  },
  {
   "cell_type": "code",
   "execution_count": null,
   "metadata": {},
   "outputs": [],
   "source": [
    "# 답을 모아서 한번에 출력\n",
    "# 함수 없애줌\n",
    "# 정답이지만 시간초과\n",
    "\n",
    "N,M = map(int,input().split())\n",
    "arr = [list(map(int,input().split())) for _ in range(N)]\n",
    "ans_lst = []\n",
    "\n",
    "for _ in range(M) :\n",
    "    sr,sc,er,ec = map(int,input().split())\n",
    "    sr,sc,er,ec = sr-1,sc-1,er-1,ec-1       # 인덱스 맞춰주기\n",
    "    sum_val = 0                             # 구간합\n",
    "\n",
    "    for r in range(sr,er+1) :\n",
    "        for c in range(sc,ec+1) :\n",
    "            sum_val += arr[r][c]\n",
    "    ans_lst.append(sum_val)\n",
    "\n",
    "\n",
    "for ans in ans_lst :\n",
    "    print(ans)\n"
   ]
  },
  {
   "cell_type": "code",
   "execution_count": null,
   "metadata": {},
   "outputs": [],
   "source": [
    "# GPT\n",
    "# DP\n",
    "# 시간초과\n",
    "\n",
    "N, M = map(int, input().split())\n",
    "arr = [list(map(int, input().split())) for _ in range(N)]\n",
    "\n",
    "# 2차원 구간 합 배열 생성\n",
    "prefix = [[0] * (N + 1) for _ in range(N + 1)]\n",
    "\n",
    "# prefix 배열 채우기\n",
    "for i in range(1, N + 1):\n",
    "    for j in range(1, N + 1):\n",
    "        prefix[i][j] = arr[i-1][j-1] + prefix[i-1][j] + prefix[i][j-1] - prefix[i-1][j-1]\n",
    "\n",
    "# 쿼리 처리\n",
    "for _ in range(M):\n",
    "    sr, sc, er, ec = map(int, input().split())\n",
    "    sum_val = prefix[er][ec] - prefix[sr-1][ec] - prefix[er][sc-1] + prefix[sr-1][sc-1]\n",
    "    print(sum_val)\n"
   ]
  },
  {
   "cell_type": "code",
   "execution_count": null,
   "metadata": {},
   "outputs": [],
   "source": [
    "# GPT 좀 더 최적화\n",
    "# `sys.stdin.readline` 을 사용하여 입력 속도 최적화\n",
    "\n",
    "import sys\n",
    "input = sys.stdin.readline\n",
    "\n",
    "N, M = map(int, input().split())\n",
    "arr = [list(map(int, input().split())) for _ in range(N)]\n",
    "\n",
    "# 2차원 구간 합 배열 생성\n",
    "prefix = [[0] * (N + 1) for _ in range(N + 1)]\n",
    "\n",
    "# prefix 배열 채우기\n",
    "for i in range(1, N + 1):\n",
    "    for j in range(1, N + 1):\n",
    "        prefix[i][j] = arr[i-1][j-1] + prefix[i-1][j] + prefix[i][j-1] - prefix[i-1][j-1]\n",
    "\n",
    "# 쿼리 처리\n",
    "for _ in range(M):\n",
    "    sr, sc, er, ec = map(int, input().split())\n",
    "    sum_val = prefix[er][ec] - prefix[sr-1][ec] - prefix[er][sc-1] + prefix[sr-1][sc-1]\n",
    "    print(sum_val)\n"
   ]
  }
 ],
 "metadata": {
  "kernelspec": {
   "display_name": "Python 3",
   "language": "python",
   "name": "python3"
  },
  "language_info": {
   "codemirror_mode": {
    "name": "ipython",
    "version": 3
   },
   "file_extension": ".py",
   "mimetype": "text/x-python",
   "name": "python",
   "nbconvert_exporter": "python",
   "pygments_lexer": "ipython3",
   "version": "3.9.13"
  }
 },
 "nbformat": 4,
 "nbformat_minor": 2
}
