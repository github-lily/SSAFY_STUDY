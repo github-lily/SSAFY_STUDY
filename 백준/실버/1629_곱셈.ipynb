{
 "cells": [
  {
   "cell_type": "markdown",
   "metadata": {},
   "source": [
    "### 문제 설명\n",
    "- 자연수 A를 B번 곱한 수를 C로 나눈 나머지를 구하는 프로그램\n",
    "- A,B,C는 2,147,483,647 이하의 자연수\n"
   ]
  },
  {
   "cell_type": "code",
   "execution_count": null,
   "metadata": {},
   "outputs": [],
   "source": [
    "# 당연히 시간초과\n",
    "\n",
    "import sys\n",
    "input = sys.stdin.readline\n",
    "\n",
    "A,B,C = map(int,input().split())\n",
    "ans = A**B%C\n",
    "\n",
    "print(ans)"
   ]
  },
  {
   "cell_type": "code",
   "execution_count": null,
   "metadata": {},
   "outputs": [],
   "source": [
    "# 거듭제곱을 해주는 내장함수\n",
    "# 108384KB, 92ms\n",
    "\n",
    "import sys\n",
    "input = sys.stdin.readline\n",
    "\n",
    "a, b, c = map(int, input().split())\n",
    "print(pow(a, b, c))"
   ]
  },
  {
   "cell_type": "markdown",
   "metadata": {},
   "source": [
    "# 내장함수 pow\n",
    "- `pow(x,y,z=None)` 형태로 사용\n",
    "- x = 밑, y = 지수, z = option(나머지 계산에 사용용)\n",
    "- pow(x,y,z) == (x**y)%z\n",
    "- z가 제공되지 않으면 단순한 거듭제곱 값(x**y)를 반환\n",
    "- 내장함수이기 때문에 별도의 import 없이 사용 가능\n",
    "\n",
    "#### 특징\n",
    "- 반환값은 파라미터의 type에 따라 결정\n",
    "- 파라미터가 정수인 경우 정수를 반환, 부동소수점인 경우 부동소수점을 반환"
   ]
  },
  {
   "cell_type": "code",
   "execution_count": 3,
   "metadata": {},
   "outputs": [
    {
     "name": "stdout",
     "output_type": "stream",
     "text": [
      "8\n",
      "2\n"
     ]
    }
   ],
   "source": [
    "ans1 = pow(2,3)      \n",
    "print(ans1)         # 8\n",
    "\n",
    "ans2 = pow(2,3,3)    \n",
    "print(ans2)         # 2"
   ]
  },
  {
   "cell_type": "markdown",
   "metadata": {},
   "source": [
    "# math.pow\n",
    "- math.pow(x, y) 형태로 사용\n",
    "- 항상 두 개의 인자를 받아서 x를 y번 거듭제곱한 값을 반환\n",
    "- math 모듈을 import해야 사용 가능\n",
    "\n",
    "#### 특징\n",
    "- 항상 부동소수점을 반환(결과 값이 항상 float)"
   ]
  },
  {
   "cell_type": "code",
   "execution_count": 4,
   "metadata": {},
   "outputs": [
    {
     "name": "stdout",
     "output_type": "stream",
     "text": [
      "8.0\n"
     ]
    }
   ],
   "source": [
    "import math\n",
    "\n",
    "ans = math.pow(2, 3)\n",
    "print(ans)      # 8.0"
   ]
  },
  {
   "cell_type": "markdown",
   "metadata": {},
   "source": [
    "# ** 연산자\n",
    "- x ** y 형태로 사용\n",
    "- 가장 짧고 간단한 방법으로 거듭제곱을 수행할 수 있음\n",
    "- ** 연산자는 내장 연산자이기 때문에 별도의 import 없이 사용 가능\n",
    "\n",
    "#### 특징\n",
    "** 의 반환값은 파라미터의 type에 따라 결정된다.\n",
    "속도 측면에서 ** 연산자가 **일반적으로** 더 빠르다."
   ]
  },
  {
   "cell_type": "code",
   "execution_count": null,
   "metadata": {},
   "outputs": [],
   "source": [
    "# 108384KB, 88ms\n",
    "# 분할 정복\n",
    "\n",
    "def power(a,b,c):\n",
    "    if b==0:\n",
    "        return 1\n",
    "    \n",
    "    x=power(a,b//2,c)\n",
    "\n",
    "    if b%2==0:\n",
    "        return (x*x)%c\n",
    "    else:\n",
    "        return (x*x*a)%c\n",
    "    \n",
    "a,b,c=map(int,input().split())\n",
    "\n",
    "print(power(a,b,c))"
   ]
  },
  {
   "cell_type": "markdown",
   "metadata": {},
   "source": [
    "- 단순히 a^b를 계산한 후 나머지를 구하면 시간 복잡도가 O(b)로 매우 비효율적이고 b가 큰 경우 메모리초과나 시간초과가 나기 쉬움\n",
    "\n",
    "## 분할 정복\n",
    "- 문제를 반으로 나누어 각각 해결한 뒤 이를 결합하여 최종 결과를 얻는 알고리즘\n"
   ]
  }
 ],
 "metadata": {
  "kernelspec": {
   "display_name": "Python 3",
   "language": "python",
   "name": "python3"
  },
  "language_info": {
   "codemirror_mode": {
    "name": "ipython",
    "version": 3
   },
   "file_extension": ".py",
   "mimetype": "text/x-python",
   "name": "python",
   "nbconvert_exporter": "python",
   "pygments_lexer": "ipython3",
   "version": "3.9.13"
  }
 },
 "nbformat": 4,
 "nbformat_minor": 2
}
