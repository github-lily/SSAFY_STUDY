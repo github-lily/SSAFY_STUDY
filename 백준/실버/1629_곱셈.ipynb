{
 "cells": [
  {
   "cell_type": "code",
   "execution_count": null,
   "metadata": {},
   "outputs": [],
   "source": [
    "# 당연히 시간초과\n",
    "\n",
    "import sys\n",
    "input = sys.stdin.readline\n",
    "\n",
    "A,B,C = map(int,input().split())\n",
    "ans = A**B%C\n",
    "\n",
    "print(ans)"
   ]
  },
  {
   "cell_type": "code",
   "execution_count": null,
   "metadata": {},
   "outputs": [],
   "source": [
    "# 거듭제곱을 해주는 내장함수\n",
    "# 108384KB, 92ms\n",
    "\n",
    "import sys\n",
    "input = sys.stdin.readline\n",
    "\n",
    "a, b, c = map(int, input().split())\n",
    "print(pow(a, b, c))"
   ]
  },
  {
   "cell_type": "code",
   "execution_count": null,
   "metadata": {},
   "outputs": [],
   "source": [
    "# 108384KB, 88ms\n",
    "#1번 코드 (통과)\n",
    "\n",
    "def power(a,b,c):\n",
    "    if b==0:\n",
    "        return 1\n",
    "    \n",
    "    x=power(a,b//2,c)\n",
    "\n",
    "    if b%2==0:\n",
    "        return (x*x)%c\n",
    "    else:\n",
    "        return (x*x*a)%c\n",
    "    \n",
    "a,b,c=map(int,input().split())\n",
    "\n",
    "print(power(a,b,c))"
   ]
  }
 ],
 "metadata": {
  "language_info": {
   "name": "python"
  }
 },
 "nbformat": 4,
 "nbformat_minor": 2
}
