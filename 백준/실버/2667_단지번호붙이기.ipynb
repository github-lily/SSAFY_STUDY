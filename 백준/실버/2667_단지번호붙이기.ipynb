{
 "cells": [
  {
   "cell_type": "markdown",
   "metadata": {},
   "source": [
    "- 정사각형 모양의 지도\n",
    "- 1은 집, 0은 길\n",
    "- 집이 붙어있으면 단지\n",
    "- 첫 줄엔 총 단지수, 그 뒤는 각 단지내 집의 수를 오름차순으로 정렬하여 한 줄에 하나씩 출력"
   ]
  },
  {
   "cell_type": "code",
   "execution_count": null,
   "metadata": {},
   "outputs": [],
   "source": [
    "\n",
    "\n",
    "N = int(input())\n",
    "arr = [list(map(int,input())) for _ in range(N)]\n"
   ]
  }
 ],
 "metadata": {
  "language_info": {
   "name": "python"
  }
 },
 "nbformat": 4,
 "nbformat_minor": 2
}
