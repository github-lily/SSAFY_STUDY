{
 "cells": [
  {
   "cell_type": "markdown",
   "metadata": {},
   "source": [
    "### 문제 설명\n",
    "- 정사각형 모양의 지도\n",
    "- 1은 집, 0은 길\n",
    "- 집이 붙어있으면 단지\n",
    "\n",
    "### 입력값\n",
    "1. 지도의 크기 N\n",
    "2. 지도\n",
    "\n",
    "### 출력값\n",
    "1. 첫 줄엔 총 단지수\n",
    "2. 각 단지내 집의 수를 오름차순으로 정렬하여 한 줄에 하나씩 출력\n",
    "\n",
    "\n",
    "### 풀이 방법 고민\n",
    "- 1을 만나면 bfs시작 : house(집의 수) +1, 큐에 넣고 인접한 곳을 탐색\n",
    "- 인접한 곳에 1이 있다면 그곳과 인접한 곳을 또다시 큐에 넣고,house(집의 수) +1 그 값은 10으로 수정 또는 방문배열\n",
    "- 더이상 없어서 while문이 끝나면 village(단지수) +1\n"
   ]
  },
  {
   "cell_type": "code",
   "execution_count": null,
   "metadata": {},
   "outputs": [],
   "source": [
    "\n",
    "\n",
    "from collections import deque\n",
    "\n",
    "# 네방향 탐색\n",
    "di = [0,1,0,-1]\n",
    "dj = [1,0,-1,0]\n",
    "\n",
    "\n",
    "def bfs(i,j) :\n",
    "    global village, house\n",
    "\n",
    "    q = deque()\n",
    "    q.append((i,j))\n",
    "    v[i][j] = 1\n",
    "\n",
    "    while q:\n",
    "        ci,cj = q.popleft()\n",
    "        for k in range(4) :\n",
    "            ni,nj = ci+di[k], cj+dj[k]\n",
    "            # 범위 내에 있고, 방문하지 않았고, 집이라면\n",
    "            if 0<=ni<N and 0<=nj<N and v[ni][nj] == 0 and arr[ni][nj] == 1 :\n",
    "                v[ni][nj] = 1\n",
    "                house += 1\n",
    "                q.append((ni,nj))\n",
    "\n",
    "    village += 1\n",
    "    \n",
    "    \n",
    "\n",
    "N = int(input())\n",
    "arr = [list(map(int,input())) for _ in range(N)]\n",
    "\n",
    "v = [[0]*(N) for _ in range(N)]     # 방문 배열\n",
    "village_house = {}  # 단지별 집의 수 저장\n",
    "village = 0         # 단지 수\n",
    "house = 1           # 집의 수\n",
    "\n",
    "\n",
    "for i in range(N) :\n",
    "    for j in range(N) :\n",
    "        if v[i][j] == 0 and arr[i][j] == 1 :\n",
    "            bfs(i,j)\n",
    "            village_house[village] = house\n",
    "            house = 1       #집의 수 초기화(현재 위치도 집이므로 +1로 시작)\n",
    "            # 키 값을 마을수로 정해서 자동 증가하도록 함\n",
    "\n",
    "\n",
    "\n",
    "print(village)\n",
    "for i, (key,value) in enumerate(village_house.items()) :\n",
    "    print(f'{value}')\n"
   ]
  },
  {
   "cell_type": "code",
   "execution_count": 16,
   "metadata": {},
   "outputs": [
    {
     "name": "stdout",
     "output_type": "stream",
     "text": [
      "a\n",
      "b\n",
      "c\n"
     ]
    }
   ],
   "source": [
    "my_dict = {1:'a', 2:'b', 3:'c'}\n",
    "\n",
    "for i, (key,value) in enumerate(my_dict.items()) :\n",
    "    print(f'{value}')\n"
   ]
  },
  {
   "cell_type": "code",
   "execution_count": 13,
   "metadata": {},
   "outputs": [
    {
     "name": "stdout",
     "output_type": "stream",
     "text": [
      "a\n",
      "b\n",
      "c\n"
     ]
    }
   ],
   "source": [
    "my_dict = {1:'a', 2:'b', 3:'c'}\n",
    "\n",
    "for i, (key, value) in enumerate(my_dict.items()):\n",
    "    print(f'{value}')\n"
   ]
  },
  {
   "cell_type": "code",
   "execution_count": 9,
   "metadata": {},
   "outputs": [
    {
     "name": "stdout",
     "output_type": "stream",
     "text": [
      "Index: 0, Key: a, Value: 1\n",
      "Index: 1, Key: b, Value: 2\n",
      "Index: 2, Key: c, Value: 3\n",
      "Index: 3, Key: d, Value: 4\n"
     ]
    }
   ],
   "source": [
    "my_dict = {'a': 1, 'b': 2, 'c': 3, 'd': 4}\n",
    "\n",
    "for i, (key, value) in enumerate(my_dict.items()):\n",
    "    print(f'Index: {i}, Key: {key}, Value: {value}')"
   ]
  }
 ],
 "metadata": {
  "kernelspec": {
   "display_name": "Python 3",
   "language": "python",
   "name": "python3"
  },
  "language_info": {
   "codemirror_mode": {
    "name": "ipython",
    "version": 3
   },
   "file_extension": ".py",
   "mimetype": "text/x-python",
   "name": "python",
   "nbconvert_exporter": "python",
   "pygments_lexer": "ipython3",
   "version": "3.9.13"
  }
 },
 "nbformat": 4,
 "nbformat_minor": 2
}
