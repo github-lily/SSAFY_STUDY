{
 "cells": [
  {
   "cell_type": "markdown",
   "metadata": {},
   "source": [
    "### 문제 설명\n",
    "- 정수 X에 사용할 수 있는 연산은 3가지\n",
    "    - X가 3으로 나누어 떨어지면 3으로 나누기\n",
    "    - X가 2로 나누어 떨어지면 2로 나누기\n",
    "    - 1을 빼기\n",
    "- 위와 같은 연산 세 개를 적절히 사용해서 정수 N을 1로 만드는데 필요한 연산 횟수의 최솟값\n",
    "\n",
    "### 입력값\n",
    "- 1보다 크거나 같고 10^6보다 작거나 같은 정수 N\n",
    "\n",
    "### 출력값\n",
    "- 연산의 최소 횟수수"
   ]
  },
  {
   "cell_type": "code",
   "execution_count": 3,
   "metadata": {},
   "outputs": [
    {
     "name": "stdout",
     "output_type": "stream",
     "text": [
      "4\n"
     ]
    }
   ],
   "source": [
    "# 그리디\n",
    "# 반례 : 10\n",
    "# 10의 경우 2로 나누는 것보다 10->9->3->1이 더 빠름\n",
    "\n",
    "N = int(input())\n",
    "\n",
    "cnt = 0\n",
    "\n",
    "while N > 1 :\n",
    "    \n",
    "    if N % 3 == 0 :\n",
    "        N = N // 3\n",
    "        cnt += 1\n",
    "    \n",
    "    elif N % 2 == 0 :\n",
    "        N = N // 2\n",
    "        cnt += 1\n",
    "\n",
    "    \n",
    "    else :\n",
    "        N = N - 1\n",
    "        cnt += 1\n",
    "\n",
    "\n",
    "print(cnt)\n",
    "\n"
   ]
  },
  {
   "cell_type": "code",
   "execution_count": null,
   "metadata": {},
   "outputs": [
    {
     "ename": "",
     "evalue": "",
     "output_type": "error",
     "traceback": [
      "\u001b[1;31m현재 셀 또는 이전 셀에서 코드를 실행하는 동안 Kernel이 충돌했습니다. \n",
      "\u001b[1;31m셀의 코드를 검토하여 가능한 오류 원인을 식별하세요. \n",
      "\u001b[1;31m자세한 내용을 보려면 <a href='https://aka.ms/vscodeJupyterKernelCrash'>여기</a>를 클릭하세요. \n",
      "\u001b[1;31m자세한 내용은 Jupyter <a href='command:jupyter.viewOutput'>로그</a>를 참조하세요."
     ]
    }
   ],
   "source": [
    "\n",
    "N = int(input())\n",
    "\n",
    "dp = [0] * (N+1)\n",
    "\n",
    "three = N // 3\n",
    "two = N // 2\n",
    "one = N - 1\n",
    "cnt = -1\n",
    "min_cnt = 9999999999999999999999\n",
    "\n",
    "def dfs(n) :\n",
    "    global cnt, min_cnt\n",
    "    \n",
    "    cnt += 1\n",
    "    \n",
    "    if n == 1 :\n",
    "        if min_cnt > cnt :\n",
    "            min_cnt = cnt\n",
    "        return \n",
    "\n",
    "    if cnt >= min_cnt :\n",
    "        return\n",
    "\n",
    "    if n % 3 == 0 :\n",
    "        if dp[three] == 0 :\n",
    "            dp[three] = dp[n] + 1\n",
    "        else :\n",
    "            if dp[three] >= dp[n]+1 :\n",
    "                dp[three] = dp[n]+1\n",
    "        dfs(three)\n",
    "\n",
    "    if n % 2 == 0 :\n",
    "        if dp[two] == 0 :\n",
    "            dp[two] = dp[n] + 1\n",
    "        else :\n",
    "            if dp[two] >= dp[n]+1 :\n",
    "                dp[two] = dp[n]+1\n",
    "        dfs(three)\n",
    "\n",
    "    else :\n",
    "        if dp[one] == 0 :\n",
    "            dp[one] = dp[n] + 1\n",
    "        else :\n",
    "            if dp[one] >= dp[n]+1 :\n",
    "                dp[one] = dp[n]+1\n",
    "        dfs(one)\n",
    "\n",
    "dfs(N)\n",
    "\n",
    "print(dp[1])"
   ]
  },
  {
   "cell_type": "code",
   "execution_count": null,
   "metadata": {},
   "outputs": [],
   "source": []
  }
 ],
 "metadata": {
  "kernelspec": {
   "display_name": "Python 3",
   "language": "python",
   "name": "python3"
  },
  "language_info": {
   "codemirror_mode": {
    "name": "ipython",
    "version": 3
   },
   "file_extension": ".py",
   "mimetype": "text/x-python",
   "name": "python",
   "nbconvert_exporter": "python",
   "pygments_lexer": "ipython3",
   "version": "3.9.13"
  }
 },
 "nbformat": 4,
 "nbformat_minor": 2
}
