{
 "cells": [
  {
   "cell_type": "markdown",
   "metadata": {},
   "source": [
    "### 문제 설명\n",
    "- 정수 X에 사용할 수 있는 연산은 3가지\n",
    "    - X가 3으로 나누어 떨어지면 3으로 나누기\n",
    "    - X가 2로 나누어 떨어지면 2로 나누기\n",
    "    - 1을 빼기\n",
    "- 위와 같은 연산 세 개를 적절히 사용해서 정수 N을 1로 만드는데 필요한 연산 횟수의 최솟값\n",
    "\n",
    "### 입력값\n",
    "- 1보다 크거나 같고 10^6보다 작거나 같은 정수 N\n",
    "\n",
    "### 출력값\n",
    "- 연산의 최소 횟수수"
   ]
  },
  {
   "cell_type": "code",
   "execution_count": 3,
   "metadata": {},
   "outputs": [
    {
     "name": "stdout",
     "output_type": "stream",
     "text": [
      "4\n"
     ]
    }
   ],
   "source": [
    "# 그리디\n",
    "# 반례 : 10\n",
    "# 10의 경우 2로 나누는 것보다 10->9->3->1이 더 빠름\n",
    "\n",
    "N = int(input())\n",
    "\n",
    "cnt = 0\n",
    "\n",
    "while N > 1 :\n",
    "    \n",
    "    if N % 3 == 0 :\n",
    "        N = N // 3\n",
    "        cnt += 1\n",
    "    \n",
    "    elif N % 2 == 0 :\n",
    "        N = N // 2\n",
    "        cnt += 1\n",
    "\n",
    "    \n",
    "    else :\n",
    "        N = N - 1\n",
    "        cnt += 1\n",
    "\n",
    "\n",
    "print(cnt)\n",
    "\n"
   ]
  },
  {
   "cell_type": "code",
   "execution_count": 4,
   "metadata": {},
   "outputs": [
    {
     "ename": "TypeError",
     "evalue": "'function' object is not subscriptable",
     "output_type": "error",
     "traceback": [
      "\u001b[1;31m---------------------------------------------------------------------------\u001b[0m",
      "\u001b[1;31mTypeError\u001b[0m                                 Traceback (most recent call last)",
      "Cell \u001b[1;32mIn[4], line 35\u001b[0m\n\u001b[0;32m     32\u001b[0m             \u001b[38;5;28;01mif\u001b[39;00m dp[one] \u001b[38;5;241m>\u001b[39m\u001b[38;5;241m=\u001b[39m dp[n]\u001b[38;5;241m+\u001b[39m\u001b[38;5;241m1\u001b[39m :\n\u001b[0;32m     33\u001b[0m                 dp[one] \u001b[38;5;241m=\u001b[39m dp[n]\u001b[38;5;241m+\u001b[39m\u001b[38;5;241m1\u001b[39m\n\u001b[1;32m---> 35\u001b[0m \u001b[43mdp\u001b[49m\u001b[43m(\u001b[49m\u001b[43mN\u001b[49m\u001b[43m)\u001b[49m\n\u001b[0;32m     37\u001b[0m \u001b[38;5;28mprint\u001b[39m(dp[\u001b[38;5;241m1\u001b[39m])\n",
      "Cell \u001b[1;32mIn[4], line 14\u001b[0m, in \u001b[0;36mdp\u001b[1;34m(n)\u001b[0m\n\u001b[0;32m     11\u001b[0m     \u001b[38;5;28;01mreturn\u001b[39;00m \n\u001b[0;32m     13\u001b[0m \u001b[38;5;28;01mif\u001b[39;00m n \u001b[38;5;241m%\u001b[39m \u001b[38;5;241m3\u001b[39m \u001b[38;5;241m==\u001b[39m \u001b[38;5;241m0\u001b[39m :\n\u001b[1;32m---> 14\u001b[0m     \u001b[38;5;28;01mif\u001b[39;00m \u001b[43mdp\u001b[49m\u001b[43m[\u001b[49m\u001b[43mthree\u001b[49m\u001b[43m]\u001b[49m \u001b[38;5;241m==\u001b[39m \u001b[38;5;241m0\u001b[39m :\n\u001b[0;32m     15\u001b[0m         dp[three] \u001b[38;5;241m=\u001b[39m dp[n] \u001b[38;5;241m+\u001b[39m \u001b[38;5;241m1\u001b[39m\n\u001b[0;32m     16\u001b[0m     \u001b[38;5;28;01melse\u001b[39;00m :\n",
      "\u001b[1;31mTypeError\u001b[0m: 'function' object is not subscriptable"
     ]
    }
   ],
   "source": [
    "N = int(input())\n",
    "\n",
    "dp = [0] * (N+1)\n",
    "\n",
    "three = N // 3\n",
    "two = N // 2\n",
    "one = N - 1\n",
    "\n",
    "def dp(n) :\n",
    "    if n == 1 :\n",
    "        return \n",
    "        \n",
    "    if n % 3 == 0 :\n",
    "        if dp[three] == 0 :\n",
    "            dp[three] = dp[n] + 1\n",
    "        else :\n",
    "            if dp[three] >= dp[n]+1 :\n",
    "                dp[three] = dp[n]+1\n",
    "        dp(three)\n",
    "\n",
    "    if n % 2 == 0 :\n",
    "        if dp[two] == 0 :\n",
    "            dp[two] = dp[n] + 1\n",
    "        else :\n",
    "            if dp[two] >= dp[n]+1 :\n",
    "                dp[two] = dp[n]+1\n",
    "\n",
    "    else :\n",
    "        if dp[one] == 0 :\n",
    "            dp[one] = dp[n] + 1\n",
    "        else :\n",
    "            if dp[one] >= dp[n]+1 :\n",
    "                dp[one] = dp[n]+1\n",
    "\n",
    "dp(N)\n",
    "\n",
    "print(dp[1])"
   ]
  }
 ],
 "metadata": {
  "kernelspec": {
   "display_name": "Python 3",
   "language": "python",
   "name": "python3"
  },
  "language_info": {
   "codemirror_mode": {
    "name": "ipython",
    "version": 3
   },
   "file_extension": ".py",
   "mimetype": "text/x-python",
   "name": "python",
   "nbconvert_exporter": "python",
   "pygments_lexer": "ipython3",
   "version": "3.9.13"
  }
 },
 "nbformat": 4,
 "nbformat_minor": 2
}
