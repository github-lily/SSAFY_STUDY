{
 "cells": [
  {
   "cell_type": "markdown",
   "metadata": {},
   "source": [
    "- 같은 수 여러번 골라도 됨\n",
    "- 고른 수열은 비내림차순"
   ]
  },
  {
   "cell_type": "code",
   "execution_count": 7,
   "metadata": {},
   "outputs": [
    {
     "name": "stdout",
     "output_type": "stream",
     "text": [
      "1 7\n",
      "1 8\n",
      "1 9\n",
      "7 7\n",
      "7 8\n",
      "7 9\n",
      "8 7\n",
      "8 8\n",
      "8 9\n",
      "9 7\n",
      "9 8\n",
      "9 9\n"
     ]
    }
   ],
   "source": [
    "# 다시 풀기\n",
    "\n",
    "def dfs(n,s,tlst) :\n",
    "    if n == M :\n",
    "        lst.append(tlst)\n",
    "        return\n",
    "    \n",
    "    for i in range(s,N) :\n",
    "        dfs(n+1,s,tlst+[nlst[i]])    \n",
    "\n",
    "N,M = map(int,input().split())\n",
    "nlst = sorted(list(map(int,input().split())))\n",
    "lst = []\n",
    "dfs(0,0,[])\n",
    "\n",
    "for ans in lst :\n",
    "    print(*ans)"
   ]
  }
 ],
 "metadata": {
  "kernelspec": {
   "display_name": "Python 3",
   "language": "python",
   "name": "python3"
  },
  "language_info": {
   "codemirror_mode": {
    "name": "ipython",
    "version": 3
   },
   "file_extension": ".py",
   "mimetype": "text/x-python",
   "name": "python",
   "nbconvert_exporter": "python",
   "pygments_lexer": "ipython3",
   "version": "3.9.13"
  }
 },
 "nbformat": 4,
 "nbformat_minor": 2
}
