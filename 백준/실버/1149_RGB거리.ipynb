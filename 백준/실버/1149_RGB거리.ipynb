{
 "cells": [
  {
   "cell_type": "code",
   "execution_count": null,
   "metadata": {},
   "outputs": [],
   "source": [
    "N = int(input())\n",
    "arr = [list(map(int,input().split())) for _ in range(N)]\n",
    "\n",
    "dp = [[0]*3 for _ in range(N)]\n",
    "\n",
    "\n",
    "dp[0] = arr[0]\n",
    "\n",
    "for i in range(1, N) :\n",
    "    dp[i][0] = min(dp[i-1][1], dp[i-1][2]) + arr[i][0]\n",
    "    dp[i][1] = min(dp[i-1][0], dp[i-1][2]) + arr[i][1]\n",
    "    dp[i][2] = min(dp[i-1][0], dp[i-1][1]) + arr[i][2]\n",
    "\n",
    "ans = min(dp[N-1])\n",
    "print(ans)"
   ]
  }
 ],
 "metadata": {
  "language_info": {
   "name": "python"
  }
 },
 "nbformat": 4,
 "nbformat_minor": 2
}
