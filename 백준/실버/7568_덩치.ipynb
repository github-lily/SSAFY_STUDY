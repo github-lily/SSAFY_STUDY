{
 "cells": [
  {
   "cell_type": "markdown",
   "metadata": {},
   "source": [
    "### 문제 설명\n",
    "- 몸무게, 키 => (x,y)로 표현\n",
    "- A보다 B의 키와 몸무게가 모두 클 때 B의 덩치가 더 크다고 한다\n",
    "- 둘 중 하나만 더 큰 경우는 크기를 정할 수 없는 경우이다.\n",
    "- 등수는 자신보다 더 큰 덩치의 사람 수로 정한다\n",
    "- 즉 자신보다 큰 덩치의 사람이 k명이라면 덩치 등수는 k+1등이다.\n",
    "- 동점도 있다. (1등 1명, 2등 3명, 5등 1명으로 나올 수 있다)\n",
    "\n",
    "### 입력값\n",
    "1. 전체 사람의 수\n",
    "2. 몸무게와 키 (x,y)\n",
    "\n",
    "### 출력값\n",
    "- 입력에 나열된 사람의 덩치 등수를 구해서 그 순서대로 첫 줄에 출력"
   ]
  },
  {
   "cell_type": "code",
   "execution_count": null,
   "metadata": {},
   "outputs": [],
   "source": [
    "\n",
    "def bfs(k) :  \n",
    "    score = 1       # 등수는 본인보다 큰 사람+1이므로 1로시작\n",
    "    v = [0]*N\n",
    "\n",
    "    v[k] = 1\n",
    "\n",
    "    # 한명씩 비교해보기\n",
    "    for w in range(N) :\n",
    "        if v[w] == 0 :\n",
    "            if info[k][0] < info[w][0] and info[k][1] < info[w][1] :\n",
    "                score += 1\n",
    "                v[w] = 1\n",
    "    \n",
    "    return score\n",
    "\n",
    "N = int(input())\n",
    "ranks = []      # 등수 리스트\n",
    "\n",
    "# 몸무게와 키 정보를 담은 리스트\n",
    "info = []\n",
    "for _ in range(N) :\n",
    "    w,h = map(int,input().split())\n",
    "    info.append((w,h))\n",
    "\n",
    "for k in range(N) :\n",
    "    rank = bfs(k)\n",
    "    ranks.append(rank)\n",
    "\n",
    "\n",
    "print(*ranks)"
   ]
  }
 ],
 "metadata": {
  "language_info": {
   "name": "python"
  }
 },
 "nbformat": 4,
 "nbformat_minor": 2
}
