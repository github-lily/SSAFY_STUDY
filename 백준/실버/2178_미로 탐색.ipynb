{
 "cells": [
  {
   "cell_type": "markdown",
   "metadata": {},
   "source": [
    "- NxM배열의 미로\n",
    "- 1,1에서 출발하여 N,M의 위치로 이동할 때 지나야 하는 최소의 칸수\n",
    "- 0,0을 1,1로 표현하고 있으므로 인덱스 주의가 필요함!\n"
   ]
  },
  {
   "cell_type": "code",
   "execution_count": null,
   "metadata": {},
   "outputs": [],
   "source": [
    "\n",
    "def bfs(sr,sc,er,ec) :\n",
    "    q = []\n",
    "    v = [[0] * (M) for _ in range(N)]\n",
    "\n",
    "    q.append((sr,sc))\n",
    "    v[sr][sc] = 1\n",
    "\n",
    "\n",
    "    dr = [1,0,-1,0]\n",
    "    dc = [0,1,0,-1]\n",
    "\n",
    "    while q :\n",
    "        r,c = q.pop(0)\n",
    "        if r == er and c == ec :\n",
    "            return v[er][ec]\n",
    "        \n",
    "        for i in range(4) :\n",
    "            nr,nc = r+dr[i], c+dc[i]\n",
    "            if 0<=nr<N and 0<= nc < M and v[nr][nc] == 0 and arr[nr][nc] == 1 :\n",
    "                v[nr][nc] = v[r][c]+1\n",
    "                q.append((nr,nc))\n",
    "\n",
    "            \n",
    "\n",
    "N,M = map(int, input().split())\n",
    "arr = [list(map(int,input())) for _ in range(N)]\n",
    "ans = bfs(0,0,N-1,M-1)\n",
    "print(ans)"
   ]
  }
 ],
 "metadata": {
  "language_info": {
   "name": "python"
  }
 },
 "nbformat": 4,
 "nbformat_minor": 2
}
