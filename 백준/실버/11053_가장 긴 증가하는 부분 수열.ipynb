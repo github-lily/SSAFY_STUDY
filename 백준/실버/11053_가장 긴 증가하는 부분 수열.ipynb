{
 "cells": [
  {
   "cell_type": "code",
   "execution_count": null,
   "metadata": {},
   "outputs": [
    {
     "name": "stdout",
     "output_type": "stream",
     "text": [
      "4\n"
     ]
    }
   ],
   "source": [
    "# 109544KB, 108ms(PyPy3)\n",
    "# 32412KB, 172ms(Python3)\n",
    "\n",
    "N = int(input())\n",
    "lst = list(map(int,input().split()))\n",
    "# 앞의 수 중 몇번째로 큰 숫자인지 저장하는 배열\n",
    "order = [1]*N\n",
    "\n",
    "for k in range(1,N) :\n",
    "    for i in range(k) :\n",
    "        if lst[k] > lst[i] :\n",
    "            if order[k] < order[i]+1 :\n",
    "                order[k] = order[i]+1\n",
    "        elif lst[k] == lst[i] :\n",
    "            order[k] = order[i]\n",
    "\n",
    "ans = max(order)\n",
    "print(ans)\n"
   ]
  },
  {
   "cell_type": "code",
   "execution_count": null,
   "metadata": {},
   "outputs": [],
   "source": [
    "# 다른사람코드\n",
    "# 31120KB, 36ms(Python)\n",
    "n = int(input())\n",
    "l = list(map(int, input().split()))\n",
    "\n",
    "def bs(L, a):\n",
    "    l, r = 0, len(L) - 1\n",
    "    while l <= r:\n",
    "        m = (l + r) // 2\n",
    "        if L[m] < a:\n",
    "            l = m + 1\n",
    "        else:\n",
    "            r = m - 1\n",
    "    return l\n",
    "\n",
    "ans = []\n",
    "ans.append(l[0])\n",
    "for i in range(1, n):\n",
    "    if l[i] > ans[-1]:\n",
    "        ans.append(l[i])\n",
    "    else:\n",
    "        ans[bs(ans, l[i])] = l[i]\n",
    "\n",
    "print(len(ans))"
   ]
  },
  {
   "cell_type": "code",
   "execution_count": null,
   "metadata": {},
   "outputs": [],
   "source": [
    "# 위와 비슷한 코드\n",
    "# 31120KB, 36ms(Python)\n",
    "\n",
    "def solution(ar):\n",
    "    current = [0]\n",
    "\n",
    "    for case in ar:\n",
    "        if current[-1] < case:\n",
    "            current.append(case)\n",
    "        else:\n",
    "            left = 0\n",
    "            right = len(current)\n",
    "\n",
    "            while left < right:\n",
    "                mid = (left + right) // 2\n",
    "                if current[mid] < case:\n",
    "                    left = mid + 1\n",
    "                else:\n",
    "                    right = mid\n",
    "            current[right] = case\n",
    "    \n",
    "    return len(current) - 1\n",
    "\n",
    "A = int(input())\n",
    "cases = map(int, input().split())\n",
    "\n",
    "print(solution(cases))"
   ]
  },
  {
   "cell_type": "code",
   "execution_count": null,
   "metadata": {},
   "outputs": [],
   "source": [
    "# 스택사용(다른사람풀이)\n",
    "# 30616KB, 36ms(Python)\n",
    "\n",
    "def sol():\n",
    "    N = int(input())\n",
    "    nums = [*map(int,input().split())]\n",
    "    stack = [nums[0]]\n",
    "\n",
    "    for i in nums[1:]:\n",
    "        if stack[-1] < i:\n",
    "            stack.append(i)\n",
    "        else:\n",
    "            for j,v in enumerate(stack):\n",
    "                if i <= v:\n",
    "                    stack[j] = i\n",
    "                    break\n",
    "    return len(stack)\n",
    "\n",
    "print(sol())"
   ]
  },
  {
   "cell_type": "code",
   "execution_count": null,
   "metadata": {},
   "outputs": [],
   "source": [
    "# 증가값 최대 개수\n",
    "# 교수님이 알려주신 것\n",
    "\n",
    "arr = [4, 5, 6, 1, 2, 3, 1, 2, 5, 6]\n",
    "N = len(arr)\n",
    "ans = 0   # 길이 K\n",
    "cnt = 1   # 초기값 주의\n",
    "\n",
    "for i in range(1, N):\n",
    "    if arr[i - 1] < arr[i]:\n",
    "        cnt += 1\n",
    "        if ans < cnt:\n",
    "            ans = cnt\n",
    "    else:\n",
    "        cnt = 1  # <---- 초기값 주의\n",
    "\n",
    "print(ans)\n"
   ]
  },
  {
   "cell_type": "code",
   "execution_count": null,
   "metadata": {},
   "outputs": [
    {
     "name": "stdout",
     "output_type": "stream",
     "text": [
      "4\n"
     ]
    }
   ],
   "source": [
    "# 교수님이 알려주신거 기반\n",
    "# 틀렸습니다~!\n",
    "# 증가하는 부분 수열 중 가장 긴 것을 찾아야하기때문에 틀림!\n",
    "# 이경우엔 첫번째 값이 무조건 들어감\n",
    "\n",
    "\n",
    "N = int(input())\n",
    "lst = list(map(int,input().split()))\n",
    "ans = 0\n",
    "cnt = 1\n",
    "\n",
    "for i in range(1,N) :\n",
    "    if lst[i-1] < lst[i] :\n",
    "        cnt += 1\n",
    "        if ans < cnt :\n",
    "            ans = cnt\n",
    "    else :\n",
    "        cnt = 1\n",
    "print(ans)"
   ]
  }
 ],
 "metadata": {
  "kernelspec": {
   "display_name": "Python 3",
   "language": "python",
   "name": "python3"
  },
  "language_info": {
   "codemirror_mode": {
    "name": "ipython",
    "version": 3
   },
   "file_extension": ".py",
   "mimetype": "text/x-python",
   "name": "python",
   "nbconvert_exporter": "python",
   "pygments_lexer": "ipython3",
   "version": "3.9.13"
  }
 },
 "nbformat": 4,
 "nbformat_minor": 2
}
