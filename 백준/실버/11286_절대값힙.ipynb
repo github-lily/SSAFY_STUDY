{
 "cells": [
  {
   "cell_type": "code",
   "execution_count": null,
   "metadata": {},
   "outputs": [],
   "source": [
    "# 116800KB, 848ms(PyPy3)\n",
    "# 우선순위 큐에 절대값과 원래 값을 함께 넣는 방식\n",
    "import heapq\n",
    "\n",
    "N = int(input())\n",
    "q = []\n",
    "for _ in range(N) :\n",
    "    x = int(input())\n",
    "\n",
    "    if x == 0 :\n",
    "        if q :\n",
    "            print(heapq.heappop(q)[1])\n",
    "\n",
    "        else :\n",
    "            print(0)\n",
    "    else :\n",
    "        heapq.heappush(q,(abs(x),x))\n",
    "    \n"
   ]
  }
 ],
 "metadata": {
  "language_info": {
   "name": "python"
  }
 },
 "nbformat": 4,
 "nbformat_minor": 2
}
