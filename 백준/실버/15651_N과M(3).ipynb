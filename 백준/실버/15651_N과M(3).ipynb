{
 "cells": [
  {
   "cell_type": "code",
   "execution_count": 1,
   "metadata": {},
   "outputs": [
    {
     "name": "stdout",
     "output_type": "stream",
     "text": [
      "1 1\n",
      "1 2\n",
      "1 3\n",
      "1 4\n",
      "2 1\n",
      "2 2\n",
      "2 3\n",
      "2 4\n",
      "3 1\n",
      "3 2\n",
      "3 3\n",
      "3 4\n",
      "4 1\n",
      "4 2\n",
      "4 3\n",
      "4 4\n"
     ]
    }
   ],
   "source": [
    "# 1부터 N까지 자연수 중 M 개를 고른 수열(중복 가능)\n",
    "\n",
    "def bfs(n,num) :\n",
    "    if n == M+1 :       # 1부터\n",
    "        print(*num)\n",
    "        return\n",
    "\n",
    "    for i in range(1, N+1) :        #1부터\n",
    "        visit[i] = 1\n",
    "        bfs(n+1,num+[i])\n",
    "        visit[i] = 0\n",
    "\n",
    "\n",
    "N, M = map(int,input().split())\n",
    "visit = [0]*(N+1)\n",
    "bfs(1,[])"
   ]
  }
 ],
 "metadata": {
  "kernelspec": {
   "display_name": "Python 3",
   "language": "python",
   "name": "python3"
  },
  "language_info": {
   "codemirror_mode": {
    "name": "ipython",
    "version": 3
   },
   "file_extension": ".py",
   "mimetype": "text/x-python",
   "name": "python",
   "nbconvert_exporter": "python",
   "pygments_lexer": "ipython3",
   "version": "3.9.13"
  }
 },
 "nbformat": 4,
 "nbformat_minor": 2
}
