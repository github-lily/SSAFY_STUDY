{
 "cells": [
  {
   "cell_type": "markdown",
   "metadata": {},
   "source": [
    "### 문제 설명\n",
    "- N+1일째 퇴사 예정, 그 전까지 최대한 많은 이익을 얻으려고 함\n",
    "- 상담에 소요되는 시간 T, 금액 P\n",
    "\n",
    "### 입력값\n",
    "1. N\n",
    "2. N개 줄에 걸쳐 T P가 1일부터 순서대로 출력\n",
    "\n",
    "### 출력값\n",
    "- 최대 이익"
   ]
  },
  {
   "cell_type": "code",
   "execution_count": null,
   "metadata": {},
   "outputs": [],
   "source": [
    "N = int(input())    # 퇴사까지 남은 기간\n",
    "\n",
    "# 시간과 비용 저장\n",
    "info = []\n",
    "for _ in range(N) :\n",
    "    t,p = map(int,input().split())\n",
    "    info.append((t,p))\n",
    "\n",
    "# 수익 저장\n",
    "earnings\n",
    "\n"
   ]
  }
 ],
 "metadata": {
  "language_info": {
   "name": "python"
  }
 },
 "nbformat": 4,
 "nbformat_minor": 2
}
