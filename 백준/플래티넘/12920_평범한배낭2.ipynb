{
 "cells": [
  {
   "cell_type": "markdown",
   "metadata": {},
   "source": [
    "### 문제 설명\n",
    "- 들 수 있는 가방 무게의 제한 속에서, 최대 만족도를 출력하라\n",
    "- 한 물건을 두 개 이상 챙기는 것도 가능하다\n",
    "- 골드 평범한배낭 문제 2탄!(물건 두개 챙기는 것도 가능하다는 차이점)\n",
    "\n",
    "### 입력값\n",
    "1. N,M (1 ≤ N ≤ 100, 1 ≤ M ≤ 10,000) \n",
    "    - N : 물건 종류의 수 / M : 들 수 있는 가방의 최대 무개\n",
    "2. N개의 줄에 걸쳐 V,C,K (1 ≤ V ≤ M, 1 ≤ C, K ≤ 10,000, 1 ≤ V * K ≤ 10,000) \n",
    "    - V는 물건의 무게, C는 민호의 만족도, K는 물건의 개수\n",
    "\n",
    "### 출력값\n",
    "- 민호가 느낄 수 있는 최대 만족도\n",
    "\n",
    "### 물건을 넣고 신경써야 할 것\n",
    "1. 물건의 개수\n",
    "2. 남은 공간(무게)\n",
    "    - 남은 무게에서 고려해야 할 것\n",
    "    a. 한 종류 : 무게가 맞는 것 1개\n",
    "    b. 두 종류 : 작은 것 * k개(k>0)\n",
    "    c. 여러 종류 : 작은 것 * k개 + 작은 것 * k개 + ... + 작은 것 * k개(즉 여러종류, b와 연관됨)\n"
   ]
  },
  {
   "cell_type": "code",
   "execution_count": null,
   "metadata": {},
   "outputs": [],
   "source": [
    "N,M = map(int,input().split())\n",
    "\n",
    "items = []\n",
    "for _ in range(N) :\n",
    "    V,C,K = map(int,input().split())\n",
    "    items.append([V,C,K])\n",
    "\n",
    "# 무게 기준으로 정렬\n",
    "items.sort(key=lambda x : x[0])\n",
    "\n",
    "# 1차원 배열, 최대값으로 계속 갱신하며 나갈 예정\n",
    "dp = [0]*(M+1)\n",
    "\n",
    "for i in range(1,N+1) :             # 물건\n",
    "    v,c,k = items[i-1]\n",
    "    for j in range(K, v-1, -1) :    # 무게\n",
    "        # max 사용 못함 <= k를 조절할 수 없기 때문\n",
    "        #  \n",
    "        dp[j] = max(dp[j],)\n",
    "\n",
    "\n",
    "def dfs(w,k) :      # w : 남은 무게, k : 남은 개수수\n",
    "\n",
    "    # 종료조건 : 남은 무게가 없으면 종료료\n",
    "    if w <0 :\n",
    "        return\n",
    "    \n"
   ]
  }
 ],
 "metadata": {
  "language_info": {
   "name": "python"
  }
 },
 "nbformat": 4,
 "nbformat_minor": 2
}
