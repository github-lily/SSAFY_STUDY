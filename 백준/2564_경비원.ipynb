{
 "cells": [
  {
   "cell_type": "markdown",
   "metadata": {},
   "source": [
    "- 동근이와 각 상점 사이의 최단거리의 합\n",
    "- 방향 : 북(1), 남(2), 서(3), 동(4)\n",
    "- 거리 : 남,북이라면 왼쪽으로부터의 거리 / 동,서 위쪽으로부터의 거리"
   ]
  },
  {
   "cell_type": "code",
   "execution_count": null,
   "metadata": {},
   "outputs": [],
   "source": [
    "# 1차 시도..\n",
    "# 배열에 값을 저장한 뒤 행과 열 값을 이용해 구하는 방법\n",
    "# i가 숫자라서.. 어떻게 불러야할지 모르겠음. 스트링이어도 마찬가지\n",
    "# 이방법 아니면 if 문을 엄청많이 해야하는데.. 답이 아닌것 같음음\n",
    "\n",
    "N,M = map(int,input().split())\n",
    "store_num = int(input())\n",
    "arr = [[0]* (M+1) for _ in range(N+1)]  # 1번부터니까\n",
    "for i in range(1,store_num+2) :   #1번부터 동근이까지(4)\n",
    "    direct,posi = map(int,input().split())\n",
    "    if direct == 1 :\n",
    "        arr[0][posi] = i\n",
    "    elif direct == 2 :\n",
    "        arr[N][posi] = i\n",
    "    elif direct == 3 :\n",
    "        arr[posi][0] = i\n",
    "    elif direct == 4 :\n",
    "        arr[posi][M]\n",
    "        "
   ]
  },
  {
   "cell_type": "code",
   "execution_count": null,
   "metadata": {},
   "outputs": [],
   "source": [
    "# 무한..if...\n",
    "# 함수도 어디부터 어디까지로 만들어야할지 모르겠음\n",
    "\n",
    "def two() :\n",
    "    # 시계방향, 반시계방향\n",
    "    inorder = num[3][1] + num[i][1] + N\n",
    "    reverse = 2*M - (num[3][1] + num[i][1]) + N\n",
    "    total += min(inorder,reverse)\n",
    "\n",
    "\n",
    "N,M = map(int,input().split())\n",
    "store_num = int(input())\n",
    "num = [list(map(int,input().split())) for _ in range(store_num+1)]\n",
    "\n",
    "total = 0\n",
    "for i in range(store_num+1) : \n",
    "    # 동일 선상\n",
    "    if num[3][0] == num[i][0] :\n",
    "        total += abs(num[3][1]-num[i][1])\n",
    "    elif num[3][0] == 1 :\n",
    "        if num[i][0] == 2 :\n",
    "            # 시계방향, 반시계방향\n",
    "            inorder = num[3][1] + num[i][1] + N\n",
    "            reverse = 2*M - (num[3][1] + num[i][1]) + N\n",
    "            total += min(inorder,reverse)\n",
    "\n",
    "        if num[i][0] == 2 :\n",
    "            inorder = num[3][1] + num[i][1] + Ns\n",
    "            reverse = 2*M - (num[3][1] + num[i][1]) + N\n",
    "            total += min(inorder,reverse)\n"
   ]
  }
 ],
 "metadata": {
  "language_info": {
   "name": "python"
  }
 },
 "nbformat": 4,
 "nbformat_minor": 2
}
