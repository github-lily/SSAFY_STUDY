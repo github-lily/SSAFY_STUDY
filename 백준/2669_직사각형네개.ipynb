{
 "cells": [
  {
   "cell_type": "markdown",
   "metadata": {},
   "source": [
    "# 2669 직사각형 네개의 합집합의 면적 구하기\n",
    "- 4개의 직사각형(겹치거나 포함할 수도 있음)\n",
    "- 직사각형들이 차지하는 면적을 구하시오\n",
    "- 모든 좌표는 1이상 100이하\n",
    "- x,y 좌표(c,r)인거 주의하기!\n",
    "- 역순으로 높아지는거 주의하기(값 바꿔받을 필요 없음)\n",
    "- 칸이 아닌 좌표임을 주의!!"
   ]
  },
  {
   "cell_type": "code",
   "execution_count": null,
   "metadata": {},
   "outputs": [],
   "source": [
    "# 1차 시도 : 실패\n",
    "# 좌상단에서 우하단으로 가는 표가 아니라\n",
    "# 좌하단에서 시작해 우상단으로 가는 xy 그래프임을 놓침\n",
    "'''\n",
    "1. 빈 배열을 만든다\n",
    "2. 값을 입력받아 해당되는 영역에 1을 칠한다\n",
    "3. 구간을 순회하면서 0이 아닌 칸의 개수를 카운트한다\n",
    "-> 시간 괜찮을까..?\n",
    "\n",
    "변경!\n",
    "1을 칠하고 cnt +=1\n",
    "이미 1이 칠해져있으면 cnt 안더함\n",
    "'''\n",
    "\n",
    "def mark(arr,rs,cs,re,ce) :\n",
    "    global cnt\n",
    "    for r in range(rs,re+1) :\n",
    "        for c in range(cs,ce+1) :\n",
    "            if arr[r][c] == 0 :\n",
    "                arr[r][c] = 1\n",
    "                cnt +=1\n",
    "\n",
    "    return cnt\n",
    "\n",
    "\n",
    "arr = [[0] * 100 for _ in range(100)]\n",
    "cnt = 0\n",
    "for _ in range(4) :\n",
    "    # 좌하단, 우상단의 좌표 순서로 입력받음(c1,r1,c2,r2)\n",
    "    # -> 좌상단 우하단으로 변경\n",
    "    c1,r2,c2,r1 = map(int,input().split())\n",
    "\n",
    "    mark(arr,r1,c1,r2,c2)\n",
    "\n",
    "print(cnt)"
   ]
  },
  {
   "cell_type": "code",
   "execution_count": null,
   "metadata": {},
   "outputs": [],
   "source": [
    "# 2차 시도 : 성공\n",
    "\n",
    "def mark(arr,rs,cs,re,ce) :\n",
    "    global cnt\n",
    "    for r in range(rs,re+1) :\n",
    "        for c in range(cs,ce+1) :\n",
    "            if arr[r][c] == 0 :\n",
    "                arr[r][c] = 1\n",
    "                cnt +=1\n",
    "\n",
    "    return cnt\n",
    "\n",
    "\n",
    "arr = [[0] * 100 for _ in range(100)]\n",
    "cnt = 0\n",
    "for _ in range(4) :\n",
    "    # x,y 좌표 순서로 들어오니 변경해주기\n",
    "    # 칸의 인덱스가 아닌 꼭지점의 좌표니까 -1해주기\n",
    "    c1,r1,c2,r2 = map(int,input().split())\n",
    "    c2,r2 = c2-1,r2-1\n",
    "\n",
    "    mark(arr,r1,c1,r2,c2)\n",
    "\n",
    "print(cnt)\n",
    "\n"
   ]
  }
 ],
 "metadata": {
  "language_info": {
   "name": "python"
  }
 },
 "nbformat": 4,
 "nbformat_minor": 2
}
