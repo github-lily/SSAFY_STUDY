{
 "cells": [
  {
   "cell_type": "markdown",
   "metadata": {},
   "source": [
    "- 1번부터 N번까지의 전구와 스위치\n",
    "- i번 스위치는 i번의 배수 번호를 가지는 전구의 모든 상태를 반전시킨다\n",
    "- 모든 전구를 끄기 위해서 스위치를 몇번 눌러야 하는지"
   ]
  },
  {
   "cell_type": "code",
   "execution_count": null,
   "metadata": {},
   "outputs": [],
   "source": [
    "arr = [0]+list(input())   #인덱스 맞추기\n",
    "N = len(arr)\n",
    "cnt = 0\n",
    "\n",
    "for i in range(1, N) :\n",
    "    if arr[i] =='Y' :\n",
    "        cnt += 1\n",
    "        for j in range(1,N) :\n",
    "            if i*j >= N :\n",
    "                break\n",
    "            if arr[i*j] == 'Y' :\n",
    "                arr[i*j] = 'N'\n",
    "            else :\n",
    "                arr[i*j] = 'Y'\n",
    "\n",
    "print(cnt)"
   ]
  }
 ],
 "metadata": {
  "language_info": {
   "name": "python"
  }
 },
 "nbformat": 4,
 "nbformat_minor": 2
}
