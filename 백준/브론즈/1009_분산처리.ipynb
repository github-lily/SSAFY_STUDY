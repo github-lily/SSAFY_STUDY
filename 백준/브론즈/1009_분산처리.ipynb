{
 "cells": [
  {
   "cell_type": "markdown",
   "metadata": {},
   "source": [
    "### 문제설명\n",
    "재용이는 최신 컴퓨터 10대를 가지고 있다. 어느 날 재용이는 많은 데이터를 처리해야 될 일이 생겨서 각 컴퓨터에 1번부터 10번까지의 번호를 부여하고, 10대의 컴퓨터가 다음과 같은 방법으로 데이터들을 처리하기로 하였다.\n",
    "\n",
    "1번 데이터는 1번 컴퓨터, 2번 데이터는 2번 컴퓨터, 3번 데이터는 3번 컴퓨터, ... ,\n",
    "\n",
    "10번 데이터는 10번 컴퓨터, 11번 데이터는 1번 컴퓨터, 12번 데이터는 2번 컴퓨터, ...\n",
    "\n",
    "총 데이터의 개수는 항상 ab개의 형태로 주어진다. 재용이는 문득 마지막 데이터가 처리될 컴퓨터의 번호가 궁금해졌다. 이를 수행해주는 프로그램을 작성하라.\n",
    "\n",
    "\n",
    "\n",
    "#### => 즉 a**b를 10으로 나눈  나머지를 구하는 문제\n",
    "\n",
    "\n",
    "\n",
    "### 입력\n",
    "1. 테스트케이스의 개수 T\n",
    "\n",
    "2. a,b\n",
    "\n",
    "\n",
    "\n",
    "### 출력\n",
    "데이터가 마지막으로 처리되는 컴퓨터의 번호 "
   ]
  },
  {
   "cell_type": "code",
   "execution_count": null,
   "metadata": {},
   "outputs": [],
   "source": [
    "import sys\n",
    "\n",
    "N = int(sys.stdin.readline().strip())\n",
    " \n",
    "def pow(a,b) :\n",
    "  if b <= 1 :\n",
    "    return a\n",
    "  n = pow(a,b//2)\n",
    "\n",
    "  # 짝수\n",
    "  if b % 2 == 0 :\n",
    "    return n * n\n",
    "  else :\n",
    "    return n*n*a\n",
    "\n",
    "\n",
    "for _ in range(N) :\n",
    "  x,y = map(int,sys.stdin.readline().strip().split())\n",
    "\n",
    "  \n",
    "  ans = pow(x,y)\n",
    "  print(ans%10)"
   ]
  },
  {
   "cell_type": "code",
   "execution_count": null,
   "metadata": {},
   "outputs": [],
   "source": [
    "# 108384KB, 88ms\n",
    "\n",
    "\n",
    "import sys\n",
    "\n",
    "N = int(sys.stdin.readline().strip())\n",
    "\n",
    "\n",
    "for _ in range(N) :\n",
    "  x,y = map(int,sys.stdin.readline().strip().split())\n",
    "\n",
    "  x = x%10\n",
    "  if x == 0 :\n",
    "    print(10)\n",
    "    continue\n",
    "\n",
    "\n",
    "  cycle = []\n",
    "  temp = x\n",
    "  while temp not in cycle :\n",
    "    cycle.append(temp)\n",
    "    temp = (temp * x) % 10\n",
    "\n",
    "  \n",
    "  idx = (y-1) % len(cycle)\n",
    "  print(cycle[idx])"
   ]
  }
 ],
 "metadata": {
  "kernelspec": {
   "display_name": "Python 3",
   "language": "python",
   "name": "python3"
  },
  "language_info": {
   "name": "python",
   "version": "3.9.13"
  }
 },
 "nbformat": 4,
 "nbformat_minor": 2
}
