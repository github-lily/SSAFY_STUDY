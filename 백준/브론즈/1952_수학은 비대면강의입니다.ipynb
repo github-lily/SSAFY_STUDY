{
 "cells": [
  {
   "cell_type": "code",
   "execution_count": null,
   "metadata": {},
   "outputs": [],
   "source": [
    "# 109544KB, 100ms\n",
    "# bfs일줄 알았는데 그냥 해도 되네..?\n",
    "\n",
    "def find() :\n",
    "    for x in range(-999,1000) :\n",
    "        for y in range(-999,1000) : \n",
    "            if a*x + b*y == c and d*x + e*y ==f :\n",
    "                return x,y\n",
    "\n",
    "a,b,c,d,e,f = map(int,input().split())\n",
    "\n",
    "\n",
    "x,y = find()\n",
    "\n",
    "print(x,y)"
   ]
  },
  {
   "cell_type": "code",
   "execution_count": null,
   "metadata": {},
   "outputs": [],
   "source": [
    "# 108080KB, 84ms\n",
    "# 제일빠른방법 띠용\n",
    "a, b, c, d, e, f=map(int, input().split())\n",
    "print((c*e-b*f)//(a*e-b*d), (a*f-d*c)//(a*e-b*d))"
   ]
  }
 ],
 "metadata": {
  "language_info": {
   "name": "python"
  }
 },
 "nbformat": 4,
 "nbformat_minor": 2
}
