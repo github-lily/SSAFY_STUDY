{
 "cells": [
  {
   "cell_type": "code",
   "execution_count": null,
   "metadata": {},
   "outputs": [
    {
     "name": "stdout",
     "output_type": "stream",
     "text": [
      "22 55\n"
     ]
    }
   ],
   "source": [
    "# 108384KB, 92ms(PyPy3)\n",
    "\n",
    "H,M = map(int,input().split())\n",
    "h,m = 0,0\n",
    "\n",
    "# 시간이 1시 이후일 때\n",
    "if H > 0 :\n",
    "    if M >= 45 :     # 분이 45분보다 크거나 같다면\n",
    "        h = H\n",
    "        m = M-45\n",
    "    else :          # 분이 45분보다 작다면\n",
    "        h = H-1\n",
    "        m = M+15\n",
    "else :      # 시간이 자정(0)일 때\n",
    "    if M >= 45 :    # 분이 45분보다 크거나 같다면\n",
    "        h = H\n",
    "        m = M-45\n",
    "    else :\n",
    "        h = 23\n",
    "        m = M+15\n",
    "\n",
    "print(f'{h} {m}')\n"
   ]
  }
 ],
 "metadata": {
  "kernelspec": {
   "display_name": "Python 3",
   "language": "python",
   "name": "python3"
  },
  "language_info": {
   "codemirror_mode": {
    "name": "ipython",
    "version": 3
   },
   "file_extension": ".py",
   "mimetype": "text/x-python",
   "name": "python",
   "nbconvert_exporter": "python",
   "pygments_lexer": "ipython3",
   "version": "3.9.13"
  }
 },
 "nbformat": 4,
 "nbformat_minor": 2
}
