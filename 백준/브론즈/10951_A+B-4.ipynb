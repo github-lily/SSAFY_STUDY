{
 "cells": [
  {
   "cell_type": "markdown",
   "metadata": {},
   "source": [
    "### 문제 설명\n",
    "- 입력이 끝날 때까지 여러 줄에 걸쳐 두 정수  A와 B가 주어지면, 각 줄에 대해 A+B를 출력하는 문제\n",
    "- EOF를 만날 때까지 반복적으로 두 정수 A와 B를 입력받고 각 줄마다 A+B를 출력"
   ]
  },
  {
   "cell_type": "code",
   "execution_count": null,
   "metadata": {},
   "outputs": [],
   "source": [
    "# 108384KB, 84ms(PyPy3)\n",
    "\n",
    "import sys\n",
    "\n",
    "for line in sys.stdin:\n",
    "    a, b = map(int, line.split())\n",
    "    print(a + b)\n"
   ]
  },
  {
   "cell_type": "code",
   "execution_count": null,
   "metadata": {},
   "outputs": [],
   "source": [
    "# 108384KB, 88ms(PyPy3)\n",
    "\n",
    "import sys\n",
    "\n",
    "for line in sys.stdin:\n",
    "    try:\n",
    "        a, b = map(int, line.split())\n",
    "        print(a + b)\n",
    "    except:\n",
    "        break\n"
   ]
  }
 ],
 "metadata": {
  "language_info": {
   "name": "python"
  }
 },
 "nbformat": 4,
 "nbformat_minor": 2
}
