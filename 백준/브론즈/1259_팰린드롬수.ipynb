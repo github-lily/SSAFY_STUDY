{
 "cells": [
  {
   "cell_type": "markdown",
   "metadata": {},
   "source": [
    "- 뒤부터 읽어도 똑같은 단어를 팰린드롬이라고 함\n",
    "- 무의미한 0은 올 수 없으므로 10과 010은 다른 것\n",
    "- 1이상 99999이하의 정수\n",
    "- 입력의 마지막 줄에는 0\n",
    "- 팰린드롬수면 yes, 아니면 no를 출력력\n"
   ]
  },
  {
   "cell_type": "code",
   "execution_count": null,
   "metadata": {},
   "outputs": [],
   "source": [
    "# 108384KB, 96ms(PyPy3)\n",
    "\n",
    "def check(number) :\n",
    "\n",
    "\n",
    "    N = len(number)\n",
    "\n",
    "    for i in range(N//2) :\n",
    "        if number[i] != number[-i-1] :\n",
    "            print('no')\n",
    "            return\n",
    "            \n",
    "    print('yes')\n",
    "    return\n",
    "\n",
    "\n",
    "while True :\n",
    "    num = input()\n",
    "\n",
    "    if num == '0' :\n",
    "        break\n",
    "\n",
    "    check(num)\n"
   ]
  }
 ],
 "metadata": {
  "language_info": {
   "name": "python"
  }
 },
 "nbformat": 4,
 "nbformat_minor": 2
}
