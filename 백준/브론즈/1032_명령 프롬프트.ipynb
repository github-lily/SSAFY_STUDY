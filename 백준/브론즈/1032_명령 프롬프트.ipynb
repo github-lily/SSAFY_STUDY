{
 "cells": [
  {
   "cell_type": "code",
   "execution_count": null,
   "metadata": {},
   "outputs": [],
   "source": [
    "\n",
    "# N = int(sys.stdin.readline().strip())\n",
    "\n",
    "N = int(input())\n",
    "\n",
    "\n",
    "text = list(input())\n",
    "M = len(text)\n",
    "pre_text = text\n",
    "same_char = text\n",
    "\n",
    "\n",
    "for _ in range(N-1) :\n",
    "    text = list(input())\n",
    "    for i in range(len(text)) :\n",
    "        if pre_text :\n",
    "            if pre_text[i] == text[i] :\n",
    "                if text[i] == same_char[i] :\n",
    "                    same_char[i] = text[i]\n",
    "                else :\n",
    "                    same_char[i] =  '?'\n",
    "            else :\n",
    "                same_char[i] =  '?'\n",
    "    \n",
    "    pre_text = text\n",
    "\n",
    "ans = ''.join(same_char)\n",
    "print(ans)\n",
    "\n"
   ]
  }
 ],
 "metadata": {
  "language_info": {
   "name": "python"
  }
 },
 "nbformat": 4,
 "nbformat_minor": 2
}
