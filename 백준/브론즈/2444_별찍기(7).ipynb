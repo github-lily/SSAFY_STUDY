{
 "cells": [
  {
   "cell_type": "code",
   "execution_count": null,
   "metadata": {},
   "outputs": [],
   "source": [
    "# 출력 형식 오류로 오답\n",
    "import sys\n",
    "sys.stdin = open('백준/test.txt')\n",
    "\n",
    "N = int(sys.stdin.readline().strip())\n",
    "\n",
    "\n",
    "\n",
    "n = -1\n",
    "for i in range(1,N+1) :\n",
    "    n += 1\n",
    "    print(' '*(N-i),'*'*(i+n))\n",
    "          \n",
    "for j in range(N-1,0,-1) :\n",
    "    n -= 1\n",
    "    print(' '*(N-j),'*'*(j+n))    "
   ]
  },
  {
   "cell_type": "code",
   "execution_count": null,
   "metadata": {},
   "outputs": [],
   "source": [
    "# 108384KB, 88ms\n",
    "\n",
    "import sys\n",
    "sys.stdin = open('백준/test.txt')\n",
    "\n",
    "N = int(sys.stdin.readline().strip())\n",
    "\n",
    "\n",
    "# 위쪽 삼각형 출력\n",
    "for i in range(1, N + 1):\n",
    "    spaces = ' ' * (N - i)\n",
    "    stars = '*' * (2 * i - 1)\n",
    "    print(spaces + stars)\n",
    "\n",
    "# 아래쪽 삼각형 출력\n",
    "for i in range(N - 1, 0, -1):\n",
    "    spaces = ' ' * (N - i)\n",
    "    stars = '*' * (2 * i - 1)\n",
    "    print(spaces + stars)\n"
   ]
  }
 ],
 "metadata": {
  "language_info": {
   "name": "python"
  }
 },
 "nbformat": 4,
 "nbformat_minor": 2
}
