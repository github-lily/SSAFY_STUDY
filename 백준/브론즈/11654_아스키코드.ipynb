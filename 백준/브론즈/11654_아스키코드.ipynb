{
 "cells": [
  {
   "cell_type": "markdown",
   "metadata": {},
   "source": [
    "## 아스키 코드\n",
    "- American Standard Code for Information Interchange\n",
    "- 영어 알파벳, 숫자, 특수 문자 등을 컴퓨터에서 사용하기 위해 각각의 문자에 할당된 숫자 값\n",
    "- 0~127의 범위\n",
    "\n",
    "## 파이썬에서 아스키코드 사용하기\n",
    "- 내장함수 ord()와 chr()\n",
    "- ord() : 문자에 해당하는 아스키 코드 값 반환\n",
    "- chr() : 아스키 코드값에 해당되는 문자를 반환\n",
    "\n",
    "## 응용\n",
    "- 대문자를 소문자로 변환하기\n",
    "```python\n",
    "char = 'A'\n",
    "if ord(char) >= 65 and ord(char) <= 90:\n",
    "    converted_char = chr(ord(char) + 32)\n",
    "    print(converted_char)  # 'a'\n",
    "```"
   ]
  },
  {
   "cell_type": "code",
   "execution_count": 1,
   "metadata": {},
   "outputs": [
    {
     "name": "stdout",
     "output_type": "stream",
     "text": [
      "65\n"
     ]
    }
   ],
   "source": [
    "char = input()\n",
    "print(ord(char))"
   ]
  }
 ],
 "metadata": {
  "kernelspec": {
   "display_name": "Python 3",
   "language": "python",
   "name": "python3"
  },
  "language_info": {
   "codemirror_mode": {
    "name": "ipython",
    "version": 3
   },
   "file_extension": ".py",
   "mimetype": "text/x-python",
   "name": "python",
   "nbconvert_exporter": "python",
   "pygments_lexer": "ipython3",
   "version": "3.9.13"
  }
 },
 "nbformat": 4,
 "nbformat_minor": 2
}
