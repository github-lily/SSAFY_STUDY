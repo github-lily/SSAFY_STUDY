{
 "cells": [
  {
   "cell_type": "markdown",
   "metadata": {},
   "source": [
    "- 훈제오리구이를 시작하는 시간과 오븐구이를 하는데 필요한 시간이 분단위로 주어졌을 때, 오븐구이가 끝나는 시간을 계산하는 프로그램"
   ]
  },
  {
   "cell_type": "code",
   "execution_count": 6,
   "metadata": {},
   "outputs": [
    {
     "name": "stdout",
     "output_type": "stream",
     "text": [
      "0 13\n"
     ]
    }
   ],
   "source": [
    "h,m = map(int,input().split())\n",
    "time = int(input())\n",
    "\n",
    "if m+time >= 60 :\n",
    "    h += (m+time)//60\n",
    "    m = (m+time)-(60*((m+time)//60))\n",
    "else :\n",
    "    m = m+time\n",
    "\n",
    "if h >= 24:\n",
    "    h -= 24\n",
    "\n",
    "print(h, m)\n",
    "\n"
   ]
  },
  {
   "cell_type": "code",
   "execution_count": null,
   "metadata": {},
   "outputs": [],
   "source": [
    "A, B = map(int, input().split())\n",
    "C = int(input())\n",
    "print((A+(B+C)//60)/24, (B+C)/60)"
   ]
  }
 ],
 "metadata": {
  "kernelspec": {
   "display_name": "Python 3",
   "language": "python",
   "name": "python3"
  },
  "language_info": {
   "codemirror_mode": {
    "name": "ipython",
    "version": 3
   },
   "file_extension": ".py",
   "mimetype": "text/x-python",
   "name": "python",
   "nbconvert_exporter": "python",
   "pygments_lexer": "ipython3",
   "version": "3.9.13"
  }
 },
 "nbformat": 4,
 "nbformat_minor": 2
}
