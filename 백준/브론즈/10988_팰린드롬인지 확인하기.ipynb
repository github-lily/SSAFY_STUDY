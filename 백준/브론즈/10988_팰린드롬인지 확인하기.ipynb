{
 "cells": [
  {
   "cell_type": "code",
   "execution_count": null,
   "metadata": {},
   "outputs": [],
   "source": [
    "# 108384KB, 92ms(PyPy3)\n",
    "\n",
    "\n",
    "def check() :\n",
    "    global word, N, half\n",
    "    if N % 2 == 0 :\n",
    "        for i in range(half) :\n",
    "            if word[half-i] != word[half+i-1] :\n",
    "                return 0\n",
    "\n",
    "    else :\n",
    "        for i in range(1,half+1) :\n",
    "            if word[half-i] != word[half+i] :\n",
    "                return 0\n",
    "            \n",
    "    return 1\n",
    "\n",
    "\n",
    "word = input()\n",
    "N = len(word)\n",
    "half = N // 2\n",
    "\n",
    "ans = check()\n",
    "print(ans)"
   ]
  }
 ],
 "metadata": {
  "language_info": {
   "name": "python"
  }
 },
 "nbformat": 4,
 "nbformat_minor": 2
}
