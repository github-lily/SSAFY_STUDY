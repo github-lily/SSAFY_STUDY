{
 "cells": [
  {
   "cell_type": "code",
   "execution_count": null,
   "metadata": {},
   "outputs": [],
   "source": [
    "# 오답 : 가장 긴 변이 c라는 보장이 없음\n",
    "\n",
    "while True :\n",
    "    a,b,c = map(int,input().split())\n",
    "\n",
    "    if a == b == c == 0 :\n",
    "        break\n",
    "\n",
    "    if a*a + b*b == c*c :\n",
    "        print('right')\n",
    "    else :\n",
    "        print('wrong')"
   ]
  },
  {
   "cell_type": "code",
   "execution_count": null,
   "metadata": {},
   "outputs": [],
   "source": [
    "# 108384KB, 88ms(PyPy3)\n",
    "\n",
    "while True :\n",
    "    lenght = sorted(map(int,input().split()))\n",
    "\n",
    "    if sum(lenght) == 0 :\n",
    "        break\n",
    "\n",
    "    if lenght[0]**2 + lenght[1]**2 == lenght[2]**2 :\n",
    "        print('right')\n",
    "    else :\n",
    "        print('wrong')\n"
   ]
  },
  {
   "cell_type": "code",
   "execution_count": null,
   "metadata": {},
   "outputs": [],
   "source": [
    "# 108080KB, 80ms(PyPy3)\n",
    "\n",
    "while True:\n",
    "    a, b, c = sorted(map(int, input().split()))\n",
    "    if not a and a == b == c:\n",
    "        break\n",
    "\n",
    "    print(\"right\" if a ** 2 + b ** 2 == c ** 2 else \"wrong\")"
   ]
  }
 ],
 "metadata": {
  "kernelspec": {
   "display_name": "Python 3",
   "language": "python",
   "name": "python3"
  },
  "language_info": {
   "name": "python",
   "version": "3.9.13"
  }
 },
 "nbformat": 4,
 "nbformat_minor": 2
}
