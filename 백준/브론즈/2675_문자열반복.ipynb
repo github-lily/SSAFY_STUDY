{
 "cells": [
  {
   "cell_type": "markdown",
   "metadata": {},
   "source": [
    "### 문제 설명\n",
    "- 문자열 S를 입력받은 후에, 각 문자를 R번 반복해 새 문자열 P를 만든 후 출력하는 프로그램\n",
    "- S에는 QR Code \"alphanumeric\" 문자만 들어있다.\n",
    "- QR Code \"alphanumeric\" 문자는 0123456789ABCDEFGHIJKLMNOPQRSTUVWXYZ\\$%*+-./: 이다.\n",
    "\n",
    "### 입력값\n",
    "1. 테스트 케이스의 개수\n",
    "2. 반복 횟수 R, 문자열 S\n",
    "\n",
    "### 출력값\n",
    "P"
   ]
  },
  {
   "cell_type": "code",
   "execution_count": null,
   "metadata": {},
   "outputs": [],
   "source": [
    "# 32412KB, 32ms\n",
    "\n",
    "T = int(input())\n",
    "for _ in range(T) :\n",
    "    R,S = input().split()\n",
    "\n",
    "    P = []\n",
    "    for i in S :\n",
    "        text = i*int(R)\n",
    "        P.append(text)\n",
    "\n",
    "    P = ''.join(P)\n",
    "\n",
    "    print(P)"
   ]
  },
  {
   "cell_type": "code",
   "execution_count": null,
   "metadata": {},
   "outputs": [],
   "source": [
    "# 32412KB, 32ms\n",
    "\n",
    "T = int(input())\n",
    "for _ in range(T) :\n",
    "    R,S = input().split()\n",
    "\n",
    "    for i in S :\n",
    "        print(i*int(R), end=\"\")\n",
    "    print()"
   ]
  }
 ],
 "metadata": {
  "kernelspec": {
   "display_name": "Python 3",
   "language": "python",
   "name": "python3"
  },
  "language_info": {
   "codemirror_mode": {
    "name": "ipython",
    "version": 3
   },
   "file_extension": ".py",
   "mimetype": "text/x-python",
   "name": "python",
   "nbconvert_exporter": "python",
   "pygments_lexer": "ipython3",
   "version": "3.9.13"
  }
 },
 "nbformat": 4,
 "nbformat_minor": 2
}
