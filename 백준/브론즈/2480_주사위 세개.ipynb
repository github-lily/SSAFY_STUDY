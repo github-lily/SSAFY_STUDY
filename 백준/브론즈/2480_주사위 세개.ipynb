{
 "cells": [
  {
   "cell_type": "code",
   "execution_count": 3,
   "metadata": {},
   "outputs": [
    {
     "name": "stdout",
     "output_type": "stream",
     "text": [
      "600\n"
     ]
    }
   ],
   "source": [
    "a,b,c = map(int,input().split())\n",
    "\n",
    "if a == b == c :\n",
    "    ans = 10000+(a*1000)\n",
    "elif a == b or a == c :\n",
    "    ans = 1000+(a*100)\n",
    "elif b == c :\n",
    "    ans = 1000+(b*100)\n",
    "else :\n",
    "    ans = max(a,b,c)*100\n",
    "\n",
    "print(ans)"
   ]
  }
 ],
 "metadata": {
  "kernelspec": {
   "display_name": "Python 3",
   "language": "python",
   "name": "python3"
  },
  "language_info": {
   "codemirror_mode": {
    "name": "ipython",
    "version": 3
   },
   "file_extension": ".py",
   "mimetype": "text/x-python",
   "name": "python",
   "nbconvert_exporter": "python",
   "pygments_lexer": "ipython3",
   "version": "3.9.13"
  }
 },
 "nbformat": 4,
 "nbformat_minor": 2
}
