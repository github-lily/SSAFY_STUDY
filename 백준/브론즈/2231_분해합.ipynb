{
 "cells": [
  {
   "cell_type": "code",
   "execution_count": null,
   "metadata": {},
   "outputs": [],
   "source": [
    "# 32412KB, 36ms(Python3)\n",
    "\n",
    "def check() :\n",
    "    for ans in range(n,N) :\n",
    "        ans_str = str(ans)\n",
    "        lenth = len(ans_str)\n",
    "        num = ans\n",
    "        # 자리수 더하기\n",
    "        for i in range(lenth) :\n",
    "            num += int(ans_str[i])\n",
    "        \n",
    "        # 일치하면 중단\n",
    "        if num == N :\n",
    "            return ans\n",
    "    \n",
    "    return 0\n",
    "        \n",
    "\n",
    "\n",
    "N = int(input())\n",
    "M = len(str(N))     # 최대값\n",
    "n = max(1, int(N) - 9*M)    # 최소값  # 음수값 고려려\n",
    "\n",
    "\n",
    "ans = check()\n",
    "print(ans)\n"
   ]
  },
  {
   "cell_type": "code",
   "execution_count": null,
   "metadata": {},
   "outputs": [],
   "source": [
    "#개선된 코드\n",
    "# 32412KB, 36ms(똑같음)\n",
    "\n",
    "N = int(input())\n",
    "\n",
    "# 가능한 생성자의 최소 범위 설정\n",
    "start = max(0, N - 9 * len(str(N)))\n",
    "\n",
    "# 브루트포스 탐색\n",
    "for num in range(start, N):\n",
    "    temp, digit_sum = num, 0\n",
    "\n",
    "    # 각 자리수 합 계산\n",
    "    while temp:\n",
    "        digit_sum += temp % 10      # 각자리수의 합\n",
    "        temp //= 10\n",
    "\n",
    "    if num + digit_sum == N:\n",
    "        print(num)\n",
    "        break\n",
    "else:\n",
    "    print(0)\n"
   ]
  }
 ],
 "metadata": {
  "language_info": {
   "name": "python"
  }
 },
 "nbformat": 4,
 "nbformat_minor": 2
}
