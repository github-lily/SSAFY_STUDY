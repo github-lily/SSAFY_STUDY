{
 "cells": [
  {
   "cell_type": "code",
   "execution_count": null,
   "metadata": {},
   "outputs": [],
   "source": [
    "\n",
    "T = int(input())\n",
    "max_val = 0\n",
    "for _ in range(T) :\n",
    "    a,b,c = map(int,input().split())\n",
    "\n",
    "    if a == b == c :\n",
    "        ans = 10000+(a*1000)\n",
    "    elif a == b or a == c :\n",
    "        ans = 1000+(a*100)\n",
    "    elif b == c :\n",
    "        ans = 1000+(b*100)\n",
    "    else :\n",
    "        ans = max(a,b,c)*100\n",
    "\n",
    "    if max_val < ans :\n",
    "        max_val = ans\n",
    "\n",
    "print(max_val)\n",
    "    "
   ]
  }
 ],
 "metadata": {
  "language_info": {
   "name": "python"
  }
 },
 "nbformat": 4,
 "nbformat_minor": 2
}
