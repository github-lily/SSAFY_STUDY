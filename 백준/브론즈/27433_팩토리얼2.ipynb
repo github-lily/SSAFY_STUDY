{
 "cells": [
  {
   "cell_type": "code",
   "execution_count": null,
   "metadata": {},
   "outputs": [
    {
     "name": "stdout",
     "output_type": "stream",
     "text": [
      "120\n"
     ]
    }
   ],
   "source": [
    "# 재귀 연습\n",
    "# for문 말고 재귀함수 사용해서 팩토리얼 구현하기\n",
    "# 32412KB, 36ms\n",
    "\n",
    "def factorial(n) :\n",
    "    global ans\n",
    "\n",
    "    if n == N+1 :\n",
    "        return\n",
    "    \n",
    "    ans *= n\n",
    "    factorial(n+1)    \n",
    "\n",
    "N = int(input())\n",
    "ans = 1     # 0곱하면 0이니 1로시작\n",
    "\n",
    "factorial(1)\n",
    "\n",
    "print(ans)\n",
    "\n"
   ]
  }
 ],
 "metadata": {
  "kernelspec": {
   "display_name": "Python 3",
   "language": "python",
   "name": "python3"
  },
  "language_info": {
   "codemirror_mode": {
    "name": "ipython",
    "version": 3
   },
   "file_extension": ".py",
   "mimetype": "text/x-python",
   "name": "python",
   "nbconvert_exporter": "python",
   "pygments_lexer": "ipython3",
   "version": "3.9.13"
  }
 },
 "nbformat": 4,
 "nbformat_minor": 2
}
