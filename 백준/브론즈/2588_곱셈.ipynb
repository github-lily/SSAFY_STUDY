{
 "cells": [
  {
   "cell_type": "code",
   "execution_count": null,
   "metadata": {},
   "outputs": [],
   "source": [
    "# 시간 32ms 메모리 31120KB\n",
    "# 직관적인 코드\n",
    "\n",
    "A = int(input())\n",
    "B = input()\n",
    "\n",
    "C = A * int(B[2])\n",
    "D = A * int(B[1])\n",
    "E = A * int(B[0])\n",
    "b = int(B)\n",
    "ans = A * b\n",
    "\n",
    "\n",
    "print(C)\n",
    "print(D)\n",
    "print(E)\n",
    "print(ans)"
   ]
  },
  {
   "cell_type": "code",
   "execution_count": null,
   "metadata": {},
   "outputs": [],
   "source": [
    "# 더 간단한 코드\n",
    "# 시간 28ms 메모리 31120KB\n",
    "\n",
    "\n",
    "a=int(input())\n",
    "b=input()\n",
    "for i in range(1,4):\n",
    "    print(a*int(b[-i]))\n",
    "print(a*int(b))"
   ]
  }
 ],
 "metadata": {
  "language_info": {
   "name": "python"
  }
 },
 "nbformat": 4,
 "nbformat_minor": 2
}
