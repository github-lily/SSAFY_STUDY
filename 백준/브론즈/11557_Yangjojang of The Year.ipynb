{
 "cells": [
  {
   "cell_type": "code",
   "execution_count": null,
   "metadata": {},
   "outputs": [],
   "source": [
    "T = int(input())\n",
    "for tc in range(1,T+1) :\n",
    "    N = int(input())\n",
    "    lst = []\n",
    "    for _ in range(N) :\n",
    "        S, L = input().split()\n",
    "        lst.append((S,L))\n",
    "    \n",
    "    # L(지난 해 소비한 술의 양) 기준으로 내림차순 정렬\n",
    "    # 문자열로 받았으므로 숫자로 변환(문자로 두면 10000보다 20이 더 커짐)\n",
    "    lst.sort(key=lambda x : int(x[1]), reverse=True)\n",
    "\n",
    "    print(lst[0][0])"
   ]
  }
 ],
 "metadata": {
  "language_info": {
   "name": "python"
  }
 },
 "nbformat": 4,
 "nbformat_minor": 2
}
