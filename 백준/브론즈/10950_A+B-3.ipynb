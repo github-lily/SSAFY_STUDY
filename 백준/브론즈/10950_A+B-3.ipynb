{
 "cells": [
  {
   "cell_type": "code",
   "execution_count": null,
   "metadata": {},
   "outputs": [],
   "source": [
    "\n",
    "T = int(input())\n",
    "for _ in range(T) :\n",
    "    a,b = map(int,input().split())\n",
    "    print(a+b)"
   ]
  }
 ],
 "metadata": {
  "language_info": {
   "name": "python"
  }
 },
 "nbformat": 4,
 "nbformat_minor": 2
}
