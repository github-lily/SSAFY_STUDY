{
 "cells": [
  {
   "cell_type": "markdown",
   "metadata": {},
   "source": [
    "### 문제 설명\n",
    "- 9명 중 키의 합이 100이 되는 7명의 난쟁이 찾기\n",
    "- 제한시간 2초\n",
    "- 가능한 답이 여러가지인 경우엔 아무거나 출력\n",
    "\n",
    "### 입력값\n",
    "- 9줄에 걸쳐 난쟁이들의 키\n",
    "\n",
    "### 출력값\n",
    "- 난재이 키를 오름차순으로 출력(7줄)"
   ]
  },
  {
   "cell_type": "code",
   "execution_count": null,
   "metadata": {},
   "outputs": [],
   "source": [
    "# 시간 88ms, 메모리 108080KB (PyPy)\n",
    "# 난쟁이 키를 받을 리스트\n",
    "heights = []\n",
    "for _ in range(9) :\n",
    "    height = int(input())\n",
    "    heights.append(height)\n",
    "\n",
    "# 최종 일곱난쟁이\n",
    "# selected = []\n",
    "\n",
    "def dfs(n, selected) :\n",
    "\n",
    "    # 종료 조건 : 7명이고 합이 100일 때    \n",
    "    if len(selected) == 7 :\n",
    "        if sum(selected) == 100 :\n",
    "            return selected\n",
    "        return\n",
    "    \n",
    "    # 가지치기 : 더 진행해도 7명이 안될 때\n",
    "    # 3명 이상 지나갔는데 리스트에 한명도 저장안됐으면\n",
    "    if n > 3 and len(selected) < 1 :\n",
    "        return\n",
    "    \n",
    "    # 배열을 다 돌았을 때 종료\n",
    "    if n == 9 :\n",
    "        return\n",
    "\n",
    "    \n",
    "    # 포함\n",
    "    result = dfs(n+1,selected+[heights[n]])\n",
    "    if result :     # 재귀했을 때 답을 이미 찾았으면 중단\n",
    "        return result\n",
    "    \n",
    "    # 미포함\n",
    "    result = dfs(n+1,selected)\n",
    "    if result :     # 재귀했을 때 답을 이미 찾았으면 중단\n",
    "        return result\n",
    "\n",
    "    # 답을 찾지 못한 경우\n",
    "    return \n",
    "\n",
    "ans_lst = sorted(dfs(0,[]))\n",
    "if ans_lst :    # 답이 있을 경우에만 출력 (답이 없으면 None이 반환되므로 False)\n",
    "    for ans in ans_lst :\n",
    "        print(ans)\n"
   ]
  }
 ],
 "metadata": {
  "language_info": {
   "name": "python"
  }
 },
 "nbformat": 4,
 "nbformat_minor": 2
}
