{
 "cells": [
  {
   "cell_type": "markdown",
   "metadata": {},
   "source": [
    "### 문제 설명\n",
    "- 9명 중 키의 합이 100이 되는 7명의 난쟁이 찾기\n",
    "- 제한시간 2초\n",
    "- 가능한 답이 여러가지인 경우엔 아무거나 출력\n",
    "\n",
    "### 입력값\n",
    "- 9줄에 걸쳐 난쟁이들의 키\n",
    "\n",
    "### 출력값\n",
    "- 난재이 키를 오름차순으로 출력(7줄)"
   ]
  },
  {
   "cell_type": "code",
   "execution_count": null,
   "metadata": {},
   "outputs": [],
   "source": [
    "\n",
    "# 난쟁이 키를 받을 리스트\n",
    "heights = []\n",
    "for _ in range(9) :\n",
    "    height = int(input)\n",
    "    heights.append(height)\n",
    "\n",
    "# 최종 일곱난쟁이\n",
    "final = []\n",
    "\n",
    "def dfs(n, final) :\n",
    "\n",
    "    # 배열을 다 돌았을 때 종료\n",
    "    if n == 9 :\n",
    "        return\n",
    "\n",
    "    # 종료 조건 : 7명이고 합이 100일 때    \n",
    "    if n == 7 and sum(final) == 100 :\n",
    "        return\n",
    "    \n",
    "    for height in heights :\n",
    "        dfs(n+1,final+[height])\n",
    "        dfs(n,final+[height])\n",
    "\n",
    "\n",
    "\n",
    "\n",
    "\n"
   ]
  }
 ],
 "metadata": {
  "language_info": {
   "name": "python"
  }
 },
 "nbformat": 4,
 "nbformat_minor": 2
}
