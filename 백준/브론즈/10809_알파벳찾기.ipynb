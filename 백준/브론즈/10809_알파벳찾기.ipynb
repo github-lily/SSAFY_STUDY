{
 "cells": [
  {
   "cell_type": "code",
   "execution_count": null,
   "metadata": {},
   "outputs": [],
   "source": [
    "# 32412KB, 36ms\n",
    "\n",
    "S = input()  # 문자열 입력\n",
    "result = [-1] * 26  # 알파벳 개수만큼 초기화\n",
    "\n",
    "for i, char in enumerate(S):\n",
    "    index = ord(char) - ord('a')  # 알파벳의 인덱스 계산\n",
    "    if result[index] == -1:  # 처음 등장하는 경우만 저장\n",
    "        result[index] = i\n",
    "\n",
    "print(*result)  # 리스트를 공백으로 구분하여 출력\n"
   ]
  },
  {
   "cell_type": "markdown",
   "metadata": {},
   "source": [
    "🔹 ord(char) - ord('a')가 리스트의 인덱스 역할\n",
    "예를 들어, \"baekjoon\"이 입력되었을 때:\n",
    "\n",
    "- 'b' → ord('b') - ord('a') = 98 - 97 = 1 → result[1] = 0\n",
    "- 'a' → ord('a') - ord('a') = 97 - 97 = 0 → result[0] = 1\n",
    "- 'e' → ord('e') - ord('a') = 101 - 97 = 4 → result[4] = 2\n",
    "- 'k' → ord('k') - ord('a') = 107 - 97 = 10 → result[10] = 3"
   ]
  },
  {
   "cell_type": "code",
   "execution_count": null,
   "metadata": {},
   "outputs": [],
   "source": [
    "# 32412KB, 40ms\n",
    "\n",
    "S = input()  # 문자열 입력\n",
    "\n",
    "for char in range(ord('a'), ord('z') + 1):  # 'a'부터 'z'까지 순회\n",
    "    print(S.index(chr(char)) if chr(char) in S else -1, end=\" \")\n"
   ]
  },
  {
   "cell_type": "markdown",
   "metadata": {},
   "source": [
    "📌 4. list.index()를 사용한 방식과 비교  \n",
    "✅ ord(char) - ord('a') 방식 (O(N))\n",
    "- 한 번만 문자열을 순회하면서 처리 → O(N)의 시간 복잡도\n",
    "- 빠르고 효율적\n",
    "- 리스트에서 인덱스 접근이 O(1)  \n",
    "\n",
    "✅ list.index() 방식 (O(26 × N))\n",
    "- index()는 리스트에서 처음 등장하는 위치를 찾기 위해 매번 탐색\n",
    "- 최악의 경우 26번 반복할 수 있음 → O(26 × N)\n",
    "- 느림 (문자열 길이가 길어질수록 차이가 커짐)"
   ]
  }
 ],
 "metadata": {
  "language_info": {
   "name": "python"
  }
 },
 "nbformat": 4,
 "nbformat_minor": 2
}
