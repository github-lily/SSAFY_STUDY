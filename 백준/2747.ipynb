{
 "cells": [
  {
   "cell_type": "code",
   "execution_count": null,
   "metadata": {},
   "outputs": [],
   "source": [
    "n = int(input())\n",
    "fibo = [0] * (n+1)\n",
    "fibo[0] = 0\n",
    "fibo[1] = 1\n",
    "\n",
    "for i in range(2,n+1) :\n",
    "    fibo[i] = fibo[i-2] + fibo[i-1]\n",
    "\n",
    "ans = fibo[n]\n",
    "print(ans)"
   ]
  }
 ],
 "metadata": {
  "language_info": {
   "name": "python"
  }
 },
 "nbformat": 4,
 "nbformat_minor": 2
}
