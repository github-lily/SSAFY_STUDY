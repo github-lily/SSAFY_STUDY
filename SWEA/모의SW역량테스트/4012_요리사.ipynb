{
 "cells": [
  {
   "cell_type": "markdown",
   "metadata": {},
   "source": [
    "### 문제 설명\n",
    "\n",
    "- 2명의 손님, 2개의 음식, N개의 식재료\n",
    "- 식재료를 각각 N/2개씩 나누어 두 개의 요리(A,B)를 한다.\n",
    "- A요리를 만들 때 식재료 i와j를 함께 사용했을 때 나타나는 시너지들의 합이 A요리의 맛(B요리도 마찬가지)\n",
    "- A요리와 B요리의 맛 차이의 최솟값(절대값)\n",
    "\n",
    "### 제약 사항\n",
    "1. 시간 제한 : 최대 50개 테스트 케이스, 10초\n",
    "\n",
    "2. 식재료의 수 N은 4이상 16이하의 짝수이다. (4 ≤ N ≤ 16)\n",
    "\n",
    "3. 시너지 Sij는 1이상 20,000이하의 정수이다. (1 ≤ Sij ≤ 20,000, i ≠ j)\n",
    "\n",
    "4. i와 j가 서로 같은 경우의 Sij값은 정의되지 않는다. 입력에서는 0으로 주어진다.\n",
    "\n",
    "\n",
    "### 입력값\n",
    "1. 테스트케이스 개수\n",
    "2. 식재료의 수 N\n",
    "3. N*N개의 시너지 배열\n",
    "\n",
    "### 출력값\n",
    "- 맛의 차이의 최솟값"
   ]
  },
  {
   "cell_type": "code",
   "execution_count": 1,
   "metadata": {},
   "outputs": [
    {
     "ename": "",
     "evalue": "",
     "output_type": "error",
     "traceback": [
      "\u001b[1;31mThe Kernel crashed while executing code in the current cell or a previous cell. \n",
      "\u001b[1;31mPlease review the code in the cell(s) to identify a possible cause of the failure. \n",
      "\u001b[1;31mClick <a href='https://aka.ms/vscodeJupyterKernelCrash'>here</a> for more info. \n",
      "\u001b[1;31mView Jupyter <a href='command:jupyter.viewOutput'>log</a> for further details."
     ]
    }
   ],
   "source": [
    "def btk(n,temp) : \n",
    "    if n == 2 :\n",
    "        print(temp)\n",
    "        return \n",
    "\n",
    "    for i in range(N) :\n",
    "        if v[i] == 0 :\n",
    "            btk(n,temp)\n",
    "            temp.append(lst[i])\n",
    "            btk(n+1, temp+[lst[i]])\n",
    "\n",
    "N = 4\n",
    "lst = [1,2,3,4]\n",
    "v = [0] * N\n",
    "\n",
    "btk(0,[])\n",
    "\n",
    "\n",
    "\n"
   ]
  }
 ],
 "metadata": {
  "kernelspec": {
   "display_name": "Python 3",
   "language": "python",
   "name": "python3"
  },
  "language_info": {
   "codemirror_mode": {
    "name": "ipython",
    "version": 3
   },
   "file_extension": ".py",
   "mimetype": "text/x-python",
   "name": "python",
   "nbconvert_exporter": "python",
   "pygments_lexer": "ipython3",
   "version": "3.9.13"
  }
 },
 "nbformat": 4,
 "nbformat_minor": 2
}
