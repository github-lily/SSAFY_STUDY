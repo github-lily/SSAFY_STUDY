{
 "cells": [
  {
   "cell_type": "markdown",
   "metadata": {},
   "source": [
    "- N*N 구역에 K개의 미생물 군집\n",
    "- 각 미생물 군집 : 위치, 개수, 방향(상,하,좌,우)\n",
    "- 군집들은 한시간마다 해당 방향으로 이동\n",
    "- 경계에 도착하면 미생물의 수는 절반으로 줄고, 방향은 반대로 바뀜(num//2)\n",
    "- 두 개 이상 군집이 한 칸에 모이면 미생물의 수가 합쳐지고 방향은 수가 가장 큰 방향을 따름\n",
    "- M시간 동안 이동 후 남아있는 미생물 수의 총합을 구하시오"
   ]
  },
  {
   "cell_type": "code",
   "execution_count": null,
   "metadata": {},
   "outputs": [],
   "source": [
    "'''\n",
    "- N*N 구역에 K개의 미생물 군집\n",
    "- 각 미생물 군집 : 위치, 개수, 방향(상,하,좌,우)\n",
    "- 군집들은 한시간마다 해당 방향으로 이동할 때\n",
    "- M시간 동안 이동 후 남아있는 미생물 수의 총합을 구하시오\n",
    "- 경계에 도착하면 미생물의 수는 절반으로 줄고, 방향은 반대로 바뀜(num//2)\n",
    "- 두 개 이상 군집이 한 칸에 모이면 미생물의 수가 합쳐지고 방향은 수가 가장 큰 방향을 따름\n",
    "'''\n",
    "\n",
    "# 반대 방향 테이블 \n",
    "way_lst = [0,2,1,4,3]\n",
    "# 상하좌우 테이블\n",
    "# 방향 테이블에 인덱스 맞추기 위해 0 넣음    \n",
    "dr,dc = [0,-1,1,0,0], [0,0,0,-1,1]\n",
    "\n",
    "\n",
    "\n",
    "T = int(input())\n",
    "for tc in range(1,T+1) :\n",
    "    # 셀의 개수 N, 격리 시간M, 미생물 군집의 개수 K\n",
    "    N, M, K = map(int,input().split())\n",
    "    arr = [list(map(int,input().split())) for _ in range(K)]\n",
    "\n",
    "    ans = 0         # 남아있는 미생물의 수\n",
    "\n",
    "\n",
    "    for _ in range(M) :\n",
    "        # 이동\n",
    "        # 겹치는 값은 pop해야하므로 N이 아닌 len(arr)\n",
    "        # [0] : r, [1] : c, [2] : num, [3] : way\n",
    "        for i in range(len(arr)) :\n",
    "            # 행 이동\n",
    "            arr[i][0] += dr[arr[i][3]]\n",
    "            # 열 이동\n",
    "            arr[i][1] += dc[arr[i][3]]\n",
    "            # 약품에 닿았을 때\n",
    "            if arr[i][0] == 0 or arr[i][0] == N-1 or arr[i][1] == 0 or arr[i][1] == N-1 :\n",
    "                arr[i][2] //= 2                     # 미생물의 수 나누기\n",
    "                arr[i][3] = way_lst[arr[i][3]]      # 방향 바꿔주기\n",
    "\n",
    "        # 한 지점으로 모였을 때\n",
    "        # 내림차순 정렬(수가 많은 칸이 위로가게-합치기 편하도록)\n",
    "        arr.sort(key = lambda x : (x[0],x[1],x[2]), reverse = True)\n",
    "\n",
    "        # 같은 좌표 합쳐주기\n",
    "        i = 1\n",
    "        while i < len(arr) : \n",
    "            if arr[i-1][0:2] == arr[i][0:2] :       # r,c 좌표 확인\n",
    "                arr[i-1][2] += arr[i][2]\n",
    "                arr.pop(i)      # 행 삭제\n",
    "            else :      # 같지 않다면 다음 행 확인\n",
    "                i += 1\n",
    "\n",
    "    for lst in arr :\n",
    "        ans += lst[2]\n",
    "\n",
    "\n",
    "    print(f'#{tc} {ans}')"
   ]
  }
 ],
 "metadata": {
  "language_info": {
   "name": "python"
  }
 },
 "nbformat": 4,
 "nbformat_minor": 2
}
