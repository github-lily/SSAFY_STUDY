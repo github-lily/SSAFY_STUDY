{
 "cells": [
  {
   "cell_type": "code",
   "execution_count": 3,
   "metadata": {},
   "outputs": [
    {
     "name": "stdout",
     "output_type": "stream",
     "text": [
      "2.5\n",
      "2\n",
      "-2.5\n",
      "-3\n",
      "-2\n"
     ]
    }
   ],
   "source": [
    "print(5/2)\n",
    "print(5//2)\n",
    "print(-5/2)        \n",
    "print(-5//2)            #내림함(왼쪽으로 감. 바닥으로 감.)    -3 -2.5 -2\n",
    "print(int(-5/2))\n",
    "\n",
    "# 자료형이 같으면 상관없지만\n",
    "# 자료형이 다르면 더 큰 값을 다룰 수 있는 자료형으로 나옴(정수<실수)\n"
   ]
  },
  {
   "cell_type": "code",
   "execution_count": null,
   "metadata": {},
   "outputs": [],
   "source": [
    "import sys\n",
    "sys.stdin = open(\"test3.txt\")\n",
    "\n",
    "'''\n",
    "- 최대와 최소가 되는 수식을 찾고, 두 값의 차이를 출력하시오\n",
    "- 음수 가능, 소수점은 버림\n",
    "- 음수 나누기 : -(abs(s)/e)\n",
    "'''\n",
    "\n",
    "\n",
    "# 재귀 설계\n",
    "# 시작점 : 첫 번째 숫자\n",
    "# 끝점 : 모든 수(연산자)를 사용할때까지\n",
    "# 파라미터 : 특정 시점에서 계산된 결과값'\n",
    "\n",
    "def cal(num1,num2,oper_idx) :\n",
    "    if oper_idx == 0 :\n",
    "        return num1 + num2\n",
    "\n",
    "    if oper_idx == 1 :\n",
    "        return num1 - num2\n",
    "\n",
    "    if oper_idx == 2 :\n",
    "        return num1 * num2\n",
    "\n",
    "    if oper_idx == 3 :\n",
    "        if num1 <0 :        # 음수일 때 처리\n",
    "            return -(abs(num1)//num2)\n",
    "        return num1 // num2\n",
    "\n",
    "def dfs(level, total) :\n",
    "    global min_result,max_result\n",
    "\n",
    "    if level == N :\n",
    "        min_result = min(min_result,total)\n",
    "        max_result = max(max_result, total)\n",
    "        return\n",
    "\n",
    "    # 4개의 연산자를 확인\n",
    "    for i in range(4) :\n",
    "        if opers[i] == 0 :      # 남은 연산자가 없으면 통과\n",
    "            continue\n",
    "\n",
    "        opers[i] -= 1           # 연산자 하나 사용했으니 연산자 하나 감소\n",
    "        dfs(level+1, cal(total, numbers[level],i))\n",
    "        opers[i] += 1           # 돌아왔을 땐 복구\n",
    "\n",
    "\n",
    "\n",
    "T = int(input())\n",
    "for tc in range(1,T+1) :\n",
    "    N = int(input())\n",
    "    opers = list(map(int,input().split()))\n",
    "    numbers = list(map(int,input().split()))\n",
    "\n",
    "\n",
    "    min_result = 1e9\n",
    "    max_result = -1e9\n",
    "\n",
    "\n",
    "    dfs(1,numbers[0])\n",
    "    print(f'#{tc} {max_result - min_result}')"
   ]
  }
 ],
 "metadata": {
  "kernelspec": {
   "display_name": "Python 3",
   "language": "python",
   "name": "python3"
  },
  "language_info": {
   "codemirror_mode": {
    "name": "ipython",
    "version": 3
   },
   "file_extension": ".py",
   "mimetype": "text/x-python",
   "name": "python",
   "nbconvert_exporter": "python",
   "pygments_lexer": "ipython3",
   "version": "3.9.13"
  }
 },
 "nbformat": 4,
 "nbformat_minor": 2
}
