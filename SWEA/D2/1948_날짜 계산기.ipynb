{
 "cells": [
  {
   "cell_type": "markdown",
   "metadata": {},
   "source": [
    "# 1948 날짜 계산기"
   ]
  },
  {
   "cell_type": "code",
   "execution_count": 2,
   "metadata": {},
   "outputs": [
    {
     "name": "stdout",
     "output_type": "stream",
     "text": [
      "2024-08-19\n",
      "2024-08-15\n",
      "10:30:10\n",
      "2024-08-19 19:14:51.653768\n",
      "149 days, 0:00:00\n",
      "149\n"
     ]
    }
   ],
   "source": [
    "# datetime 모듈\n",
    "\n",
    "import datetime\n",
    "\n",
    "# 오늘 날짜 가져오기\n",
    "today = datetime.date.today()\n",
    "print(today)\n",
    "\n",
    "# 특정 날짜 생성\n",
    "make_day = datetime.date(2024, 8, 15)\n",
    "print(make_day)\n",
    "\n",
    "# 특정 시간 생성\n",
    "make_time = datetime.time(10,30,10)\n",
    "print(make_time)\n",
    "\n",
    "# 현재 날짜와 시간\n",
    "now = datetime.datetime.now()\n",
    "print(now)\n",
    "\n",
    "# 두 날짜간의 차이\n",
    "date1 = datetime.date(2024,3,19)\n",
    "date2 = datetime.date(2024,8,15)\n",
    "delta = date2 - date1\n",
    "print(delta)\n",
    "days_difference = delta.days\n",
    "\n",
    "print(days_difference)"
   ]
  },
  {
   "cell_type": "code",
   "execution_count": null,
   "metadata": {},
   "outputs": [],
   "source": [
    "# 1차 시도\n",
    "import datetime\n",
    "\n",
    "T = int(input())\n",
    "for tc in range(1,T+1) :\n",
    "    month1,day1, month2,day2 = map(int,input().split())\n",
    "    date1 = datetime.date(2024,month1,day1)\n",
    "    date2 = datetime.date(2024, month2, day2)\n",
    "    delta = date1-date2\n",
    "    date_diff = abs(delta.days)+1   #음수로 나오니 절대값 씌우기 #본인날짜 1일 더하기\n",
    "\n",
    "\n",
    "    print(f'#{tc} {date_diff}')\n",
    "\n",
    "    #2월일때 오류남 #하루가 더 추가되서 계산됨\n",
    "    #2월 윤일때문인듯"
   ]
  },
  {
   "cell_type": "code",
   "execution_count": null,
   "metadata": {},
   "outputs": [],
   "source": [
    "# 정답\n",
    "\n",
    "import datetime\n",
    "\n",
    "T = int(input())\n",
    "for tc in range(1,T+1) :\n",
    "    month1,day1, month2,day2 = map(int,input().split())\n",
    "    date1 = datetime.date(2024,month1,day1)\n",
    "    date2 = datetime.date(2024, month2, day2)\n",
    "    delta = date1-date2\n",
    "    date_diff = abs(delta.days)+1   #음수로 나오니 절대값 씌우기 #본인날짜 1일 더하기\n",
    "    if month1 <= 2 :\n",
    "        date_diff -= 1  #2월보다 작거나 같은 달일 때 하루 빼주기\n",
    "\n",
    "    print(f'#{tc} {date_diff}')\n",
    "\n"
   ]
  }
 ],
 "metadata": {
  "kernelspec": {
   "display_name": "Python 3",
   "language": "python",
   "name": "python3"
  },
  "language_info": {
   "codemirror_mode": {
    "name": "ipython",
    "version": 3
   },
   "file_extension": ".py",
   "mimetype": "text/x-python",
   "name": "python",
   "nbconvert_exporter": "python",
   "pygments_lexer": "ipython3",
   "version": "3.9.13"
  }
 },
 "nbformat": 4,
 "nbformat_minor": 2
}
