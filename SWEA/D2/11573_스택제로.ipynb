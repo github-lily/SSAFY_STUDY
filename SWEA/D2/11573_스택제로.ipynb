{
 "cells": [
  {
   "cell_type": "markdown",
   "metadata": {},
   "source": [
    "# 스택제로"
   ]
  },
  {
   "cell_type": "code",
   "execution_count": null,
   "metadata": {},
   "outputs": [],
   "source": [
    "# 스택 정석\n",
    "# 2개의 테스트케이스 런타임오류\n",
    "\n",
    "T = int(input())\n",
    "for tc in range(1,T+1) :\n",
    "    N = int(input())\n",
    "    arr = list(map(int,input().split()))\n",
    "\n",
    "    top = -1\n",
    "\n",
    "    my_stack = [0] * N # 크기를 11개로하면 안됨! 입력 크기에 맞춰 해야함!\n",
    "\n",
    "    def push(i) :\n",
    "        global top\n",
    "        top += 1\n",
    "        my_stack[top] = arr[i]\n",
    "\n",
    "\n",
    "    def pop() :\n",
    "        global top\n",
    "        top -= 1\n",
    "\n",
    "\n",
    "    for i in range(len(arr)) :\n",
    "        if arr[i] == 0 :\n",
    "            my_stack.pop(i)\n",
    "        else :\n",
    "            my_stack.push(i)\n",
    "\n",
    "\n",
    "    s_sum = 0\n",
    "    for idx in range(len(my_stack)) :\n",
    "        s_sum += my_stack[idx]\n",
    "\n",
    "    print(f'#{tc} {s_sum}')"
   ]
  },
  {
   "cell_type": "code",
   "execution_count": null,
   "metadata": {},
   "outputs": [],
   "source": [
    "# 덧셈뺄셈으로 풀기\n",
    "# 실패\n",
    "\n",
    "T = int(input())\n",
    "for tc in range(1,T+1) :\n",
    "    N = int(input())\n",
    "    arr = list(map(int,input().split()))\n",
    "\n",
    "    s_sum = 0\n",
    "    for i in range(len(arr)) :\n",
    "        if arr[i] != 0 :\n",
    "            s_sum += arr[i]\n",
    "        else :\n",
    "            if arr[i-1] != 0 :\n",
    "                s_sum -= arr[i-1]\n",
    "            else :\n",
    "                s_sum -= arr[i-2]\n",
    "                #arr[i-1]이 0일때 그 앞에 값을 빼주기가 어려움\n",
    "\n",
    "\n",
    "    print(f'#{tc} {s_sum}')"
   ]
  },
  {
   "cell_type": "code",
   "execution_count": null,
   "metadata": {},
   "outputs": [],
   "source": [
    "# 인덱스로 접근\n",
    "# 성공!\n",
    "\n",
    "import sys\n",
    "sys.stdin = open(\"stack_zero.txt\",\"r\")\n",
    "\n",
    "T = int(input())\n",
    "for tc in range(1,T+1) :\n",
    "    N = int(input())\n",
    "    arr = list(map(int,input().split()))\n",
    "\n",
    "    my_stack = [0] * N\n",
    "    top = -1\n",
    "\n",
    "    for i in range(len(arr)) :\n",
    "        if arr[i] != 0 :\n",
    "            top += 1\n",
    "            my_stack[top] = arr[i]\n",
    "        else :\n",
    "            my_stack[top] = 0\n",
    "            top -= 1            #빼는 순서 주의! 뺀 다음에 top 내려주기!\n",
    "\n",
    "\n",
    "\n",
    "    s_sum = 0\n",
    "    for i in range(len(my_stack)) :\n",
    "        s_sum += my_stack[i]\n",
    "\n",
    "    print(f'#{tc} {s_sum}')"
   ]
  }
 ],
 "metadata": {
  "language_info": {
   "name": "python"
  }
 },
 "nbformat": 4,
 "nbformat_minor": 2
}
