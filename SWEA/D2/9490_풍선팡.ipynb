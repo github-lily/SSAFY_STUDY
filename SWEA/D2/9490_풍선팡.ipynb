{
 "cells": [
  {
   "cell_type": "markdown",
   "metadata": {},
   "source": [
    "# 9490 풍선팡\n",
    "\n",
    "- M x N\n",
    "- 풍선을 터뜨리면 안에 든 꽃가루 개수만큼 상하좌우의 풍선이 추가로 터짐\n",
    "    - K개만큼 표시하기\n",
    "- 한 개의 풍선을 선택했을 때 날릴 수 있는 꽃가루의 합 중 최대값을 출력하라"
   ]
  },
  {
   "cell_type": "markdown",
   "metadata": {},
   "source": [
    "주의할 점\n",
    "- NxM 행렬인 경우 범위 설정에 주의주의하기!\n",
    "- 가운데 값 더하는거 잊지말기"
   ]
  },
  {
   "cell_type": "code",
   "execution_count": 1,
   "metadata": {},
   "outputs": [],
   "source": [
    "T = int(input())\n",
    "for tc in range(1,T+1) :\n",
    "    N, M = map(int,input().split())\n",
    "    arr = [list(map(int,input().split())) for i in range(N)]\n",
    "\n",
    "    max_flower = 0\n",
    "    for r in range(N) :\n",
    "        for c in range(M) :     # NxM 행렬이니 범위설정 주의\n",
    "            k = arr[r][c]\n",
    "            dr = [0,1,0,-1]\n",
    "            dc = [1,0,-1,0]\n",
    "            sum_f = k       #가운데도 더해주기\n",
    "            for i in range(4) :\n",
    "                for j in range(1, k+1) :\n",
    "                    nr = r + dr[i] * j\n",
    "                    nc = c + dc[i] * j\n",
    "                    if 0 <= nr < N and 0 <= nc < M :\n",
    "                        sum_f += arr[nr][nc]        # NxM 행렬이니 범위설정 주의\n",
    "            if max_flower < sum_f :\n",
    "                max_flower = sum_f\n",
    "\n",
    "\n",
    "\n",
    "    print(f'#{tc} {max_flower}')"
   ]
  }
 ],
 "metadata": {
  "kernelspec": {
   "display_name": "Python 3",
   "language": "python",
   "name": "python3"
  },
  "language_info": {
   "codemirror_mode": {
    "name": "ipython",
    "version": 3
   },
   "file_extension": ".py",
   "mimetype": "text/x-python",
   "name": "python",
   "nbconvert_exporter": "python",
   "pygments_lexer": "ipython3",
   "version": "3.9.13"
  }
 },
 "nbformat": 4,
 "nbformat_minor": 2
}
