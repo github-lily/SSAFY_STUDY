{
 "cells": [
  {
   "cell_type": "code",
   "execution_count": null,
   "metadata": {},
   "outputs": [],
   "source": [
    "# 7.29 풀이 1\n",
    "T = int(input())\n",
    "\n",
    "for tc in range(1,T+1) :\n",
    "    N = int(input())\n",
    "    test_list = list(map(int,input().split()))\n",
    "    \n",
    "    #max\n",
    "    max_v = test_list[0]\n",
    "    for number in test_list :\n",
    "        if max_v < number :\n",
    "            max_v = number\n",
    "    \n",
    "    #min\n",
    "    min_v = test_list[0]\n",
    "    for number in test_list :\n",
    "        if min_v > number :\n",
    "            min_v = number\n",
    "\n",
    "    diff = max_v - min_v\n",
    "    print(f'#{tc} {diff}')"
   ]
  },
  {
   "cell_type": "code",
   "execution_count": null,
   "metadata": {},
   "outputs": [],
   "source": [
    "# 7.29 풀이 2\n",
    "T = int(input())\n",
    "\n",
    "for tc in range(1,T+1) :\n",
    "    N = int(input())\n",
    "    test_list = list(map(int,input().split()))\n",
    "    \n",
    "    #max\n",
    "    max_v = test_list[0]\n",
    "    min_v = test_list[0]\n",
    "\n",
    "    for i in range(1,N) :\n",
    "\n",
    "        if test_list[i] > max_v :\n",
    "            max_v = test_list[i]\n",
    "\n",
    "        if test_list[i] < min_v:\n",
    "            min_v = test_list[i]    \n",
    "\n",
    "\n",
    "\n",
    "    diff = max_v - min_v\n",
    "    print(f'#{tc} {diff}')\n"
   ]
  },
  {
   "cell_type": "code",
   "execution_count": null,
   "metadata": {},
   "outputs": [],
   "source": [
    "# 8.25 다시풀기\n",
    "\n",
    "#min,max,sort 안쓰기\n",
    "\n",
    "T = int(input())\n",
    "for tc in range(1,T+1) :\n",
    "    N = int(input())\n",
    "    arr = list(map(int,input().split()))\n",
    "    max_val = 0\n",
    "    min_val = 999999999999\n",
    "\n",
    "    for i in range(N) :\n",
    "        if arr[i] > max_val :\n",
    "            max_val = arr[i]\n",
    "        if arr[i] < min_val :\n",
    "            min_val = arr[i]\n",
    "\n",
    "    ans = max_val - min_val\n",
    "\n",
    "    print(f'#{tc} {ans}')"
   ]
  }
 ],
 "metadata": {
  "language_info": {
   "name": "python"
  }
 },
 "nbformat": 4,
 "nbformat_minor": 2
}
