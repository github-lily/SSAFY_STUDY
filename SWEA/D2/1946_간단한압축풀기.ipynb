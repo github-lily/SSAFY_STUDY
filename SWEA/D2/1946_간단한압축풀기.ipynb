{
 "cells": [
  {
   "cell_type": "markdown",
   "metadata": {},
   "source": [
    "# 1946 간단한 압축풀기\n"
   ]
  },
  {
   "cell_type": "code",
   "execution_count": null,
   "metadata": {},
   "outputs": [],
   "source": [
    "# 1차 시도\n",
    "\n",
    "T = int(input())\n",
    "for tc in range(1,T+1) :\n",
    "    N = int(input())\n",
    "    ci,ki = [input().split() for _ in range(N)]\n",
    "\n",
    "    arr = ci*ki\n",
    "    print(arr)\n",
    "\n",
    "# 값을 입력받을 때 너무 수가 크다고 나옴\n",
    "\n"
   ]
  },
  {
   "cell_type": "code",
   "execution_count": null,
   "metadata": {},
   "outputs": [],
   "source": [
    "# 2차 시도\n",
    "# 슬라이싱 활용하기\n",
    "\n",
    "import sys\n",
    "\n",
    "sys.stdin = open(\"test2.txt\", \"r\")\n",
    "\n",
    "T = int(input())\n",
    "for tc in range(1,T+1) :\n",
    "    N = int(input())\n",
    "    str = \"\"\n",
    "    for _ in range(N) :\n",
    "        ci, ki = input().split()\n",
    "\n",
    "        str += ci * int(ki)     #값을 한 줄로 합치기\n",
    "\n",
    "    # print(str)      #한줄로 합쳐진 str\n",
    "    print(f'#{tc}')\n",
    "    for _ in range((len(str)//10)+1):\n",
    "        print(str[:10])     #10개까지만 출력\n",
    "        str = str[10:]      #출력 이후 값으로 str 갱신\n"
   ]
  }
 ],
 "metadata": {
  "language_info": {
   "name": "python"
  }
 },
 "nbformat": 4,
 "nbformat_minor": 2
}
