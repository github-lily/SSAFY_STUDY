{
 "cells": [
  {
   "cell_type": "markdown",
   "metadata": {},
   "source": [
    "# 파리퇴치\n",
    "1. NxN 배열 안의 숫자는 해당 영역에 존재하는 파리의 개수를 의미\n",
    "2. MxM 크기의 파리채를 한 번 내리쳐 잡을 수 있는 최대 파리의 개수를 구하기\n",
    "3. N은 5 이상 15 이하\n",
    "4. M은 2 이상 N 이하\n",
    "5. 각 영역의 파리 개수는 30 이하"
   ]
  },
  {
   "cell_type": "code",
   "execution_count": null,
   "metadata": {},
   "outputs": [],
   "source": [
    "\n",
    "# T = int(input())\n",
    "T = 1\n",
    "\n",
    "\n",
    "for tc in range(1,T+1) :\n",
    "    # N, M = map(int,input().split())\n",
    "    N, M = 5, 2\n",
    "    arr = [list(map(int,input().split())) for _ in range(N)]\n",
    "\n",
    "\n",
    "    max_sum = 0     #최대 합계\n",
    "\n",
    "    for i in range(N) :\n",
    "        for j in range(N) :\n",
    "            sum_val = 0     #mxm의 값\n",
    "            for x in range(i,i+M) :\n",
    "                for y in range(j,j+M) :\n",
    "                    if 0 <= x < N and 0 <= y < N :\n",
    "                        sum_val += arr[x][y]\n",
    "            if max_sum < sum_val :\n",
    "                max_sum = sum_val\n",
    "\n",
    "    print(f'#{tc} {max_sum}')\n",
    "    "
   ]
  },
  {
   "cell_type": "markdown",
   "metadata": {},
   "source": [
    "- 변수 초기화 위치 주의! \n",
    "    - 처음에 sum_val를 max_sum과 같은 위치에 뒀더니 초기화가 안되서 값이 엄청 커짐\n",
    "- x 는 i부터 i+M-1 까지 가야함! j도 마찬가지!\n",
    "    - 그냥 M까지로 했더니 값 비교가 제대로 안됨\n",
    "- if 로 유효한 값인지 확인하기\n",
    "    - 없으면 index 오류나옴!"
   ]
  },
  {
   "cell_type": "code",
   "execution_count": 1,
   "metadata": {},
   "outputs": [
    {
     "ename": "FileNotFoundError",
     "evalue": "[Errno 2] No such file or directory: 'test2.txt'",
     "output_type": "error",
     "traceback": [
      "\u001b[1;31m---------------------------------------------------------------------------\u001b[0m",
      "\u001b[1;31mFileNotFoundError\u001b[0m                         Traceback (most recent call last)",
      "Cell \u001b[1;32mIn[1], line 3\u001b[0m\n\u001b[0;32m      1\u001b[0m \u001b[38;5;28;01mimport\u001b[39;00m \u001b[38;5;21;01msys\u001b[39;00m\n\u001b[1;32m----> 3\u001b[0m sys\u001b[38;5;241m.\u001b[39mstdin \u001b[38;5;241m=\u001b[39m \u001b[38;5;28;43mopen\u001b[39;49m\u001b[43m(\u001b[49m\u001b[38;5;124;43m\"\u001b[39;49m\u001b[38;5;124;43mtest2.txt\u001b[39;49m\u001b[38;5;124;43m\"\u001b[39;49m\u001b[43m,\u001b[49m\u001b[43m \u001b[49m\u001b[38;5;124;43m\"\u001b[39;49m\u001b[38;5;124;43mr\u001b[39;49m\u001b[38;5;124;43m\"\u001b[39;49m\u001b[43m)\u001b[49m\n\u001b[0;32m      5\u001b[0m T \u001b[38;5;241m=\u001b[39m \u001b[38;5;28mint\u001b[39m(\u001b[38;5;28minput\u001b[39m())\n\u001b[0;32m      6\u001b[0m \u001b[38;5;28;01mfor\u001b[39;00m tc \u001b[38;5;129;01min\u001b[39;00m \u001b[38;5;28mrange\u001b[39m(\u001b[38;5;241m1\u001b[39m,T\u001b[38;5;241m+\u001b[39m\u001b[38;5;241m1\u001b[39m) :\n",
      "File \u001b[1;32m~\\AppData\\Roaming\\Python\\Python39\\site-packages\\IPython\\core\\interactiveshell.py:310\u001b[0m, in \u001b[0;36m_modified_open\u001b[1;34m(file, *args, **kwargs)\u001b[0m\n\u001b[0;32m    303\u001b[0m \u001b[38;5;28;01mif\u001b[39;00m file \u001b[38;5;129;01min\u001b[39;00m {\u001b[38;5;241m0\u001b[39m, \u001b[38;5;241m1\u001b[39m, \u001b[38;5;241m2\u001b[39m}:\n\u001b[0;32m    304\u001b[0m     \u001b[38;5;28;01mraise\u001b[39;00m \u001b[38;5;167;01mValueError\u001b[39;00m(\n\u001b[0;32m    305\u001b[0m         \u001b[38;5;124mf\u001b[39m\u001b[38;5;124m\"\u001b[39m\u001b[38;5;124mIPython won\u001b[39m\u001b[38;5;124m'\u001b[39m\u001b[38;5;124mt let you open fd=\u001b[39m\u001b[38;5;132;01m{\u001b[39;00mfile\u001b[38;5;132;01m}\u001b[39;00m\u001b[38;5;124m by default \u001b[39m\u001b[38;5;124m\"\u001b[39m\n\u001b[0;32m    306\u001b[0m         \u001b[38;5;124m\"\u001b[39m\u001b[38;5;124mas it is likely to crash IPython. If you know what you are doing, \u001b[39m\u001b[38;5;124m\"\u001b[39m\n\u001b[0;32m    307\u001b[0m         \u001b[38;5;124m\"\u001b[39m\u001b[38;5;124myou can use builtins\u001b[39m\u001b[38;5;124m'\u001b[39m\u001b[38;5;124m open.\u001b[39m\u001b[38;5;124m\"\u001b[39m\n\u001b[0;32m    308\u001b[0m     )\n\u001b[1;32m--> 310\u001b[0m \u001b[38;5;28;01mreturn\u001b[39;00m io_open(file, \u001b[38;5;241m*\u001b[39margs, \u001b[38;5;241m*\u001b[39m\u001b[38;5;241m*\u001b[39mkwargs)\n",
      "\u001b[1;31mFileNotFoundError\u001b[0m: [Errno 2] No such file or directory: 'test2.txt'"
     ]
    }
   ],
   "source": [
    "import sys\n",
    "\n",
    "sys.stdin = open(\"test2.txt\", \"r\")\n",
    "\n",
    "T = int(input())\n",
    "for tc in range(1,T+1) :\n",
    "    N, M = map(int,input().split())\n",
    "    arr = [list(map(int,input().split())) for _ in range(N)]\n",
    "\n",
    "\n",
    "    max_kill = 0\n",
    "    #전체 행렬 탐색\n",
    "    for r in range(N-M+1) :\n",
    "        for c in range(N-M+1) :\n",
    "            # 파리채 너비 탐색\n",
    "            kill = 0\n",
    "            for i in range(M) :\n",
    "                for j in range(M) :\n",
    "                    nr = r + i\n",
    "                    nc = c + j\n",
    "                    if 0 <= nr < N and 0 <= nc < N :\n",
    "                        kill += arr[nr][nc]\n",
    "            if max_kill < kill :\n",
    "                max_kill = kill\n",
    "\n",
    "    print(f'#{tc} {max_kill}')"
   ]
  }
 ],
 "metadata": {
  "kernelspec": {
   "display_name": "Python 3",
   "language": "python",
   "name": "python3"
  },
  "language_info": {
   "codemirror_mode": {
    "name": "ipython",
    "version": 3
   },
   "file_extension": ".py",
   "mimetype": "text/x-python",
   "name": "python",
   "nbconvert_exporter": "python",
   "pygments_lexer": "ipython3",
   "version": "3.9.13"
  }
 },
 "nbformat": 4,
 "nbformat_minor": 2
}
