{
 "cells": [
  {
   "cell_type": "markdown",
   "metadata": {},
   "source": [
    "# 파리퇴치\n",
    "1. NxN 배열 안의 숫자는 해당 영역에 존재하는 파리의 개수를 의미\n",
    "2. MxM 크기의 파리채를 한 번 내리쳐 잡을 수 있는 최대 파리의 개수를 구하기\n",
    "3. N은 5 이상 15 이하\n",
    "4. M은 2 이상 N 이하\n",
    "5. 각 영역의 파리 개수는 30 이하"
   ]
  },
  {
   "cell_type": "code",
   "execution_count": null,
   "metadata": {},
   "outputs": [],
   "source": [
    "\n",
    "# T = int(input())\n",
    "T = 1\n",
    "\n",
    "\n",
    "for tc in range(1,T+1) :\n",
    "    # N, M = map(int,input().split())\n",
    "    N, M = 5, 2\n",
    "    arr = [list(map(int,input().split())) for _ in range(N)]\n",
    "\n",
    "\n",
    "    max_sum = 0     #최대 합계\n",
    "\n",
    "    for i in range(N) :\n",
    "        for j in range(N) :\n",
    "            sum_val = 0     #mxm의 값\n",
    "            for x in range(i,i+M) :\n",
    "                for y in range(j,j+M) :\n",
    "                    if 0 <= x < N and 0 <= y < N :\n",
    "                        sum_val += arr[x][y]\n",
    "            if max_sum < sum_val :\n",
    "                max_sum = sum_val\n",
    "\n",
    "    print(f'#{tc} {max_sum}')\n",
    "    "
   ]
  },
  {
   "cell_type": "markdown",
   "metadata": {},
   "source": [
    "- 변수 초기화 위치 주의! \n",
    "    - 처음에 sum_val를 max_sum과 같은 위치에 뒀더니 초기화가 안되서 값이 엄청 커짐\n",
    "- x 는 i부터 i+M-1 까지 가야함! j도 마찬가지!\n",
    "    - 그냥 M까지로 했더니 값 비교가 제대로 안됨\n",
    "- if 로 유효한 값인지 확인하기\n",
    "    - 없으면 index 오류나옴!"
   ]
  }
 ],
 "metadata": {
  "language_info": {
   "name": "python"
  }
 },
 "nbformat": 4,
 "nbformat_minor": 2
}
