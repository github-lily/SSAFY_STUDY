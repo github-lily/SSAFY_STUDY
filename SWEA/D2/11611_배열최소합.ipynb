{
 "cells": [
  {
   "cell_type": "code",
   "execution_count": 1,
   "metadata": {},
   "outputs": [
    {
     "name": "stdout",
     "output_type": "stream",
     "text": [
      "0 0 0\n",
      "0 0 1\n",
      "0 0 2\n",
      "0 1 0\n",
      "0 1 1\n",
      "0 1 2\n",
      "0 2 0\n",
      "0 2 1\n",
      "0 2 2\n",
      "1 0 0\n",
      "1 0 1\n",
      "1 0 2\n",
      "1 1 0\n",
      "1 1 1\n",
      "1 1 2\n",
      "1 2 0\n",
      "1 2 1\n",
      "1 2 2\n",
      "2 0 0\n",
      "2 0 1\n",
      "2 0 2\n",
      "2 1 0\n",
      "2 1 1\n",
      "2 1 2\n",
      "2 2 0\n",
      "2 2 1\n",
      "2 2 2\n"
     ]
    }
   ],
   "source": [
    "arr = ['A','B','C']\n",
    "N = len(arr)\n",
    "\n",
    "for i in range(N) :     #첫번째 요소를 결정\n",
    "    for j in range(N) :     #두번째 요소를 결정\n",
    "        for k in range(N) :     #3번째 요소를 결정\n",
    "            print(i,j,k)            #중복순열 총 3의 3승개(27개)의 값이 나옴"
   ]
  },
  {
   "cell_type": "code",
   "execution_count": 4,
   "metadata": {},
   "outputs": [
    {
     "name": "stdout",
     "output_type": "stream",
     "text": [
      "0 1 2\n",
      "0 2 1\n",
      "1 0 2\n",
      "1 2 0\n",
      "2 0 1\n",
      "2 1 0\n"
     ]
    }
   ],
   "source": [
    "arr = ['A','B','C']\n",
    "N = len(arr)\n",
    "\n",
    "for i in range(N) :     #첫번째 요소를 결정\n",
    "    for j in range(N) :     #두번째 요소를 결정\n",
    "        if j == i : continue    #건너뜀\n",
    "        for k in range(N) :     #3번째 요소를 결정\n",
    "            if k == j or k == i : continue  #건너뜀\n",
    "            print(i,j,k)            #중복 없는 순열. 3팩토리얼개가 나옴"
   ]
  },
  {
   "cell_type": "code",
   "execution_count": 7,
   "metadata": {},
   "outputs": [
    {
     "name": "stdout",
     "output_type": "stream",
     "text": [
      "['A', 'B', 'C']\n",
      "['A', 'C', 'B']\n",
      "['B', 'A', 'C']\n",
      "['B', 'C', 'A']\n",
      "['C', 'A', 'B']\n",
      "['C', 'B', 'A']\n"
     ]
    }
   ],
   "source": [
    "arr = ['A','B','C']\n",
    "N = len(arr)\n",
    "visit = [0] * N         # 선택된 요소들에 대한 정보\n",
    "order = [0] * N         # 실제 순열을 저장\n",
    "\n",
    "for i in range(N) :     \n",
    "    if visit[i] : continue\n",
    "    visit[i] = 1 ;  order[0] = arr[i]\n",
    "    for j in range(N) :\n",
    "        if visit[j] : continue\n",
    "        visit[j] = 1 ; order[1] = arr[j]\n",
    "        for k in range(N) :\n",
    "            if visit[k] : continue\n",
    "            visit[k] = 1 ; order[2] = arr[k]\n",
    "            print(order)\n",
    "            visit[k] = 0        #새로운 조합을 만들 수 있도록 값 리셋 해주기\n",
    "        visit[j] = 0\n",
    "    visit[i] = 0"
   ]
  },
  {
   "cell_type": "code",
   "execution_count": 10,
   "metadata": {},
   "outputs": [
    {
     "name": "stdout",
     "output_type": "stream",
     "text": [
      "['A', 'B', 'C']\n",
      "['A', 'C', 'B']\n",
      "['B', 'A', 'C']\n",
      "['B', 'C', 'A']\n",
      "['C', 'A', 'B']\n",
      "['C', 'B', 'A']\n"
     ]
    }
   ],
   "source": [
    "#위의 식을 재귀호출로 바꿈\n",
    "\n",
    "arr = ['A','B','C']\n",
    "N = len(arr)\n",
    "visit = [0] * N         # 선택된 요소들에 대한 정보\n",
    "order = [0] * N         # 실제 순열을 저장\n",
    "\n",
    "\n",
    "# k : 함수 호출의 깊이, k번째 요소에 대한 결정을 한다는 의미\n",
    "def backtrack(k,n) :\n",
    "    if k == n :         #마지막에 도달 했을 때, 함수 호출 트리의 단말 노드에 도착. 모든 선택이 끝남\n",
    "        print(order)\n",
    "    else :\n",
    "        for i in range(N) :\n",
    "            if visit[i] : continue\n",
    "            visit[i] = 1\n",
    "            order[k] = arr[i]\n",
    "\n",
    "            backtrack(k+1,n)\n",
    "\n",
    "            visit[i] = 0\n",
    "\n",
    "backtrack(0,N)"
   ]
  },
  {
   "cell_type": "code",
   "execution_count": null,
   "metadata": {},
   "outputs": [],
   "source": [
    "#위의 식을 재귀호출로 바꿈\n",
    "\n",
    "arr = ['A','B','C']\n",
    "N = len(arr)\n",
    "visit = [0] * N         # 선택된 요소들에 대한 정보\n",
    "order = [0] * N         # 실제 순열을 저장\n",
    "\n",
    "\n",
    "# k : 함수 호출의 깊이, k번째 요소에 대한 결정을 한다는 의미\n",
    "def backtrack(k,n) :\n",
    "    if k == n :         #마지막에 도달 했을 때, 함수 호출 트리의 단말 노드에 도착. 모든 선택이 끝남\n",
    "        print(order)\n",
    "    else :\n",
    "        for i in range(N) :\n",
    "            if visit[i] : continue\n",
    "            visit[i] = 1\n",
    "            order[k] = arr[i]\n",
    "\n",
    "            backtrack(k+1,n)\n",
    "\n",
    "            visit[i] = 0\n",
    "\n",
    "backtrack(0,N)"
   ]
  },
  {
   "cell_type": "code",
   "execution_count": null,
   "metadata": {},
   "outputs": [],
   "source": [
    "# 1단계\n",
    "\n",
    "T = int(input())\n",
    "N = int(input())\n",
    "arr = [list(map(int, input().split())) for _ in range(N)]\n",
    "\n",
    "\n",
    "visit = [0] * N     # 선택된 요소들에 대한 정보\n",
    "cols = [0] * N     # 열번호 저장, cols[0] <- 0번행의 열값을 저장\n",
    "\n",
    "# k: 함수 호출의 깊이, k번째 요소에 대한 결정을 한다는 의미\n",
    "def backtrack(k, n):\n",
    "    if k == n:      # 함수 호출 트리의 단말 노드, 모든 선택이 끝남\n",
    "        S = 0\n",
    "        for row in range(n):\n",
    "            # cols[row] => row행에서 선택한 숫자의 열번호\n",
    "            print(arr[row][cols[row]], end=' ')\n",
    "            S += arr[row][cols[row]]\n",
    "        print('|', S)\n",
    "    else:\n",
    "        for i in range(n):  # 첫번째 요소를 결정\n",
    "            if visit[i]: continue\n",
    "            visit[i] = 1\n",
    "            cols[k] = i     # k번행에서 i번 열의 숫자를 선택\n",
    "\n",
    "            backtrack(k + 1, n)\n",
    "\n",
    "            visit[i] = 0\n",
    "\n",
    "backtrack(0, N)\n"
   ]
  },
  {
   "cell_type": "code",
   "execution_count": null,
   "metadata": {},
   "outputs": [],
   "source": [
    "# 2단계\n",
    "\n",
    "T = int(input())\n",
    "N = int(input())\n",
    "arr = [list(map(int, input().split())) for _ in range(N)]\n",
    "\n",
    "\n",
    "visit = [0] * N     # 선택된 요소들에 대한 정보\n",
    "cols = [0] * N     # 열번호 저장, cols[0] <- 0번행의 열값을 저장\n",
    "\n",
    "# cur_sum => 지금까지 선택한 숫자들의 합, 0~k-1번행 까지 선택한 숫자들의 합\n",
    "def backtrack(k, n, cur_sum):\n",
    "    if k == n:\n",
    "        S = 0\n",
    "        for row in range(n):\n",
    "            print(arr[row][cols[row]], end=' ')\n",
    "            S += arr[row][cols[row]]\n",
    "        print('|', S, cur_sum)\n",
    "    else:\n",
    "        for i in range(n):  # 첫번째 요소를 결정\n",
    "            if visit[i]: continue\n",
    "            visit[i] = 1\n",
    "            cols[k] = i     # k번행에서 i번 열의 숫자를 선택\n",
    "\n",
    "            backtrack(k + 1, n, cur_sum + arr[k][i])\n",
    "\n",
    "            visit[i] = 0\n",
    "\n",
    "backtrack(0, N, 0)"
   ]
  },
  {
   "cell_type": "code",
   "execution_count": null,
   "metadata": {},
   "outputs": [],
   "source": [
    "# 3단계\n",
    "\n",
    "T = int(input())\n",
    "N = int(input())\n",
    "arr = [list(map(int, input().split())) for _ in range(N)]\n",
    "\n",
    "visit = [0] * N     # 선택된 요소들에 대한 정보\n",
    "\n",
    "ans = 0xffffffff\n",
    "# cur_sum => 지금까지 선택한 숫자들의 합, 0~k-1번행 까지 선택한 숫자들의 합\n",
    "def backtrack(k, n, cur_sum):\n",
    "    global ans\n",
    "    if k == n:\n",
    "        if ans > cur_sum:\n",
    "            ans = cur_sum\n",
    "            print(cur_sum)\n",
    "    else:\n",
    "        for i in range(n):  # 첫번째 요소를 결정\n",
    "            if visit[i]: continue\n",
    "            visit[i] = 1\n",
    "\n",
    "            backtrack(k + 1, n, cur_sum + arr[k][i])\n",
    "\n",
    "            visit[i] = 0\n",
    "\n",
    "backtrack(0, N, 0)\n",
    "print(ans)\n"
   ]
  },
  {
   "cell_type": "code",
   "execution_count": null,
   "metadata": {},
   "outputs": [],
   "source": [
    "# 4단계\n",
    "T = int(input())\n",
    "for tc in range(1, T + 1):\n",
    "    N = int(input())\n",
    "    arr = [list(map(int, input().split())) for _ in range(N)]\n",
    "\n",
    "    visit = [0] * N     # 선택된 요소들에 대한 정보\n",
    "\n",
    "    ans = 0xffffffff\n",
    "    # cur_sum => 지금까지 선택한 숫자들의 합, 0~k-1번행 까지 선택한 숫자들의 합\n",
    "    def backtrack(k, n, cur_sum):\n",
    "        global ans\n",
    "        if ans <= cur_sum:\n",
    "            return\n",
    "        if k == n:\n",
    "            if ans > cur_sum:\n",
    "                ans = cur_sum\n",
    "                # print(cur_sum)\n",
    "        else:\n",
    "            for i in range(n):  # 첫번째 요소를 결정\n",
    "                if visit[i]: continue\n",
    "                visit[i] = 1\n",
    "\n",
    "                backtrack(k + 1, n, cur_sum + arr[k][i])\n",
    "\n",
    "                visit[i] = 0\n",
    "    \n",
    "    backtrack(0, N, 0)\n",
    "    print(ans)"
   ]
  }
 ],
 "metadata": {
  "kernelspec": {
   "display_name": "Python 3",
   "language": "python",
   "name": "python3"
  },
  "language_info": {
   "codemirror_mode": {
    "name": "ipython",
    "version": 3
   },
   "file_extension": ".py",
   "mimetype": "text/x-python",
   "name": "python",
   "nbconvert_exporter": "python",
   "pygments_lexer": "ipython3",
   "version": "3.9.13"
  }
 },
 "nbformat": 4,
 "nbformat_minor": 2
}
