{
 "cells": [
  {
   "cell_type": "code",
   "execution_count": null,
   "metadata": {},
   "outputs": [],
   "source": [
    "# 8.9 처음 풀기\n",
    "\n",
    "T = int(input())\n",
    "\n",
    "for tc in range(1,T+1) :\n",
    "    N = int(input())\n",
    "    arr = list(map(int,input().split()))\n",
    "\n",
    "\n",
    "    for i in range(N-1) :\n",
    "        for j in range(N-1) :\n",
    "            if arr[j] > arr[j+1] :\n",
    "                arr[j],arr[j+1] = arr[j+1],arr[j]\n",
    "\n",
    "\n",
    "\n",
    "    print(f'#{tc}', *arr)"
   ]
  },
  {
   "cell_type": "code",
   "execution_count": 1,
   "metadata": {},
   "outputs": [
    {
     "ename": "ValueError",
     "evalue": "invalid literal for int() with base 10: ''",
     "output_type": "error",
     "traceback": [
      "\u001b[1;31m---------------------------------------------------------------------------\u001b[0m",
      "\u001b[1;31mValueError\u001b[0m                                Traceback (most recent call last)",
      "Cell \u001b[1;32mIn[1], line 9\u001b[0m\n\u001b[0;32m      2\u001b[0m \u001b[38;5;124;03m'''\u001b[39;00m\n\u001b[0;32m      3\u001b[0m \u001b[38;5;124;03m- 주어진 N 길이의 숫자열을 오름차순으로 정렬\u001b[39;00m\n\u001b[0;32m      4\u001b[0m \n\u001b[0;32m      5\u001b[0m \u001b[38;5;124;03m'''\u001b[39;00m\n\u001b[0;32m      8\u001b[0m \u001b[38;5;66;03m# 버블정렬\u001b[39;00m\n\u001b[1;32m----> 9\u001b[0m T \u001b[38;5;241m=\u001b[39m \u001b[38;5;28;43mint\u001b[39;49m\u001b[43m(\u001b[49m\u001b[38;5;28;43minput\u001b[39;49m\u001b[43m(\u001b[49m\u001b[43m)\u001b[49m\u001b[43m)\u001b[49m\n\u001b[0;32m     10\u001b[0m \u001b[38;5;28;01mfor\u001b[39;00m tc \u001b[38;5;129;01min\u001b[39;00m \u001b[38;5;28mrange\u001b[39m(\u001b[38;5;241m1\u001b[39m,T\u001b[38;5;241m+\u001b[39m\u001b[38;5;241m1\u001b[39m):\n\u001b[0;32m     11\u001b[0m     N \u001b[38;5;241m=\u001b[39m \u001b[38;5;28mint\u001b[39m(\u001b[38;5;28minput\u001b[39m())  \u001b[38;5;66;03m#N :정수의 개수 M : 구간의 개수\u001b[39;00m\n",
      "\u001b[1;31mValueError\u001b[0m: invalid literal for int() with base 10: ''"
     ]
    }
   ],
   "source": [
    "# 8.24 다시풀기\n",
    "'''\n",
    "- 주어진 N 길이의 숫자열을 오름차순으로 정렬\n",
    "\n",
    "'''\n",
    "\n",
    "\n",
    "# 버블정렬\n",
    "T = int(input())\n",
    "for tc in range(1,T+1):\n",
    "    N = int(input())  #N :정수의 개수 M : 구간의 개수\n",
    "    arr = list(map(int,input().split()))\n",
    "\n",
    "    for i in range(N-1, 0,-1) :\n",
    "        for j in range(i) :\n",
    "            if arr[j] > arr[j+1] :\n",
    "                arr[j],arr[j+1] = arr[j+1], arr[j]\n",
    "\n",
    "\n",
    "    print(f'#{tc}', *arr)\n"
   ]
  },
  {
   "cell_type": "code",
   "execution_count": null,
   "metadata": {},
   "outputs": [],
   "source": [
    "# 8.25 다시풀기\n",
    "\n",
    "\n",
    "# 버블정렬\n",
    "T = int(input())\n",
    "for tc in range(1,T+1) :\n",
    "    N = int(input())\n",
    "    arr = list(map(int,input().split()))\n",
    "\n",
    "    for i in range(N-1,0,-1) :\n",
    "        for j in range(i) :\n",
    "            if arr[j] > arr[j+1] :\n",
    "                arr[j], arr[j+1] = arr[j+1], arr[j]\n",
    "\n",
    "\n",
    "\n",
    "    print(f'#{tc}', *arr)"
   ]
  }
 ],
 "metadata": {
  "kernelspec": {
   "display_name": "Python 3",
   "language": "python",
   "name": "python3"
  },
  "language_info": {
   "codemirror_mode": {
    "name": "ipython",
    "version": 3
   },
   "file_extension": ".py",
   "mimetype": "text/x-python",
   "name": "python",
   "nbconvert_exporter": "python",
   "pygments_lexer": "ipython3",
   "version": "3.9.13"
  }
 },
 "nbformat": 4,
 "nbformat_minor": 2
}
