{
 "cells": [
  {
   "cell_type": "code",
   "execution_count": null,
   "metadata": {},
   "outputs": [],
   "source": [
    "T = int(input())\n",
    "for tc in range(1,T+1) :\n",
    "    N, H, W = map(int,input().split())\n",
    "    arr = [list(map(int,input().split())) for _ in range(N)]\n",
    "\n",
    "    ans = 0\n",
    "    dr = [0,1,0,-1]\n",
    "    dc = [1,0,-1,0]\n",
    "    distance = [W,H,W,H]\n",
    "\n",
    "    for r in range(N) :\n",
    "        for c in range(N) :\n",
    "            sum_val = 0\n",
    "            for i in range(4) :\n",
    "                for j in range(1,distance[i]) :\n",
    "                    nr = r + dr[i] * j\n",
    "                    nc = c + dc[i] * j\n",
    "                    if 0 <= nr < N and 0 <= nc < N :\n",
    "                        sum_val += arr[nr][nc]\n",
    "\n",
    "                r = nr\n",
    "                c = nc\n",
    "            if ans < sum_val :\n",
    "                ans = sum_val\n",
    "\n",
    "    print(f'#{tc} {ans}')\n",
    "\n"
   ]
  }
 ],
 "metadata": {
  "language_info": {
   "name": "python"
  }
 },
 "nbformat": 4,
 "nbformat_minor": 2
}
