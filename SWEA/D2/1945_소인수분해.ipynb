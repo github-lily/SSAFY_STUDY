{
 "cells": [
  {
   "cell_type": "markdown",
   "metadata": {},
   "source": [
    "# 1945 간단한 소인수분해"
   ]
  },
  {
   "cell_type": "code",
   "execution_count": null,
   "metadata": {},
   "outputs": [],
   "source": [
    "# 1차 시도\n",
    "\n",
    "T = int(input())\n",
    "for tc in range(1,T+1) :\n",
    "    N = int(input())\n",
    "    a = b = c = d = e = 0\n",
    "\n",
    "    while str(N).isdecimal() :\n",
    "        N = abs(N / 2)\n",
    "        a += 1\n",
    "\n",
    "    while str(N).isdecimal() :\n",
    "        N = N / 3\n",
    "        b += 1\n",
    "\n",
    "    while str(N).isdecimal() :\n",
    "        N = N / 5\n",
    "        c += 1\n",
    "\n",
    "    while str(N).isdecimal() :\n",
    "        N = N / 7\n",
    "        d += 1\n",
    "\n",
    "    while str(N).isdecimal() :\n",
    "        N = N / 11\n",
    "        e += 1\n",
    "\n",
    "\n",
    "    print(f'#{tc} {a} {b} {c} {d} {e}')\n",
    "\n",
    "\n",
    "# 나눈값이 .00 식으로 나와서 while문이 바로 끝남\n",
    "# round 또는 abs(N/2)로 하면 while문이 안끝남"
   ]
  },
  {
   "cell_type": "code",
   "execution_count": null,
   "metadata": {},
   "outputs": [],
   "source": [
    "# 2차 시도\n",
    "\n",
    "T = int(input())\n",
    "for tc in range(1,T+1) :\n",
    "    N = int(input())\n",
    "    x_2 = x_3 = x_5 = x_7 = x_11 = 0\n",
    "    \n",
    "\n",
    "    n_lst = [2,3,5,7,11]\n",
    "    for n in n_lst :\n",
    "        cnt = 0\n",
    "        while N % n == 0 :\n",
    "            N = N / n\n",
    "            cnt =+ 1\n",
    "            \n",
    "\n",
    "    print(f'#{tc} {a} {b} {c} {d} {e}')\n",
    "\n",
    "# 반복으로 합치려고 시도\n",
    "# 카운트는 어떻게하지? 딕셔너리"
   ]
  },
  {
   "cell_type": "code",
   "execution_count": null,
   "metadata": {},
   "outputs": [],
   "source": [
    "# 3차 시도 정답\n",
    "\n",
    "T = int(input())\n",
    "for tc in range(1,T+1) :\n",
    "    N = int(input())\n",
    "    a = b = c = d = e = 0\n",
    "\n",
    "    while N % 2== 0 :\n",
    "        N = abs(N / 2)\n",
    "        a += 1\n",
    "\n",
    "    while N % 3== 0 :\n",
    "        N = N / 3\n",
    "        b += 1\n",
    "\n",
    "    while N % 5== 0 :\n",
    "        N = N / 5\n",
    "        c += 1\n",
    "\n",
    "    while N % 7== 0 :\n",
    "        N = N / 7\n",
    "        d += 1\n",
    "\n",
    "    while N % 11 == 0 :\n",
    "        N = N / 11\n",
    "        e += 1\n",
    "\n",
    "\n",
    "    print(f'#{tc} {a} {b} {c} {d} {e}')"
   ]
  },
  {
   "cell_type": "code",
   "execution_count": null,
   "metadata": {},
   "outputs": [],
   "source": [
    "# 4차시도 : 2차 시도 변형(딕셔너리 사용)\n",
    "\n",
    "\n",
    "T = int(input())\n",
    "for tc in range(1,T+1) :\n",
    "    N = int(input())\n",
    "    dict = {2:0,3:0,5:0,7:0,11:0}\n",
    "    \n",
    "    # print(len(dict)) #5\n",
    "\n",
    "    for n in dict.keys() :\n",
    "        while N % n == 0 :\n",
    "            dict[n] += 1\n",
    "            N = N / n\n",
    "            \n",
    "\n",
    "    print(f'#{tc} {dict[2]} {dict[3]} {dict[5]} {dict[7]} {dict[11]}')"
   ]
  },
  {
   "cell_type": "code",
   "execution_count": 7,
   "metadata": {},
   "outputs": [
    {
     "name": "stdout",
     "output_type": "stream",
     "text": [
      "5.5\n"
     ]
    }
   ],
   "source": [
    "print(11/2)"
   ]
  },
  {
   "cell_type": "code",
   "execution_count": null,
   "metadata": {},
   "outputs": [],
   "source": []
  }
 ],
 "metadata": {
  "kernelspec": {
   "display_name": "Python 3",
   "language": "python",
   "name": "python3"
  },
  "language_info": {
   "codemirror_mode": {
    "name": "ipython",
    "version": 3
   },
   "file_extension": ".py",
   "mimetype": "text/x-python",
   "name": "python",
   "nbconvert_exporter": "python",
   "pygments_lexer": "ipython3",
   "version": "3.9.13"
  }
 },
 "nbformat": 4,
 "nbformat_minor": 2
}
