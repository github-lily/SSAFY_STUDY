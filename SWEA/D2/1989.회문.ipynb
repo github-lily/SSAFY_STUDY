{
 "cells": [
  {
   "cell_type": "markdown",
   "metadata": {},
   "source": [
    "# 초심자의 회문 검사\n",
    "- 단어를 입력받아 회문이면 1, 아니라면 0을 출력"
   ]
  },
  {
   "cell_type": "code",
   "execution_count": 6,
   "metadata": {},
   "outputs": [
    {
     "name": "stdout",
     "output_type": "stream",
     "text": [
      "#1 0\n"
     ]
    }
   ],
   "source": [
    "T = int(input())\n",
    "\n",
    "for tc in range(1,T+1) :\n",
    "    case = list(input())\n",
    "    N = len(case)\n",
    "    for i in range(N//2) :\n",
    "        if case[i] == case[N-1-i] :\n",
    "             result = 1\n",
    "        else :\n",
    "            result = 0\n",
    "    print(f'#{tc} {result}')\n",
    "            \n",
    "        \n",
    "\n"
   ]
  },
  {
   "cell_type": "code",
   "execution_count": null,
   "metadata": {},
   "outputs": [],
   "source": [
    "\n",
    " \n",
    "T = int(input())\n",
    "for tc in range(1,T+1) :\n",
    "    text = list(input())\n",
    " \n",
    "    N = len(text)\n",
    " \n",
    "    x = round(N//2)\n",
    "    for i in range(x) :\n",
    "        if text[i] == text[N-i-1] :\n",
    "            result = 1\n",
    "        else :\n",
    "            result = 0\n",
    " \n",
    "    print(f'#{tc} {result}')"
   ]
  },
  {
   "cell_type": "code",
   "execution_count": null,
   "metadata": {},
   "outputs": [],
   "source": [
    "# 8.26 다시풀어봄\n",
    "# 변수를 사용하여 보기 더 쉬워짐\n",
    "# 일치할 경우가 아닌 불일치할 경우를 찾고 브레이크를 걸어 실행 시간을 20ms 감소시킴\n",
    "\n",
    "T = int(input())\n",
    "for tc in range(1, T+1):\n",
    "    text = input()\n",
    "    M = len(text)\n",
    "\n",
    "    s = 0\n",
    "    e = M-1\n",
    "    for i in range(M//2) :\n",
    "        if text[s+i] != text[e-i] :\n",
    "            ans = 0\n",
    "            break\n",
    "    else :\n",
    "        ans = 1\n",
    "\n",
    "    print(f'#{tc} {ans}')"
   ]
  }
 ],
 "metadata": {
  "kernelspec": {
   "display_name": "Python 3",
   "language": "python",
   "name": "python3"
  },
  "language_info": {
   "codemirror_mode": {
    "name": "ipython",
    "version": 3
   },
   "file_extension": ".py",
   "mimetype": "text/x-python",
   "name": "python",
   "nbconvert_exporter": "python",
   "pygments_lexer": "ipython3",
   "version": "3.9.13"
  }
 },
 "nbformat": 4,
 "nbformat_minor": 2
}
