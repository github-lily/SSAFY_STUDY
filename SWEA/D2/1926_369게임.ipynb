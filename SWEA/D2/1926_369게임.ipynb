{
 "cells": [
  {
   "cell_type": "markdown",
   "metadata": {},
   "source": [
    "# 1926 간단한 369게임\n",
    "- 숫자 1부터 순서대로 말하되 3,6,9가 들어가면 숫자를 말하지 않고 숫자가 들어가있는 개수만큼 박수(-,--)를 친다.\n",
    "- 1부터 N까지의 숫자를 진행"
   ]
  },
  {
   "cell_type": "code",
   "execution_count": 8,
   "metadata": {},
   "outputs": [
    {
     "name": "stdout",
     "output_type": "stream",
     "text": [
      "1 2 - 4 5 - 7 8 - 10 11 12 13 14 15 16 17 18 19 20 21 22 23 24 25 26 27 28 29 30 "
     ]
    }
   ],
   "source": [
    "N = int(input())\n",
    "\n",
    "\n",
    "game = 3,6,9\n",
    "\n",
    "\n",
    "for i in range(1,N+1) :\n",
    "    if i in game :\n",
    "        i = '-'     #근데 이러면... 36은?\n",
    "    \n",
    "    print(i, end =' ')"
   ]
  },
  {
   "cell_type": "code",
   "execution_count": 15,
   "metadata": {},
   "outputs": [
    {
     "name": "stdout",
     "output_type": "stream",
     "text": [
      "1 2 - 4 5 - 7 8 - 10 11 12 - 14 15 - 17 18 - 20 21 22 - 24 25 - 27 28 - - - - -- - - -- - - -- 40 41 42 - 44 45 - 47 48 - 50 "
     ]
    }
   ],
   "source": [
    "N = int(input())\n",
    "\n",
    "\n",
    "for i in range(1, N+1) :\n",
    "    if '3' in str(i) or '6' in str(i) or '9' in str(i) :\n",
    "        cnt = str(i).count('3') + str(i).count('6') + str(i).count('9')\n",
    "        print('-'*cnt, end=' ')\n",
    "\n",
    "    else :\n",
    "        print(i, end =\" \") \n",
    "\n",
    "\n",
    "\n"
   ]
  },
  {
   "cell_type": "code",
   "execution_count": 18,
   "metadata": {},
   "outputs": [
    {
     "name": "stdout",
     "output_type": "stream",
     "text": [
      "-\n",
      "-\n",
      "-\n",
      "-\n",
      "-\n",
      "-\n",
      "-\n",
      "-\n",
      "-\n",
      "-\n"
     ]
    }
   ],
   "source": [
    "N = int(input())\n",
    "\n",
    "num = []\n",
    "for i in range(1, N+1) :\n",
    "    num.append(str(i))\n",
    "\n",
    "lst = []\n",
    "for x in num :      # string으로 바뀐 숫자\n",
    "    for y in x :    # 숫자 하나하나 뜯어보기\n",
    "        if y == '3' or y == '6' or y == '9' :\n",
    "            y = '-'\n",
    "            # y값을 '-'로 바꾼 값이 들어간 num을 출력하고싶음\n",
    "            \n",
    "\n",
    "\n"
   ]
  }
 ],
 "metadata": {
  "kernelspec": {
   "display_name": "Python 3",
   "language": "python",
   "name": "python3"
  },
  "language_info": {
   "codemirror_mode": {
    "name": "ipython",
    "version": 3
   },
   "file_extension": ".py",
   "mimetype": "text/x-python",
   "name": "python",
   "nbconvert_exporter": "python",
   "pygments_lexer": "ipython3",
   "version": "3.9.13"
  }
 },
 "nbformat": 4,
 "nbformat_minor": 2
}
