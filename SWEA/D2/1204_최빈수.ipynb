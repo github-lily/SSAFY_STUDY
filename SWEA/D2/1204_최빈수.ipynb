{
 "cells": [
  {
   "cell_type": "markdown",
   "metadata": {},
   "source": [
    "# 최빈수 구하기\n",
    "- 최빈수 : 특정 자료에서 가장 여러번 나타나는 값\n",
    "- 최빈수를 출력하라\n",
    "- 최빈수가 여러개일 때에는 가장 큰 점수를 출력하라\n",
    "- 학생 수는 1000명이며 각 학생의 점수는 0점 이상 100점 이하의 값"
   ]
  },
  {
   "cell_type": "code",
   "execution_count": 3,
   "metadata": {},
   "outputs": [
    {
     "name": "stdout",
     "output_type": "stream",
     "text": [
      "#1 71\n"
     ]
    }
   ],
   "source": [
    "T = int(input())\n",
    "for _ in range(1,T+1) :\n",
    "    tc = int(input())\n",
    "    score = list(map(int,input().split()))\n",
    "    count_list = [0] *101   #점수 카운트할 리스트\n",
    "    max_count = 0        #최빈수의 카운트 수 인덱스\n",
    "    for i in range(1000) :\n",
    "        count_list[score[i]] += 1\n",
    "        if count_list[score[i]] > count_list[max_count] :\n",
    "            max_count = score[i]\n",
    "        elif count_list[score[i]] == count_list[max_count]  :\n",
    "            if max_count < score[i] :\n",
    "                max_count = score[i]\n",
    "\n",
    "            \n",
    "    \n",
    "    print(f'#{tc} {max_count}')\n"
   ]
  },
  {
   "cell_type": "code",
   "execution_count": null,
   "metadata": {},
   "outputs": [],
   "source": [
    "# 8.25 위의 코드 수정\n",
    "\n",
    "T = int(input())\n",
    "for _ in range(1,T+1) :\n",
    "    tc = int(input())\n",
    "    score = list(map(int,input().split()))\n",
    "    count_list = [0] *101   #점수 카운트할 리스트\n",
    "    max_count = 0        #최빈수의 카운트 수 인덱스\n",
    "    for i in range(1000) :\n",
    "        count_list[score[i]] += 1\n",
    "        if count_list[score[i]] >= count_list[max_count] :\n",
    "            max_count = score[i]\n",
    "\n",
    "\n",
    "            \n",
    "    \n",
    "    print(f'#{tc} {max_count}')\n"
   ]
  },
  {
   "cell_type": "markdown",
   "metadata": {},
   "source": [
    "- 0점부터 100점까지 : 101개!\n",
    "- 최빈수가 여러개일때는 가장 큰 점수 출력!\n"
   ]
  },
  {
   "cell_type": "code",
   "execution_count": 3,
   "metadata": {},
   "outputs": [
    {
     "name": "stdout",
     "output_type": "stream",
     "text": [
      "[0, 1, 2, 3, 4, 5, 6, 7, 8, 9]\n",
      "9\n"
     ]
    }
   ],
   "source": [
    "lst = list(range(10))\n",
    "print(lst)\n",
    "\n",
    "max_idx = lst.index(max(lst))\n",
    "print(max_idx)"
   ]
  },
  {
   "cell_type": "code",
   "execution_count": null,
   "metadata": {},
   "outputs": [],
   "source": [
    "# 8.25 다시풀기\n",
    "# 맨 처음보다 11ms 빠름 3개 중 제일 빠름\n",
    "\n",
    "T = int(input())\n",
    "for tc in range(1,11) :\n",
    "    tc = int(input())\n",
    "    arr = list(map(int,input().split()))    #학생들 성적\n",
    "    cnt = [0] * 101\n",
    "\n",
    "\n",
    "    for i in range(1000) :\n",
    "        cnt[arr[i]] += 1\n",
    "\n",
    "    max_val = 0\n",
    "    for idx in range(101) :\n",
    "        if max_val <= cnt[idx] :       #같은 값일 경우 큰 수이므로 <=\n",
    "            max_val = cnt[idx]\n",
    "            ans = idx\n",
    "\n",
    "\n",
    "    print(f'#{tc} {ans}')"
   ]
  }
 ],
 "metadata": {
  "kernelspec": {
   "display_name": "Python 3",
   "language": "python",
   "name": "python3"
  },
  "language_info": {
   "codemirror_mode": {
    "name": "ipython",
    "version": 3
   },
   "file_extension": ".py",
   "mimetype": "text/x-python",
   "name": "python",
   "nbconvert_exporter": "python",
   "pygments_lexer": "ipython3",
   "version": "3.9.13"
  }
 },
 "nbformat": 4,
 "nbformat_minor": 2
}
