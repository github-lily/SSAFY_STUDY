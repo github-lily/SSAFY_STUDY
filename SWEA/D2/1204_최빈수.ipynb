{
 "cells": [
  {
   "cell_type": "markdown",
   "metadata": {},
   "source": [
    "# 최빈수 구하기\n",
    "- 최빈수 : 특정 자료에서 가장 여러번 나타나는 값\n",
    "- 최빈수를 출력하라\n",
    "- 최빈수가 여러개일 때에는 가장 큰 점수를 출력하라\n",
    "- 학생 수는 1000명이며 각 학생의 점수는 0점 이상 100점 이하의 값"
   ]
  },
  {
   "cell_type": "code",
   "execution_count": 3,
   "metadata": {},
   "outputs": [
    {
     "name": "stdout",
     "output_type": "stream",
     "text": [
      "#1 71\n"
     ]
    }
   ],
   "source": [
    "T = int(input())\n",
    "for _ in range(1,T+1) :\n",
    "    tc = int(input())\n",
    "    score = list(map(int,input().split()))\n",
    "    count_list = [0] *101   #점수 카운트할 리스트\n",
    "    max_count = 0        #최빈수의 카운트 수 인덱스\n",
    "    for i in range(1000) :\n",
    "        count_list[score[i]] += 1\n",
    "        if count_list[score[i]] > count_list[max_count] :\n",
    "            max_count = score[i]\n",
    "        elif count_list[score[i]] == count_list[max_count]  :\n",
    "            if max_count < score[i] :\n",
    "                max_count = score[i]\n",
    "\n",
    "            \n",
    "    \n",
    "    print(f'#{tc} {max_count}')\n"
   ]
  },
  {
   "cell_type": "markdown",
   "metadata": {},
   "source": [
    "- 0점부터 100점까지 : 101개!\n",
    "- 최빈수가 여러개일때는 가장 큰 점수 출력!"
   ]
  }
 ],
 "metadata": {
  "kernelspec": {
   "display_name": "Python 3",
   "language": "python",
   "name": "python3"
  },
  "language_info": {
   "codemirror_mode": {
    "name": "ipython",
    "version": 3
   },
   "file_extension": ".py",
   "mimetype": "text/x-python",
   "name": "python",
   "nbconvert_exporter": "python",
   "pygments_lexer": "ipython3",
   "version": "3.9.13"
  }
 },
 "nbformat": 4,
 "nbformat_minor": 2
}
