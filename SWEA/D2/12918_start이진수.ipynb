{
 "cells": [
  {
   "cell_type": "code",
   "execution_count": null,
   "metadata": {},
   "outputs": [],
   "source": [
    "T = int(input())\n",
    "for tc in range(1,T+1) :\n",
    "    N, hex_str = input().split()\n",
    "\n",
    "    hex_dict = {\n",
    "        '0' : '0000', '1' : '0001', '2' : '0010', '3' : '0011',\n",
    "        '4' : '0100', '5' : '0101', '6' : '0110', '7' : '0111',\n",
    "        '8' : '1000', '9' : '1001', 'A' : '1010', 'B' : '1011',\n",
    "        'C' : '1100', 'D' : '1101', 'E' : '1110', 'F' : '1111'\n",
    "    }\n",
    "    string = ''\n",
    "    for char in hex_str :\n",
    "        string += hex_dict[char]\n",
    "\n",
    "    print(f'#{tc} {string}')\n"
   ]
  }
 ],
 "metadata": {
  "language_info": {
   "name": "python"
  }
 },
 "nbformat": 4,
 "nbformat_minor": 2
}
