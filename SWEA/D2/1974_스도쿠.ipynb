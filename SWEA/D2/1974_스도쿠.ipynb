{
 "cells": [
  {
   "cell_type": "code",
   "execution_count": null,
   "metadata": {},
   "outputs": [],
   "source": [
    "#방문했던 곳 visited 에 넣기"
   ]
  },
  {
   "cell_type": "code",
   "execution_count": null,
   "metadata": {},
   "outputs": [],
   "source": [
    "import sys\n",
    "\n",
    "sys.stdin = open(\"test.txt\", \"r\")\n",
    "\n",
    "'''\n",
    "1부터 9까지 가로 세로가 겹치지 않게 하는 숫자퍼즐\n",
    "\n",
    "'''\n",
    "\n",
    "\n",
    "T = int(input())\n",
    "for tc in range(1,T+1) :\n",
    "    arr = [list(map(int,input().split())) for _ in range(9)]\n",
    "\n",
    "    visited = [[0]*10 for _ in range(10)]\n",
    "    result = 1\n",
    "    for i in range(9) :\n",
    "        for j in range(9) :\n",
    "            visited[i][arr[i][j]] = 1 \n",
    "            if visited[i][arr[i][j]] == 1 :\n",
    "                result = 0\n",
    "                break\n",
    "    \n",
    "\n",
    "\n",
    "    print(f'#{tc} {result}')\n"
   ]
  },
  {
   "cell_type": "code",
   "execution_count": null,
   "metadata": {},
   "outputs": [],
   "source": [
    "import sys\n",
    "\n",
    "sys.stdin = open(\"test.txt\", \"r\")\n",
    "\n",
    "'''\n",
    "1부터 9까지 가로 세로가 겹치지 않게 하는 숫자퍼즐\n",
    "\n",
    "'''\n",
    "\n",
    "T = int(input())\n",
    "for tc in range(1, T + 1):\n",
    "    arr = [list(map(int, input().split())) for _ in range(9)]\n",
    "\n",
    "    row_visited = [[0] * 10 for _ in range(10)]\n",
    "    col_visited = [[0] * 10 for _ in range(10)]\n",
    "    result = 1\n",
    "    \n",
    "    #행 우선탐색\n",
    "    for i in range(9):\n",
    "        for j in range(9):\n",
    "            if row_visited[i+1][arr[i][j]] == 1:\n",
    "                result = 0\n",
    "                break\n",
    "            else :\n",
    "                row_visited[i+1][arr[i][j]] = 1\n",
    "\n",
    "    #열 우선탐색\n",
    "    for j in range(9) :\n",
    "        for i in range(9) :\n",
    "            if col_visited[arr[i][j]][j+1] == 1:\n",
    "                result = 0\n",
    "                break\n",
    "            else :\n",
    "                col_visited[arr[i][j]][j+1] = 1\n",
    "                \n",
    "    #함수로 해도 좋을 듯\n",
    "\n",
    "\n",
    "\n",
    "\n",
    "    print(f'#{tc} {result}')\n",
    "\n",
    "# 5번이 0인데 1로 나옴..."
   ]
  }
 ],
 "metadata": {
  "language_info": {
   "name": "python"
  }
 },
 "nbformat": 4,
 "nbformat_minor": 2
}
