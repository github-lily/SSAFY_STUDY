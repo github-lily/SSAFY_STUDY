{
 "cells": [
  {
   "cell_type": "markdown",
   "metadata": {},
   "source": [
    "# 11014 03_배열2_농작물수확\n",
    "- 욕심많은 지훈이\n",
    "- 세로선을 그어 두개의 영역으로 나누고\n",
    "- 왼쪽 영역에 대해 가로선을 그어 두 개의 영역으로 나눈다\n",
    "- 사각 영역의 가로와 세로 크기는 최소 1이상\n",
    "- 세 영역의 농작물 총합의 최대값과 최소값의 차이가 최소가 되는 경우 "
   ]
  },
  {
   "cell_type": "markdown",
   "metadata": {},
   "source": [
    "- x,y,i,j 헷갈리지 않게 잘 정리하기\n",
    "- x,y 선의 기준 명확히하기 \n",
    "    - 1,N / 0,N-1\n",
    "    - x : 오른쪽 구역의 시작 인덱스\n",
    "    - y : 아래 구역의 시작 인덱스\n",
    "    - i : 행\n",
    "    - y : 열"
   ]
  },
  {
   "cell_type": "code",
   "execution_count": null,
   "metadata": {},
   "outputs": [],
   "source": [
    "import sys\n",
    "\n",
    "sys.stdin = open(\"test2.txt\", \"r\")\n",
    "\n",
    "'''\n",
    "\n",
    "- x : 오른쪽 구역의 시작 인덱스\n",
    "- y : 아래 구역의 시작 인덱스\n",
    "- i : 행\n",
    "- y : 열\n",
    "\n",
    "'''\n",
    "\n",
    "\n",
    "\n",
    "T = int(input())\n",
    "for tc in range(1,T+1) :\n",
    "    N = int(input())\n",
    "    arr = [list(map(int,input().split())) for _ in range(N)]\n",
    "\n",
    "    min_diff = 99999999\n",
    "    for y in range(1,N) :   #구간 크기는 최소 1이니까 #x = 구분선\n",
    "        for x in range(1,N) :\n",
    "\n",
    "            # 세 영역 각각의 합 구하기\n",
    "            # 첫번째 영역\n",
    "            sum1 = 0\n",
    "            for i in range(y) :\n",
    "                for j in range(x) :\n",
    "                    sum1 += arr[i][j]\n",
    "\n",
    "\n",
    "            # 두번째 영역\n",
    "            sum2 = 0\n",
    "            for i in range(y,N) :\n",
    "                for j in range(x) :\n",
    "                    sum2 += arr[i][j]\n",
    "\n",
    "\n",
    "            # 세번째 영역\n",
    "            sum3 = 0\n",
    "            for i in range(N) :\n",
    "                for j in range(x,N) :\n",
    "                    sum3 += arr[i][j]\n",
    "\n",
    "\n",
    "            diff = max(sum1,sum2,sum3) - min(sum1,sum2,sum3)\n",
    "            if min_diff > diff :\n",
    "                min_diff = diff\n",
    "\n",
    "\n",
    "    print(f'#{tc} {min_diff}')"
   ]
  }
 ],
 "metadata": {
  "language_info": {
   "name": "python"
  }
 },
 "nbformat": 4,
 "nbformat_minor": 2
}
