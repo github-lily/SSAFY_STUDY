{
 "cells": [
  {
   "cell_type": "markdown",
   "metadata": {},
   "source": [
    "- 구조물 1, 빈 땅 0\n",
    "- 사진 해상도 NxM\n",
    "- 직선으로만 존재\n",
    "- 겹쳐도 별개로 생각\n",
    "- 구조물의 최소 크기는 1x2m\n",
    "- 각 구역별로 가장 긴 구조물의 길이는?\n",
    "- 구조물이 하나도 없는 경우 0 출력"
   ]
  },
  {
   "cell_type": "code",
   "execution_count": null,
   "metadata": {},
   "outputs": [],
   "source": [
    "# 방법 2로 푼 것\n",
    "'''\n",
    "방법1\n",
    "1. 델타로 1을 만나면 우측과 아래쪽을 확인한다\n",
    "2. 1이 또 있으면 cnt+=1\n",
    "3. 만약 cnt 가 2 이상이면 구조물\n",
    "4. 쭉 탐색하다가 0을 만나면 현재 cnt 와 long 을 비교해서 긴 값을 long에 저장\n",
    "\n",
    "방법2\n",
    "1. 1을 만나면 오른쪽과 아래를 확인한다\n",
    "\n",
    "방법3\n",
    "1. 행 우선순회 열 우선순회로 확인한다\n",
    "\n",
    "'''\n",
    "\n",
    "T = int(input())\n",
    "for tc in range(1, T + 1):\n",
    "    N, M = map(int, input().split())\n",
    "    arr = [list(map(int, input().split())) for _ in range(N)]\n",
    "\n",
    "    long = 0\n",
    "    for r in range(N):\n",
    "        for c in range(M):\n",
    "            if arr[r][c] == 1 :\n",
    "                # 구조물을 만났을 때\n",
    "                # 오른쪽 탐색\n",
    "                cnt = 1\n",
    "                for k in range(1, M) :\n",
    "                    if c+k >= M or arr[r][c+k] == 0 :\n",
    "                        break\n",
    "                    if arr[r][c+k] == 1:\n",
    "                        cnt += 1\n",
    "                if long < cnt :\n",
    "                    long = cnt\n",
    "\n",
    "                #아래 탐색\n",
    "                cnt = 1\n",
    "                for k in range(1, N) :\n",
    "                    if r+k >= N or arr[r+k][c] == 0 :\n",
    "                        break\n",
    "                    if arr[r+k][c] == 1:\n",
    "                        cnt += 1\n",
    "                if long < cnt :\n",
    "                    long = cnt\n",
    "\n",
    "    if long == 1 : # 길이 1은 구조물로 안침\n",
    "        long = 0\n",
    "\n",
    "    print(f'#{tc} {long}')\n"
   ]
  }
 ],
 "metadata": {
  "language_info": {
   "name": "python"
  }
 },
 "nbformat": 4,
 "nbformat_minor": 2
}
