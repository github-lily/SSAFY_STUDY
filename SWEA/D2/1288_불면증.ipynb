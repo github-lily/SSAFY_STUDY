{
 "cells": [
  {
   "cell_type": "markdown",
   "metadata": {},
   "source": [
    "# 새로운 불면증 치료법\n",
    "\n",
    "N , 2N , 3N, kN\n",
    "자릿수에서 0~9 모든 숫자를 보는 건\n",
    "최소 몇번의 k인지\n",
    "\n",
    "str로 나눈 값을 인덱스에 체크"
   ]
  },
  {
   "cell_type": "code",
   "execution_count": null,
   "metadata": {},
   "outputs": [],
   "source": [
    "# 방법1\n",
    "# 나온 숫자 체크\n",
    "# 전체 리스트가 1이 됐는지 어떻게 확인? -> sum(number) = 10\n",
    "\n",
    "T = int(input())\n",
    "for tc in range(1, T + 1):\n",
    "    N = int(input())\n",
    "\n",
    "    number = [0] * 10\n",
    "    for k in range(1, 99999) :\n",
    "        string = str(k*N)\n",
    "        for num in string :\n",
    "            number[int(num)] = 1\n",
    "        if number\n",
    "\n",
    "\n",
    "\n",
    "\n",
    "    print(f'#{tc} {result}')"
   ]
  },
  {
   "cell_type": "code",
   "execution_count": null,
   "metadata": {},
   "outputs": [],
   "source": [
    "# 방법2\n",
    "# 리스트에 append\n",
    "# 리스트 안에 숫자가 있는지 어떻게 확인? -> sum\n",
    "\n",
    "T = int(input())\n",
    "for tc in range(1, T + 1):\n",
    "    N = int(input())\n",
    "\n",
    "    result = 0\n",
    "    number = []\n",
    "    for k in range(1, 99999) :\n",
    "        string = str(k*N)\n",
    "        for num in string :\n",
    "            if num not in number :\n",
    "                number.append(num)\n",
    "        if sum(int(number)) == 10 :\n",
    "            result = k * N\n",
    "            break\n",
    "\n",
    "\n",
    "    print(f'#{tc} {result}')\n"
   ]
  },
  {
   "cell_type": "code",
   "execution_count": null,
   "metadata": {},
   "outputs": [],
   "source": [
    "# 방법3\n",
    "# 리스트에서 제거\n",
    "# 나중에 빈 리스트 어떻게 확인?\n",
    "\n",
    "T = int(input())\n",
    "for tc in range(1, T + 1):\n",
    "    N = int(input())\n",
    "\n",
    "    check_lst = ['0','1','2','3','4','5','6','7','8','9']\n",
    "    result = 0\n",
    "    for k in range(1, 99999) :\n",
    "        string = str(k*N)\n",
    "        for num in string :\n",
    "            if num in check_lst :\n",
    "                check_lst.remove(num)\n",
    "        if check_lst == [] :\n",
    "            result = k*N\n",
    "            break\n",
    "\n",
    "\n",
    "    print(f'#{tc} {result}')\n"
   ]
  }
 ],
 "metadata": {
  "language_info": {
   "name": "python"
  }
 },
 "nbformat": 4,
 "nbformat_minor": 2
}
