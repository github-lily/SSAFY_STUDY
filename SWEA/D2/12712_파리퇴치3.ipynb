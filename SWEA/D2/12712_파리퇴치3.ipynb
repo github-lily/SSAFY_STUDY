{
 "cells": [
  {
   "cell_type": "code",
   "execution_count": null,
   "metadata": {},
   "outputs": [],
   "source": [
    "'''\n",
    "파리퇴치3\n",
    "스프레이는 + 또는 x 형태로 분사\n",
    "각 방향으로 M칸의 파리를 잡을 수 있다\n",
    "한번에 잡을 수 있는 최대 파리수\n",
    "'''\n",
    "\n",
    "T = int(input())\n",
    "for tc in range(1,T+1) :\n",
    "    N, M = map(int,input().split())\n",
    "    arr = [list(map(int,input().split())) for _ in range(N)]\n",
    "\n",
    "    # + 형태\n",
    "    dr = [0,1,0,-1]\n",
    "    dc = [1,0,-1,0]\n",
    "\n",
    "    # x 형태\n",
    "    xr = [-1,1,1,-1]ㄴ\n",
    "    xc = [1,1,-1,-1]\n",
    "\n",
    "    best_kill = 0\n",
    "    for r in range(N) :\n",
    "        for c in range(N) :\n",
    "            # + 형태 합과 x 형태 합 각각\n",
    "            plus_sum = x_sum = arr[r][c]\n",
    "            for i in range(4) :\n",
    "                for j in range(1,M) :\n",
    "\n",
    "                    # + 형태\n",
    "                    nr = r+dr[i]*j\n",
    "                    nc = c+dc[i]*j\n",
    "\n",
    "                    # x 형태\n",
    "                    nxr = r+xr[i]*j\n",
    "                    nxc = c+xc[i]*j\n",
    "\n",
    "                    # 범위 조건 각각 줘야함!! 한번에 주면 서로에게 영향을 줌\n",
    "                    if 0<=nr<N and 0<=nc<N :\n",
    "                        plus_sum += arr[nr][nc]\n",
    "                    if 0<=nxr<N and 0<=nxc<N :\n",
    "                        x_sum += arr[nxr][nxc]\n",
    "\n",
    "            best_kill = max(best_kill,plus_sum,x_sum)\n",
    "\n",
    "\n",
    "    print(f'#{tc} {best_kill}')\n"
   ]
  }
 ],
 "metadata": {
  "language_info": {
   "name": "python"
  }
 },
 "nbformat": 4,
 "nbformat_minor": 2
}
