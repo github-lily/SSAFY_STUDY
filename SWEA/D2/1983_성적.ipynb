{
 "cells": [
  {
   "cell_type": "code",
   "execution_count": null,
   "metadata": {},
   "outputs": [],
   "source": [
    "import sys\n",
    "\n",
    "sys.stdin = open(\"test.txt\", \"r\")\n",
    "\n",
    "'''\n",
    "각 등급은 전체 인원의 10%만 받을 수 있다\n",
    "총점 = 중간고사(35%) + 기말고사 (45%) + 과제(20%)\n",
    "\n",
    "'''\n",
    "\n",
    "\n",
    "# 총점 구하는 함수\n",
    "def score(lst):\n",
    "    total =   lst[0] * 0.35 + lst[1] * 0.45 + lst[2] * 0.2\n",
    "    return total\n",
    "\n",
    "\n",
    "T = int(input())\n",
    "for tc in range(1,T+1) :\n",
    "    N, M = map(int,input().split())\n",
    "    arr = [list(map(int,input().split())) for _ in range(N)]\n",
    "\n",
    "    total_lst = []\n",
    "    for i in range(N) :\n",
    "        total_lst.append(score(arr[i]))\n",
    "\n",
    "    sort_lst = sorted(total_lst)\n",
    "    #정렬한 리스트에서 등급 매기기\n",
    "\n",
    "    #arr[i]가 sort_lst의 x번쨰 이내이면 a+ 이런식으로...\n",
    "    if arr[i]\n",
    "\n",
    "\n",
    "\n",
    "\n",
    "\n",
    "\n",
    "    print(f'#{tc} {ans}')\n"
   ]
  }
 ],
 "metadata": {
  "language_info": {
   "name": "python"
  }
 },
 "nbformat": 4,
 "nbformat_minor": 2
}
