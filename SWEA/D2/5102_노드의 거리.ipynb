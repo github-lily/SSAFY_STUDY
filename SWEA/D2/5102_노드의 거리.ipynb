{
 "cells": [
  {
   "cell_type": "markdown",
   "metadata": {},
   "source": [
    "# 노드의 거리\n",
    "- 출발 노드에서 도착 노드까지 갈 때 지나가는 간선의 개수"
   ]
  },
  {
   "cell_type": "code",
   "execution_count": null,
   "metadata": {},
   "outputs": [],
   "source": [
    "def bfs(s,e) :\n",
    "    # [1] Q 생성, 방문배열 생성, 필요 변수 선언언\n",
    "    q = []\n",
    "    visit = [0] * (V+1)\n",
    "    \n",
    "    # [2] Q 삽입, 방문 표시\n",
    "    q.append(s)\n",
    "    visit[s] = 1\n",
    "\n",
    "\n",
    "\n",
    "    # [3] 조건 처리\n",
    "    while q :\n",
    "        c = q.pop(0)\n",
    "        if c == e :\n",
    "            return visit[e]-1\n",
    "        \n",
    "        for n in lst[c] :\n",
    "            if visit[n] == 0 :\n",
    "                q.append(n)\n",
    "                visit[n] = visit[c]+1\n",
    "\n",
    "    return 0\n",
    "\n",
    "T = int(input())\n",
    "for tc in range(1,T+1) :\n",
    "    V,E = map(int,input().split())\n",
    "    lst = [[] for _ in range(V+1)]\n",
    "    for _ in range(E) :\n",
    "        s,e = map(int,input().split())\n",
    "        lst[s].append(e)\n",
    "        lst[e].append(s)\n",
    "    S,G = map(int,input().split())\n",
    "    \n",
    "    ans = bfs(S,G)\n",
    "    \n",
    "    print(f'#{tc} {ans}')"
   ]
  }
 ],
 "metadata": {
  "language_info": {
   "name": "python"
  }
 },
 "nbformat": 4,
 "nbformat_minor": 2
}
