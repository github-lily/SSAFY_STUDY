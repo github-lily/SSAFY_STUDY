{
 "cells": [
  {
   "cell_type": "code",
   "execution_count": null,
   "metadata": {},
   "outputs": [],
   "source": [
    "import sys\n",
    "sys.stdin = open(\"1284.txt\")\n",
    "\n",
    "'''\n",
    "- 한 달간 사용하는 수도 양 W리터\n",
    "- A사 : 1리터당 P원\n",
    "- B사 : 기본요금 Q원 + R리터 초과인 경우 리터당 S원 추가요금\n",
    "'''\n",
    "\n",
    "\n",
    "\n",
    "T = int(input())\n",
    "for tc in range(1,T+1) :\n",
    "    P,Q,R,S,W = list(map(int,input().split()))\n",
    "\n",
    "\n",
    "    A = P * W\n",
    "    if W > R :\n",
    "        B  = (W - R) * S + Q\n",
    "    else :\n",
    "        B = Q\n",
    "\n",
    "    if A > B :\n",
    "        ans = B\n",
    "    else :\n",
    "        ans = A\n",
    "\n",
    "    print(f'#{tc} {ans}')\n"
   ]
  }
 ],
 "metadata": {
  "language_info": {
   "name": "python"
  }
 },
 "nbformat": 4,
 "nbformat_minor": 2
}
