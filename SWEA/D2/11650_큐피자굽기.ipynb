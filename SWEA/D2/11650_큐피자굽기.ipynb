{
 "cells": [
  {
   "cell_type": "code",
   "execution_count": null,
   "metadata": {},
   "outputs": [],
   "source": [
    "# 피자\n",
    "\n",
    "\n",
    "'''\n",
    "- 치즈의 양은 C -> C//2\n",
    "- 모두 녹아 0이되면 화덕에서 빼고 다음 피자를 넣음\n",
    "- 가장 마지막에 있는 피자는?\n",
    "\n",
    "rear = (rear+1) // N\n",
    "front = (front+1)//N\n",
    "'''\n",
    "\n",
    "def enq(start) :\n",
    "    global rear\n",
    "    rear = (rear + 1) // N\n",
    "    pizza[rear] = start\n",
    "\n",
    "def deq(finish) :\n",
    "    global front\n",
    "    front = (front+1) // N\n",
    "\n",
    "T = int(input())\n",
    "for tc in range(1, T + 1):\n",
    "    N, M = map(int,input().split()) #N : 화덕의 크기, M : 피자 개수\n",
    "    arr = list(map(int, input().split()))   #피자에 뿌려진 치즈의 양\n",
    "    pizza = [x for x in range(1,N+1)] #초기값은 화덕의 크기만큼 채워진 피자\n",
    "\n",
    "    front = rear = 0\n"
   ]
  },
  {
   "cell_type": "code",
   "execution_count": 2,
   "metadata": {},
   "outputs": [
    {
     "data": {
      "text/plain": [
       "2"
      ]
     },
     "execution_count": 2,
     "metadata": {},
     "output_type": "execute_result"
    }
   ],
   "source": [
    "# 2차 시도\n",
    "# pop으로 값이 빠지면서 인덱스 오류 발생\n",
    "\n",
    "T = int(input())\n",
    "for tc in range(1, T + 1):\n",
    "    N, M = map(int,input().split()) #N : 화덕의 크기, M : 피자 개수\n",
    "    arr = list(map(int, input().split()))   #피자에 뿌려진 치즈의 양\n",
    "    pizza = [x for x in range(1,M+1)]   #피자 번호\n",
    "    ans = 0\n",
    "\n",
    "    while len(arr) > 1 :        #남은 피자가 1개가 되면 반복 끝\n",
    "        for i in range(M) :             #순서대로 반복\n",
    "            if arr[i]//2 == 0 :\n",
    "                arr.pop(arr[i])         #치즈 다 녹은 피자 아웃\n",
    "                pizza.pop(pizza[i])     #같은 번호의 피자 아웃\n",
    "            arr[i] = arr[i]//2\n",
    "            if len(arr) == 1 :          #남은 피자가 1개일 때\n",
    "                ans = pizza[0]\n",
    "                break\n",
    "\n",
    "\n",
    "\n",
    "    print(f'#{tc} {ans}')\n"
   ]
  },
  {
   "cell_type": "code",
   "execution_count": null,
   "metadata": {},
   "outputs": [],
   "source": [
    "# 3차 시도\n",
    "\n",
    "# 이렇게 하면 늦게 들어가는 피자가 반영이 안됨\n",
    "# M 개 중 -1이 되면 +1.. 결국 정석 선형큐로 가야할듯\n",
    "\n",
    "T = int(input())\n",
    "for tc in range(1, T + 1):\n",
    "    N, M = map(int,input().split()) #N : 화덕의 크기, M : 피자 개수\n",
    "    arr = list(map(int, input().split()))   #피자에 뿌려진 치즈의 양\n",
    "    pizza = [x for x in range(1,M+1)]   #피자 번호\n",
    "    ans = 0\n",
    "\n",
    "    while True :        #남은 피자가 1개가 되면 반복 끝\n",
    "        if ans != 0 :\n",
    "            break\n",
    "        for i in range(M) :             #순서대로 반복\n",
    "            if arr[i]//2 == 0 :\n",
    "                arr[i] = pizza[i] = 0     #치즈 다 녹은 피자, 같은 번호의 피자 아웃\n",
    "            arr[i] = arr[i]//2\n",
    "            if arr.count(0) == M-1 :     # 1개 빼고 모두 0이 됐을 때\n",
    "            # if arr.count(1) == 1 :       # 남은 피자가 1개일 때. 이렇게 하면 나눈 값이 1이 아닐 때 커버가 안됨\n",
    "                ans = sum(pizza)         # 나간 피자는 0이므로\n",
    "                break\n",
    "\n",
    "\n",
    "\n",
    "    print(f'#{tc} {ans}')"
   ]
  },
  {
   "cell_type": "code",
   "execution_count": null,
   "metadata": {},
   "outputs": [],
   "source": [
    "# 정답\n",
    "\n",
    "T = int(input())\n",
    "for tc in range(1, T + 1):\n",
    "    N, M = map(int,input().split()) #N : 화덕의 크기, M : 피자 개수\n",
    "    arr = list(map(int, input().split()))   #피자에 뿌려진 치즈의 양\n",
    "\n",
    "    oven = deque()\n",
    "\n",
    "\n",
    "    for i in range(N) :     # 피자를 오븐에 넣기\n",
    "        oven.append([arr[i],i+1])\n",
    "\n",
    "    rest = N    #남은 피자의 시작 인덱스\n",
    "\n",
    "    while len(oven) != 1 :          #피자가 1개 남으면 중단\n",
    "        pizza = oven.popleft()      #오븐에서 순서가 된 피자 꺼내기\n",
    "        cheese = pizza[0]           #0번은 치즈, 1번은 피자 번호니까 0번 꺼내기\n",
    "        number = pizza[1]\n",
    "\n",
    "        cheese = cheese//2\n",
    "\n",
    "        if cheese != 0 :            #치즈가 녹지 않았으면 다시 맨뒤로 넣어주기\n",
    "            oven.append([cheese, number])\n",
    "\n",
    "        else :      #치즈가 녹았다면\n",
    "            if rest < M :  #9<10, 남은 피자의 인덱스가 전체 피자의 개수보다 적으면\n",
    "                oven.append([arr[rest],rest+1])   #남은 피자 오븐에 넣기\n",
    "                rest += 1       #다음 피자 준비\n",
    "                # 피자를 처음에 빼서 확인하고, 치즈가 0이면 다시 안넣으므로 빼줄 필요 없음\n",
    "\n",
    "\n",
    "    ans = oven[0][1]\n",
    "    print(f'#{tc} {ans}')\n"
   ]
  }
 ],
 "metadata": {
  "kernelspec": {
   "display_name": "Python 3",
   "language": "python",
   "name": "python3"
  },
  "language_info": {
   "codemirror_mode": {
    "name": "ipython",
    "version": 3
   },
   "file_extension": ".py",
   "mimetype": "text/x-python",
   "name": "python",
   "nbconvert_exporter": "python",
   "pygments_lexer": "ipython3",
   "version": "3.9.13"
  }
 },
 "nbformat": 4,
 "nbformat_minor": 2
}
