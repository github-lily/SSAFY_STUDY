{
 "cells": [
  {
   "cell_type": "markdown",
   "metadata": {},
   "source": [
    "# 1859 백만장자 프로젝트\n",
    "- N일 동안의 물건의 매매가를 예측하여 알고 있다.\n",
    "- 하루에 최대 1만큼 구입할 수 있다.\n",
    "- 판매는 언제든지 할 수 있다.\n",
    "- 각 날이 매매가는 10,000 이하\n",
    "- 최대 이익 구하기\n"
   ]
  },
  {
   "cell_type": "code",
   "execution_count": null,
   "metadata": {},
   "outputs": [],
   "source": [
    "'''\n",
    "- 최대값 최소값 찾음\n",
    "- 최대값이 최소값보다 우측에 있으면 마이너스로 값 구함\n",
    "- 최대값이 최소값보다 좌측에 있으면 패스\n",
    "'''\n",
    "\n",
    "T = int(input())\n",
    "for tc in range(1,T+1) :\n",
    "    N = int(input())\n",
    "    price = list(map(int,input().split()))\n",
    "\n",
    "    max_v = 0\n",
    "    min_v = 0\n",
    "    for i in range(N) :\n",
    "        if price[max_v] <= price [i] :\n",
    "            max_v = i\n",
    "        elif price[min_v] > price[i] :\n",
    "            min_v = i\n",
    "\n",
    "\n",
    "    if min_v < max_v :\n",
    "        result = max_v - min_v\n",
    "        \n",
    "    print(result)\n",
    "\n",
    "# 문제1 : 최대최소만 구하면 안됨... 최대값 기준으로 왼쪽에 있는 값들과 최대값의 차이를 구해야함\n",
    "# 문제2 : \n"
   ]
  },
  {
   "cell_type": "code",
   "execution_count": null,
   "metadata": {},
   "outputs": [],
   "source": [
    "'''\n",
    "- 미래에 값이 떨어지는 경우 : 안사는게 최대 \n",
    "- 값이 오르는 경우 : 차이가 가장 큰 날에 파는게 최대\n",
    "- 값이 변동되는 경우 : \n",
    "'''\n",
    "\n",
    "T = int(input())\n",
    "for tc in range(1,T+1) :\n",
    "    N = int(input())\n",
    "    price = list(map(int,input().split()))\n",
    "\n",
    "    \n",
    "    for i in range(N-1) :     \n",
    "        #미래에 값이 떨어지는 경우\n",
    "        if list[i] > list[i+1] :\n",
    "            result = 0\n",
    "        #값이 오르는 경우\n",
    "        elif list[i] < list[i+1] :\n",
    "            \n",
    "    \n",
    "    \n",
    "    for i in range(N-1) :\n",
    "\n",
    "\n",
    "\n",
    "\n",
    "    f('#{tc} {result}')\n"
   ]
  }
 ],
 "metadata": {
  "language_info": {
   "name": "python"
  }
 },
 "nbformat": 4,
 "nbformat_minor": 2
}
