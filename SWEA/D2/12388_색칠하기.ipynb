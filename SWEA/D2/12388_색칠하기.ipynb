{
 "cells": [
  {
   "cell_type": "markdown",
   "metadata": {},
   "source": [
    "# 색칠하기"
   ]
  },
  {
   "cell_type": "code",
   "execution_count": null,
   "metadata": {},
   "outputs": [],
   "source": [
    "'''\n",
    "1. 너비만큼 칠함\n",
    "2. 왼쪽 위 인덱스, 오른쪽 아래 인덱스, 칠할 색상(1 빨강, 2 파랑)\n",
    "    칠해질 때마다 +1\n",
    "3. 빨강과 파랑이 겹치는 부분의 크기\n",
    "    겹치는 부분은 값이 2!\n",
    "★ 주어진 정보에서 같은 색인 영역은 겹치지 않는다\n",
    "'''\n",
    "\n",
    "T = int(input())\n",
    "\n",
    "for tc in range(1,T+1):\n",
    "    cnt = 0\n",
    "    N = int(input())    #칠할 영역의 개수\n",
    "    arr = [[0] * 10 for _ in range(10)]  # NxN 박스\n",
    "    for k in range(N):\n",
    "        r1k,c1k,r2k,c2k,color = list(map(int,input().split()))\n",
    "         # r1, c1 : 첫번째 색칠 시작점 #r2, c2 : 첫번째 색칠 끝나는 점\n",
    "         # 리스트로 안묶어도 됨\n",
    "         # lst = list(map(int,input().split())) 이런식으로 값이 많아지면 리스트로 한번에 받을 수 있음\n",
    "         # 그러면 lst[0], lst[1] 이런식으로 인덱스를 사용해 접근해야함\n",
    "         \n",
    "        for i in range(r1k, r2k+1) :\n",
    "            for j in range(c1k, c2k+1) :\n",
    "                arr[i][j] += 1\n",
    "                if arr[i][j] == 2:\n",
    "                    cnt += 1\n",
    "\n",
    "    # for lst in arr :\n",
    "    #     print(*lst)\n",
    "    #     print()\n",
    "\n",
    "\n",
    "\n",
    "    print(f'#{tc} {cnt}')\n",
    "\n",
    "\n"
   ]
  },
  {
   "cell_type": "code",
   "execution_count": null,
   "metadata": {},
   "outputs": [],
   "source": [
    "import sys\n",
    "sys.stdin = open(\"input.txt\", \"r\")\n",
    "\n",
    "T = int(input()) #예시 갯수\n",
    "\n",
    "for test_case in range(1, T + 1):\n",
    "    N = int(input())  #행의 갯수\n",
    "    box = [([0] * 10) for _ in range(10)]  # 1010짜리 리스트를 만들었다.\n",
    "    # 겹치는 부분\n",
    "    count = 0\n",
    "    for _ in range(N):\n",
    "        r1, c1, r2, c2, color = map(int, input().split())   #각각의 값을 따로 만들겠다. [2, 2, 4, 4, 1]\n",
    "        for i in range(r1, r2+1):     #세로의 길이 만큼\n",
    "            for j in range(c1, c2+1):  #가로의 길이 만큼\n",
    "                if box[i][j] == 0:     #만약 그 자리가 0이라면\n",
    "                    box[i][j] = color #그 자리를 color값으로 변경하고\n",
    "                else:\n",
    "                    box[i][j] = 3     #아니라면 그 자리가 3을 넣겠다.\n",
    "                    count += 1        #그리고 count의 값을 1씩 올리겠다.\n",
    "\n",
    "    print(f'#{test_case} {count}')"
   ]
  }
 ],
 "metadata": {
  "language_info": {
   "name": "python"
  }
 },
 "nbformat": 4,
 "nbformat_minor": 2
}
