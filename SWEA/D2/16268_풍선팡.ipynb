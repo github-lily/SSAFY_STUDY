{
 "cells": [
  {
   "cell_type": "markdown",
   "metadata": {},
   "source": [
    "# 풍선팡2\n",
    "- 종이꽃가루가 들어있는 풍선이 NxM 크기의 격자판에 붙어있다.\n",
    "- 어떤 풍선을 터뜨리면 상하좌우의 풍선이 추가로 터진다.\n",
    "- 한개의 풍선을 선택했을 때 날릴 수 있는 꽃가루 수의 최대값은?"
   ]
  },
  {
   "cell_type": "code",
   "execution_count": null,
   "metadata": {},
   "outputs": [],
   "source": [
    "#값 입력받기\n",
    "T = int(input())\n",
    "\n",
    "for tc in range(1,T+1) :\n",
    "    N,M = map(int,input().split())\n",
    "    arr = [list(map(int,input().split())) for _ in range(M)]\n"
   ]
  },
  {
   "cell_type": "code",
   "execution_count": null,
   "metadata": {},
   "outputs": [],
   "source": [
    "#답 구하기\n",
    "max_sum = 0\n",
    "for i in range(N) :\n",
    "    for j in range(M) :\n",
    "        ni = [0,1,0,-1]\n",
    "        nj = [1,0,-1,0]\n",
    "        sum_val = 0\n",
    "        for idx in range(4) :\n",
    "            sum_val += arr[i+ni[idx]][j+nj[idx]] #우하좌상 값 더하기\n",
    "        sum_val += arr[i][j]        #가운데값 더해주기\n",
    "        if max_sum < sum_val :\n",
    "            max_sum = sum_val\n",
    "print(f'#{tc} {max_sum}')"
   ]
  },
  {
   "cell_type": "code",
   "execution_count": 1,
   "metadata": {},
   "outputs": [
    {
     "name": "stdout",
     "output_type": "stream",
     "text": [
      "10\n"
     ]
    }
   ],
   "source": [
    "#test\n",
    "T = 1\n",
    "N,M = 3,5\n",
    "arr = [list(map(int,input().split())) for _ in range(M)]\n",
    "\n",
    "max_sum = 0\n",
    "for i in range(N) :\n",
    "    for j in range(M) :\n",
    "        ni = [0,1,0,-1]\n",
    "        nj = [1,0,-1,0]\n",
    "        sum_val = 0\n",
    "        for idx in range(4) :\n",
    "            sum_val += arr[i+ni[idx]][j+nj[idx]] #우하좌상 값 더하기\n",
    "        sum_val += arr[i][j]        #가운데값 더해주기\n",
    "        if max_sum < sum_val :\n",
    "            max_sum = sum_val\n",
    "print(max_sum)"
   ]
  },
  {
   "cell_type": "code",
   "execution_count": null,
   "metadata": {},
   "outputs": [],
   "source": [
    "#최종\n",
    "T = int(input())\n",
    "\n",
    "for tc in range(1,T+1) :\n",
    "    N,M = map(int,input().split())\n",
    "    arr = [list(map(int,input().split())) for _ in range(N)]\n",
    "\n",
    "    max_sum = 0\n",
    "    for i in range(N) :\n",
    "        for j in range(M) :\n",
    "            ni = [0,1,0,-1]\n",
    "            nj = [1,0,-1,0]\n",
    "            sum_val = arr[i][j]      #가운데값 더해주기\n",
    "            for idx in range(4) :\n",
    "                if 0<=i+ni[idx]<N and 0<=j+nj[idx]<M :\n",
    "                    sum_val += arr[i+ni[idx]][j+nj[idx]] #우하좌상 값 더하기 \n",
    "            if max_sum < sum_val :\n",
    "                max_sum = sum_val\n",
    "    print(f'#{tc} {max_sum}')"
   ]
  },
  {
   "cell_type": "markdown",
   "metadata": {},
   "source": [
    "- if 조건 걸어서 인덱스에러 안뜨게하기\n",
    "- N 은 행, M 은 열! arr 만들 때 행의 길이만큼 반복인거 주의!!\n"
   ]
  }
 ],
 "metadata": {
  "kernelspec": {
   "display_name": "Python 3",
   "language": "python",
   "name": "python3"
  },
  "language_info": {
   "codemirror_mode": {
    "name": "ipython",
    "version": 3
   },
   "file_extension": ".py",
   "mimetype": "text/x-python",
   "name": "python",
   "nbconvert_exporter": "python",
   "pygments_lexer": "ipython3",
   "version": "3.9.13"
  }
 },
 "nbformat": 4,
 "nbformat_minor": 2
}
