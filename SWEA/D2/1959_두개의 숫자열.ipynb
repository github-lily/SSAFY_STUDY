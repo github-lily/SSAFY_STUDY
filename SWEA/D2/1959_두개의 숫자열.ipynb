{
 "cells": [
  {
   "cell_type": "markdown",
   "metadata": {},
   "source": [
    "# 1959_두개의 숫자열\n",
    "\n",
    "- N개의 숫자로 구성된 숫자열 A\n",
    "- M 개의 숫자로 구성된 숫자열 B\n",
    "- A와 B를 자유롭게 움직여 숫자들이 마주보는 위치를 변경\n",
    "    - 단 더 긴 쪽의 양끝을 벗어나면 안됨\n",
    "        - for 문 이용, 순환하면서 최대값 구하기\n",
    "        - if 문으로 N이 길 때, M이 길 때로 나누기\n",
    "        - i < M-N+1\n",
    "- 마주보는 숫자들을 곱한 뒤 모두 더할 때 최대값은?"
   ]
  },
  {
   "cell_type": "code",
   "execution_count": null,
   "metadata": {},
   "outputs": [],
   "source": [
    "\n",
    "T = int(input())\n",
    "for tc in range(1,T+1) :\n",
    "    N, M = map(int,input().split())\n",
    "    A = list(map(int,input().split()))\n",
    "    B = list(map(int,input().split()))\n",
    "\n",
    "    if M > N :\n",
    "        sum_val = 0\n",
    "        max_sum = 0\n",
    "        for i in range(M-N+2) :\n",
    "            for j in range(M):\n",
    "                sum_val += A[i+j]*B[i+j]\n",
    "            if max_sum < sum_val :\n",
    "                max_sum = sum_val\n",
    "\n",
    "    else :\n",
    "        sum_val = 0\n",
    "        max_sum = 0\n",
    "        for i in range(N-M+2) :\n",
    "            for j in range(N):\n",
    "                if 0 <= i+j < N and 0 <= i+j < M :\n",
    "                    sum_val += A[i+j]*B[i+j]\n",
    "            if max_sum < sum_val :\n",
    "                max_sum = sum_val\n",
    "\n",
    "    print(f'#{tc} {max_sum}')\n",
    "\n",
    "\n",
    "#인덱스 오류가 뜸\n",
    "    "
   ]
  }
 ],
 "metadata": {
  "language_info": {
   "name": "python"
  }
 },
 "nbformat": 4,
 "nbformat_minor": 2
}
