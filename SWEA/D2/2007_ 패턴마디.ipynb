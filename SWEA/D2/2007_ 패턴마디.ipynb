{
 "cells": [
  {
   "cell_type": "code",
   "execution_count": null,
   "metadata": {},
   "outputs": [],
   "source": [
    "'''\n",
    "문자열의 길이는 30\n",
    "마디의 최대 길이는 10\n",
    "반복되는 부분을 마디라고 함\n",
    "문자열 안에 마디의 길이를 출력하는 프로그램\n",
    "\n",
    "1. 마디를 찾는다 \n",
    "     - 최소 2글자 최대 10글자\n",
    "     - \n",
    "\n",
    "'''"
   ]
  },
  {
   "cell_type": "code",
   "execution_count": null,
   "metadata": {},
   "outputs": [],
   "source": [
    "T = int(input())\n",
    "for tc in range(1, T + 1):\n",
    "    lst = input()\n",
    "\n",
    "    for j in range(1,10):\n",
    "        if lst[0] == lst[j] and lst[1] == lst[j + 1] :\n",
    "            cnt = j\n",
    "\n",
    "    print(f'#{tc} {cnt}')\n"
   ]
  }
 ],
 "metadata": {
  "language_info": {
   "name": "python"
  }
 },
 "nbformat": 4,
 "nbformat_minor": 2
}
