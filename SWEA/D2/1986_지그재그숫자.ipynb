{
 "cells": [
  {
   "cell_type": "code",
   "execution_count": null,
   "metadata": {},
   "outputs": [],
   "source": [
    "'''\n",
    "1부터 N까지의 숫자에서 홀수는 더하고 짝수는 뺐을 때 최종 누적된 값'''\n",
    "\n",
    "T = int(input())\n",
    "for tc in range(1,T+1) :\n",
    "    N = int(input())\n",
    "    sum_val = 0\n",
    "    for i in range(1, N+1) :\n",
    "        if i % 2 == 1 : #홀수라면\n",
    "            sum_val += i\n",
    "        else :\n",
    "            sum_val -= i\n",
    "\n",
    "    print(f'#{tc} {sum_val}')\n"
   ]
  }
 ],
 "metadata": {
  "language_info": {
   "name": "python"
  }
 },
 "nbformat": 4,
 "nbformat_minor": 2
}
