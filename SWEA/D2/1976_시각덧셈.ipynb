{
 "cells": [
  {
   "cell_type": "code",
   "execution_count": null,
   "metadata": {},
   "outputs": [],
   "source": [
    "import sys\n",
    "\n",
    "sys.stdin = open(\"test.txt\", \"r\")\n",
    "\n",
    "'''\n",
    "시 분으로 이루어진 2개의 시각을\n",
    "더한 시각을 출력\n",
    "\n",
    "만약 더한 값이 12시를 넘기면 (x - 12)시\n",
    "만약 더한 값이 59분을 넘기면 (y - 60)분\n",
    "\n",
    "'''\n",
    "\n",
    "\n",
    "\n",
    "\n",
    "\n",
    "T = int(input())\n",
    "for tc in range(1,T+1) :\n",
    "    h1,m1, h2,m2  = map(int,input().split())\n",
    "\n",
    "    hour = h1+h2\n",
    "    if hour > 12 :\n",
    "        hour = hour - 12\n",
    "\n",
    "    minute = m1 + m2\n",
    "    if minute > 59 :\n",
    "        minute = minute - 60\n",
    "        hour = hour + 1\n",
    "\n",
    "\n",
    "    print(f'#{tc} {hour} {minute}')\n"
   ]
  }
 ],
 "metadata": {
  "language_info": {
   "name": "python"
  }
 },
 "nbformat": 4,
 "nbformat_minor": 2
}
