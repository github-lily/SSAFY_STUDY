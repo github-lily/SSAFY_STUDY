{
 "cells": [
  {
   "cell_type": "code",
   "execution_count": null,
   "metadata": {},
   "outputs": [],
   "source": [
    "import sys\n",
    "\n",
    "sys.stdin = open(\"test.txt\", \"r\")\n",
    "\n",
    "'''\n",
    "10개의 수를 입력 받아\n",
    "최대 수와 최소 수를 제외한\n",
    "나머지의 평균값을 출력하는 프로그램\n",
    "(소수점 첫째 자리에서 반올림한 정수를 출력) round 사용\n",
    "\n",
    "'''\n",
    "\n",
    "T = int(input())\n",
    "for tc in range(1,T+1) :\n",
    "    lst = list(map(int,input().split()))\n",
    "\n",
    "    sort_lst = sorted(lst)\n",
    "    sort_lst.pop()\n",
    "    sort_lst.pop(0)\n",
    "\n",
    "    sum_val = 0\n",
    "    for x in sort_lst :\n",
    "        sum_val += x\n",
    "\n",
    "    ans = round(sum_val/8)\n",
    "\n",
    "    print(f'#{tc} {ans}')\n"
   ]
  }
 ],
 "metadata": {
  "language_info": {
   "name": "python"
  }
 },
 "nbformat": 4,
 "nbformat_minor": 2
}
