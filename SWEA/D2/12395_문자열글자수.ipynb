{
 "cells": [
  {
   "cell_type": "markdown",
   "metadata": {},
   "source": [
    "\n",
    "# 문자열 글자수\n",
    "- str1에 포함된 글자들이 str2에 몇 개씩 들어있는지 찾는다\n",
    "- 그 중 가장 많은 글자의 개수를 출력한다\n"
   ]
  },
  {
   "cell_type": "code",
   "execution_count": null,
   "metadata": {},
   "outputs": [],
   "source": [
    "\n",
    "import sys\n",
    "sys.stdin = open(\"12395.txt\",\"r\")\n",
    "\n",
    "\n",
    "T = int(input())\n",
    "for tc in range(1, T+1) :\n",
    "    str1 = list(input())   #['P', 'V', 'X', 'Y']\n",
    "    str2 = list(input())    #['E', 'G', 'G', 'O', 'P', 'S', 'V', 'X', 'Y', 'Y']\n",
    "    N = len(str1)\n",
    "    M = len(str2)\n",
    "\n",
    "    max_cnt = 0  # 가장 많은 수 #각 char count를 비교한 뒤 최종값이 return되야 하므로 for문 밖에 위치!\n",
    "    for idx_1 in range(N) :\n",
    "        if str1[idx_1] in str2 :        #str2에 str1의 값이 있다면\n",
    "            cnt = 0  # count\n",
    "            for idx_2 in range(M) :         #str2에서 순회하며\n",
    "                if str1[idx_1] == str2[idx_2] :\n",
    "                    cnt += 1            #str1[idx_1]과 같은 값이 있으면 count +1\n",
    "            if max_cnt < cnt :\n",
    "                max_cnt = cnt\n",
    "\n",
    "\n",
    "\n",
    "    print(f'#{tc} {max_cnt}')"
   ]
  },
  {
   "cell_type": "code",
   "execution_count": null,
   "metadata": {},
   "outputs": [],
   "source": [
    "# 8.26 다시품\n",
    "# 실행시간 더 짧아짐\n",
    "# 문자를 카운트 한 후 최대값을 찾는 방법\n",
    "# 위 코드보다 이해하기 쉬움\n",
    "\n",
    "T = int(input())\n",
    "for tc in range(1, T+1):\n",
    "    str1 = input()\n",
    "    str2 = input()\n",
    "\n",
    "    M = len(str1)\n",
    "    N = len(str2)\n",
    "\n",
    "    cnt = [0] * M   # 개수 카운트\n",
    "\n",
    "    # 문자 카운트하기\n",
    "    for i in range(M) :\n",
    "        for x in str2 :\n",
    "            if str1[i] == x :\n",
    "                cnt[i] += 1\n",
    "\n",
    "    # 최대값 찾기\n",
    "    max_val = 0\n",
    "    for i in range(M) :\n",
    "        if max_val < cnt[i] :\n",
    "            max_val = cnt[i]\n",
    "\n",
    "    \n",
    "\n",
    "\n",
    "    print(f'#{tc} {max_val}')"
   ]
  }
 ],
 "metadata": {
  "language_info": {
   "name": "python"
  }
 },
 "nbformat": 4,
 "nbformat_minor": 2
}
