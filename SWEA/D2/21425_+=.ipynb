{
 "cells": [
  {
   "cell_type": "markdown",
   "metadata": {},
   "source": [
    "# 21425. += \n",
    "\n"
   ]
  },
  {
   "cell_type": "markdown",
   "metadata": {},
   "source": [
    "- 정수형 변수 x,y\n",
    "- `x+=y` => x = x+y\n",
    "- A : 현재 x에 저장된 값\n",
    "- B : 현재 y에 저장된 값\n",
    "- `x+=y` or `y+=x`를 하여 x 또는 y 의 값이 N을 초과하도록 할 때 필요한 연산의 횟수"
   ]
  },
  {
   "cell_type": "code",
   "execution_count": null,
   "metadata": {},
   "outputs": [],
   "source": [
    "# 문제 끝까지 잘 읽기~~ (#tc 없는 문제였음!)\n",
    "# 시간초과 날 수 있으므로 한번에 출력하기\n",
    "\n",
    "T = int(input())\n",
    "ans = []    # 답 저장해서 한번에 출력\n",
    "for tc in range(1,T+1) :\n",
    "    x, y, n = map(int,input().split())\n",
    "    cnt = 0\n",
    "\n",
    "    # 둘 중 큰 수를 더하기\n",
    "    # 둘 중 하나라도 n보다 크면 끝나므로 and\n",
    "    while x <= n and y <= n :\n",
    "        if x > y :\n",
    "            y += x\n",
    "            cnt += 1\n",
    "        else :\n",
    "            x += y\n",
    "            cnt += 1\n",
    "        \n",
    "    ans.append(cnt)\n",
    "\n",
    "\n",
    "for test in range(T) :\n",
    "    print(f'{ans[test]}')\n"
   ]
  },
  {
   "cell_type": "markdown",
   "metadata": {},
   "source": []
  }
 ],
 "metadata": {
  "language_info": {
   "name": "python"
  }
 },
 "nbformat": 4,
 "nbformat_minor": 2
}
