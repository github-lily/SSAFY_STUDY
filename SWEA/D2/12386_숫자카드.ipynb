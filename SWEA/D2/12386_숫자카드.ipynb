{
 "cells": [
  {
   "cell_type": "markdown",
   "metadata": {},
   "source": [
    "# 숫자카드 확인용\n",
    "1. 0~9까지의 숫자가 적힌 N장의 카드\n",
    "2. 가장 많은 카드에 적힌 숫자와 카드가 몇 장인지 출력하는 프로그램\n",
    "3. 카드 장수가 같을 땐 적힌 숫자가 큰 쪽을 출력"
   ]
  },
  {
   "cell_type": "code",
   "execution_count": null,
   "metadata": {},
   "outputs": [],
   "source": [
    "#처음 버전\n",
    "#변수가 많고 코드가 복잡함\n",
    "#답도 아님\n",
    "\n",
    "T = int(input())\n",
    "for tc in range(1,T+1) :\n",
    "    N = int(input())\n",
    "    ai = int(input())   #공백없이 주어지는 숫자\n",
    "\n",
    "    #각 자릿수 찾아서 리스트로 만들기 (공백 없이 숫자가 주어지기 때문에)\n",
    "    arr = []\n",
    "    for _ in range(N) :\n",
    "        arr.append(ai % 10)\n",
    "        ai = ai // 10\n",
    "\n",
    "    max_cnt = 0             #최고값 찾기\n",
    "    number = arr[0]         #최고값의 인덱스이므로 arr[0]이 아닌 0을 넣어야함\n",
    "    count = [0] * 12        #각각의 개수를 추출할 리스트\n",
    "    for i in range(N) :\n",
    "        count[arr[i]] += 1\n",
    "        if max_cnt < count[arr[i]] :\n",
    "            max_cnt = count[arr[i]]     #최고값 수정\n",
    "            number = arr[i]\n",
    "        if max_cnt == count[arr[i]] :\n",
    "            number < arr[i]\n",
    "            number = i\n",
    "\n",
    "\n",
    "    print(f'#{tc} {number} {max_cnt}')\n"
   ]
  },
  {
   "cell_type": "code",
   "execution_count": 19,
   "metadata": {},
   "outputs": [
    {
     "name": "stdout",
     "output_type": "stream",
     "text": [
      "#1 0 3\n"
     ]
    }
   ],
   "source": [
    "#더 효율적으로 수정\n",
    "#arr 리스트에 따로 담지 않고 바로 count\n",
    "\n",
    "\n",
    "T = int(input())\n",
    "for tc in range(1,T+1) :\n",
    "    N = int(input())\n",
    "    num = int(input())   #공백없이 주어지는 숫자\n",
    "\n",
    "    #각 자릿수 찾아서 리스트로 만들기 (공백 없이 숫자가 주어지기 때문에)\n",
    "    count = [0] * 12        #각각의 개수를 추출해서 카운트하는 리스트\n",
    "    for _ in range(N) :\n",
    "        count[num % 10] += 1\n",
    "        num = num // 10\n",
    "\n",
    "    max_cnt = count[0]    #최대 장수  \n",
    "    number = 0 #가장 많은 숫자       #number는 max_cnt의 인덱스\n",
    "\n",
    "    for i in range(len(count)) :\n",
    "        if count[i] >= max_cnt :\n",
    "            max_cnt = count[i]      #최대 장수 재할당\n",
    "            if number < i :         #i 재할당\n",
    "                number = i\n",
    "\n",
    "\n",
    "    print(f'#{tc} {number} {max_cnt}')\n"
   ]
  },
  {
   "cell_type": "code",
   "execution_count": null,
   "metadata": {},
   "outputs": [],
   "source": [
    "# 8.24 다시 품\n",
    "\n",
    "'''\n",
    "- 카운팅정렬 활용\n",
    "- 카드에 적힌 숫자를 cnt list에 저장\n",
    "- 가장 큰 수의 인덱스와 값을 출력, 같다면 인덱스가 큰 것과 값을 출력\n",
    "\n",
    "\n",
    "'''\n",
    "\n",
    "\n",
    "T = int(input())\n",
    "for tc in range(1,T+1):\n",
    "    N = int(input())  #N : 카드의 개수\n",
    "    cards = list(map(int,input()))\n",
    "    cnt = [0] * 10      # 0은 버리고, 1~9 저장할거니까 10개\n",
    "\n",
    "    # 카드 속 번호 카운트\n",
    "    for i in range(N) :\n",
    "        cnt[cards[i]] += 1\n",
    "\n",
    "\n",
    "    #가장 많은 숫자 찾기\n",
    "    max_val = 0\n",
    "    max_idx = 0\n",
    "    for k in range(10) :\n",
    "        if cnt[k] >= max_val :\n",
    "            max_val = cnt[k]\n",
    "            max_idx = k\n",
    "            \n",
    "    # >=로 설정하면 뒷쪽 값으로 max가 덮어 씌여지므로 max_idx를 비교할 필요가 없음\n",
    "    \n",
    "    print(f'#{tc} {max_idx} {max_val}')\n"
   ]
  },
  {
   "cell_type": "code",
   "execution_count": null,
   "metadata": {},
   "outputs": [],
   "source": [
    "# 숫자들의 각 자릿수를 알아내는 방법\n",
    "\n",
    "num = 456789 #babygin 확인할 6자리 수\n",
    "c = [0] * 12        #6자리 수로부터 각 자리 수를 추출하여 개수를 누적할 리스트\n",
    "\n",
    "for i in range(6) :\n",
    "    c[num%10] += 1      #해당 숫자 카운트 +1\n",
    "    num //= 10          # num = num // 10"
   ]
  },
  {
   "cell_type": "code",
   "execution_count": 1,
   "metadata": {},
   "outputs": [
    {
     "name": "stdout",
     "output_type": "stream",
     "text": [
      "[False, False, False, False, False, False, False, False, False, False]\n"
     ]
    }
   ],
   "source": [
    "arr = [False] * 10\n",
    "print(arr)"
   ]
  },
  {
   "cell_type": "code",
   "execution_count": 17,
   "metadata": {},
   "outputs": [
    {
     "name": "stdout",
     "output_type": "stream",
     "text": [
      " 9 3\n"
     ]
    }
   ],
   "source": [
    "#test\n",
    "\n",
    "N = 5\n",
    "num = int(22999)\n",
    "\n",
    "#각 자릿수 찾아서 리스트로 만들기 (공백 없이 숫자가 주어지기 때문에)\n",
    "count = [0] * 12        #각각의 개수를 추출해서 카운트하는 리스트\n",
    "for _ in range(N) :\n",
    "    count[num % 10] += 1\n",
    "    num = num // 10\n",
    "\n",
    "max_cnt = count[0]    #최대 장수  \n",
    "number = 0 #가장 많은 숫자\n",
    "\n",
    "\n",
    "for i in range(len(count)) :\n",
    "    if count[i] >= max_cnt :\n",
    "        max_cnt = count[i]      #최대 장수 재할당\n",
    "        if number < i :         #i 재할당\n",
    "            number = i\n",
    "\n",
    "\n",
    "print(f' {number} {max_cnt}')"
   ]
  },
  {
   "cell_type": "code",
   "execution_count": 4,
   "metadata": {},
   "outputs": [
    {
     "name": "stdout",
     "output_type": "stream",
     "text": [
      "[49679]\n"
     ]
    }
   ],
   "source": [
    "#리스트 출력 확인\n",
    "arr = list(map(int,input().split()))\n",
    "print(arr)"
   ]
  }
 ],
 "metadata": {
  "kernelspec": {
   "display_name": "Python 3",
   "language": "python",
   "name": "python3"
  },
  "language_info": {
   "codemirror_mode": {
    "name": "ipython",
    "version": 3
   },
   "file_extension": ".py",
   "mimetype": "text/x-python",
   "name": "python",
   "nbconvert_exporter": "python",
   "pygments_lexer": "ipython3",
   "version": "3.9.13"
  }
 },
 "nbformat": 4,
 "nbformat_minor": 2
}
