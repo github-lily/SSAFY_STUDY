{
 "cells": [
  {
   "cell_type": "markdown",
   "metadata": {},
   "source": [
    "- N x N 크기\n",
    "- 출발지에서 목적지에 도착하는 경로가 존재하는지 확인하는 프로그램\n",
    "- 도착할 수 있으면 1, 없으면 0\n",
    "- 0은 통로 1은 벽 2는 출발 3은 도착 (start 변수 지정하기)\n",
    "- 스택에 하나씩 넣고, 막다른길 나오면 다른 길 탐색, 없으면 되돌아가기\n",
    "\n"
   ]
  },
  {
   "cell_type": "code",
   "execution_count": null,
   "metadata": {},
   "outputs": [],
   "source": [
    "T = int(input())\n",
    "\n",
    "for tc in range(1,T+1) :\n",
    "    N = int(input())\n",
    "    arr = [list(map(int,input().split())) for _ in range(N)]\n",
    "    \n",
    "\n",
    "    visited = [[0] for _ in range(N+1)]\n",
    "    #재귀함수\n",
    "\n",
    "    def dfs(lst,x,y) :\n",
    "        visited[x][y] = 1\n",
    "        for i in range(N) :\n",
    "            for j in range(N) :\n",
    "                if visited[i][j] != 1 and lst[i][j] == 0 :\n",
    "                    dfs(i,j)        #안갔던 곳이고 벽이 아니면 이동\n",
    "                    if dfs(i,j) == 1:\n",
    "                        return 1\n",
    "                elif lst[i][j] == 3 :\n",
    "                    return 1\n",
    "        else :\n",
    "            return 0\n",
    "        \n",
    "    \n",
    "    #시작점 찾기\n",
    "    for i in range(N) :\n",
    "        for j in range(N) :\n",
    "            if arr[i][j] == 2:\n",
    "                print(f'#{tc} {dfs(arr,i,j)}')\n",
    "                "
   ]
  },
  {
   "cell_type": "markdown",
   "metadata": {},
   "source": [
    "값 입력받을 떄 빈칸으로 구분되어있는지 잘 보기!"
   ]
  }
 ],
 "metadata": {
  "language_info": {
   "name": "python"
  }
 },
 "nbformat": 4,
 "nbformat_minor": 2
}
