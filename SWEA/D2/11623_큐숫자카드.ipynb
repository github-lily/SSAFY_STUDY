{
 "cells": [
  {
   "cell_type": "markdown",
   "metadata": {},
   "source": [
    "# 11623 큐숫자카드\n",
    "- N장의 카드\n",
    "- 1번이 가장 위, N번이 가장 아래\n",
    "- 숫자 카드가 한 장 남을 때까지 다음 동작을 반복\n",
    "  - 가장 위에 있는 카드를 가져와 버림(pop) : front 이동\n",
    "  - 그 다음 가장 위에 있는 카드를 가장 아래에 있는 카드 밑으로 옮김 : 순환큐?\n",
    "- 가장 마지막에 남는 카드 구하기"
   ]
  },
  {
   "cell_type": "code",
   "execution_count": 1,
   "metadata": {},
   "outputs": [
    {
     "ename": "ValueError",
     "evalue": "invalid literal for int() with base 10: ''",
     "output_type": "error",
     "traceback": [
      "\u001b[1;31m---------------------------------------------------------------------------\u001b[0m",
      "\u001b[1;31mValueError\u001b[0m                                Traceback (most recent call last)",
      "Cell \u001b[1;32mIn[1], line 14\u001b[0m\n\u001b[0;32m     10\u001b[0m     \u001b[38;5;28;01mglobal\u001b[39;00m front\n\u001b[0;32m     11\u001b[0m     front \u001b[38;5;241m+\u001b[39m\u001b[38;5;241m=\u001b[39m \u001b[38;5;241m1\u001b[39m\n\u001b[1;32m---> 14\u001b[0m T \u001b[38;5;241m=\u001b[39m \u001b[38;5;28;43mint\u001b[39;49m\u001b[43m(\u001b[49m\u001b[38;5;28;43minput\u001b[39;49m\u001b[43m(\u001b[49m\u001b[43m)\u001b[49m\u001b[43m)\u001b[49m\n\u001b[0;32m     15\u001b[0m \u001b[38;5;28;01mfor\u001b[39;00m tc \u001b[38;5;129;01min\u001b[39;00m \u001b[38;5;28mrange\u001b[39m(\u001b[38;5;241m1\u001b[39m,T\u001b[38;5;241m+\u001b[39m\u001b[38;5;241m1\u001b[39m) :\n\u001b[0;32m     16\u001b[0m     N \u001b[38;5;241m=\u001b[39m \u001b[38;5;28mint\u001b[39m(\u001b[38;5;28minput\u001b[39m())\n",
      "\u001b[1;31mValueError\u001b[0m: invalid literal for int() with base 10: ''"
     ]
    }
   ],
   "source": [
    "# 두장을 삭제하고 두번째 삭제한 값을 추가하는 전략\n",
    "\n",
    "def enQueue(item):\n",
    "    global rear\n",
    "    rear += 1\n",
    "    my_q[rear] = item\n",
    "\n",
    "\n",
    "def deQueue():\n",
    "    global front\n",
    "    front += 1\n",
    "\n",
    "\n",
    "T = int(input())\n",
    "for tc in range(1,T+1) :\n",
    "    N = int(input())\n",
    "\n",
    "    front = rear = -1\n",
    "    my_q = [0] * 2 *N\n",
    "\n",
    "\n",
    "    for i in range(1,N+1) :\n",
    "        enQueue(i)\n",
    "\n",
    "\n",
    "    while True :\n",
    "        deQueue()\n",
    "        if my_q[front + 2] == 0 :\n",
    "            result = my_q[front+1]\n",
    "            break\n",
    "        enQueue(my_q[front+1])\n",
    "        deQueue()\n",
    "\n",
    "\n",
    "    print(f'#{tc} {result}')\n"
   ]
  },
  {
   "cell_type": "markdown",
   "metadata": {},
   "source": [
    "주의할 점 : my_q의 크기를 넉넉히 줘야함. 무조건 99999 하는 것보다 N에 맞춰 하는게 좋음"
   ]
  },
  {
   "cell_type": "code",
   "execution_count": null,
   "metadata": {},
   "outputs": [],
   "source": [
    "# 함수 없애고 코드 단순화\n",
    "\n",
    "\n",
    "T = int(input())\n",
    "for tc in range(1,T+1) :\n",
    "    N = int(input())\n",
    "\n",
    "    front = rear = -1\n",
    "    my_q = [0] * 2 *N\n",
    "\n",
    "\n",
    "    for i in range(1,N+1) :\n",
    "        rear += 1\n",
    "        my_q[rear] = i\n",
    "\n",
    "\n",
    "\n",
    "    while True :\n",
    "        front += 1\n",
    "        if my_q[front + 2] == 0 :\n",
    "            result = my_q[front+1]\n",
    "            break\n",
    "        rear += 1\n",
    "        my_q[rear] = my_q[front+1]\n",
    "        front += 1\n",
    "\n",
    "\n",
    "\n",
    "    print(f'#{tc} {result}')\n",
    "\n"
   ]
  }
 ],
 "metadata": {
  "kernelspec": {
   "display_name": "Python 3",
   "language": "python",
   "name": "python3"
  },
  "language_info": {
   "codemirror_mode": {
    "name": "ipython",
    "version": 3
   },
   "file_extension": ".py",
   "mimetype": "text/x-python",
   "name": "python",
   "nbconvert_exporter": "python",
   "pygments_lexer": "ipython3",
   "version": "3.9.13"
  }
 },
 "nbformat": 4,
 "nbformat_minor": 2
}
