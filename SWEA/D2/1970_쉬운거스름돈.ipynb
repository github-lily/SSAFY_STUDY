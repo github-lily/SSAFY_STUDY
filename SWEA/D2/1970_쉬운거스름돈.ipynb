{
 "cells": [
  {
   "cell_type": "code",
   "execution_count": null,
   "metadata": {},
   "outputs": [],
   "source": [
    "import sys\n",
    "\n",
    "sys.stdin = open(\"test.txt\", \"r\")\n",
    "\n",
    "'''\n",
    "거스름돈을 최소 개수로 주기 위해 \n",
    "각 돈의 개수가 몇개씩 필요한지 리스트 출력\n",
    "\n",
    "5만원 만원 5천원 천원 500원 100원 50원 10원 8개\n",
    "0     1    2   3    4     5    6    7\n",
    "\n",
    "'''\n",
    "\n",
    "T = int(input())\n",
    "for tc in range(1, T + 1):\n",
    "    N = input()\n",
    "    count = [0] * 8\n",
    "    length = len(N)\n",
    "    money = int(N)\n",
    "\n",
    "    #반올림사용?\n",
    "    #만원, 천원 단위로 높은 금액 먼저 계산 후 남은 금액?\n",
    "\n",
    "\n",
    "\n",
    "    if length < 5 : #만원 미만일 때\n",
    "        if 5000 < money < 10000 :\n",
    "            change = 10000 - money\n",
    "            str_change = str(change)\n",
    "\n",
    "            k = 3\n",
    "            for i in range(len(str_change)) :\n",
    "                count[k] = str_change[i]\n",
    "                k += 1\n",
    "\n",
    "\n",
    "\n",
    "\n",
    "\n",
    "    else :  #만원 이상일 때\n",
    "                \n",
    "\n",
    "\n",
    "\n",
    "\n",
    "\n",
    "    # print(f'#{tc} {result}')\n"
   ]
  }
 ],
 "metadata": {
  "language_info": {
   "name": "python"
  }
 },
 "nbformat": 4,
 "nbformat_minor": 2
}
