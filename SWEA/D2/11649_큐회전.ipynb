{
 "cells": [
  {
   "cell_type": "markdown",
   "metadata": {},
   "source": [
    "# 11649 큐회전\n",
    "- N 개의 숫자로 이루어진 수열\n",
    "- 맨 앞의 숫자를 맨 뒤로 보내는 작업을 M번\n",
    "- 수열의 맨 앞에 있는 숫자를 출력\n",
    "\n",
    "- 전략 : deQueue와 enQueue(front)를 M번 반복, 인덱스 0번 출력"
   ]
  },
  {
   "cell_type": "code",
   "execution_count": null,
   "metadata": {},
   "outputs": [],
   "source": [
    "# 함수 사용\n",
    "\n",
    "def enQueue(item) :\n",
    "    global rear\n",
    "    rear += 1\n",
    "    my_q[rear] = item\n",
    "\n",
    "def deQueue() :\n",
    "    global front\n",
    "    front += 1\n",
    "\n",
    "\n",
    "\n",
    "T = int(input())\n",
    "for tc in range(1,T+1) :\n",
    "    N, M = map(int,input().split())\n",
    "    num = list(map(int,input().split()))\n",
    "\n",
    "    front = rear = -1\n",
    "    my_q = [0] * 2 * N * M   #N에 따라 넉넉한 크기로, M이 N보다 클 수 있으므로 M도 반영\n",
    "\n",
    "    for x in num :\n",
    "        enQueue(x)\n",
    "\n",
    "    for _ in range(M) :\n",
    "        deQueue()\n",
    "        enQueue(my_q[front])\n",
    "\n",
    "    result = my_q[front+1]      #front 다음이 첫번째 자리니까\n",
    "\n",
    "\n",
    "    print(f'#{tc} {result}')\n"
   ]
  },
  {
   "cell_type": "code",
   "execution_count": null,
   "metadata": {},
   "outputs": [],
   "source": [
    "# 함수 없이 코드 단순하게\n",
    "\n",
    "T = int(input())\n",
    "for tc in range(1,T+1) :\n",
    "    N, M = map(int,input().split())\n",
    "    num = list(map(int,input().split()))\n",
    "\n",
    "    front = rear = -1\n",
    "    my_q = [0] * 2 * N * M   #N에 따라 넉넉한 크기로, M이 N보다 클 수 있으므로 M도 반영\n",
    "\n",
    "    for x in num :\n",
    "        rear += 1\n",
    "        my_q[rear] = x\n",
    "\n",
    "    for _ in range(M) :\n",
    "        front += 1\n",
    "        rear += 1\n",
    "        my_q[rear] = my_q[front]\n",
    "\n",
    "    result = my_q[front+1]      #front 다음이 첫번째 자리니까\n",
    "\n",
    "\n",
    "    print(f'#{tc} {result}')\n",
    "\n"
   ]
  },
  {
   "cell_type": "code",
   "execution_count": null,
   "metadata": {},
   "outputs": [],
   "source": [
    "# deque 사용하기\n",
    "\n",
    "from collections import deque\n",
    "\n",
    "\n",
    "\n",
    "T = int(input())\n",
    "for tc in range(1,T+1) :\n",
    "    N, M = map(int,input().split())\n",
    "    q = deque(map(int,input().split()))\n",
    "\n",
    "\n",
    "\n",
    "    for _ in range(M) :\n",
    "        num = q.popleft()\n",
    "        q.append(num)\n",
    "\n",
    "\n",
    "    result = q[0]      #front 다음이 첫번째 자리니까\n",
    "\n",
    "\n",
    "    print(f'#{tc} {result}')"
   ]
  }
 ],
 "metadata": {
  "language_info": {
   "name": "python"
  }
 },
 "nbformat": 4,
 "nbformat_minor": 2
}
