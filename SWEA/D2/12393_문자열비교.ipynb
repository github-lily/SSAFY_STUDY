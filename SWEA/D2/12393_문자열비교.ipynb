{
 "cells": [
  {
   "cell_type": "markdown",
   "metadata": {},
   "source": [
    "# 12393. 문자열_문자열비교_확인용"
   ]
  },
  {
   "cell_type": "code",
   "execution_count": null,
   "metadata": {},
   "outputs": [],
   "source": [
    "T = int(input())\n",
    "for tc in range(1, T+1):\n",
    "    str1 = input()\n",
    "    str2 = input()\n",
    "\n",
    "    N = len(str1)\n",
    "    M = len(str2)\n",
    "\n",
    "    if str1 in str2 :\n",
    "        ans = 1\n",
    "    else :\n",
    "        ans = 0\n",
    "\n",
    "\n",
    "    print(f'#{tc} {ans}')"
   ]
  }
 ],
 "metadata": {
  "language_info": {
   "name": "python"
  }
 },
 "nbformat": 4,
 "nbformat_minor": 2
}
