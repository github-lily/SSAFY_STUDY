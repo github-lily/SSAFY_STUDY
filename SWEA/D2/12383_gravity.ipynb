{
 "cells": [
  {
   "cell_type": "markdown",
   "metadata": {},
   "source": [
    "# 12383_배열1_gravity"
   ]
  },
  {
   "cell_type": "code",
   "execution_count": null,
   "metadata": {},
   "outputs": [],
   "source": [
    "# 우측에 작은 값의 개수 = 낙차 수\n",
    "\n",
    "T = int(input())\n",
    "for tc in range(1, T+1):\n",
    "    N = int(input())    #상자 길이\n",
    "    box = list(map(int, input().split()))   #상자 높이\n",
    "\n",
    "    cnt = [0] * N       # 작은 값의 개수 저장할 리스트\n",
    "    for i in range(N-1) :       # 어차피 N-1 값은 낙차가 0이라 볼 필요 없음\n",
    "        for j in range(i, N) :      # i 다음에서 작은 값 차기\n",
    "            if box[i] > box[j] :\n",
    "                cnt[i] += 1         # 작은 값 개수 카운트\n",
    "\n",
    "    # 최대낙차구하기\n",
    "    max_val = 0          \n",
    "    for x in cnt :\n",
    "        if max_val < x :\n",
    "            max_val = x\n",
    "\n",
    "\n",
    "\n",
    "    print(f'#{tc} {max_val}')\n"
   ]
  }
 ],
 "metadata": {
  "language_info": {
   "name": "python"
  }
 },
 "nbformat": 4,
 "nbformat_minor": 2
}
