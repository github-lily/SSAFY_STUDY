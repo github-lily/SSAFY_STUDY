{
 "cells": [
  {
   "cell_type": "markdown",
   "metadata": {},
   "source": [
    "숫자를 스택에 넣는다.\n",
    "역산자를 만나면 스택의 숫자 두 개를 꺼내 더하고 결과를 다시 스택에 넣는다\n",
    ".은 스택에서 숫자를 꺼내 출력한다.\n",
    "\n",
    "코드의 연산 결과를 출력하는 프로그램\n",
    "연산이 불가능한 경우 error 출력\n",
    "\n",
    "\n",
    "나누기 연산 주의하기!"
   ]
  },
  {
   "cell_type": "code",
   "execution_count": 1,
   "metadata": {},
   "outputs": [
    {
     "ename": "ValueError",
     "evalue": "invalid literal for int() with base 10: ''",
     "output_type": "error",
     "traceback": [
      "\u001b[1;31m---------------------------------------------------------------------------\u001b[0m",
      "\u001b[1;31mValueError\u001b[0m                                Traceback (most recent call last)",
      "Cell \u001b[1;32mIn[1], line 25\u001b[0m\n\u001b[0;32m     21\u001b[0m     \u001b[38;5;28;01mif\u001b[39;00m cal \u001b[38;5;241m==\u001b[39m \u001b[38;5;124m'\u001b[39m\u001b[38;5;124m/\u001b[39m\u001b[38;5;124m'\u001b[39m :\n\u001b[0;32m     22\u001b[0m         \u001b[38;5;28;01mreturn\u001b[39;00m a\u001b[38;5;241m/\u001b[39m\u001b[38;5;241m/\u001b[39mb\n\u001b[1;32m---> 25\u001b[0m T \u001b[38;5;241m=\u001b[39m \u001b[38;5;28;43mint\u001b[39;49m\u001b[43m(\u001b[49m\u001b[38;5;28;43minput\u001b[39;49m\u001b[43m(\u001b[49m\u001b[43m)\u001b[49m\u001b[43m)\u001b[49m\n\u001b[0;32m     26\u001b[0m \u001b[38;5;28;01mfor\u001b[39;00m tc \u001b[38;5;129;01min\u001b[39;00m \u001b[38;5;28mrange\u001b[39m(\u001b[38;5;241m1\u001b[39m,T\u001b[38;5;241m+\u001b[39m\u001b[38;5;241m1\u001b[39m) :\n\u001b[0;32m     27\u001b[0m     arr \u001b[38;5;241m=\u001b[39m \u001b[38;5;28minput\u001b[39m()\u001b[38;5;241m.\u001b[39msplit()\n",
      "\u001b[1;31mValueError\u001b[0m: invalid literal for int() with base 10: ''"
     ]
    }
   ],
   "source": [
    "# def push(item) :\n",
    "#     top += 1\n",
    "#     num_s.append(item)\n",
    "#\n",
    "#\n",
    "# def pop() :\n",
    "#     global top\n",
    "#     a = num_s[top]\n",
    "#     top -= 1\n",
    "#     return a\n",
    "\n",
    "\n",
    "def calculation(a,b, cal) :\n",
    "    num_s[top] = num_s[top-1] = 0\n",
    "    if cal == '+' :\n",
    "        return a+b\n",
    "    if cal == '-' :\n",
    "        return a-b\n",
    "    if cal == '*' :\n",
    "        return a*b\n",
    "    if cal == '/' :\n",
    "        return a//b\n",
    "\n",
    "\n",
    "T = int(input())\n",
    "for tc in range(1,T+1) :\n",
    "    arr = input().split()\n",
    "\n",
    "    num_s = [0] * 11      #숫자 스택\n",
    "    top = -1\n",
    "\n",
    "    for x in arr :\n",
    "        if x.isdecimal() :\n",
    "            top += 1\n",
    "            num_s[top] = int(x)\n",
    "        elif x == '.' :\n",
    "            if top != 0 :\n",
    "                result = 'error'\n",
    "                break\n",
    "            elif top == 0 :\n",
    "                result = num_s[top]\n",
    "        else :\n",
    "            if top == 0 or top == -1 :\n",
    "                result = 'error'\n",
    "                break\n",
    "            else :\n",
    "                ans = calculation(num_s[top-1], num_s[top], x)\n",
    "                top -= 1\n",
    "                num_s[top] = ans\n",
    "\n",
    "\n",
    "\n",
    "\n",
    "    print(f'#{tc} {result}')\n"
   ]
  }
 ],
 "metadata": {
  "kernelspec": {
   "display_name": "Python 3",
   "language": "python",
   "name": "python3"
  },
  "language_info": {
   "codemirror_mode": {
    "name": "ipython",
    "version": 3
   },
   "file_extension": ".py",
   "mimetype": "text/x-python",
   "name": "python",
   "nbconvert_exporter": "python",
   "pygments_lexer": "ipython3",
   "version": "3.9.13"
  }
 },
 "nbformat": 4,
 "nbformat_minor": 2
}
