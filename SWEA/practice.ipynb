{
 "cells": [
  {
   "cell_type": "markdown",
   "metadata": {},
   "source": [
    "# 교환을 통한 순열 생성"
   ]
  },
  {
   "cell_type": "code",
   "execution_count": 1,
   "metadata": {},
   "outputs": [
    {
     "name": "stdout",
     "output_type": "stream",
     "text": [
      "['A', 'B', 'C', 'D']\n",
      "['B', 'A', 'C', 'D']\n",
      "['C', 'A', 'B', 'D']\n",
      "['D', 'A', 'B', 'C']\n"
     ]
    }
   ],
   "source": [
    "# 교환을 통한 순열 생성\n",
    "\n",
    "arr = ['A','B','C','D']\n",
    "N = len(arr)\n",
    "\n",
    "for i in range(0,N) :\n",
    "    arr[0], arr[i] = arr[i], arr[0]\n",
    "    print(arr)"
   ]
  },
  {
   "cell_type": "code",
   "execution_count": 3,
   "metadata": {},
   "outputs": [
    {
     "name": "stdout",
     "output_type": "stream",
     "text": [
      "['A', 'B', 'C', 'D']\n",
      "['A', 'C', 'B', 'D']\n",
      "['A', 'D', 'C', 'B']\n",
      "['B', 'A', 'C', 'D']\n",
      "['B', 'C', 'A', 'D']\n",
      "['B', 'D', 'C', 'A']\n",
      "['C', 'B', 'A', 'D']\n",
      "['C', 'A', 'B', 'D']\n",
      "['C', 'D', 'A', 'B']\n",
      "['D', 'B', 'C', 'A']\n",
      "['D', 'C', 'B', 'A']\n",
      "['D', 'A', 'C', 'B']\n"
     ]
    }
   ],
   "source": [
    "# 교환을 통한 순열 생성\n",
    "\n",
    "arr = ['A','B','C','D']\n",
    "N = len(arr)\n",
    "\n",
    "for i in range(0,N) :\n",
    "    arr[0], arr[i] = arr[i], arr[0]\n",
    "    # ===================================\n",
    "    for j in range(1,N) :\n",
    "        arr[1],arr[j] = arr[j], arr[1]\n",
    "        print(arr)\n",
    "        arr[1],arr[j] = arr[j], arr[1]\n",
    "    # ===================================\n",
    "    arr[0],arr[i] = arr[i], arr[0]"
   ]
  },
  {
   "cell_type": "code",
   "execution_count": 2,
   "metadata": {},
   "outputs": [
    {
     "name": "stdout",
     "output_type": "stream",
     "text": [
      "['A', 'C', 'B', 'D']\n",
      "['A', 'B', 'C', 'D']\n",
      "['A', 'B', 'D', 'C']\n",
      "['A', 'B', 'C', 'D']\n",
      "['A', 'C', 'B', 'D']\n",
      "['A', 'C', 'D', 'B']\n",
      "['A', 'C', 'D', 'B']\n",
      "['A', 'D', 'C', 'B']\n",
      "['A', 'D', 'B', 'C']\n",
      "['B', 'C', 'A', 'D']\n",
      "['B', 'A', 'C', 'D']\n",
      "['B', 'A', 'D', 'C']\n",
      "['B', 'A', 'C', 'D']\n",
      "['B', 'C', 'A', 'D']\n",
      "['B', 'C', 'D', 'A']\n",
      "['B', 'C', 'D', 'A']\n",
      "['B', 'D', 'C', 'A']\n",
      "['B', 'D', 'A', 'C']\n",
      "['C', 'A', 'B', 'D']\n",
      "['C', 'B', 'A', 'D']\n",
      "['C', 'B', 'D', 'A']\n",
      "['C', 'B', 'A', 'D']\n",
      "['C', 'A', 'B', 'D']\n",
      "['C', 'A', 'D', 'B']\n",
      "['C', 'A', 'D', 'B']\n",
      "['C', 'D', 'A', 'B']\n",
      "['C', 'D', 'B', 'A']\n",
      "['D', 'C', 'B', 'A']\n",
      "['D', 'B', 'C', 'A']\n",
      "['D', 'B', 'A', 'C']\n",
      "['D', 'B', 'C', 'A']\n",
      "['D', 'C', 'B', 'A']\n",
      "['D', 'C', 'A', 'B']\n",
      "['D', 'C', 'A', 'B']\n",
      "['D', 'A', 'C', 'B']\n",
      "['D', 'A', 'B', 'C']\n"
     ]
    }
   ],
   "source": [
    "# 교환을 통한 순열 생성\n",
    "# 24개\n",
    "\n",
    "arr = ['A','B','C','D']\n",
    "N = len(arr)\n",
    "\n",
    "for i in range(0,N) :\n",
    "    arr[0], arr[i] = arr[i], arr[0]\n",
    "    # ===================================\n",
    "    for j in range(1,N) :\n",
    "        arr[1],arr[j] = arr[j], arr[1]\n",
    "        # ===================================\n",
    "        for k in range(1,N) :\n",
    "            arr[2],arr[k] = arr[k], arr[2]\n",
    "            print(arr)\n",
    "            arr[2],arr[k] = arr[k], arr[2]\n",
    "        # ===================================\n",
    "        arr[1],arr[j] = arr[j], arr[1]\n",
    "    # ===================================\n",
    "    arr[0],arr[i] = arr[i], arr[0]"
   ]
  },
  {
   "cell_type": "markdown",
   "metadata": {},
   "source": [
    "- 기준인덱스가 하나씩 늘어남 -> k로 바꿔주기\n",
    "- 주피터노트북 순열의 visit 참고(방문정보파악)\n"
   ]
  },
  {
   "cell_type": "code",
   "execution_count": 4,
   "metadata": {},
   "outputs": [
    {
     "name": "stdout",
     "output_type": "stream",
     "text": [
      "['A', 'B', 'C', 'D']\n",
      "['A', 'B', 'D', 'C']\n",
      "['A', 'C', 'B', 'D']\n",
      "['A', 'C', 'D', 'B']\n",
      "['A', 'D', 'C', 'B']\n",
      "['A', 'D', 'B', 'C']\n",
      "['B', 'A', 'C', 'D']\n",
      "['B', 'A', 'D', 'C']\n",
      "['B', 'C', 'A', 'D']\n",
      "['B', 'C', 'D', 'A']\n",
      "['B', 'D', 'C', 'A']\n",
      "['B', 'D', 'A', 'C']\n",
      "['C', 'B', 'A', 'D']\n",
      "['C', 'B', 'D', 'A']\n",
      "['C', 'A', 'B', 'D']\n",
      "['C', 'A', 'D', 'B']\n",
      "['C', 'D', 'A', 'B']\n",
      "['C', 'D', 'B', 'A']\n",
      "['D', 'B', 'C', 'A']\n",
      "['D', 'B', 'A', 'C']\n",
      "['D', 'C', 'B', 'A']\n",
      "['D', 'C', 'A', 'B']\n",
      "['D', 'A', 'C', 'B']\n",
      "['D', 'A', 'B', 'C']\n"
     ]
    }
   ],
   "source": [
    "arr = ['A','B','C','D']\n",
    "N = len(arr)\n",
    "\n",
    "def backtrack(k,n) :\n",
    "    if k == n :\n",
    "        print(arr)\n",
    "    else :\n",
    "        for i in range(k,N) :\n",
    "            arr[k], arr[i] = arr[i], arr[k]\n",
    "            backtrack(k+1, n)\n",
    "            arr[k], arr[i] = arr[i], arr[k]\n",
    "\n",
    "backtrack(0, 3)\n",
    "            "
   ]
  },
  {
   "cell_type": "markdown",
   "metadata": {},
   "source": [
    "# 교환을 통한 순열 생성2\n",
    "- 이미 사용한 원소를 표시하여 중복되지 않도록 하는 것 "
   ]
  },
  {
   "cell_type": "code",
   "execution_count": 6,
   "metadata": {},
   "outputs": [
    {
     "name": "stdout",
     "output_type": "stream",
     "text": [
      "['A', 'B', 'C']\n",
      "['A', 'C', 'B']\n",
      "['B', 'A', 'C']\n",
      "['B', 'C', 'A']\n",
      "['C', 'A', 'B']\n",
      "['C', 'B', 'A']\n"
     ]
    }
   ],
   "source": [
    "arr = ['A', 'B', 'C']\n",
    "N = len(arr)\n",
    "\n",
    "order = [0] * N  # 순열을 저장\n",
    "visit = [0] * N  # 이미 선택된 요소를 표시\n",
    "\n",
    "for i in range(N):\n",
    "    if visit[i] == 1: continue\n",
    "    visit[i] = 1\n",
    "    order[0] = arr[i]\n",
    "    for j in range(N):\n",
    "        if visit[j] == 1: continue\n",
    "        visit[j] = 1\n",
    "        order[1] = arr[j]\n",
    "        for k in range(N):\n",
    "            if visit[k] == 1: continue\n",
    "            visit[k] = 1\n",
    "            order[2] = arr[k]\n",
    "            print(order)\n",
    "            visit[k] = 0\n",
    "        visit[j] = 0\n",
    "    visit[i] = 0\n"
   ]
  },
  {
   "cell_type": "code",
   "execution_count": null,
   "metadata": {},
   "outputs": [],
   "source": [
    "arr = ['A','B','C','D']\n",
    "N = len(arr)\n",
    "\n",
    "order = [0]*N   # 순열을 저장\n",
    "\n",
    "for i in range(N) :\n",
    "    if arr[i] in order : continue\n",
    "    order.append(arr[i])\n",
    "    for j in range(N) :\n",
    "        if arr[j] in order : continue\n",
    "        order.append(arr[j])\n",
    "        for k in range(N) :\n",
    "            if arr[k] in order : continue\n",
    "            order.append(arr[k])\n",
    "        arr.pop()\n",
    "    arr.pop()\n",
    "arr.pop()"
   ]
  }
 ],
 "metadata": {
  "kernelspec": {
   "display_name": "Python 3",
   "language": "python",
   "name": "python3"
  },
  "language_info": {
   "codemirror_mode": {
    "name": "ipython",
    "version": 3
   },
   "file_extension": ".py",
   "mimetype": "text/x-python",
   "name": "python",
   "nbconvert_exporter": "python",
   "pygments_lexer": "ipython3",
   "version": "3.9.13"
  }
 },
 "nbformat": 4,
 "nbformat_minor": 2
}
