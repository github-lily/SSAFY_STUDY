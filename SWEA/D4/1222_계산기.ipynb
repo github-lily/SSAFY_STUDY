{
 "cells": [
  {
   "cell_type": "markdown",
   "metadata": {},
   "source": [
    "'''\n",
    "\n",
    "문자열로 이루어진 계산식을 후위 표기식으로 바꾸어 계산하는 프로그램\n",
    "숫자는 0~9 사이의 정수\n",
    "연산자는 + 만 주어짐\n",
    "\n",
    "1. 스택 만들기\n",
    "2. 숫자면 아웃풋에 넣기\n",
    "3. 연산자는 스택에 넣기\n",
    "4. 끝나면 아웃풋끼리 더하기\n",
    "\n",
    "\n",
    "'''"
   ]
  },
  {
   "cell_type": "code",
   "execution_count": null,
   "metadata": {},
   "outputs": [],
   "source": [
    "import sys\n",
    "sys.stdin = open(\"1222.txt.py\", \"r\")\n",
    "\n",
    "\n",
    "\n",
    "for tc in range(1,11) :\n",
    "\n",
    "    length = int(input())\n",
    "    number = input()\n",
    "\n",
    "\n",
    "    s = []              #스택\n",
    "    output = []         #숫자\n",
    "    sum_v = 0\n",
    "\n",
    "    for x in number :\n",
    "        if x.isdecimal() :\n",
    "            output.append(x)\n",
    "            sum_v += int(x)\n",
    "        else :\n",
    "            s.append(x)\n",
    "\n",
    "    print(f'#{tc} {sum_v}')\n",
    "\n"
   ]
  }
 ],
 "metadata": {
  "language_info": {
   "name": "python"
  }
 },
 "nbformat": 4,
 "nbformat_minor": 2
}
