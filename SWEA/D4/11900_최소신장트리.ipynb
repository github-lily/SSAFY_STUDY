{
 "cells": [
  {
   "cell_type": "code",
   "execution_count": null,
   "metadata": {},
   "outputs": [],
   "source": [
    "import sys\n",
    "sys.stdin = open(\"test.txt\")\n",
    "\n",
    "'''\n",
    "최소신장트리를 구성하는 간선의 가중치를 모두 더해 출력하는 프로그램\n",
    "'''\n",
    "\n",
    "from heapq import heappush, heappop\n",
    "\n",
    "def prim(start) :\n",
    "    heap = list()\n",
    "    visit = [0] * (V+1)\n",
    "\n",
    "    # 최소 비용 합계\n",
    "    sum_w = 0\n",
    "\n",
    "    while  heap:\n",
    "        weight,v = heappop(heap,start)\n",
    "\n",
    "        if visit[v] :\n",
    "            continue\n",
    "\n",
    "        visit[v] = 1\n",
    "        sum_w += weight\n",
    "\n",
    "        for next in range(V) :\n",
    "            if len(G[v]) == 1 :\n",
    "                continue\n",
    "            if visit[next] :\n",
    "                continue\n",
    "            heappush(heap,(G[next][0],next))\n",
    "\n",
    "    return sum_w\n",
    "\n",
    "\n",
    "T = int(input())\n",
    "for tc in range(1,T+1) :\n",
    "    V,E = map(int,input().split())\n",
    "    G = [[]*(V)]\n",
    "\n",
    "    for _ in range(E) :\n",
    "        u,v,w = map(int,input().split())\n",
    "        G[u].append((w,v))\n",
    "\n",
    "    result = prim(0)\n",
    "    print(f'#{tc} {result}')\n",
    "\n",
    "\n"
   ]
  }
 ],
 "metadata": {
  "language_info": {
   "name": "python"
  }
 },
 "nbformat": 4,
 "nbformat_minor": 2
}
