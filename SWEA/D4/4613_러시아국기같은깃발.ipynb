{
 "cells": [
  {
   "cell_type": "markdown",
   "metadata": {},
   "source": [
    "- 러시아 국기 같은 깃발\n",
    "- N행 M열, 흰, 파, 빨\n",
    "- 러시아 국기 같은 깃발을 만들기 위해서 새로 칠해야하는 칸의 개수의 최소값"
   ]
  },
  {
   "cell_type": "code",
   "execution_count": null,
   "metadata": {},
   "outputs": [],
   "source": [
    "\n",
    "'''\n",
    "구간을 3개로 나누고\n",
    "새로 칠해야하는 칸의 개수를 카운트\n",
    "구간을 조절해가며 최소 색칠 개수를 구하기\n",
    "'''\n",
    "\n",
    "def paint_counting(arr, rs,cs,re,ce, color) :   #배열, 시작점, 끝점, 확인할 색\n",
    "    color_count = 0\n",
    "    for row in range(rs,re+1) :\n",
    "        for col in range(cs, ce+1) :\n",
    "            if arr[row][col] != color :\n",
    "                color_count += 1\n",
    "    return color_count\n",
    "\n",
    "T = int(input())\n",
    "for tc in range(1,T+1) :\n",
    "    N,M = map(int,input().split())\n",
    "    flag = [list(input()) for _ in range(N)]\n",
    "\n",
    "    best = 99999999999999999999999999\n",
    "\n",
    "\n",
    "    # 영역 나누기\n",
    "    for i in range(1,N-1) :\n",
    "        for j in range(i+1, N) :\n",
    "            total_cnt = paint_counting(flag,0,0,i-1,M-1,'W') + paint_counting(flag,i,0,j-1,M-1,'B') + paint_counting(flag,j,0,N-1,M-1,'R')\n",
    "            if best > total_cnt :\n",
    "                best = total_cnt\n",
    "\n",
    "    print(f'#{tc} {best}')\n"
   ]
  }
 ],
 "metadata": {
  "language_info": {
   "name": "python"
  }
 },
 "nbformat": 4,
 "nbformat_minor": 2
}
