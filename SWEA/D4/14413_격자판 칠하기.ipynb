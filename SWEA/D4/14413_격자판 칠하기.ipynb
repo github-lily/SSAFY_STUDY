{
 "cells": [
  {
   "cell_type": "code",
   "execution_count": null,
   "metadata": {},
   "outputs": [],
   "source": [
    "# 1차 시도\n",
    "# 73개 tc 중 53개 맞음\n",
    "# 처음이 ?로 시작하는 경우와 모두가 ?인 경우가 반례\n",
    "\n",
    "\n",
    "def check(r,c,mark) :\n",
    "    # 오른쪽 확인\n",
    "    if c+1 < M :\n",
    "        if arr[r][c+1] == mark :\n",
    "            return False\n",
    "        if mark == '#':\n",
    "            if arr[r][c+1] == '?' :\n",
    "                arr[r][c+1] = '.'\n",
    "        if mark == '.':\n",
    "            if arr[r][c+1] == '?' :\n",
    "                arr[r][c+1] = '#'\n",
    "\n",
    "    # 아래 확인\n",
    "    if r+1 < N :\n",
    "        if arr[r + 1][c] == mark:\n",
    "            return False\n",
    "        if mark == '#':\n",
    "            if arr[r+1][c] == '?' :\n",
    "                arr[r+1][c] = '.'\n",
    "        if mark == '.':\n",
    "            if arr[r+1][c] == '?':\n",
    "                arr[r+1][c] = '#'\n",
    "    return True\n",
    "\n",
    "\n",
    "\n",
    "T = int(input())\n",
    "for tc in range(1,T+1) :\n",
    "    N,M = map(int,input().split())\n",
    "    arr = [list(input()) for _ in range(N)]\n",
    "    ans = 'possible'\n",
    "\n",
    "\n",
    "    for r in range(N) :\n",
    "        for c in range(M) :\n",
    "            if check(r,c,arr[r][c]) == False :\n",
    "                ans = 'impossible'\n",
    "                break\n",
    "        if ans == 'impossible' : break\n",
    "\n",
    "\n",
    "    print(f'#{tc} {ans}')\n"
   ]
  },
  {
   "cell_type": "code",
   "execution_count": null,
   "metadata": {},
   "outputs": [],
   "source": []
  }
 ],
 "metadata": {
  "language_info": {
   "name": "python"
  }
 },
 "nbformat": 4,
 "nbformat_minor": 2
}
