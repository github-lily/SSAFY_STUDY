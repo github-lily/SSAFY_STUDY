{
 "cells": [
  {
   "cell_type": "markdown",
   "metadata": {},
   "source": [
    "# 3143. 가장 빠른 문자열 타이핑"
   ]
  },
  {
   "cell_type": "code",
   "execution_count": null,
   "metadata": {},
   "outputs": [],
   "source": [
    "# 1차 시도\n",
    "# 보여지는 tc 는 모두 맞고 디버깅해도 맞는데\n",
    "# 실제 넣어보면 25개 중 25개 모두 틀림\n",
    " \n",
    "\n",
    "'''\n",
    "- 전체 글자수 - (패턴 글자수 * 패턴반복횟수) + 패턴반복횟수 \n",
    "'''\n",
    "\n",
    "\n",
    "T = int(input())\n",
    "for tc in range(1, T+1):\n",
    "    t , p = input().split()\n",
    "\n",
    "    N = len(t)\n",
    "    M = len(p)\n",
    "\n",
    "    cnt = 0 # 패턴 반복 횟수\n",
    "    for i in range(N-M+1) :\n",
    "        for j in range(M) :\n",
    "            if t[i+j] != p[j] :\n",
    "                break\n",
    "        else :\n",
    "            cnt += 1\n",
    "\n",
    "    ans = N - (M*cnt) + cnt\n",
    "\n",
    "    print(f'#{tc} {ans}')\n"
   ]
  },
  {
   "cell_type": "code",
   "execution_count": 1,
   "metadata": {},
   "outputs": [],
   "source": [
    "# 승열이 코드\n",
    "\n",
    "T = int(input())\n",
    " \n",
    "for tc in range(1,T+1):\n",
    "    A,B = map(str,input().split())\n",
    "    cont = 0\n",
    " \n",
    "    N = len(A)  # 긴거\n",
    "    M = len(B)  # 짧은거\n",
    " \n",
    "    i = 0\n",
    "    while i <= N-M:\n",
    "        if A[i:i+M] == B:  # 같은 부분이 있으면\n",
    "            cont += 1\n",
    "            i += M\n",
    "        else:\n",
    "            cont+=1\n",
    "            i+=1\n",
    " \n",
    "    cont += N - i\n",
    " \n",
    "    print(f'#{tc} {cont}')"
   ]
  },
  {
   "cell_type": "code",
   "execution_count": null,
   "metadata": {},
   "outputs": [],
   "source": [
    "# 기흠이 코드\n",
    "T = int(input())\n",
    " \n",
    "for test_case in range(1,T+1):\n",
    "    text, pattern = input().split()\n",
    "     \n",
    "    N = len(text) # 전체 텍스트\n",
    "    M = len(pattern) # 패턴의 길이\n",
    " \n",
    "    cnt = 0\n",
    "    i = 0 # t의 인덱스\n",
    "     \n",
    "    while i+M-1 < N:\n",
    "        for j in range(M):\n",
    "            if pattern[j] != text[i+j]:\n",
    "                break\n",
    "        else: \n",
    "            cnt += 1\n",
    "            i = i + M - 1\n",
    "        i += 1\n",
    "             \n",
    "    answer =  N-(M-1)*cnt\n",
    "    print(f'#{test_case} {answer}')"
   ]
  },
  {
   "cell_type": "code",
   "execution_count": null,
   "metadata": {},
   "outputs": [],
   "source": [
    "# 참고해서 만든 내 코드\n",
    "\n",
    "'''\n",
    "- 전체 글자수 - (패턴 글자수 * 패턴반복횟수) + 패턴반복횟수 \n",
    "'''\n",
    "\n",
    "T = int(input())\n",
    "for tc in range(1, T+1):\n",
    "    t , p = input().split()\n",
    "\n",
    "    N = len(t)\n",
    "    M = len(p)\n",
    "\n",
    "    cnt = 0 # 패턴 반복 횟수\n",
    "    i = 0   # 탐색 인덱스\n",
    "\n",
    "    while i <= N-M :    #더 찾을 수 없을 때 종료\n",
    "        if t[i:i+M] == p :\n",
    "            cnt += 1\n",
    "            i += M\n",
    "        else :\n",
    "            i += 1\n",
    "\n",
    "    ans = N - (M*cnt) + cnt\n",
    "\n",
    "    print(f'#{tc} {ans}')\n"
   ]
  }
 ],
 "metadata": {
  "kernelspec": {
   "display_name": "Python 3",
   "language": "python",
   "name": "python3"
  },
  "language_info": {
   "codemirror_mode": {
    "name": "ipython",
    "version": 3
   },
   "file_extension": ".py",
   "mimetype": "text/x-python",
   "name": "python",
   "nbconvert_exporter": "python",
   "pygments_lexer": "ipython3",
   "version": "3.9.13"
  }
 },
 "nbformat": 4,
 "nbformat_minor": 2
}
