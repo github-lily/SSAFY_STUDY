{
 "cells": [
  {
   "cell_type": "markdown",
   "metadata": {},
   "source": [
    "- 4 x 4 게임판\n",
    "- 최대 하나의 T, 나머지는 비어있음\n",
    "- 그 뒤 두 플레이어가 번갈아가며 게임을 진행한다.\n",
    "- 두 대각선 중 하나가 4개의 같은 말을 포함하거나, 3개의 같은 말과 T를 포함하면 그 사람이 이긴다\n",
    "- 모든 칸이 다 찼는데 안끝나면 동점\n",
    "- 주어진 판을 보고 게임 결과를 판단하라"
   ]
  },
  {
   "cell_type": "code",
   "execution_count": null,
   "metadata": {},
   "outputs": [],
   "source": []
  }
 ],
 "metadata": {
  "language_info": {
   "name": "python"
  }
 },
 "nbformat": 4,
 "nbformat_minor": 2
}
