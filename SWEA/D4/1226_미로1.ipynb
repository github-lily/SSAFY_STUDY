{
 "cells": [
  {
   "cell_type": "markdown",
   "metadata": {},
   "source": [
    "# 1226 미로1"
   ]
  },
  {
   "cell_type": "code",
   "execution_count": null,
   "metadata": {},
   "outputs": [],
   "source": [
    "import sys\n",
    "sys.stdin = open(\"test.txt\", \"r\")\n",
    "\n",
    "\n",
    "#너비우선탐색 함수 만들기\n",
    "    #준비\n",
    "    # visited\n",
    "    # 큐만들기\n",
    "    # 인큐\n",
    "    # 방문표시\n",
    "    #탐색\n",
    "    # 디큐 할당\n",
    "    # 방문표시확인\n",
    "\n",
    "def bfs(sti,stj) :\n",
    "    visited = [[0] * (17) for _ in range(17)]\n",
    "    q = []\n",
    "    q.append([sti,stj])\n",
    "    visited[sti][stj] = 1\n",
    "\n",
    "    while q :\n",
    "        vi, vj = q.pop(0)\n",
    "        if maze[vi][vj] == 3:        #종료지점이면 끝\n",
    "            return 1         #간선수가 아닌 칸(정점) 수를 출력해야 하므로\n",
    "        else :\n",
    "            for di, dj in [[0,1],[1,0],[0,-1],[-1,0]] :     #주변 탐색\n",
    "                wi = vi+di\n",
    "                wj = vj+dj\n",
    "                if 0 <= wi < 16 and 0 <= wj < 16 and maze[wi][wj] != 1 and visited[wi][wj] == 0 :\n",
    "                    q.append([wi,wj])\n",
    "                    visited[wi][wj] = visited[vi][vj] +1\n",
    "    return 0        #위에서 종료가 안되면 길이 없단 뜻이므로 0 출력\n",
    "\n",
    "\n",
    "\n",
    "def find_s() :\n",
    "    for i in range(16) :\n",
    "        for j in range(16) :\n",
    "            if maze[i][j] == 2 :\n",
    "                return i,j\n",
    "\n",
    "\n",
    "\n",
    "for _ in range(1,11):\n",
    "    tc = input()\n",
    "    maze = [list(map(int, input())) for _ in range(16)]\n",
    "\n",
    "    sti,stj = find_s()\n",
    "    result = bfs(sti,stj)\n",
    "\n",
    "\n",
    "    print(f'#{tc} {result}')\n",
    "\n",
    "\n",
    "\n",
    "\n"
   ]
  }
 ],
 "metadata": {
  "language_info": {
   "name": "python"
  }
 },
 "nbformat": 4,
 "nbformat_minor": 2
}
