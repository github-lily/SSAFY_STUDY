{
 "cells": [
  {
   "cell_type": "markdown",
   "metadata": {},
   "source": [
    "# Contact\n",
    "- 가장 나중에 연락을 받게 되는 사람 중 번호가 가장 큰 사람을 구하는 함수\n",
    "- 유향그래프\n",
    "- 한번 연락을 받은 사람에게 다시 연락하지 않음"
   ]
  },
  {
   "cell_type": "code",
   "execution_count": null,
   "metadata": {},
   "outputs": [],
   "source": [
    "def bfs(s) :\n",
    "    # 1. q, v 생성\n",
    "    q = []\n",
    "    v = [0] * 101\n",
    "\n",
    "    # 2. q,v 삽입\n",
    "    q.append(s)\n",
    "    v[s] = 1\n",
    "    ans = s         #리턴할 값, 아무도 연결 안되어있으면 자기자신\n",
    "\n",
    "    # 3. 탐색\n",
    "    while q :\n",
    "        c = q.pop(0)\n",
    "        if v[c] > v[ans] or (v[c] == v[ans] and c > ans) :\n",
    "            ans = c\n",
    "\n",
    "        for n in lst[c] :\n",
    "            if v[n] == 0 :\n",
    "                q.append(n)\n",
    "                v[n] = v[c]+1\n",
    "\n",
    "\n",
    "    return ans\n",
    "\n",
    "\n",
    "\n",
    "\n",
    "for tc in range(1,11) :\n",
    "    N, S = map(int,input().split())\n",
    "    phone = list(map(int,input().split()))\n",
    "    lst = [[] for _ in range(101)]\n",
    "\n",
    "\n",
    "    for i in range(0,len(phone),2) :\n",
    "        s,e = phone[i], phone[i+1]\n",
    "        lst[s].append(e)\n",
    "\n",
    "    ans = bfs(S)\n",
    "    print(f'#{tc} {ans}')\n",
    "    "
   ]
  }
 ],
 "metadata": {
  "language_info": {
   "name": "python"
  }
 },
 "nbformat": 4,
 "nbformat_minor": 2
}
