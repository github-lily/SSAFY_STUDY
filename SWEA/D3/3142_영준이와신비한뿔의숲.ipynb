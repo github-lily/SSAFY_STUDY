{
 "cells": [
  {
   "cell_type": "markdown",
   "metadata": {},
   "source": [
    "- 뿔 1개인 유니콘과 뿔 2개인 트윈혼\n",
    "- n개의 뿔과 m마리의 짐승을 봤을 때\n",
    "- 유니콘과 트윈혼의 수는?"
   ]
  },
  {
   "cell_type": "code",
   "execution_count": null,
   "metadata": {},
   "outputs": [],
   "source": [
    "\n",
    "'''\n",
    "- x + 2y = n -> x = n-2y\n",
    "- x+y = m -> x = m-y\n",
    "- n-2y+y = m -> y = n-m\n",
    "'''\n",
    "\n",
    "T = int(input())\n",
    "for tc in range(1,T+1) :\n",
    "    n,m = map(int,input().split())\n",
    "\n",
    "\n",
    "    y = n-m\n",
    "    x = m-y\n",
    "\n",
    "    print(f'#{tc} {x} {y}')\n"
   ]
  }
 ],
 "metadata": {
  "language_info": {
   "name": "python"
  }
 },
 "nbformat": 4,
 "nbformat_minor": 2
}
