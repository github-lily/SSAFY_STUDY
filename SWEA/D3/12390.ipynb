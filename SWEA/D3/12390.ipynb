{
 "cells": [
  {
   "cell_type": "markdown",
   "metadata": {},
   "source": [
    "- A : 1~12까지의 숫자를 원소로 갖는 집합  \n",
    "- 집합 A의 부분 집합 중 N개의 원소를 갖고 있고, 원소의 합이 K인 부분 집합의 개수를 출력하라\n",
    "- 해당하는 부분집합이 없는 경우 0 출력\n"
   ]
  },
  {
   "cell_type": "code",
   "execution_count": null,
   "metadata": {},
   "outputs": [],
   "source": [
    "# 교과서\n",
    "\n",
    "T = int(input())        #테스트 케이스의 수\n",
    "arr = [1,2,3,4,5,6,7,8,9,10,11,12]\n",
    "n = len(arr)\n",
    "\n",
    "for tc in range(T) :\n",
    "    N, K = list(map(int,input().split()))\n",
    "    for i in range(1<<n) :      # 1<<n : 부분 집합의 개수(= 2^n)\n",
    "        for j in range(n) :     # 원소의 수만큼 비트를 비교함\n",
    "            if i & (1<<j) :     # i의 j번 비트가의 논리곱 결과가 참인경우\n",
    "                print(arr[j],end = \",\")     #j번 원소 출력\n",
    "        print()\n",
    "    print()\n"
   ]
  },
  {
   "cell_type": "code",
   "execution_count": 2,
   "metadata": {},
   "outputs": [
    {
     "ename": "ValueError",
     "evalue": "invalid literal for int() with base 10: ''",
     "output_type": "error",
     "traceback": [
      "\u001b[1;31m---------------------------------------------------------------------------\u001b[0m",
      "\u001b[1;31mValueError\u001b[0m                                Traceback (most recent call last)",
      "Cell \u001b[1;32mIn[2], line 1\u001b[0m\n\u001b[1;32m----> 1\u001b[0m T \u001b[38;5;241m=\u001b[39m \u001b[38;5;28;43mint\u001b[39;49m\u001b[43m(\u001b[49m\u001b[38;5;28;43minput\u001b[39;49m\u001b[43m(\u001b[49m\u001b[43m)\u001b[49m\u001b[43m)\u001b[49m        \u001b[38;5;66;03m#테스트 케이스의 수\u001b[39;00m\n\u001b[0;32m      2\u001b[0m A \u001b[38;5;241m=\u001b[39m [\u001b[38;5;241m1\u001b[39m,\u001b[38;5;241m2\u001b[39m,\u001b[38;5;241m3\u001b[39m,\u001b[38;5;241m4\u001b[39m,\u001b[38;5;241m5\u001b[39m,\u001b[38;5;241m6\u001b[39m,\u001b[38;5;241m7\u001b[39m,\u001b[38;5;241m8\u001b[39m,\u001b[38;5;241m9\u001b[39m,\u001b[38;5;241m10\u001b[39m,\u001b[38;5;241m11\u001b[39m,\u001b[38;5;241m12\u001b[39m]     \u001b[38;5;66;03m# 집합 A\u001b[39;00m\n\u001b[0;32m      4\u001b[0m \u001b[38;5;28;01mfor\u001b[39;00m tc \u001b[38;5;129;01min\u001b[39;00m \u001b[38;5;28mrange\u001b[39m(T) :\n",
      "\u001b[1;31mValueError\u001b[0m: invalid literal for int() with base 10: ''"
     ]
    }
   ],
   "source": [
    "T = int(input())        #테스트 케이스의 수\n",
    "A = [1,2,3,4,5,6,7,8,9,10,11,12]     # 집합 A\n",
    "\n",
    "for tc in range(T) :\n",
    "    N, K = list(map(int,input().split()))      #N : 원소의 개수 , K 원소의 합\n",
    "    all_set = []\n",
    "\n",
    "    #집합 A의 부분집합 구하기\n",
    "    for i in range(1<<N) :\n",
    "        for j in range(N) :\n",
    "            if i & (1<<j) :\n",
    "                all_set.append()\n",
    "        print()\n",
    "    print(all_set)\n",
    "\n",
    "    cnt = 0\n",
    "    for k in all_set:\n",
    "        total = 0\n",
    "        for m in str(k) :\n",
    "            total += int(k)\n",
    "\n",
    "        if len(k) == N and total == K :\n",
    "            cnt += 1\n",
    "\n",
    "    print(cnt)\n",
    "\n",
    "    # print(f'#{tc} {cnt}')"
   ]
  }
 ],
 "metadata": {
  "kernelspec": {
   "display_name": "Python 3",
   "language": "python",
   "name": "python3"
  },
  "language_info": {
   "codemirror_mode": {
    "name": "ipython",
    "version": 3
   },
   "file_extension": ".py",
   "mimetype": "text/x-python",
   "name": "python",
   "nbconvert_exporter": "python",
   "pygments_lexer": "ipython3",
   "version": "3.9.13"
  }
 },
 "nbformat": 4,
 "nbformat_minor": 2
}
