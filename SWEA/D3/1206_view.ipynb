{
 "cells": [
  {
   "cell_type": "markdown",
   "metadata": {},
   "source": [
    "# S/W 문제해결 기본 1일차 - View\n",
    "- 양쪽 모두 2 이상의 공간이 확보될 때 조망권이 확보된 것\n",
    "- 조망권이 확보된 세대의 수를 반환하는 프로그램\n",
    "- 가로 길이는 항상 1000 이하\n",
    "- 맨 왼쪽가 오른쪽 2칸에는 건물이 세워지지 않음\n",
    "- 각 빌딩의 높이는 최대 255\n",
    "- 10개의 테스트 케이스\n"
   ]
  },
  {
   "cell_type": "code",
   "execution_count": null,
   "metadata": {},
   "outputs": [],
   "source": [
    "for tc in range(1,11) :\n",
    "    N = int(input())    # 건물의 개수\n",
    "    arr = list(map(int,input().split()))    #각 건물의 높이\n",
    "    view = 0        #조망권이 확보된 세대 수\n",
    "\n",
    "    for i in range(2,N-3+1) :   #기준인덱스 i\n",
    "        max_high = arr[i-2]\n",
    "        if max_high < arr[i-1] :        #왼쪽 2번째 건물과 비교\n",
    "            max_high = arr[i-1]\n",
    "        if max_high < arr[i+1] :        #오른쪽 첫번째 건물과 비교\n",
    "            max_high = arr[i+1]\n",
    "        if max_high < arr[i+2] :        #오른쪽 두번째 건물과 비교\n",
    "            max_high = arr[i+2]\n",
    "\n",
    "        if arr[i] > max_high :          #기준 건물이 더 낮을 땐 패스\n",
    "            view += arr[i] - max_high    \n",
    "\n",
    "    print(f'#{tc} {view}')\n",
    "\n",
    "\n"
   ]
  },
  {
   "cell_type": "code",
   "execution_count": null,
   "metadata": {},
   "outputs": [],
   "source": [
    "for tc in range(1, 11):\n",
    "    # 하나의 테스트 케이스\n",
    "    N = int(input())   # 자료수\n",
    "    arr = list(map(int, input().split()))\n",
    "    ans = 0\n",
    "    for i in range(2, N - 3 + 1):\n",
    "        max_val = arr[i - 2]\n",
    "        for val in [arr[i - 1], arr[i + 1], arr[i + 2]]:\n",
    "            if max_val < val:\n",
    "                max_val = val\n",
    "\n",
    "        # --------------------------------------------------------------\n",
    "        if arr[i] > max_val:\n",
    "            ans += arr[i] - max_val\n",
    "    print(f'#{tc} {ans}')"
   ]
  },
  {
   "cell_type": "code",
   "execution_count": null,
   "metadata": {},
   "outputs": [],
   "source": [
    "\n",
    "'''\n",
    "양 옆 두칸이 0이므로 기준 인덱스는 2 부터 N-2까지\n",
    "기준 인덱스가 가장 높으면 arr[i] - 양옆 건물 중 가장 높은 층수\n",
    "'''\n",
    "\n",
    "for i in range(1, 11):\n",
    "    N = int(input())\n",
    "    arr = list(map(int, input().split()))\n",
    "\n",
    "\n",
    "    ans_sum = 0\n",
    "    for i in range(2, N-2):\n",
    "        if (arr[i] >= arr[i-1]) and (arr[i] >= arr[i-2]) and (arr[i] >= arr[i+1]) and (arr[i] >= arr[i+2]):\n",
    "            ans_sum += arr[i] - max(arr[i - 1], arr[i - 2], arr[i + 1], arr[i + 2])\n",
    "\n",
    "    print(ans_sum)"
   ]
  }
 ],
 "metadata": {
  "language_info": {
   "name": "python"
  }
 },
 "nbformat": 4,
 "nbformat_minor": 2
}
