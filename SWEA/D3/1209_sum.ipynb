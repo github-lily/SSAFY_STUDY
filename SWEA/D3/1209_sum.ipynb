{
 "cells": [
  {
   "cell_type": "markdown",
   "metadata": {},
   "source": [
    "# S/W 문제해결 기본 2일차 sum\n",
    "\n",
    "- 각 행의 합, 각 열의 합, 각 대각선의 합 중 최댓값을 구하는 프로그램"
   ]
  },
  {
   "cell_type": "code",
   "execution_count": null,
   "metadata": {},
   "outputs": [],
   "source": [
    "T = int(input())\n",
    "\n",
    "for tc in range(1,T+1) :\n",
    "    arr = [list(map(int,input().split())) for _ in range(100)]      #100x100 행렬\n",
    "\n",
    "    #각 행의 합(row)    #행 우선순회\n",
    "    max_row = 0\n",
    "    row_sum = 0\n",
    "    for i in range(100) :\n",
    "        for j in range(100) :\n",
    "            row_sum += arr[i][j]        #합하기\n",
    "            if max_row < row_sum :      #행의 합 중 최댓값 찾기\n",
    "                max_row = row_sum\n",
    "\n",
    "    #각 열의 합(column) - 열우선순회\n",
    "    max_col = 0\n",
    "    col_sum = 0\n",
    "    for j in range(100) :\n",
    "        for i in range(100) :\n",
    "            col_sum += arr[i][j]\n",
    "            if max_col < col_sum :\n",
    "                max_col = col_sum\n",
    "\n",
    "    #대각선의 합 (diagonal)\n",
    "    max_dia_LR = 0      #좌에서 우측방향 대각선\n",
    "    dia_sum_LR = 0\n",
    "    for i,j in range(100) :\n",
    "        dia_sum_LR += arr[i][j]\n",
    "        if max_dia_LR < dia_sum_LR:\n",
    "            max_dia_LR = dia_sum_LR\n",
    "\n",
    "    # 우에서 좌방향 대각선\n",
    "    max_dia_RL = 0\n",
    "    dia_sum_RL = 0\n",
    "    for i in range(100) :\n",
    "        dia_sum_RL += arr[i][99-i]      #그림그리면 이해됨^^ㅠ index로 볼 때 i+j = 99 즉 j = 99-i\n",
    "        if max_dia_RL < dia_sum_RL :\n",
    "            max_dia_RL = dia_sum_RL\n",
    "\n",
    "    \n",
    "    #최대합 구하기\n",
    "    super_max = 0\n",
    "    max_list = [max_row, max_col, max_dia_LR, max_dia_RL]\n",
    "    for num in range(4) :\n",
    "        if super_max < max_list[num] :\n",
    "            super_max = max_list[num]\n",
    "\n",
    "    print(f'#{tc} {super_max}')\n",
    "\n"
   ]
  }
 ],
 "metadata": {
  "language_info": {
   "name": "python"
  }
 },
 "nbformat": 4,
 "nbformat_minor": 2
}
