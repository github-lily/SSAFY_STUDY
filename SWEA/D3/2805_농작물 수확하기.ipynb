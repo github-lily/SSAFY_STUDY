{
 "cells": [
  {
   "cell_type": "markdown",
   "metadata": {},
   "source": [
    "# 2805 농작물 수확하기\n",
    "\n",
    "- NxN 크기의 농장\n",
    "- 농장의 크기는 항상 홀수\n",
    "- 수확은 항상 농장의 크기에 딱 맞는 정사각형 마름모 형태로만 가능\n",
    "\n",
    "\n",
    "- N//2 에서 시작\n",
    "- i-j, i+j로 하면서 범위 내부까지 넓힘\n",
    "    - j의 범위는 range(1,N//2)\n",
    "    - 넓히면서 값 더하기\n",
    "\n",
    "- N//2,N//2에서 시작\n",
    "- 시작할땐 다 더하고\n",
    "- 그 다음에 범위를 줄여가며 더하기"
   ]
  },
  {
   "cell_type": "code",
   "execution_count": 5,
   "metadata": {},
   "outputs": [
    {
     "name": "stdout",
     "output_type": "stream",
     "text": [
      "0 0 0 * 0 0 0\n",
      "0 0 * * * 0 0\n",
      "0 * * * * * 0\n",
      "* * * * * * *\n",
      "0 * * * * * 0\n",
      "0 0 * * * 0 0\n",
      "0 0 0 * 0 0 0\n"
     ]
    }
   ],
   "source": [
    "# 연습\n",
    "# 행을 들어가서 가운데로부터의 거리를 정함\n",
    "# [i][mid]를 더함\n",
    "# mid - k 만큼 양쪽으로 뻗는다\n",
    "\n",
    "\n",
    "N = 7\n",
    "arr = [[0]*N for _ in range(N)]\n",
    "\n",
    "mid = N//2\n",
    "for i in range(N) :\n",
    "    arr[i][mid] = '*'\n",
    "    k = abs(mid-i)   #가운데로부터의 거리(절대값)  #아래는 - 나오니까 abs\n",
    "    for j in range(1, mid-k+1) :\n",
    "        arr[i][mid-j] = arr[i][mid+j] = '*'\n",
    "\n",
    "\n",
    "for line in arr :\n",
    "    print(*line)\n"
   ]
  },
  {
   "cell_type": "code",
   "execution_count": 6,
   "metadata": {},
   "outputs": [
    {
     "name": "stdout",
     "output_type": "stream",
     "text": [
      "0 0 0 * 0 0 0\n",
      "0 0 * * * 0 0\n",
      "0 * * * * * 0\n",
      "* * * * * * *\n",
      "0 * * * * * 0\n",
      "0 0 * * * 0 0\n",
      "0 0 0 * 0 0 0\n"
     ]
    }
   ],
   "source": [
    "N = 7\n",
    "arr = [[0]*N for _ in range(N)]\n",
    "\n",
    "s = e = N//2\n",
    "for r in range(N) :\n",
    "    for x in range(s,e+1) :    #범위 s~e(e포함)\n",
    "        arr[r][x] = '*'\n",
    "\n",
    "    if r < N//2 :\n",
    "        s,e = s-1, e+1\n",
    "    else : \n",
    "        s,e = s+1, e-1\n",
    "for line in arr :\n",
    "    print(*line)\n",
    "    "
   ]
  },
  {
   "cell_type": "code",
   "execution_count": null,
   "metadata": {},
   "outputs": [],
   "source": [
    "T = int(input())\n",
    "for tc in range(1, T+1):\n",
    "    N = int(input())\n",
    "    arr = [list(map(int, input())) for _ in range(N)]\n",
    "\n",
    "    ans = 0\n",
    "    mid = N//2\n",
    "    for r in range(N) :\n",
    "        k = abs(mid - r)        #중심으로부터의 거리 절대값\n",
    "        ans += arr[r][mid]      #중간열 모두 더해주기\n",
    "        for x in range(1,mid-k+1) :  #중심값 - 중심으로부터의 거리만큼 반복\n",
    "            ans = ans + arr[r][mid-x] + arr[r][mid+x]\n",
    "\n",
    "    print(f'#{tc} {ans}')"
   ]
  },
  {
   "cell_type": "code",
   "execution_count": null,
   "metadata": {},
   "outputs": [],
   "source": [
    "T = int(input())\n",
    "for tc in range(1, T+1):\n",
    "    N = int(input())\n",
    "    arr = [list(map(int, input())) for _ in range(N)]\n",
    "\n",
    "    ans = 0\n",
    "    s = e = N//2\n",
    "    for r in range(N) :\n",
    "        for x in range(s,e+1) :\n",
    "            ans += arr[r][x]\n",
    "        if r<N//2 :\n",
    "            s,e = s-1, e+1\n",
    "        else :\n",
    "            s,e = s+1,e-1\n",
    "\n",
    "\n",
    "    print(f'#{tc} {ans}')"
   ]
  },
  {
   "cell_type": "code",
   "execution_count": null,
   "metadata": {},
   "outputs": [],
   "source": [
    "#9.2 복기\n",
    "\n",
    "\n",
    "T = int(input())\n",
    "for tc in range(1,T+1) :\n",
    "    N = int(input())\n",
    "    arr = [list(map(int,input())) for _ in range(N)]\n",
    "    mid = s = e = N//2\n",
    "    ans = 0\n",
    "\n",
    "    for r in range(N) :\n",
    "        for c in range(s,e+1) :\n",
    "            ans += arr[r][c]\n",
    "\n",
    "        if r < mid :\n",
    "            s,e = s-1,e+1\n",
    "        else :\n",
    "            s,e = s+1, e-1\n",
    "\n",
    "\n",
    "\n",
    "    print(f'#{tc} {ans}')\n"
   ]
  }
 ],
 "metadata": {
  "kernelspec": {
   "display_name": "Python 3",
   "language": "python",
   "name": "python3"
  },
  "language_info": {
   "codemirror_mode": {
    "name": "ipython",
    "version": 3
   },
   "file_extension": ".py",
   "mimetype": "text/x-python",
   "name": "python",
   "nbconvert_exporter": "python",
   "pygments_lexer": "ipython3",
   "version": "3.9.13"
  }
 },
 "nbformat": 4,
 "nbformat_minor": 2
}
