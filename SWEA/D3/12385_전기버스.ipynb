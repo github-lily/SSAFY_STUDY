{
 "cells": [
  {
   "cell_type": "markdown",
   "metadata": {},
   "source": [
    "# 12385 배열1_전기버스\n",
    "\n",
    "- 0번에서 N번 정류장까지 이동(총 N+1개)\n",
    "- K : 한번 충전으로 최대한 이동할 수 있는 정류장 수\n",
    "- M : 충전기가 설치된 정류장의 개수\n",
    "- charge : 충전기가 설치된 정류장 번호 리스트\n",
    "- 종점에 도달할 수 없는 경우 0 출력\n",
    "- 최소 충전 횟수 출력\n"
   ]
  },
  {
   "cell_type": "code",
   "execution_count": null,
   "metadata": {},
   "outputs": [],
   "source": [
    "'''\n",
    "- 한 칸씩 이동하면서 K -= 1\n",
    "- i != N and K == 0 : return 0\n",
    "- 충전소를 만났을 때, i+K 이내에 충전소가 없다면 충전\n",
    "    - i < charge <= i+k or i+k >= N  충전 pass\n",
    "    - else : 충전\n",
    "''' \n",
    "T = int(input())\n",
    "for tc in range(1,T+1):\n",
    "    K, N, M = map(int,input().split())\n",
    "    charge = list(map(int,input().split()))\n",
    "    cnt = 0     #충전 횟수\n",
    "    k = K\n",
    " \n",
    "    # 충전 정류소 기록\n",
    "    charge_stop = [False] * (N+1)\n",
    "     \n",
    "    for x in charge :\n",
    "        charge_stop[x] = True\n",
    " \n",
    "    #처음부터 순환 시작\n",
    "    for i in range(1, N+1) :   #0번부터 시작, N번까지 다 봐야하므로\n",
    "        k -= 1\n",
    "        if charge_stop[i] == False and k == 0 and i != N :  \n",
    "            #갈 수 있는 거리가 없는데 목표가 아니라면\n",
    "            ans = 0            # 0 리턴\n",
    "            break\n",
    " \n",
    "        if i == N :     #목적지에 도착하면 끝\n",
    "            ans = cnt\n",
    "            break\n",
    " \n",
    "        else :\n",
    "            if charge_stop[i] :\n",
    "                for j in range(1, k+1) :    #현재 정류장은 제외해야하니 1부터 시작, k까지\n",
    "                    if i+j < N :\n",
    "                        if charge_stop[i+j] :   #범위 내 충전소가 있다면 충전 안하고 패스\n",
    "                            break\n",
    "                    else :      #남은 k로 목적지에 도달할 수 있으면 충전안하고 종료\n",
    "                        break\n",
    "                else:           # 범위 내 충전소가 없다면 충전하기\n",
    "                    cnt += 1\n",
    "                    k = K\n",
    " \n",
    " \n",
    " \n",
    " \n",
    "    print(f'#{tc} {ans}')"
   ]
  }
 ],
 "metadata": {
  "language_info": {
   "name": "python"
  }
 },
 "nbformat": 4,
 "nbformat_minor": 2
}
