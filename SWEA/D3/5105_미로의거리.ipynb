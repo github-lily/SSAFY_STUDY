{
 "cells": [
  {
   "cell_type": "markdown",
   "metadata": {},
   "source": [
    "# 미로의 거리\n",
    "- 출발지에서 도착지까지 가는데 지나야 하는 최소한의 칸수 출력\n",
    "- 없으면 0"
   ]
  },
  {
   "cell_type": "code",
   "execution_count": null,
   "metadata": {},
   "outputs": [],
   "source": [
    "\n",
    "def bfs(sr,sc) :\n",
    "    \n",
    "    # 1. q생성 v생성\n",
    "    q = []\n",
    "    v = [[0]*(N+1) for _ in range(N+1)]\n",
    "    \n",
    "    # 2. q삽입, 방문표시\n",
    "    q.append((sr,sc))\n",
    "    v[sr][sc] = 1\n",
    "\n",
    "    # 3. 조건\n",
    "    while q :\n",
    "        cr,cc = q.pop(0)\n",
    "        if arr[cr][cc] == 3 :\n",
    "            return v[cr][cc]-2\n",
    "        \n",
    "        dr = [0,1,0,-1]\n",
    "        dc = [1,0,-1,0]\n",
    "\n",
    "        for i in range(4) :\n",
    "            nr,nc = cr+dr[i], cc+dc[i]\n",
    "            if 0 <= nr<N and 0<= nc<N and v[nr][nc] ==0 and arr[nr][nc] != 1 :\n",
    "                v[nr][nc] = v[cr][cc] +1\n",
    "                q.append((nr,nc))\n",
    "    \n",
    "    return 0\n",
    "    \n",
    "    \n",
    "\n",
    "T = int(input())\n",
    "for tc in range(1,T+1) :\n",
    "    N = int(input())\n",
    "    arr = [list(map(int,input())) for _ in range(N)]\n",
    "    \n",
    "    for r in range(N) :\n",
    "        for c in range(N) :\n",
    "            if arr[r][c] == 2 :\n",
    "                sr,sc = r,c\n",
    "                break\n",
    "    \n",
    "    ans = bfs(sr,sc)\n",
    "    print(f'#{tc} {ans}')"
   ]
  }
 ],
 "metadata": {
  "language_info": {
   "name": "python"
  }
 },
 "nbformat": 4,
 "nbformat_minor": 2
}
