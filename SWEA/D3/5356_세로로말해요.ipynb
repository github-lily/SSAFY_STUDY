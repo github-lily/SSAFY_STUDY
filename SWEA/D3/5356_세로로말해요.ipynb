{
 "cells": [
  {
   "cell_type": "markdown",
   "metadata": {},
   "source": [
    "# 5356 의석이의 세로로 말해요"
   ]
  },
  {
   "cell_type": "code",
   "execution_count": null,
   "metadata": {},
   "outputs": [],
   "source": [
    "\n",
    "'''\n",
    "0으로 된 리스트를 넣는다\n",
    "그 곳에 순서대로 값을 넣는다\n",
    "출력할 때 만약 값이 0 이면 출력하지 않는다\n",
    "아니면 try-except\n",
    "공백없이 세로로 출력 end = \"\"\n",
    "5줄씩 \n",
    "\n",
    "'''\n",
    "\n",
    "\n",
    "\n",
    "\n",
    "T = int(input())\n",
    "for tc in range(1,T+1) :\n",
    "    text = [input() for _ in range(5)]\n",
    "\n",
    "    # 문자열 최대 길이 구하기\n",
    "    lenth = []\n",
    "\n",
    "    for char in text :\n",
    "        lenth.append(len(char))\n",
    "\n",
    "    long = max(lenth)\n",
    "\n",
    "\n",
    "    # 답 구하기\n",
    "    ans = []   \n",
    " \n",
    "\n",
    "    for j in range(long) :        #최대 길이 15\n",
    "        for i in range(5) :     #5줄\n",
    "            try :\n",
    "                ans.append(text[i][j])\n",
    "            except IndexError :     #글자가 없으면 패스\n",
    "                pass\n",
    "\n",
    "    print(f'#{tc}', end = \" \")\n",
    "    print(\"\".join(ans))"
   ]
  },
  {
   "cell_type": "code",
   "execution_count": null,
   "metadata": {},
   "outputs": [],
   "source": [
    "# 최대길이 안구하고 푼 것 \n",
    "# 실행 시간은 위와 같음\n",
    "\n",
    "T = int(input())\n",
    "for tc in range(1,T+1) :\n",
    "    text = [input() for _ in range(5)]\n",
    "\n",
    "\n",
    "    ans = []\n",
    "\n",
    "\n",
    "    for j in range(15) :        #최대 길이 15\n",
    "        for i in range(5) :     #5줄\n",
    "            try :\n",
    "                ans.append(text[i][j])\n",
    "            except IndexError :     #글자가 없으면 패스\n",
    "                pass\n",
    "\n",
    "    print(f'#{tc}', end = \" \")\n",
    "    print(\"\".join(ans))"
   ]
  }
 ],
 "metadata": {
  "language_info": {
   "name": "python"
  }
 },
 "nbformat": 4,
 "nbformat_minor": 2
}
