{
 "cells": [
  {
   "cell_type": "markdown",
   "metadata": {},
   "source": [
    "- 사무실에서 출발해 각 구역을 한번씩만 방문하고 사무실로 돌아올 때의 최소 배터리 사용량은?\n",
    "\n",
    "- 과목평가 외계인 문제와 비슷\n",
    "- 사무실을 제외한 중복없는 순열 만들고\n",
    "- 계산의 편리성을 위해 사무실 값을 앞 뒤에 붙이고\n",
    "- 최소값 더하기\n",
    "- [a][b] + [b][c] 이런식이니까"
   ]
  },
  {
   "cell_type": "code",
   "execution_count": null,
   "metadata": {},
   "outputs": [],
   "source": [
    "# 1차시도 성공\n",
    "# 완전탐색방법\n",
    "# 인덱스 지정할 때 주의하기..\n",
    "# 실행시간 너무 길다...!\n",
    "\n",
    "# 중복없는 순열 만드는 함수\n",
    "def KFC(x) :\n",
    "    if x == N :   # 인덱스값으로 맞춰주기, 사무실은 제외\n",
    "        route.append(path[:])       #그냥 path만 넣으면 추가가 안됨!! 인덱스 넣어주기\n",
    "        return\n",
    "\n",
    "    for i in range(1, N) :   # 1번 사무실 제외 2번부터 N번까지인데, 인덱스범위로\n",
    "        if visit[i] == 1:\n",
    "            continue         # 방문했던 곳이라면 지나가기\n",
    "        visit[i] = 1         # 방문 표시\n",
    "        path.append(i)\n",
    "        KFC(x+1)\n",
    "        path.pop()\n",
    "        visit[i] = 0         # 초기화\n",
    "\n",
    "# 최소합 구하는 함수\n",
    "def min_val() :\n",
    "    pass\n",
    "\n",
    "\n",
    "\n",
    "\n",
    "T = int(input())\n",
    "for tc in range(1,T+1) :\n",
    "    N = int(input())\n",
    "    arr = [list(map(int,input().split())) for _ in range(N)]\n",
    "\n",
    "    path = []       # tc1 [[1, 2], [2, 1]]\n",
    "    route = []      # tc2 [[1, 2, 3], [1, 3, 2], [2, 1, 3], [2, 3, 1], [3, 1, 2], [3, 2, 1]]\n",
    "    visit = [0] * N\n",
    "\n",
    "    # 순열 구하기\n",
    "    KFC(1)\n",
    "\n",
    "    for x in range(len(route)) :\n",
    "        route[x] = [0] + route[x] + [0]     # [[0, 1, 2, 0], [0, 2, 1, 0]]\n",
    "\n",
    "\n",
    "    # 값 구하기\n",
    "    best_way = 999999999\n",
    "    for way in route :\n",
    "        min_way = 0\n",
    "        a = len(way) -1\n",
    "        for s in range(a) :\n",
    "            min_way += arr[way[s]][way[s+1]]    #인덱스 주의..!\n",
    "        if best_way > min_way :\n",
    "            best_way = min_way\n",
    "\n",
    "    print(f'#{tc} {best_way}')"
   ]
  },
  {
   "cell_type": "code",
   "execution_count": null,
   "metadata": {},
   "outputs": [],
   "source": [
    "# 기흠이 코드\n",
    "def back_track(v,cnt,s):    # v: 방문 위치, cnt = 방문 횟수, s = 현재까지의 합\n",
    "    global min_val\n",
    "    # 가지치기\n",
    "    if s > min_val:\n",
    "        return\n",
    "    if cnt == N-1:          # 1은 무조건 맨 마지막에 방문\n",
    "        if min_val > s+arr[v][0]:\n",
    "            min_val = s+arr[v][0]\n",
    "             \n",
    "    else:\n",
    "        for i in range(1,N):\n",
    "            if v == i:      # 자기 자신 제외\n",
    "                continue\n",
    "            if not visited[i]:  # 방문하지 않은 곳이면\n",
    "                visited[i] = 1\n",
    "                back_track(i,cnt+1,s+arr[v][i])\n",
    "                visited[i] = 0\n",
    " \n",
    " \n",
    "T = int(input())\n",
    "for test_case in range(1,T+1):\n",
    "    N = int(input())\n",
    "    arr = [list(map(int,input().split())) for _ in range(N)]\n",
    "    visited = [0] * N\n",
    " \n",
    "    min_val = 100 * N\n",
    "    back_track(0,0,0)\n",
    "    print(f'#{test_case} {min_val}')"
   ]
  },
  {
   "cell_type": "code",
   "execution_count": null,
   "metadata": {},
   "outputs": [],
   "source": [
    "T = int(input())\n",
    "N = int(input())\n",
    "G = [list(map(int, input().split())) for _ in range(N)]\n",
    "def backtrack(k, cur_cost):\n",
    "    if k == N:\n",
    "        cost = 0\n",
    "        for i in range(1, N):\n",
    "            # order[i-1] => order[i] 비용: G[order[i-1]][order[i]]\n",
    "            cost += G[order[i-1]][order[i]]\n",
    "        cost += G[order[N-1]][0]\n",
    "        cur_cost += G[order[N-1]][0]\n",
    "        print(order, cost, cur_cost)\n",
    "    else:\n",
    "        for i in range(1, N):\n",
    "            if visit[i]: continue\n",
    "            visit[i] = 1\n",
    "            order[k] = i\n",
    "            # order[k-1] ==> i\n",
    "            backtrack(k + 1, cur_cost + G[order[k-1]][i])\n",
    "            visit[i] = 0\n",
    "\n",
    "visit = [0] * N\n",
    "order = [0] * N\n",
    "backtrack(1, 0)"
   ]
  },
  {
   "cell_type": "code",
   "execution_count": 8,
   "metadata": {},
   "outputs": [
    {
     "name": "stdout",
     "output_type": "stream",
     "text": [
      "[[1, 2, 3, 4]]\n",
      "[[1, 2, 3, 4, 4], [1, 2, 3, 4, 4]]\n"
     ]
    }
   ],
   "source": [
    "route = []\n",
    "path = [1,2,3,4]\n",
    "route.append(path)\n",
    "print(route)\n",
    "\n",
    "path.append(4)\n",
    "route.append(path)\n",
    "print(route)\n"
   ]
  },
  {
   "cell_type": "code",
   "execution_count": 7,
   "metadata": {},
   "outputs": [
    {
     "name": "stdout",
     "output_type": "stream",
     "text": [
      "[[1, 2, 3, 4]]\n",
      "[[1, 2, 3, 4, 4], [1, 2, 3, 4, 4]]\n"
     ]
    }
   ],
   "source": [
    "def abc() :\n",
    "    path = [1,2,3,4]\n",
    "    route.append(path)\n",
    "    print(route)\n",
    "\n",
    "    path.append(4)\n",
    "    route.append(path)\n",
    "    print(route)\n",
    "\n",
    "\n",
    "path = []\n",
    "route = []\n",
    "\n",
    "abc()"
   ]
  }
 ],
 "metadata": {
  "kernelspec": {
   "display_name": "Python 3",
   "language": "python",
   "name": "python3"
  },
  "language_info": {
   "codemirror_mode": {
    "name": "ipython",
    "version": 3
   },
   "file_extension": ".py",
   "mimetype": "text/x-python",
   "name": "python",
   "nbconvert_exporter": "python",
   "pygments_lexer": "ipython3",
   "version": "3.9.13"
  }
 },
 "nbformat": 4,
 "nbformat_minor": 2
}
