{
 "cells": [
  {
   "cell_type": "markdown",
   "metadata": {},
   "source": [
    "# 6485 삼성시의 버스 노선\n",
    "\n",
    "- 5000 개의 버스 정류장\n",
    "- N : 버스 노선 개수\n",
    "- i번째 버스 노선 번호 :  Ai 이상 Bi 이하인 모든 정류장을 다님\n",
    "- P개의 버스 정류장에 대해 각 정류장에 몇 개의 버스 노선이 다니는지 구하라"
   ]
  },
  {
   "cell_type": "code",
   "execution_count": null,
   "metadata": {},
   "outputs": [],
   "source": [
    "\n",
    "\n",
    "T = int(input())\n",
    "for tc in range(1,T+1) :\n",
    "    N = int(input()) #버스 노선 개수\n",
    "    AB_lst = [list(map(int,input().split())) for _ in range(N)]     #[[1, 3], [2, 5]]\n",
    "    P = int(input())\n",
    "    C = [int(input()) for _ in range(P)]        #[1, 2, 3, 4, 5]\n",
    "\n",
    "    cnt = [0] * 5001\n",
    "    for i in range(N) :\n",
    "        A,B = AB_lst[i]     #각각의 A,B 값으로\n",
    "        for x in range(A, B+1) :    #지나가는 정류장을 cnt에 표시\n",
    "            cnt[x] += 1\n",
    "\n",
    "    # print(f'#{tc}', end =\" \")\n",
    "    # for k in range(len(C)) :\n",
    "    #     print(cnt[C[k]], end = \" \") # 이렇게 하면 끝에 빈칸이 하나 더 출력되서 오류나옴\n",
    "\n",
    "    print(f'#{tc}', end=' ')        \n",
    "    print(' '.join(str(cnt[c]) for c in C))\n",
    "\n"
   ]
  }
 ],
 "metadata": {
  "language_info": {
   "name": "python"
  }
 },
 "nbformat": 4,
 "nbformat_minor": 2
}
