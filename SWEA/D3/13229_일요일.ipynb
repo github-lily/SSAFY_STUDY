{
 "cells": [
  {
   "cell_type": "markdown",
   "metadata": {},
   "source": [
    "- 월화수목금토일을 나타내는 문자열 S\n",
    "- 주어진 문자열부터 일요일까지 며칠 남았는지 출력"
   ]
  },
  {
   "cell_type": "code",
   "execution_count": 1,
   "metadata": {},
   "outputs": [
    {
     "name": "stdout",
     "output_type": "stream",
     "text": [
      "#1 7\n",
      "#2 1\n",
      "#3 6\n"
     ]
    }
   ],
   "source": [
    "T = int(input())\n",
    "for tc in range(1,T+1) :\n",
    "    day = input()\n",
    "\n",
    "    my_dict = {'MON' : 6, 'TUE' : 5, 'WED' : 4, 'THU' : 3, 'FRI':2, 'SAT' : 1, 'SUN':7}\n",
    "    \n",
    "\n",
    "    print(f'#{tc} {my_dict[day]}')\n",
    "    "
   ]
  }
 ],
 "metadata": {
  "kernelspec": {
   "display_name": "Python 3",
   "language": "python",
   "name": "python3"
  },
  "language_info": {
   "codemirror_mode": {
    "name": "ipython",
    "version": 3
   },
   "file_extension": ".py",
   "mimetype": "text/x-python",
   "name": "python",
   "nbconvert_exporter": "python",
   "pygments_lexer": "ipython3",
   "version": "3.9.13"
  }
 },
 "nbformat": 4,
 "nbformat_minor": 2
}
