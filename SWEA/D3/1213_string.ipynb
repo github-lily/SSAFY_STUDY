{
 "cells": [
  {
   "cell_type": "markdown",
   "metadata": {},
   "source": [
    "## S/W 문제해결 기본 3일차 - STRING\n",
    "- 주어지는 영어 문장에서 특정한 문자열의 개수를 반환하는 프로그램\n",
    "- 10개의 테스트 케이스\n",
    "- 한 문장에서는 하나의 문자열만 검색함\n"
   ]
  },
  {
   "cell_type": "code",
   "execution_count": null,
   "metadata": {},
   "outputs": [],
   "source": [
    "tc = int(input())\n",
    "for tc in range(1,11) :\n",
    "    t = input()     #text\n",
    "    p = input()     #pattern\n",
    "    \n",
    "    n = len(t)\n",
    "    m = len(p)\n",
    "\n",
    "    cnt = s = 0\n",
    "    while s <= n-m+1 :        \n",
    "        for s in range(n-m+1) : \n",
    "            found = True\n",
    "            for i in range(m) :\n",
    "                if p[i] != t[s+i] :\n",
    "                    found = False\n",
    "                    break       #안맞으면 멈춤, 맞으면 끝까지 돈다\n",
    "                else :\n",
    "                    cnt += 1\n",
    "                    s = s+m-1\n",
    "        s += 1\n",
    "    print(f'#{tc} {cnt}')"
   ]
  },
  {
   "cell_type": "code",
   "execution_count": null,
   "metadata": {},
   "outputs": [],
   "source": [
    "# 수정\n",
    "\n",
    "\n",
    "for tc in range(1,11) :\n",
    "    tc = int(input())\n",
    "    p = input()     #pattern\n",
    "    t = input()     #text       #p와 t 값을 입력받는 순서도 중요!!\n",
    "\n",
    "    \n",
    "    n = len(t)\n",
    "    m = len(p)\n",
    "\n",
    "    cnt = s = 0\n",
    "    while s <= n-m :\n",
    "        found = True\n",
    "        # for s in range(n-m+1) : #s 범위 위에서 지정해주니까 따로 할 필요 없음\n",
    "        for i in range(m) :\n",
    "            if p[i] != t[s+i] :\n",
    "                found = False\n",
    "                break       #안맞으면 멈춤, 맞으면 끝까지 돈다\n",
    "        if found:\n",
    "            cnt += 1\n",
    "            s = s + m-1     #시작위치를 m 다음 인덱스로 이동, +1 있으니 -1\n",
    "        s += 1              #찾던 못찾던 다음으로 넘어갈 수 있게 +1\n",
    "    print(f'#{tc} {cnt}')"
   ]
  },
  {
   "cell_type": "code",
   "execution_count": 9,
   "metadata": {},
   "outputs": [
    {
     "name": "stdout",
     "output_type": "stream",
     "text": [
      "#1 4\n"
     ]
    }
   ],
   "source": [
    "# test\n",
    "tc = 1\n",
    "p = 'ti'                  #Pattern\n",
    "t = 'Starteatingwellwiththeseeighttipsforhealthyeating,whichcoverthebasicsofahealthydietandgoodnutrition'       #Text\n",
    "\n",
    "    \n",
    "n = len(t)\n",
    "m = len(p)\n",
    "\n",
    "cnt = s = 0\n",
    "while s <= n-m :\n",
    "    found = True\n",
    "    # for s in range(n-m+1) : #s 범위 위에서 지정해주니까 따로 할 필요 없음\n",
    "    for i in range(m) :\n",
    "        if p[i] != t[s+i] :\n",
    "            found = False\n",
    "            break       #안맞으면 멈춤, 맞으면 끝까지 돈다\n",
    "    if found:\n",
    "        cnt += 1\n",
    "        s = s + m-1     #시작위치를 m 다음 인덱스로 이동, +1 있으니 -1\n",
    "    s += 1              #찾던 못찾던 다음으로 넘어갈 수 있게 +1\n",
    "\n",
    "print(f'#{tc} {cnt}')"
   ]
  },
  {
   "cell_type": "code",
   "execution_count": 7,
   "metadata": {},
   "outputs": [
    {
     "name": "stdout",
     "output_type": "stream",
     "text": [
      "asdak\n",
      "<class 'str'>\n"
     ]
    }
   ],
   "source": [
    "string = input()\n",
    "print(string)\n",
    "print(type(string))"
   ]
  }
 ],
 "metadata": {
  "kernelspec": {
   "display_name": "Python 3",
   "language": "python",
   "name": "python3"
  },
  "language_info": {
   "codemirror_mode": {
    "name": "ipython",
    "version": 3
   },
   "file_extension": ".py",
   "mimetype": "text/x-python",
   "name": "python",
   "nbconvert_exporter": "python",
   "pygments_lexer": "ipython3",
   "version": "3.9.13"
  }
 },
 "nbformat": 4,
 "nbformat_minor": 2
}
