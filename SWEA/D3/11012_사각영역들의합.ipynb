{
 "cells": [
  {
   "cell_type": "code",
   "execution_count": null,
   "metadata": {},
   "outputs": [],
   "source": [
    "T = int(input())\n",
    "for tc in range(1,T+1) :\n",
    "    N, M = map(int,input().split())\n",
    "    arr = [list(map(int,input().split())) for _ in range(N)]\n",
    "    visit = [[0]*N for _ in range(N)]   #더한 값을 저장할 리스트\n",
    "    ans = 0\n",
    "    for _ in range(M) :\n",
    "        r1,c1,d = map(int,input().split())\n",
    "        # 시작 행, 열, 길이\n",
    "\n",
    "\n",
    "        for i in range(d) : #둘레만큼 값 더하기\n",
    "            for j in range(d):\n",
    "                if r1+i < N and c1+j <N :\n",
    "                    if visit[r1 + i][c1 +j] == 0 :\n",
    "                        ans += arr[r1 + i][c1 +j]\n",
    "                        visit[r1 + i][c1 + j] = 1\n",
    "\n",
    "\n",
    "    print(f'#{tc} {ans}')\n"
   ]
  }
 ],
 "metadata": {
  "language_info": {
   "name": "python"
  }
 },
 "nbformat": 4,
 "nbformat_minor": 2
}
