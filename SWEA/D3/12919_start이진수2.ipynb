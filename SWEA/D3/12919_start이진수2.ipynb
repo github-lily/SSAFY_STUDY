{
 "cells": [
  {
   "cell_type": "code",
   "execution_count": null,
   "metadata": {},
   "outputs": [],
   "source": [
    "num = 46\n",
    "\n",
    "num_str = ''\n",
    "while num :\n",
    "    num_str = str(num%2) + num_str\n",
    "    num //= 2\n",
    "print(num_str)"
   ]
  },
  {
   "cell_type": "code",
   "execution_count": 4,
   "metadata": {},
   "outputs": [
    {
     "ename": "ValueError",
     "evalue": "invalid literal for int() with base 10: '0.625'",
     "output_type": "error",
     "traceback": [
      "\u001b[1;31m---------------------------------------------------------------------------\u001b[0m",
      "\u001b[1;31mValueError\u001b[0m                                Traceback (most recent call last)",
      "Cell \u001b[1;32mIn[4], line 3\u001b[0m\n\u001b[0;32m      1\u001b[0m T \u001b[38;5;241m=\u001b[39m \u001b[38;5;28mint\u001b[39m(\u001b[38;5;28minput\u001b[39m())\n\u001b[0;32m      2\u001b[0m \u001b[38;5;28;01mfor\u001b[39;00m tc \u001b[38;5;129;01min\u001b[39;00m \u001b[38;5;28mrange\u001b[39m(\u001b[38;5;241m1\u001b[39m,T\u001b[38;5;241m+\u001b[39m\u001b[38;5;241m1\u001b[39m) :\n\u001b[1;32m----> 3\u001b[0m     num \u001b[38;5;241m=\u001b[39m \u001b[38;5;28;43mint\u001b[39;49m\u001b[43m(\u001b[49m\u001b[38;5;28;43minput\u001b[39;49m\u001b[43m(\u001b[49m\u001b[43m)\u001b[49m\u001b[43m)\u001b[49m\n\u001b[0;32m      5\u001b[0m     num_str \u001b[38;5;241m=\u001b[39m \u001b[38;5;124m'\u001b[39m\u001b[38;5;124m'\u001b[39m\n\u001b[0;32m      6\u001b[0m     \u001b[38;5;28;01mwhile\u001b[39;00m num :\n",
      "\u001b[1;31mValueError\u001b[0m: invalid literal for int() with base 10: '0.625'"
     ]
    }
   ],
   "source": [
    "T = int(input())\n",
    "for tc in range(1,T+1) :\n",
    "    num = input()\n",
    "\n",
    "    num_str = ''\n",
    "    while num :\n",
    "        num_str = str(num%2) + num_str\n",
    "        num //= 2\n",
    "    print(num_str)\n"
   ]
  },
  {
   "cell_type": "code",
   "execution_count": null,
   "metadata": {},
   "outputs": [],
   "source": [
    "import sys\n",
    "sys.stdin = open(\"test.txt\")\n",
    "\n",
    "'''\n",
    "# 소수를 이진수로 표현\n",
    "N = 0.625\n",
    "0.101 (이진수)\n",
    "= 1*2-1 + 0*2-2 + 1*2-3\n",
    "= 0.5 + 0 + 0.125 = 0.625\n",
    "\n",
    "13자리 이상이 필요한 경우에는 overflow 출력\n",
    "'''\n",
    "\n",
    "T = int(input())\n",
    "for tc in range(1,T+1) :\n",
    "    N = float(input())\n",
    "\n",
    "    ans = ''     # 최종 답\n",
    "    cnt = 0     # 지수\n",
    "\n",
    "    while N != 0 :      # N이 0이되면 끝\n",
    "        cnt -= 1        # 2의 -1승, -2승 이런 순서로 확인(좌->우)\n",
    "        check = 2 ** cnt\n",
    "\n",
    "        if N >= check :      # check가 더 작아야 유효하니까\n",
    "            ans += '1'\n",
    "            N -= check      # 이진수로 바꾼 만큼 빼주기\n",
    "\n",
    "        else :\n",
    "            ans += '0'        # check가 더 크면 맞지 않는 값\n",
    "\n",
    "        if cnt < -12 :      # 13자리 이상인 경우(-13)\n",
    "            print(f'#{tc} overflow')\n",
    "            break\n",
    "\n",
    "    else :          #while-else : while문이 break에 걸리지 않고 N==0이 되서 끝났을 때 실행됨\n",
    "        print(f'#{tc} {ans}')\n",
    "\n"
   ]
  },
  {
   "cell_type": "code",
   "execution_count": null,
   "metadata": {},
   "outputs": [],
   "source": []
  }
 ],
 "metadata": {
  "kernelspec": {
   "display_name": "Python 3",
   "language": "python",
   "name": "python3"
  },
  "language_info": {
   "codemirror_mode": {
    "name": "ipython",
    "version": 3
   },
   "file_extension": ".py",
   "mimetype": "text/x-python",
   "name": "python",
   "nbconvert_exporter": "python",
   "pygments_lexer": "ipython3",
   "version": "3.9.13"
  }
 },
 "nbformat": 4,
 "nbformat_minor": 2
}
