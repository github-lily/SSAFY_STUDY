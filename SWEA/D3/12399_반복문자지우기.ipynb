{
 "cells": [
  {
   "cell_type": "markdown",
   "metadata": {},
   "source": [
    "# 스택1 반복문자 지우기\n",
    "\n",
    "- 문자열 s에서 반복된 문자(연속된 문자)를 지우기\n",
    "- 지워진 부분은 다시 앞 뒤를 연결하는데 만약 연결에 의해 또 반복문자가 생기면 이 부분을 다시 지운다.\n",
    "- 반복문자를 지운 후 남은 문자열의 길이를 출력\n",
    "- 남은 문자열이 없으면 0을 출력\n"
   ]
  },
  {
   "cell_type": "code",
   "execution_count": null,
   "metadata": {},
   "outputs": [],
   "source": [
    "import sys\n",
    "sys.stdin = open(\"12399.txt\",\"r\")\n",
    "\n",
    "#스택의 top 과 push 값이 같으면 삭제!\n",
    "\n",
    "T = int(input())\n",
    "for tc in range(1,T+1) :\n",
    "    text = list(input())\n",
    "    N = len(text)\n",
    "    s = [0] * N\n",
    "\n",
    "    top = -1\n",
    "\n",
    "    def push(item) :\n",
    "        global top\n",
    "        top += 1\n",
    "        s[top] = item\n",
    "\n",
    "    def pop() :\n",
    "        global top\n",
    "        top -= 1\n",
    "\n",
    "\n",
    "    for i in range(N) :\n",
    "        if text[i] == s[top] :  #같은 문자라면 제거\n",
    "            pop()\n",
    "        else :                  #다른 문자라면 추가\n",
    "            push(text[i])\n",
    "\n",
    "    print(f'#{tc} {top+1}')\n",
    "        \n",
    "\n",
    "\n",
    "\n"
   ]
  },
  {
   "cell_type": "code",
   "execution_count": null,
   "metadata": {},
   "outputs": [],
   "source": []
  }
 ],
 "metadata": {
  "language_info": {
   "name": "python"
  }
 },
 "nbformat": 4,
 "nbformat_minor": 2
}
