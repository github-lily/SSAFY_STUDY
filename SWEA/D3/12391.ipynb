{
 "cells": [
  {
   "cell_type": "markdown",
   "metadata": {},
   "source": []
  },
  {
   "cell_type": "code",
   "execution_count": null,
   "metadata": {},
   "outputs": [],
   "source": [
    "#처음 짠 코드\n",
    "\n",
    "'''\n",
    "1. A와 B 각각 이진 탐색을 시행한다\n",
    "2. 이진 탐색을 한 바퀴 돌 때마다 cnt를 1씩 증가시킨다\n",
    "3. cnt를 비교한다\n",
    "'''\n",
    "\n",
    "T = int(input())\n",
    "for tc in range(1, T+1) :\n",
    "    p,pa,pb = map(int,input().split())      #p : 책의 전체 쪽수/ pa, pb a와 b가 찾을 쪽 번호\n",
    "\n",
    "\n",
    "    def find_key(p,key):     #key : 찾는 값\n",
    "        cnt = 0\n",
    "        start = 1\n",
    "        end = p\n",
    "        mid = int((start+end)//2)\n",
    "        while mid <= p and mid != key :      #배열 끝까지 가거나 키를 찾으면 중단\n",
    "            if mid == key :\n",
    "                return cnt\n",
    "            elif mid > key :\n",
    "                end -= 1\n",
    "                cnt += 1\n",
    "            elif mid < key :\n",
    "                start += 1\n",
    "                cnt += 1                    #책이니 값이 없는 경우는 없음! else 필요 없음\n",
    "\n",
    "    cnt_a = find_key(p,pa)\n",
    "    cnt_b = find_key(p,pb)\n",
    "    a_b = cnt_a - cnt_b\n",
    "    if a_b > 0 :\n",
    "        result = 'B'\n",
    "    elif a_b < 0 :\n",
    "        result = 'A'\n",
    "    else :\n",
    "        result = 0\n",
    "    \n",
    "\n",
    " \n",
    "\n",
    "\n",
    "    print(f'#{tc} {result}')"
   ]
  },
  {
   "cell_type": "code",
   "execution_count": 1,
   "metadata": {},
   "outputs": [
    {
     "name": "stdout",
     "output_type": "stream",
     "text": [
      "[0, 1, 2, 3, 4, 5, 6, 7, 8, 9]\n"
     ]
    }
   ],
   "source": [
    "p = 10\n",
    "a = list(range(p))\n",
    "\n",
    "print(a)"
   ]
  }
 ],
 "metadata": {
  "kernelspec": {
   "display_name": "Python 3",
   "language": "python",
   "name": "python3"
  },
  "language_info": {
   "codemirror_mode": {
    "name": "ipython",
    "version": 3
   },
   "file_extension": ".py",
   "mimetype": "text/x-python",
   "name": "python",
   "nbconvert_exporter": "python",
   "pygments_lexer": "ipython3",
   "version": "3.9.13"
  }
 },
 "nbformat": 4,
 "nbformat_minor": 2
}
