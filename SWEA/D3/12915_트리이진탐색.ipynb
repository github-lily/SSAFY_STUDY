{
 "cells": [
  {
   "cell_type": "code",
   "execution_count": null,
   "metadata": {},
   "outputs": [],
   "source": [
    "import sys\n",
    "sys.stdin = open(\"test.txt\")\n",
    "\n",
    "\n",
    "def dfs(v) :\n",
    "    if v > N :\n",
    "        return\n",
    "\n",
    "    dfs(v*2)\n",
    "    if dfs(v//2) == 0 :\n",
    "        tree[v//2] = dfs(v*2) + dfs(v*2+1)\n",
    "    dfs(v*2+1)\n",
    "\n",
    "\n",
    "\n",
    "\n",
    "\n",
    "\n",
    "T = int(input())\n",
    "for tc in range(1,T+1) :\n",
    "    N, M, L = map(int,input().split())\n",
    "\n",
    "    tree = [0] * (N+1)\n",
    "    # 리프노드의 값 저장\n",
    "    for _ in range(M) :\n",
    "\n",
    "        idx, num = map(int,input().split())\n",
    "\n",
    "        tree[idx] = num\n",
    "\n",
    "    dfs(1)\n",
    "    print(tree[1:])"
   ]
  }
 ],
 "metadata": {
  "language_info": {
   "name": "python"
  }
 },
 "nbformat": 4,
 "nbformat_minor": 2
}
