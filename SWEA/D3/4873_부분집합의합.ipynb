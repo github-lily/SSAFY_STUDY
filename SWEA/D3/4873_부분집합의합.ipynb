{
 "cells": [
  {
   "cell_type": "code",
   "execution_count": null,
   "metadata": {},
   "outputs": [],
   "source": [
    "def dfs(n, sm, cnt) :\n",
    "    global ans\n",
    "    if n == N :         # 맨 끝에 도달했을 때\n",
    "        if cnt == CNT and sm == K :\n",
    "            ans += 1\n",
    "        return\n",
    "\n",
    "\n",
    "    # 넣었을 때\n",
    "    dfs(n+1,sm+lst[n],cnt+1)\n",
    "\n",
    "    # 안 넣었을 때\n",
    "    dfs(n+1,sm,cnt)\n",
    "\n",
    "\n",
    "T = int(input())\n",
    "for tc in range(1,T+1) :\n",
    "    CNT, K = map(int,input().split())\n",
    "    lst = [n for n in range(1,13)]\n",
    "    N = 12\n",
    "\n",
    "    ans = 0\n",
    "\n",
    "    dfs(0,0,0)\n",
    "\n",
    "    print(f'#{tc} {ans}')\n"
   ]
  },
  {
   "cell_type": "code",
   "execution_count": null,
   "metadata": {},
   "outputs": [],
   "source": [
    "# 가지치기 추가한 버전\n",
    "def dfs(n, sm, cnt) :\n",
    "    global ans\n",
    "\n",
    "    # 가지치기\n",
    "    if sm > K :\n",
    "        return\n",
    "\n",
    "    if n == N :\n",
    "        if cnt == CNT and sm == K :\n",
    "            ans += 1\n",
    "        return\n",
    "    \n",
    "    dfs(n+1, sm+arr[n], cnt+1)\n",
    "    dfs(n+1, sm, cnt)\n",
    "\n",
    "T = int(input())\n",
    "for tc in range(1,T+1) :\n",
    "    CNT, K = map(int, input().split())    \n",
    "    arr = [x for x in range(1,13)]\n",
    "    N = len(arr)\n",
    "    ans = 0\n",
    "\n",
    "    dfs(0,0,0)\n",
    "\n",
    "    print(f'#{tc} {ans}')"
   ]
  }
 ],
 "metadata": {
  "language_info": {
   "name": "python"
  }
 },
 "nbformat": 4,
 "nbformat_minor": 2
}
