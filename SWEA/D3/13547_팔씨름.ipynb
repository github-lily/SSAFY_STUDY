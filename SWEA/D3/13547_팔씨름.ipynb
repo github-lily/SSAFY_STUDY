{
 "cells": [
  {
   "cell_type": "markdown",
   "metadata": {},
   "source": [
    "- 15번 팔씨름을 하여 8번 이상 이기는 사람이 점심 값 면제\n",
    "- 지금까지 k번의 팔씨름\n",
    "- ox 로 승패여부 기록\n",
    "- 15번째 경기까지 진행했을 때 자신이 점심 값을 면제받을 가능성이 있는지"
   ]
  },
  {
   "cell_type": "code",
   "execution_count": null,
   "metadata": {},
   "outputs": [],
   "source": [
    "T = int(input())\n",
    "for tc in range(1,T+1) :\n",
    "    arr = input()\n",
    "    cnt = 0\n",
    "    ans = 'YES'\n",
    "\n",
    "    for i in range(len(arr)) :\n",
    "\n",
    "        if arr[i] == 'x' :\n",
    "            cnt += 1\n",
    "\n",
    "        if cnt == 8 :           # 이 if문의 위치를 위와 바꾸면 15글자일 때 마지막 문자를 확인 못함\n",
    "            ans = 'NO'\n",
    "            break\n",
    "\n",
    "    print(f'#{tc} {ans}')"
   ]
  }
 ],
 "metadata": {
  "language_info": {
   "name": "python"
  }
 },
 "nbformat": 4,
 "nbformat_minor": 2
}
