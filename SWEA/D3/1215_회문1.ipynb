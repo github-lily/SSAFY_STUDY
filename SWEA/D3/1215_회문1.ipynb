{
 "cells": [
  {
   "cell_type": "markdown",
   "metadata": {},
   "source": [
    "# 1215. [S/W 문제해결 기본] 3일차 - 회문 1"
   ]
  },
  {
   "cell_type": "code",
   "execution_count": null,
   "metadata": {},
   "outputs": [],
   "source": [
    "\n",
    "import sys\n",
    "\n",
    "sys.stdin = open(\"test.txt\", \"r\")\n",
    "\n",
    "def find_s(arr, N, M) :\n",
    "    # 행 먼저 탐색\n",
    "    for row in range(N) :\n",
    "        for s in range(N-M+1) :\n",
    "            e = s+M-1\n",
    "            for i in range(M//2) :\n",
    "                if arr[row][s+i] != arr[row][e-i] :\n",
    "                    break\n",
    "            else :\n",
    "                return arr[row][s:e+1]\n",
    "\n",
    "\n",
    "    # 열 탐색\n",
    "    for col in range(N) :\n",
    "        for s in range(N-M+1) :\n",
    "            e = s+M-1\n",
    "            for i in range(M//2) :  #회문 길이의 반만큼 확인하면 됨\n",
    "                if arr[s+i][col] != arr[e-i][col] :\n",
    "                    break\n",
    "            else :\n",
    "                sen = ''\n",
    "                for x in range(s,e+1) :\n",
    "                    sen += arr[x][col]\n",
    "                return sen\n",
    "\n",
    "    return None\n",
    "\n",
    "\n",
    "\n",
    "T = int(input())\n",
    "for tc in range(1, T+1):\n",
    "    N, M = map(int,input().split())  #배열의 크기      # 찾아야 하는 회문의 길이\n",
    "    arr = [input() for _ in range(N)]   # 문자열도 인덱스 가능하니 굳이 리스트로 받을 필요 없음\n",
    "\n",
    "    ans = find_s(arr,N,M)\n",
    "\n",
    "    print(f'#{tc} {ans}')\n"
   ]
  }
 ],
 "metadata": {
  "language_info": {
   "name": "python"
  }
 },
 "nbformat": 4,
 "nbformat_minor": 2
}
