{
 "cells": [
  {
   "cell_type": "markdown",
   "metadata": {},
   "source": [
    "# 증가하는 사탕수열\n",
    "- 첫 번째 상자에는 사탕 A개\n",
    "- 두 번째 상자에는 사탕 B개\n",
    "- 세 번째 상자에는 사탕 C개\n",
    "- 각 상자에 들어있는 사탕의 개수가 순증가\n",
    "- 모든 상자에는 최소 1개 이상의 사탕\n",
    "- 위 조건을 만족시키기 위해 세현이가 먹어야하는 최소 사탕의 개수 구하기\n",
    "- 사탕을 먹어도 조건을 만족시킬 수 없다면 -1을 출력"
   ]
  },
  {
   "cell_type": "code",
   "execution_count": null,
   "metadata": {},
   "outputs": [],
   "source": [
    "# 풀이 시간 : 30분\n",
    "# 크거나 \"같을 때\" 주의\n",
    "\n",
    "'''\n",
    "1. A,B,C의 원래 값을 저장해둔다.\n",
    "2. 만약 B와 C 중에 1개인게 있다면 어떻게해도 조건을 만족시킬 수 없으므로 -1을 리턴하고 끝낸다\n",
    "3. B가 C보다 클 때와 A가 B보다 클 때 각각 C-1, B-1을 할당한다.\n",
    "4. 원래 사탕의 개수에서 그 값을 뺀 것을 CANDY에 저장한다\n",
    "'''\n",
    "\n",
    "\n",
    "T = int(input())\n",
    "for tc in range(1,T+1) :\n",
    "    A, B, C = map(int,input().split())\n",
    "\n",
    "    # 먹어야하는 사탕 수\n",
    "    candy = 0\n",
    "\n",
    "    # 기존 값 저장\n",
    "    a = A\n",
    "    b = B\n",
    "    c = C\n",
    "\n",
    "\n",
    "    # 조건을 만족시킬 수 없는 경우\n",
    "    if B == 1 or C == 1 :\n",
    "        print(f'#{tc} {-1}')\n",
    "\n",
    "    # 그 외의 경우\n",
    "    else :\n",
    "        if B >= C :\n",
    "            B = C-1\n",
    "            candy += b - B\n",
    "\n",
    "        if A >= B :\n",
    "            A = B-1\n",
    "            candy += a - A\n",
    "\n",
    "        print(f'#{tc} {candy}')\n"
   ]
  }
 ],
 "metadata": {
  "language_info": {
   "name": "python"
  }
 },
 "nbformat": 4,
 "nbformat_minor": 2
}
