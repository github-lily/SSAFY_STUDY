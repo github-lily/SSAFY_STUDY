{
 "cells": [
  {
   "cell_type": "markdown",
   "metadata": {},
   "source": [
    "\n",
    "'''\n",
    "16진수 1자리는 2진수 4자리로 표현\n",
    "N 자리 16진수의 각 자리수를 4자리 진수로 표시하는 프로그램\n",
    "2진수의 앞자리 0도 반드시 출력하기\n",
    "'''"
   ]
  },
  {
   "cell_type": "code",
   "execution_count": null,
   "metadata": {},
   "outputs": [],
   "source": [
    "# 1차 시도 : 성공\n",
    "T = int(input())\n",
    "for tc in range(1,T+1) :\n",
    "    N, hex_str = input().split()\n",
    "\n",
    "    hex_dict = {\n",
    "        '0' : '0000', '1' : '0001', '2' : '0010', '3' : '0011',\n",
    "        '4' : '0100', '5' : '0101', '6' : '0110', '7' : '0111',\n",
    "        '8' : '1000', '9' : '1001', 'A' : '1010', 'B' : '1011',\n",
    "        'C' : '1100', 'D' : '1101', 'E' : '1110', 'F' : '1111'\n",
    "    }\n",
    "    string = ''\n",
    "    for char in hex_str :\n",
    "        string += hex_dict[char]\n",
    "\n",
    "    print(f'#{tc} {string}')\n"
   ]
  },
  {
   "cell_type": "code",
   "execution_count": null,
   "metadata": {},
   "outputs": [],
   "source": [
    "# 9.1 다시 풀기\n",
    "\n",
    "T = int(input())\n",
    "for tc in range(1,T+1) :\n",
    "    N, num = input().split()\n",
    "\n",
    "    hex = {\n",
    "        '1' : '0001', '2' : '0010', '3' : '0011', '4' : '0100',\n",
    "        '5' : '0101', '6' : '0110', '7' : '0111', '8' : '1000',\n",
    "        '9' : '1001', 'A' : '1010', 'B' : '1011', 'C' : '1100',\n",
    "        'D' : '1101', 'E' : '1110', 'F' : '1111', '0' : '0000'\n",
    "    }\n",
    "\n",
    "    binary = \"\"\n",
    "    for i in range(int(N)) :\n",
    "        binary += hex[num[i]]\n",
    "\n",
    "    print(f'#{tc} {binary}')"
   ]
  }
 ],
 "metadata": {
  "language_info": {
   "name": "python"
  }
 },
 "nbformat": 4,
 "nbformat_minor": 2
}
