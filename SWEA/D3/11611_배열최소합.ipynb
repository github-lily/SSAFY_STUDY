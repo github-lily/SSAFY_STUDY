{
 "cells": [
  {
   "cell_type": "code",
   "execution_count": null,
   "metadata": {},
   "outputs": [],
   "source": [
    "#배열 최소합\n",
    "\n",
    "# NxN 배열에 숫자\n",
    "# 한 줄에서 하나씩 N개의 숫자를 골라 합이 최소가 되도록\n",
    "# 가로 세로에서 하나씩 고를 수 있음\n",
    "# 방문 표시\n",
    "# 가로에서의 최소, 세로에서의 최소를 구해서 비교하기\n",
    "\n",
    "\n",
    "\n",
    "T = int(input())\n",
    "for tc in range(1,T+1) :\n",
    "    N = int(input())\n",
    "    arr = [list(map(int,input().split())) for _ in range(N)]\n",
    "    min_val = 99999\n",
    "    sum_min = 0\n",
    "\n",
    "    #각 행에서 최솟값 찾기\n",
    "    def row_min(i,N) :\n",
    "        global min_val\n",
    "        global sum_min\n",
    "        if i == N :\n",
    "            return min_val\n",
    "        else :\n",
    "            for j in range(N) :\n",
    "                if arr[i][j] < min_val :\n",
    "                    min_val = arr[i][j]\n",
    "            sum_min += min_val\n",
    "            row_min(i+1, N)\n",
    "\n",
    "    # # 각 행 최솟값 더하기\n",
    "    # for k in range(N) :\n",
    "    #     row_min(k,)\n",
    "    #\n",
    "    # for i in range(N) :\n",
    "    #     for j in range(N) :\n",
    "    #         if 0 <= i < N and 0 <= j < N :\n"
   ]
  }
 ],
 "metadata": {
  "language_info": {
   "name": "python"
  }
 },
 "nbformat": 4,
 "nbformat_minor": 2
}
