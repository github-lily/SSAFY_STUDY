{
 "cells": [
  {
   "cell_type": "code",
   "execution_count": null,
   "metadata": {},
   "outputs": [],
   "source": [
    "# 값 중복될 수 있는 것 주의해야함\n",
    "\n",
    "\n",
    "T = int(input())\n",
    "# 배열의 크기, 폭탄의 수\n",
    "for tc in range(1,T+1) :\n",
    "    N,M = map(int,input().split())\n",
    "    arr = [list(map(int,input().split())) for _ in range(N)]\n",
    "    \n",
    "    # 최종 답\n",
    "    ans = 0\n",
    "    \n",
    "    dr = [0,1,0,-1]\n",
    "    dc = [1,0,-1,0]\n",
    "    \n",
    "    \n",
    "    for _ in range(M) :\n",
    "        r1,c1,d = map(int,input().split())\n",
    "        # 시작행, 열, 범위\n",
    "    \n",
    "        # 투하 위치도 포함, 폭탄마다 리셋\n",
    "        sum = arr[r1][c1]\n",
    "        # 터트린 위치도 0으로 리셋\n",
    "        arr[r1][c1] = 0\n",
    "    \n",
    "    \n",
    "        for i in range(4) :\n",
    "            for j in range(1,d+1) :\n",
    "                nr = r1 + (dr[i] * j)\n",
    "                nc = c1 + (dc[i] * j)\n",
    "                if 0<= nr < N and 0 <= nc < N :\n",
    "                    sum += arr[nr][nc]\n",
    "                    # 값이 중복 더해지는 것 방지\n",
    "                    arr[nr][nc] = 0 \n",
    "        \n",
    "        #ans에 저장\n",
    "        ans += sum\n",
    "        \n",
    "    print(f'#{tc} {ans}')\n",
    "    "
   ]
  }
 ],
 "metadata": {
  "language_info": {
   "name": "python"
  }
 },
 "nbformat": 4,
 "nbformat_minor": 2
}
