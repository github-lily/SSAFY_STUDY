{
 "cells": [
  {
   "cell_type": "code",
   "execution_count": null,
   "metadata": {},
   "outputs": [],
   "source": [
    "# \n",
    "\n",
    "import sys\n",
    "sys.stdin = open(\"C:/Users/SSAFY/Desktop/0830/test.txt\")\n",
    "\n",
    "'''\n",
    "M의 이진수 표현의 마지막 N 비트가 모두 1로 켜져 있는지 아닌지를 판별\n",
    "'''\n",
    "\n",
    "T = int(input())\n",
    "for tc in range(1,T+1) :\n",
    "    N, M = map(int,input().split())\n",
    "\n",
    "    # binary = bin(M) 이거 필요없음 어차피 컴퓨터가 기본으로 이진수로 받아들임\n",
    "    flag = 'ON'\n",
    "    for i in range(N) :\n",
    "        if 1 << i & M :\n",
    "            continue\n",
    "        else :\n",
    "            flag = 'OFF'\n",
    "            break\n",
    "            \n",
    "    print(f'#{tc} {flag}')"
   ]
  },
  {
   "cell_type": "code",
   "execution_count": null,
   "metadata": {},
   "outputs": [],
   "source": [
    "# 교수님 방법\n",
    "T = int(input())\n",
    "for tc in range(1,T+1) :\n",
    "    N, M = map(int,input().split())\n",
    "\n",
    "    mask = (1<<N) -1    # 1111의 빈자리를 모두 0으로 채워주는 방법\n",
    "    if (M & mask) ^ mask :\n",
    "        print(f'#{tc} OFF')\n",
    "    else :\n",
    "        print(f'#{tc} ON')\n",
    "        \n"
   ]
  }
 ],
 "metadata": {
  "language_info": {
   "name": "python"
  }
 },
 "nbformat": 4,
 "nbformat_minor": 2
}
