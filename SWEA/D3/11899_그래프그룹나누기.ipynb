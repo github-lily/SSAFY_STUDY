{
 "cells": [
  {
   "cell_type": "markdown",
   "metadata": {},
   "source": [
    "- 번호를 지목하거나 지목당한 사람은 같은 조\n",
    "- 지목되지 않으면 단독 조\n",
    "- 1번부터 N번까지의 출석 번호(인원)(V)\n",
    "- M 장의 신청서(간선 수)\n",
    "- 만들어지는 조의 개수"
   ]
  },
  {
   "cell_type": "code",
   "execution_count": null,
   "metadata": {},
   "outputs": [],
   "source": [
    "# D4 7465 창용마을 무리의 개수와 같은 문제\n",
    "\n",
    "def find_set(x) :\n",
    "    if x != p[x] :\n",
    "        p[x] = find_set(p[x])\n",
    "    return p[x]\n",
    "\n",
    "T = int(input())\n",
    "for tc in range(1,T+1) :\n",
    "    V,E = map(int,input().split())\n",
    "\n",
    "    p = [i for i in range(V+1)]\n",
    "    ans = V\n",
    "\n",
    "    temp = list(map(int,input().split()))\n",
    "    for k in range(0,len(temp),2) :\n",
    "        u,v = temp[k],temp[k+1]\n",
    "\n",
    "        a = find_set(u)\n",
    "        b = find_set(v)\n",
    "        if a == b :\n",
    "            continue\n",
    "        p[a] = b\n",
    "        ans -= 1\n",
    "\n",
    "    print(f'#{tc} {ans}')\n"
   ]
  }
 ],
 "metadata": {
  "language_info": {
   "name": "python"
  }
 },
 "nbformat": 4,
 "nbformat_minor": 2
}
