{
 "cells": [
  {
   "cell_type": "markdown",
   "metadata": {},
   "source": [
    "# 12398 그래프 경로\n",
    "\n",
    "- V : 노드, 1번부터 시작\n",
    "- E : 간선\n",
    "- 방향성 그래프\n",
    "- 경로가 있으면 1, 없으면 0\n",
    "- 간선으로 연결되지 않은 노드가 있을 수 있다.\n"
   ]
  },
  {
   "cell_type": "code",
   "execution_count": null,
   "metadata": {},
   "outputs": [],
   "source": [
    "T = int(input())\n",
    "V,E = input().split()\n",
    "arr = [list(map(int,input().split()) for _ in range(E))]"
   ]
  }
 ],
 "metadata": {
  "language_info": {
   "name": "python"
  }
 },
 "nbformat": 4,
 "nbformat_minor": 2
}
