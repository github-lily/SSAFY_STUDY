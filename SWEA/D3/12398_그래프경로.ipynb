{
 "cells": [
  {
   "cell_type": "markdown",
   "metadata": {},
   "source": [
    "# 12398 그래프 경로\n",
    "\n",
    "- V : 노드, 1번부터 시작\n",
    "- E : 간선\n",
    "- 방향성 그래프\n",
    "- 경로가 있으면 1, 없으면 0\n",
    "- 간선으로 연결되지 않은 노드가 있을 수 있다.\n",
    "- 출발 노드 S 도착 노드 G\n"
   ]
  },
  {
   "cell_type": "code",
   "execution_count": 9,
   "metadata": {},
   "outputs": [
    {
     "ename": "ValueError",
     "evalue": "invalid literal for int() with base 10: ''",
     "output_type": "error",
     "traceback": [
      "\u001b[1;31m---------------------------------------------------------------------------\u001b[0m",
      "\u001b[1;31mValueError\u001b[0m                                Traceback (most recent call last)",
      "Cell \u001b[1;32mIn[9], line 4\u001b[0m\n\u001b[0;32m      1\u001b[0m \u001b[38;5;28;01mimport\u001b[39;00m \u001b[38;5;21;01msys\u001b[39;00m\n\u001b[0;32m      2\u001b[0m sys\u001b[38;5;241m.\u001b[39mstdin \u001b[38;5;241m=\u001b[39m \u001b[38;5;28mopen\u001b[39m(\u001b[38;5;124m\"\u001b[39m\u001b[38;5;124m12398.txt\u001b[39m\u001b[38;5;124m\"\u001b[39m,\u001b[38;5;124m\"\u001b[39m\u001b[38;5;124mr\u001b[39m\u001b[38;5;124m\"\u001b[39m)\n\u001b[1;32m----> 4\u001b[0m T \u001b[38;5;241m=\u001b[39m \u001b[38;5;28;43mint\u001b[39;49m\u001b[43m(\u001b[49m\u001b[38;5;28;43minput\u001b[39;49m\u001b[43m(\u001b[49m\u001b[43m)\u001b[49m\u001b[43m)\u001b[49m\n\u001b[0;32m      5\u001b[0m V,E \u001b[38;5;241m=\u001b[39m \u001b[38;5;28mmap\u001b[39m(\u001b[38;5;28mint\u001b[39m,\u001b[38;5;28minput\u001b[39m()\u001b[38;5;241m.\u001b[39msplit())\n\u001b[0;32m      6\u001b[0m arr \u001b[38;5;241m=\u001b[39m [\u001b[38;5;28mlist\u001b[39m(\u001b[38;5;28mmap\u001b[39m(\u001b[38;5;28mint\u001b[39m,\u001b[38;5;28minput\u001b[39m()\u001b[38;5;241m.\u001b[39msplit())) \u001b[38;5;28;01mfor\u001b[39;00m _ \u001b[38;5;129;01min\u001b[39;00m \u001b[38;5;28mrange\u001b[39m(E)]\n",
      "\u001b[1;31mValueError\u001b[0m: invalid literal for int() with base 10: ''"
     ]
    }
   ],
   "source": [
    "'''\n",
    "# 12398 그래프 경로\n",
    "\n",
    "- V : 노드, 1번부터 시작\n",
    "- E : 간선\n",
    "- 방향성 그래프\n",
    "- 경로가 있으면 1, 없으면 0\n",
    "- 간선으로 연결되지 않은 노드가 있을 수 있다.\n",
    "- 출발 노드 S 도착 노드 G\n",
    "\n",
    "'''\n",
    "\n",
    "\n",
    "import sys\n",
    "sys.stdin = open(\"12398.txt\",\"r\")\n",
    "\n",
    "\n",
    "def dfs(v):  # 현재 위치 v,(시작점인 S로 시작) 갈 곳 w\n",
    "    visited[v] = 1  # 방문 도장\n",
    "    for w in lst[v]:  # 이동할 곳 찾기\n",
    "        if visited[w] != 1:  # 안갔던 곳이면 실행\n",
    "            if w == G:  # 도착 지점과 같으면 1 리턴\n",
    "                return 1\n",
    "            else:  # 안갔던 곳인데 도착지점이 아니면 재귀\n",
    "                s = dfs(w)\n",
    "                if s == 1:      # ★ 이 조건이 없으면 이전에 살아있던 함수가 G를 찾은 줄 모르고 또 else를 실행함 고로 한번 더 알려줘야 함\n",
    "                    return 1\n",
    "    else:  # for문을 모두 돌았는데 G를 못만나면\n",
    "        return 0\n",
    "\n",
    "\n",
    "T = int(input())\n",
    "for tc in range(1,T+1) :\n",
    "    V,E = map(int,input().split())\n",
    "    arr = [list(map(int,input().split())) for _ in range(E)]\n",
    "    S,G = map(int, input().split())\n",
    "\n",
    "    lst = [[] for _ in range(V+1)] # ★\n",
    "    for i in range(E) :\n",
    "        a,b = arr[i][0], arr[i][1]\n",
    "        lst[a].append(b)\n",
    "\n",
    "    print(lst)\n",
    "\n",
    "    visited = [0] * (V+1)\n",
    "\n",
    "\n",
    "    print(f'#{tc} {dfs(S)}')\n",
    "\n",
    "\n",
    "\n"
   ]
  },
  {
   "cell_type": "markdown",
   "metadata": {},
   "source": []
  }
 ],
 "metadata": {
  "kernelspec": {
   "display_name": "Python 3",
   "language": "python",
   "name": "python3"
  },
  "language_info": {
   "codemirror_mode": {
    "name": "ipython",
    "version": 3
   },
   "file_extension": ".py",
   "mimetype": "text/x-python",
   "name": "python",
   "nbconvert_exporter": "python",
   "pygments_lexer": "ipython3",
   "version": "3.9.13"
  }
 },
 "nbformat": 4,
 "nbformat_minor": 2
}
