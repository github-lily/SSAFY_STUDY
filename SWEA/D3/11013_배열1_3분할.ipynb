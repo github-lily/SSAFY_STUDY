{
 "cells": [
  {
   "cell_type": "markdown",
   "metadata": {},
   "source": [
    "- 3개의 연속적인 구간으로 나누고 각 구간에 속한 값들의 총합을 구한다\n",
    "- 세 구간의 합 중 최대값과 최소값의 차이가 최소가 되는 경우를 찾아 차이를 출력"
   ]
  },
  {
   "cell_type": "code",
   "execution_count": null,
   "metadata": {},
   "outputs": [],
   "source": [
    "T = int(input())\n",
    "for tc in range(1,T+1) :\n",
    "    N = int(input())\n",
    "    arr = list(map(int,input().split()))\n",
    "\n",
    "    min_diff = 99999999999999999999\n",
    "\n",
    "    for i in range(1,N-1) :\n",
    "        for j in range(i+1,N) :\n",
    "            one = sum(arr[:i])\n",
    "            two = sum(arr[i:j])\n",
    "            three = sum(arr[j:])\n",
    "\n",
    "            diff = max(one,two,three) - min(one,two,three)\n",
    "\n",
    "            if min_diff > diff :\n",
    "                min_diff = diff\n",
    "\n",
    "    print(f'#{tc} {min_diff}')\n"
   ]
  }
 ],
 "metadata": {
  "language_info": {
   "name": "python"
  }
 },
 "nbformat": 4,
 "nbformat_minor": 2
}
