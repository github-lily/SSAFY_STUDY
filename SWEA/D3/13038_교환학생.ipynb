{
 "cells": [
  {
   "cell_type": "markdown",
   "metadata": {},
   "source": [
    "- 교환학생들을 위한 수업은 특정 요일에만 진행되나\n",
    "- 일요일에 열리면 a1 = 1, 토요일은  a7=1 안열리면 0\n",
    "- 한 주에 한 번 이상은 무조건 열린다\n",
    "- n일동안 수업을 들을 때 삼성대학교에 지내야 하는 최소 일수를 구하라"
   ]
  },
  {
   "cell_type": "code",
   "execution_count": null,
   "metadata": {},
   "outputs": [],
   "source": [
    "'''\n",
    "주의할 점\n",
    "1. 시작 요일에 따라 결과가 달라질 수 있음\n",
    "2. 날짜 뿐만 아니라 타겟 값도 초기화 해줘야 함\n",
    "3. 첫 반복만 시작점 다르게 할 때 변수(start) 이용해서 바꿔주기\n",
    "'''\n",
    "\n",
    "T = int(input())\n",
    "for tc in range(1,T+1) :\n",
    "    n = int(input())        # 목표 수업 일수\n",
    "    plan = list(map(int,input().split()))\n",
    "\n",
    "\n",
    "\n",
    "    min_day = 9999999999999999999999999999999999999\n",
    "    target = n\n",
    "\n",
    "    # 시작 요일마다 값이 다름\n",
    "    # 시작요일 다르게 해서 한 주 시작\n",
    "    for k in range(7) :\n",
    "        day = 0         # 요일마다 날짜 0으로 초기화\n",
    "        target = n\n",
    "        # 가지치기 : 수업이 있는 날 시작해야 최소 일수일 가능성이 높음\n",
    "        if plan[k] == 1 :\n",
    "            start = k\n",
    "            while target:\n",
    "                for x in range(start, 7):  # 7일이니까\n",
    "                    day += 1\n",
    "                    if plan[x] == 1:\n",
    "                        target -= 1\n",
    "                        start = 0           # 다시 일요일부터 시작할 수 있게 리셋\n",
    "                        if target == 0:\n",
    "                            break\n",
    "\n",
    "            # 한 주 시작 이후\n",
    "            if min_day > day :\n",
    "                min_day = day\n",
    "\n",
    "\n",
    "    print(f'#{tc} {min_day}')"
   ]
  }
 ],
 "metadata": {
  "language_info": {
   "name": "python"
  }
 },
 "nbformat": 4,
 "nbformat_minor": 2
}
