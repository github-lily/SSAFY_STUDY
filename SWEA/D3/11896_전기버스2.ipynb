{
 "cells": [
  {
   "cell_type": "markdown",
   "metadata": {},
   "source": [
    "### 파이썬 SW문제해결 응용_구현 - 05 백트래킹\n"
   ]
  },
  {
   "cell_type": "code",
   "execution_count": null,
   "metadata": {},
   "outputs": [],
   "source": [
    "def dfs(n, cnt, now) :  # now : 현재 배터리 잔량\n",
    "    global ans\n",
    "\n",
    "    if ans <= cnt :\n",
    "        return\n",
    "\n",
    "    if n == N :\n",
    "        ans = min(ans, cnt)\n",
    "        return\n",
    "    \n",
    "    # 충전 안했을 때\n",
    "    # 충전 안했을 때 최소 횟수에 더 가까워지므로 이것 먼저 구하기(가능성 있는 것 먼저 구하기)\n",
    "    # 단 다음 정거장까지 갈 수 있어야함!\n",
    "    if now > 0 :\n",
    "        dfs(n+1, cnt, now-1)\n",
    "    dfs(n+1, cnt+1, lst[n]-1)\n",
    "\n",
    "\n",
    "T = int(input())\n",
    "for tc in range(1,T+1) :\n",
    "    lst = list(map(int,input().split()))\n",
    "    N = lst[0]     # 정류장의 개수\n",
    "    ans = N         # 어차피 최대 교환은 N번\n",
    "    \n",
    "    dfs(2,0,lst[1]-1)  # 1번에서 출발, 2번으로 가니까 배터리 잔량 -1\n",
    "\n",
    "    print(f'#{tc} {ans}')"
   ]
  }
 ],
 "metadata": {
  "language_info": {
   "name": "python"
  }
 },
 "nbformat": 4,
 "nbformat_minor": 2
}
