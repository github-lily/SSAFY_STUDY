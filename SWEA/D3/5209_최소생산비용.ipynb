{
 "cells": [
  {
   "cell_type": "markdown",
   "metadata": {},
   "source": [
    "### 파이썬 SW문제해결 응용_구현 - 05 백트래킹\n"
   ]
  },
  {
   "cell_type": "code",
   "execution_count": null,
   "metadata": {},
   "outputs": [],
   "source": [
    "\n",
    "'''\n",
    "N 종의 제품을 N개의 공장에서 한 곳당 한가지씩 생산\n",
    "최소 생산 비용 출력\n",
    "'''\n",
    "\n",
    "def dfs(n,sm) :\n",
    "    global ans\n",
    "    # 가지치기\n",
    "    if ans <= sm :\n",
    "        return\n",
    "\n",
    "    if n == N :\n",
    "        ans = min(sm,ans)\n",
    "        return\n",
    "\n",
    "    for j in range(N) :\n",
    "        if visit[j] :\n",
    "            continue\n",
    "        visit[j] = 1\n",
    "        dfs(n+1, sm+arr[n][j])\n",
    "        visit[j] = 0\n",
    "\n",
    "\n",
    "T = int(input())\n",
    "for tc in range(1,T+1) :\n",
    "    N = int(input())\n",
    "    arr = [list(map(int,input().split())) for _ in range(N)]\n",
    "    visit = [0]*N\n",
    "    ans = 999999999999999999\n",
    "\n",
    "    dfs(0,0)\n",
    "\n",
    "    print(f'#{tc} {ans}')\n"
   ]
  }
 ],
 "metadata": {
  "language_info": {
   "name": "python"
  }
 },
 "nbformat": 4,
 "nbformat_minor": 2
}
