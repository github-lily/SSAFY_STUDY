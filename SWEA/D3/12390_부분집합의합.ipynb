{
 "cells": [
  {
   "cell_type": "markdown",
   "metadata": {},
   "source": [
    "- A : 1~12까지의 숫자를 원소로 갖는 집합  \n",
    "- 집합 A의 부분 집합 중 N개의 원소를 갖고 있고, 원소의 합이 K인 부분 집합의 개수를 출력하라\n",
    "- 해당하는 부분집합이 없는 경우 0 출력\n"
   ]
  },
  {
   "cell_type": "markdown",
   "metadata": {},
   "source": [
    "# 백트레킹"
   ]
  },
  {
   "cell_type": "code",
   "execution_count": null,
   "metadata": {},
   "outputs": [],
   "source": [
    "# 기흠이 코드\n",
    "\n",
    "def comb(k,n,cnt_1,current_sum):\n",
    "    global cnt\n",
    "     \n",
    "    # 가지치기 \n",
    "    if current_sum > K:     # 현재까지의 합이 K보다 크면 함수 종료\n",
    "        return\n",
    "    if cnt_1 > N:                # 부분 집합의 원소의 수가 N보다 크면 함수 종료\n",
    "        return\n",
    " \n",
    "    if k == n:\n",
    "        if cnt_1 == N and current_sum == K:\n",
    "            cnt += 1\n",
    "        \n",
    "    else:\n",
    "        comb(k+1,n,cnt_1,current_sum) \n",
    "        comb(k+1,n,cnt_1+1,current_sum+arr[k])               # cnt_1: 1의 갯수\n",
    " \n",
    " \n",
    " \n",
    "T = int(input())\n",
    "for test_case in range(1,T+1):\n",
    "    M = 12\n",
    "    N, K = map(int,input().split())     # N: 부분집합의 원소의 수 K: 원소의 합\n",
    "    arr = list(range(1,M+1))            # 1~12까지의 리스트\n",
    "    cnt = 0                             # 문제에서 요구하는 조건의 갯수\n",
    "    comb(0,12,0,0)\n",
    "    print(f'#{test_case} {cnt}')\n"
   ]
  },
  {
   "cell_type": "code",
   "execution_count": null,
   "metadata": {},
   "outputs": [],
   "source": [
    "# 지훈이 코드\n",
    "\n",
    "T = int(input())\n",
    " \n",
    "def comb(k, s):\n",
    "    global cnt\n",
    "    if k == N:\n",
    "        if sum(pick) == K:\n",
    "            cnt += 1\n",
    "    else:\n",
    "        remain = N - (k+1)\n",
    "        for i in range(s, n - remain):\n",
    "            pick[k] = arr[i]\n",
    "            comb(k+1, i+1)\n",
    " \n",
    " \n",
    "for tc in range(T):\n",
    "    N, K = map(int, input().split())\n",
    "    pick = [0] * N\n",
    "    arr = list(range(1, 13))\n",
    "    n = len(arr)\n",
    "    cnt = 0\n",
    " \n",
    "    comb(0, 0)\n",
    "    print(f'#{tc+1} {cnt}')"
   ]
  },
  {
   "cell_type": "markdown",
   "metadata": {},
   "source": [
    "# 비트연산자 사용\n"
   ]
  },
  {
   "cell_type": "code",
   "execution_count": 1,
   "metadata": {},
   "outputs": [
    {
     "ename": "ValueError",
     "evalue": "not enough values to unpack (expected 2, got 1)",
     "output_type": "error",
     "traceback": [
      "\u001b[1;31m---------------------------------------------------------------------------\u001b[0m",
      "\u001b[1;31mValueError\u001b[0m                                Traceback (most recent call last)",
      "Cell \u001b[1;32mIn[1], line 8\u001b[0m\n\u001b[0;32m      5\u001b[0m n \u001b[38;5;241m=\u001b[39m \u001b[38;5;28mlen\u001b[39m(arr)\n\u001b[0;32m      7\u001b[0m \u001b[38;5;28;01mfor\u001b[39;00m tc \u001b[38;5;129;01min\u001b[39;00m \u001b[38;5;28mrange\u001b[39m(T) :\n\u001b[1;32m----> 8\u001b[0m     N, K \u001b[38;5;241m=\u001b[39m \u001b[38;5;28mlist\u001b[39m(\u001b[38;5;28mmap\u001b[39m(\u001b[38;5;28mint\u001b[39m,\u001b[38;5;28minput\u001b[39m()\u001b[38;5;241m.\u001b[39msplit()))\n\u001b[0;32m      9\u001b[0m     \u001b[38;5;28;01mfor\u001b[39;00m i \u001b[38;5;129;01min\u001b[39;00m \u001b[38;5;28mrange\u001b[39m(\u001b[38;5;241m1\u001b[39m\u001b[38;5;241m<<\u001b[39mn) :      \u001b[38;5;66;03m# 1<<n : 부분 집합의 개수(= 2^n)\u001b[39;00m\n\u001b[0;32m     10\u001b[0m         \u001b[38;5;28;01mfor\u001b[39;00m j \u001b[38;5;129;01min\u001b[39;00m \u001b[38;5;28mrange\u001b[39m(n) :     \u001b[38;5;66;03m# 원소의 수만큼 비트를 비교함\u001b[39;00m\n",
      "\u001b[1;31mValueError\u001b[0m: not enough values to unpack (expected 2, got 1)"
     ]
    }
   ],
   "source": [
    "# 교과서\n",
    "\n",
    "# T = int(input())        #테스트 케이스의 수\n",
    "arr = [1,2,3,4,5,6,7,8,9,10,11,12]\n",
    "n = len(arr)\n",
    "\n",
    "for tc in range(T) :\n",
    "    # N, K = list(map(int,input().split()))\n",
    "    for i in range(1<<n) :      # 1<<n : 부분 집합의 개수(= 2^n)\n",
    "        for j in range(n) :     # 원소의 수만큼 비트를 비교함\n",
    "            if i & (1<<j) :     # i의 j번 비트가의 논리곱 결과가 참인경우\n",
    "                print(arr[j],end = \",\")     #j번 원소 출력\n",
    "        print()\n",
    "    print()\n"
   ]
  },
  {
   "cell_type": "code",
   "execution_count": null,
   "metadata": {},
   "outputs": [],
   "source": [
    "# 답\n",
    "\n",
    "import sys\n",
    "sys.stdin = open(\"12390.txt\", \"r\")\n",
    "\n",
    "T = int(input())        #테스트 케이스의 수\n",
    "A = [1,2,3,4,5,6,7,8,9,10,11,12]     # 집합 A\n",
    "\n",
    "for tc in range(1,T+1) :\n",
    "    N, K = map(int,input().split())     #N : 원소의 개수 , K 원소의 합\n",
    "\n",
    "#A의 부분집합\n",
    "    cnt = 0\n",
    "    all_set_list=[]\n",
    "    #집합 A의 부분집합 구하기\n",
    "    for i in range(1<<12) :\n",
    "        portion_set = []\n",
    "        for j in range(12) :\n",
    "            if i & (1<<j) :                   #j만큼 bit를 이동시켜 비교하면서 원소가 있는지 확인, T면 부분집합에 넣음\n",
    "                portion_set.append(A[j])      #A의 부분집합의 원소들(A[j])를 담은 부분집합 portion_set\n",
    "                # print(A[j], portion_set)\n",
    "        all_set_list.append(portion_set)      #부분집합들을 담은 리스트\n",
    "    # print(all_set_list)\n",
    "    # 이 함수 안에서 바로 합을 더해 넣고, 비교해서 값 출력해도 됨!!!!\n",
    "\n",
    "\n",
    "    for k in all_set_list:          #부분집합들을 하나씩 뺌\n",
    "        # print(k)\n",
    "        total = 0\n",
    "\n",
    "        for pos in k :              #부분집합의 원소들을 하나씩 더함\n",
    "            total += pos\n",
    "\n",
    "        if len(k) == N and total == K :\n",
    "            cnt += 1\n",
    "\n",
    "\n",
    "    print(f'#{tc} {cnt}')\n",
    "\n",
    "\n",
    "\n"
   ]
  },
  {
   "cell_type": "code",
   "execution_count": null,
   "metadata": {},
   "outputs": [],
   "source": [
    "# 이 함수 안에서 바로 합을 더해 넣고, 비교해서 값 출력해도 됨!!!!\n",
    "\n",
    "import sys\n",
    "sys.stdin = open(\"12390.txt\", \"r\")\n",
    "\n",
    "T = int(input())        #테스트 케이스의 수\n",
    "A = [1,2,3,4,5,6,7,8,9,10,11,12]     # 집합 A\n",
    "\n",
    "for tc in range(1,T+1) :\n",
    "    N, K = map(int,input().split())     #N : 원소의 개수 , K 원소의 합\n",
    "\n",
    "#A의 부분집합\n",
    "    cnt = 0\n",
    "    #집합 A의 부분집합 구하기\n",
    "    for i in range(1<<12) :\n",
    "        portion_set = []\n",
    "        for j in range(12) :\n",
    "            if i & (1<<j) :                   #j만큼 bit를 이동시켜 비교하면서 원소가 있는지 확인, T면 부분집합에 넣음\n",
    "                portion_set.append(A[j])      #A의 부분집합의 원소들(A[j])를 담은 부분집합 portion_set\n",
    "                # print(A[j], portion_set)\n",
    "\n",
    "    # print(all_set_list)\n",
    "\n",
    "\n",
    "\n",
    "    for k in all_set_list:          #부분집합들을 하나씩 뺌\n",
    "        # print(k)\n",
    "        total = 0\n",
    "\n",
    "        for pos in k :              #부분집합의 원소들을 하나씩 더함\n",
    "            total += pos\n",
    "\n",
    "        if len(k) == N and total == K :\n",
    "            cnt += 1\n",
    "\n",
    "\n",
    "    print(f'#{tc} {cnt}')\n",
    "\n",
    "\n",
    "\n"
   ]
  },
  {
   "cell_type": "code",
   "execution_count": 2,
   "metadata": {},
   "outputs": [
    {
     "ename": "ValueError",
     "evalue": "invalid literal for int() with base 10: ''",
     "output_type": "error",
     "traceback": [
      "\u001b[1;31m---------------------------------------------------------------------------\u001b[0m",
      "\u001b[1;31mValueError\u001b[0m                                Traceback (most recent call last)",
      "Cell \u001b[1;32mIn[2], line 1\u001b[0m\n\u001b[1;32m----> 1\u001b[0m T \u001b[38;5;241m=\u001b[39m \u001b[38;5;28;43mint\u001b[39;49m\u001b[43m(\u001b[49m\u001b[38;5;28;43minput\u001b[39;49m\u001b[43m(\u001b[49m\u001b[43m)\u001b[49m\u001b[43m)\u001b[49m        \u001b[38;5;66;03m#테스트 케이스의 수\u001b[39;00m\n\u001b[0;32m      2\u001b[0m A \u001b[38;5;241m=\u001b[39m [\u001b[38;5;241m1\u001b[39m,\u001b[38;5;241m2\u001b[39m,\u001b[38;5;241m3\u001b[39m,\u001b[38;5;241m4\u001b[39m,\u001b[38;5;241m5\u001b[39m,\u001b[38;5;241m6\u001b[39m,\u001b[38;5;241m7\u001b[39m,\u001b[38;5;241m8\u001b[39m,\u001b[38;5;241m9\u001b[39m,\u001b[38;5;241m10\u001b[39m,\u001b[38;5;241m11\u001b[39m,\u001b[38;5;241m12\u001b[39m]     \u001b[38;5;66;03m# 집합 A\u001b[39;00m\n\u001b[0;32m      4\u001b[0m \u001b[38;5;28;01mfor\u001b[39;00m tc \u001b[38;5;129;01min\u001b[39;00m \u001b[38;5;28mrange\u001b[39m(T) :\n",
      "\u001b[1;31mValueError\u001b[0m: invalid literal for int() with base 10: ''"
     ]
    }
   ],
   "source": [
    "# 노력\n",
    "\n",
    "T = int(input())        #테스트 케이스의 수\n",
    "A = [1,2,3,4,5,6,7,8,9,10,11,12]     # 집합 A\n",
    "\n",
    "for tc in range(T) :\n",
    "    N, K = list(map(int,input().split()))      #N : 원소의 개수 , K 원소의 합\n",
    "    all_set = []\n",
    "\n",
    "    #집합 A의 부분집합 구하기\n",
    "    for i in range(1<<N) :\n",
    "        for j in range(N) :\n",
    "            if i & (1<<j) :\n",
    "                all_set.append()\n",
    "        print()\n",
    "    print(all_set)\n",
    "\n",
    "    cnt = 0\n",
    "    for k in all_set:\n",
    "        total = 0\n",
    "        for m in str(k) :\n",
    "            total += int(k)\n",
    "\n",
    "        if len(k) == N and total == K :\n",
    "            cnt += 1\n",
    "\n",
    "    print(cnt)\n",
    "\n",
    "    print(f'#{tc} {cnt}')\n",
    "\n",
    "\n",
    "#all_set()에는 부분집합의 원소인 A[j]를 넣어 부분집합을 만들어야 함\n",
    "# j : 비트를 j만큼 이동했을 때 부분집합의 원소와 일치하는 A의 인덱스 번호\n",
    "#all_set : 부분집합의 원소를 담은 하나의 부분집합. 부분집합들의 리스트를 원하면 따로 만들어야 함"
   ]
  }
 ],
 "metadata": {
  "kernelspec": {
   "display_name": "Python 3",
   "language": "python",
   "name": "python3"
  },
  "language_info": {
   "codemirror_mode": {
    "name": "ipython",
    "version": 3
   },
   "file_extension": ".py",
   "mimetype": "text/x-python",
   "name": "python",
   "nbconvert_exporter": "python",
   "pygments_lexer": "ipython3",
   "version": "3.9.13"
  }
 },
 "nbformat": 4,
 "nbformat_minor": 2
}
