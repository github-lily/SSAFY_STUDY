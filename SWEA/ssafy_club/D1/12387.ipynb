{
 "cells": [
  {
   "cell_type": "markdown",
   "metadata": {},
   "source": [
    "# 구간합\n",
    "\n",
    "- N개의 정수가 들어있는 배열에서 이웃한 M개의 합을 계산하는 것은 디지털 필터링의 기초연산이다.\n",
    "\n",
    "- M개의 합이 가장 큰 경우와 가장 작은 경우의 차이를 출력하는 프로그램을 작성하시오."
   ]
  },
  {
   "cell_type": "code",
   "execution_count": null,
   "metadata": {},
   "outputs": [],
   "source": [
    "T = int(input())\n",
    "\n",
    "for tc in range(1,T+1) :\n",
    "    N, M = map(int,input().split())\n",
    "\n",
    "\n",
    "    val_sum = []    #더한 값 \n",
    "\n",
    "\n",
    "    for i in range(N) :\n",
    "        max_val = val_sum[0]\n",
    "        min_val = val_sum[0]\n",
    "        if val_sum[i] > min_val :\n",
    "            max_val = val_sum[i]\n",
    "        if val_sum[i] < min_val :\n",
    "            min_val = val_sum[i]\n",
    "    diff = max_val - min_val\n",
    "    print(f'#{tc} {diff}')\n",
    "        "
   ]
  },
  {
   "cell_type": "code",
   "execution_count": null,
   "metadata": {},
   "outputs": [],
   "source": [
    "'''\n",
    "1. 인접한 N개의 수 더하기 -> 더한 값 리스트에 넣기\n",
    "2. 더한 값 안에서 최대, 최소 찾기\n",
    "3. 최대 - 최소\n",
    "'''"
   ]
  }
 ],
 "metadata": {
  "language_info": {
   "name": "python"
  }
 },
 "nbformat": 4,
 "nbformat_minor": 2
}
