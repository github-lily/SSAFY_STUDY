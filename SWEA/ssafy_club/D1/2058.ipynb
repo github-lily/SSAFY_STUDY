{
 "cells": [
  {
   "cell_type": "code",
   "execution_count": null,
   "metadata": {},
   "outputs": [],
   "source": [
    "\n",
    "#홀수 합 더하기\n",
    "\n",
    "sum = 0\n",
    "for a in range(11) :\n",
    "    if a % 2 == 1:\n",
    "        sum = sum+a\n",
    "print(sum)\n",
    "    "
   ]
  },
  {
   "cell_type": "code",
   "execution_count": null,
   "metadata": {},
   "outputs": [],
   "source": [
    "#자릿수 더하기\n",
    "\n",
    "a = int(input())\n",
    "\n",
    "sum = 0\n",
    "for i in str(a) :           #str으로 바꾸면 하나씩 빼올 수 있음\n",
    "    sum = sum + int(i)      #str은 더할 수 없으니 int로 교환\n",
    "print(sum)\n",
    "    "
   ]
  },
  {
   "cell_type": "code",
   "execution_count": null,
   "metadata": {},
   "outputs": [],
   "source": [
    "a = int(input())\n",
    "sum = 0\n",
    "for i in range(len(str(a))) :\n",
    "    sum = sum + int(str(a)[i])\n",
    "print(sum)"
   ]
  },
  {
   "cell_type": "code",
   "execution_count": 2,
   "metadata": {},
   "outputs": [
    {
     "name": "stdout",
     "output_type": "stream",
     "text": [
      "20\n"
     ]
    }
   ],
   "source": [
    "#str 안쓰고 푸는 법1 best\n",
    "\n",
    "number = int(input())\n",
    "#number = abs(number)\n",
    "#abs : 절댓값으로 바꿔줌\n",
    "\n",
    "\n",
    "sum = 0\n",
    "while number > 0:               #값이 0이 되면 끝\n",
    "    sum = sum + number % 10     #나머지들을 더함\n",
    "    number = number // 10       #number 갱신\n",
    "\n",
    "print(sum)\n"
   ]
  },
  {
   "cell_type": "code",
   "execution_count": 3,
   "metadata": {},
   "outputs": [
    {
     "data": {
      "text/plain": [
       "60"
      ]
     },
     "execution_count": 3,
     "metadata": {},
     "output_type": "execute_result"
    }
   ],
   "source": [
    "number = 20\n",
    "\n",
    "number *= 3\n",
    "\n",
    "number"
   ]
  },
  {
   "cell_type": "code",
   "execution_count": 5,
   "metadata": {},
   "outputs": [
    {
     "name": "stdout",
     "output_type": "stream",
     "text": [
      "6\n"
     ]
    }
   ],
   "source": [
    "#str 안쓰고 푸는 법2\n",
    "\n",
    "a = int(input())\n",
    "\n",
    "sum = 0\n",
    "moc = a\n",
    "while moc != 0 :\n",
    "    moc = moc // 10\n",
    "    rest = moc % 10\n",
    "    sum = sum + rest\n",
    "\n",
    "print(sum)\n"
   ]
  },
  {
   "cell_type": "code",
   "execution_count": 7,
   "metadata": {},
   "outputs": [
    {
     "name": "stdout",
     "output_type": "stream",
     "text": [
      "0\n"
     ]
    }
   ],
   "source": [
    "\n",
    "\n",
    "N = int(input())\n",
    "\n",
    "sum = 0\n",
    "moc = N\n",
    "\n",
    "while moc % 10  0 :\n",
    "    sum = moc % 10 + sum\n",
    "    moc = moc // 10\n",
    "\n",
    "print(sum)\n"
   ]
  },
  {
   "cell_type": "code",
   "execution_count": 9,
   "metadata": {},
   "outputs": [
    {
     "name": "stdout",
     "output_type": "stream",
     "text": [
      "20\n"
     ]
    }
   ],
   "source": [
    "N = int(input())  #4258\n",
    "sum = 0\n",
    "moc = N\n",
    "while True :\n",
    "    #계속 돌아라\n",
    "    sum = moc % 10 + sum  # sum = 8\n",
    "    moc = moc // 10  # moc = 425\n",
    "    if moc == 0 :\n",
    "        break\n",
    "    #종료조건\n",
    "print(sum)"
   ]
  },
  {
   "cell_type": "code",
   "execution_count": null,
   "metadata": {},
   "outputs": [],
   "source": [
    "def sum_of_digits(number):\n",
    "    if number < 10:\n",
    "        return number\n",
    "    else:\n",
    "        return number % 10 + sum_of_digits(number//10)\n",
    "result_3 = sum_of_digits(321)\n",
    "print(result_3) # 1 + 2 + 3 = 6"
   ]
  }
 ],
 "metadata": {
  "kernelspec": {
   "display_name": "Python 3",
   "language": "python",
   "name": "python3"
  },
  "language_info": {
   "codemirror_mode": {
    "name": "ipython",
    "version": 3
   },
   "file_extension": ".py",
   "mimetype": "text/x-python",
   "name": "python",
   "nbconvert_exporter": "python",
   "pygments_lexer": "ipython3",
   "version": "3.12.3"
  }
 },
 "nbformat": 4,
 "nbformat_minor": 2
}
