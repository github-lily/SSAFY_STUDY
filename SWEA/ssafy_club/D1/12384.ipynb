{
 "cells": [
  {
   "cell_type": "markdown",
   "metadata": {},
   "source": [
    "# Min_Max_확인용\n",
    "\n",
    "### N개의 양의 정수에서 가장 큰 수와 작은 수의 차이 출력\n",
    "- 첫 줄에 테이스 케이스의 수 T\n",
    "- 각 케이스의 첫 줄에 양수의 개수 N\n",
    "- 다음 줄에 N개의 양수 a가 주어짐"
   ]
  },
  {
   "cell_type": "code",
   "execution_count": 4,
   "metadata": {},
   "outputs": [
    {
     "name": "stdout",
     "output_type": "stream",
     "text": [
      "#1 630739\n"
     ]
    }
   ],
   "source": [
    "#오류..!!\n",
    "\n",
    "T = int(input())\n",
    "\n",
    "for tc in range(1,T+1) :\n",
    "    N = int(input())\n",
    "    test_list = list(map(int,input().split()))\n",
    "    \n",
    "    #max\n",
    "    max_v = test_list[0]\n",
    "    for number in test_list :\n",
    "        if number > max_v :\n",
    "            max_v = number\n",
    "    #논리식의 왼편에는 변수, 오른편에는 기준값\n",
    "\n",
    "\n",
    "    #min\n",
    "    min_v = test_list[0]\n",
    "    for number in test_list :\n",
    "        if number < min_v :\n",
    "            min_v = number\n",
    "\n",
    "\n",
    "    diff = max_v - min_v\n",
    "    print(f'#{tc} {diff}')\n",
    "    #테스트 케이스마다 출력해야하니 들여쓰기 주의!\n"
   ]
  },
  {
   "cell_type": "code",
   "execution_count": 1,
   "metadata": {},
   "outputs": [
    {
     "ename": "ValueError",
     "evalue": "invalid literal for int() with base 10: ''",
     "output_type": "error",
     "traceback": [
      "\u001b[1;31m---------------------------------------------------------------------------\u001b[0m",
      "\u001b[1;31mValueError\u001b[0m                                Traceback (most recent call last)",
      "Cell \u001b[1;32mIn[1], line 1\u001b[0m\n\u001b[1;32m----> 1\u001b[0m T \u001b[38;5;241m=\u001b[39m \u001b[38;5;28;43mint\u001b[39;49m\u001b[43m(\u001b[49m\u001b[38;5;28;43minput\u001b[39;49m\u001b[43m(\u001b[49m\u001b[43m)\u001b[49m\u001b[43m)\u001b[49m\n\u001b[0;32m      3\u001b[0m \u001b[38;5;28;01mfor\u001b[39;00m tc \u001b[38;5;129;01min\u001b[39;00m \u001b[38;5;28mrange\u001b[39m(\u001b[38;5;241m1\u001b[39m,T\u001b[38;5;241m+\u001b[39m\u001b[38;5;241m1\u001b[39m) :\n\u001b[0;32m      4\u001b[0m     N \u001b[38;5;241m=\u001b[39m \u001b[38;5;28mint\u001b[39m(\u001b[38;5;28minput\u001b[39m())\n",
      "\u001b[1;31mValueError\u001b[0m: invalid literal for int() with base 10: ''"
     ]
    }
   ],
   "source": [
    "T = int(input())\n",
    "\n",
    "for tc in range(1,T+1) :\n",
    "    N = int(input())\n",
    "    test_list = list(map(int,input().split()))\n",
    "    \n",
    "    #max\n",
    "    max_v = test_list[0]\n",
    "    min_v = test_list[0]\n",
    "\n",
    "    for i in range(1,N) :\n",
    "\n",
    "        if test_list[i] > max_v :\n",
    "            max_v = test_list[i]\n",
    "\n",
    "        if test_list[i] < min_v:\n",
    "            min_v = test_list[i]    \n",
    "\n",
    "\n",
    "\n",
    "    diff = max_v - min_v\n",
    "    print(f'#{tc} {diff}')\n"
   ]
  }
 ],
 "metadata": {
  "kernelspec": {
   "display_name": "Python 3",
   "language": "python",
   "name": "python3"
  },
  "language_info": {
   "codemirror_mode": {
    "name": "ipython",
    "version": 3
   },
   "file_extension": ".py",
   "mimetype": "text/x-python",
   "name": "python",
   "nbconvert_exporter": "python",
   "pygments_lexer": "ipython3",
   "version": "undefined.undefined.undefined"
  }
 },
 "nbformat": 4,
 "nbformat_minor": 2
}
