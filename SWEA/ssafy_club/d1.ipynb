{
 "cells": [
  {
   "cell_type": "markdown",
   "metadata": {},
   "source": [
    "### 홀수만 더하기"
   ]
  },
  {
   "cell_type": "code",
   "execution_count": 2,
   "metadata": {},
   "outputs": [],
   "source": [
    "#10개의 수를 입력받아 홀수만 더한 값을 출력\n",
    "#0 =< N =< 1000\n",
    "\n",
    "T = int(input())        #테스트 케이스의 개수 T\n",
    "for t in range(T+1) :\n",
    "    print(map(int,input().split()))\n",
    "\n",
    "# t = 0\n",
    "# while t > T :\n",
    "#     elem_list = list(map(int,input().split()))\n",
    "#     t += 1\n",
    "\n",
    "\n",
    "\n",
    "'''\n",
    "1. T의 값을 입력받는다.\n",
    "2. for 를 사용해 range(T+1)만큼 반복해서 t 값을 받고, 테스트 케이스를 입력받는다.\n",
    "3. 테스트 케이스를 test_list에 담는다\n",
    "3. list에서 홀수만 더한 값을 구하는 함수 odd_number를 만든다\n",
    "4. odd_number의 return 값은 print(f'#{t} {odd_number(test_list)}\n",
    "'''\n",
    "\n"
   ]
  }
 ],
 "metadata": {
  "kernelspec": {
   "display_name": "Python 3",
   "language": "python",
   "name": "python3"
  },
  "language_info": {
   "codemirror_mode": {
    "name": "ipython",
    "version": 3
   },
   "file_extension": ".py",
   "mimetype": "text/x-python",
   "name": "python",
   "nbconvert_exporter": "python",
   "pygments_lexer": "ipython3",
   "version": "3.12.3"
  }
 },
 "nbformat": 4,
 "nbformat_minor": 2
}
