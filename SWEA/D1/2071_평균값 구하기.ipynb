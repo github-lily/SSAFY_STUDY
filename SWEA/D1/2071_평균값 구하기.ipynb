{
 "cells": [
  {
   "cell_type": "markdown",
   "metadata": {},
   "source": [
    "# 평균값 구하기"
   ]
  },
  {
   "cell_type": "code",
   "execution_count": null,
   "metadata": {},
   "outputs": [],
   "source": [
    "T = int(input())\n",
    "for tc in range(1,T+1) :\n",
    "    arr = list(map(int,input().split()))\n",
    "\n",
    "    sum = 0\n",
    "    for i in range(len(arr)) :\n",
    "        sum += arr[i]\n",
    "    \n",
    "    aver = round((sum / len(arr)))\n",
    "\n",
    "    print(f'#{tc} {aver}')"
   ]
  },
  {
   "cell_type": "markdown",
   "metadata": {},
   "source": [
    "- round() : 주어진 숫자를 지정한 소수점 자릿수에 맞춰 반올림하는 역할\n",
    "- round(3.141592, 2)    #3.14\n",
    "- round(3.141592, 3)    #3.142\n",
    "- round(3.141592)       #3"
   ]
  },
  {
   "cell_type": "markdown",
   "metadata": {},
   "source": []
  }
 ],
 "metadata": {
  "language_info": {
   "name": "python"
  }
 },
 "nbformat": 4,
 "nbformat_minor": 2
}
