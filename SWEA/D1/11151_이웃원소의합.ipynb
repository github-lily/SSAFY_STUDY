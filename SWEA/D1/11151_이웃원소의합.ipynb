{
 "cells": [
  {
   "cell_type": "code",
   "execution_count": null,
   "metadata": {},
   "outputs": [],
   "source": [
    "# 7.30\n",
    "\n",
    "T = int(input())\n",
    "\n",
    "\n",
    "\n",
    "for tc in range(1,T+1):\n",
    "    N = int(input())\n",
    "    arr = list(map(int, input().split()))\n",
    "\n",
    "    sum_list = []\n",
    "    for s in range(0,N-1) :\n",
    "        sum = arr[s]+arr[s+1]\n",
    "        sum_list.append(sum)\n",
    "\n",
    "    #최대값 구하기\n",
    "    max_v = sum_list[0]\n",
    "    for i in range(len(sum_list)) :\n",
    "        if sum_list[i] > max_v :\n",
    "            max_v = sum_list[i]\n",
    "\n",
    "    print(f'#{tc} {max_v}')"
   ]
  },
  {
   "cell_type": "code",
   "execution_count": null,
   "metadata": {},
   "outputs": [],
   "source": [
    "#8.25 다시 풀기\n",
    "\n",
    "\n",
    "T = int(input())\n",
    "for tc in range(1,T+1) :\n",
    "    N = int(input())\n",
    "    arr = list(map(int,input().split()))\n",
    "    # 음수도 있으므로 최대값 낮게 잡기\n",
    "    max_sum = -999999999999\n",
    "\n",
    "    for i in range(N-1) :   #i+1이므로 범위 주의\n",
    "        sum_val = arr[i] + arr[i+1]\n",
    "        if max_sum < sum_val :\n",
    "            max_sum = sum_val\n",
    "\n",
    "    print(f'#{tc} {max_sum}')"
   ]
  }
 ],
 "metadata": {
  "language_info": {
   "name": "python"
  }
 },
 "nbformat": 4,
 "nbformat_minor": 2
}
