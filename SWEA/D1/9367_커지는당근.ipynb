{
 "cells": [
  {
   "cell_type": "markdown",
   "metadata": {},
   "source": [
    "# 9367 점점 커지는 당근의 개수"
   ]
  },
  {
   "cell_type": "markdown",
   "metadata": {},
   "source": [
    "\n",
    "- 연속으로 커지는 당근의 갯수는 최대 얼마인지 출력하라\n",
    "- 최소값 1 (커지지 않더라도 기본으로 1개는 있으니)\n",
    "\n"
   ]
  },
  {
   "cell_type": "code",
   "execution_count": null,
   "metadata": {},
   "outputs": [],
   "source": [
    "\n",
    "\n",
    "T = int(input())\n",
    "for tc in range(1,T+1) :\n",
    "    N = int(input()) #당근 개수\n",
    "    C = list(map(int,input().split())) #당근의 크기\n",
    "\n",
    "    cnt = 1\n",
    "    ans = 1\n",
    "    for i in range(1,N) :\n",
    "        if C[i-1] < C[i] :\n",
    "           cnt += 1\n",
    "           if ans < cnt :\n",
    "               ans = cnt\n",
    "        else :\n",
    "            cnt = 1\n",
    "\n",
    "    print(f'#{tc} {ans}')\n"
   ]
  }
 ],
 "metadata": {
  "language_info": {
   "name": "python"
  }
 },
 "nbformat": 4,
 "nbformat_minor": 2
}
