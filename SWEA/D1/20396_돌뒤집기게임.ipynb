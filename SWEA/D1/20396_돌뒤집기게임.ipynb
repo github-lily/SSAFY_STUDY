{
 "cells": [
  {
   "cell_type": "markdown",
   "metadata": {},
   "source": [
    "# 20396 돌뒤집기게임\n",
    "- i번째 부터 j개의 돌을 i번째 돌의 색으로 바꿔둔다."
   ]
  },
  {
   "cell_type": "code",
   "execution_count": null,
   "metadata": {},
   "outputs": [],
   "source": [
    "\n",
    "T = int(input())\n",
    "for tc in range(1,T+1) :\n",
    "    N,M = map(int,input().split())\n",
    "    arr = list(map(int,input().split()))\n",
    "    for _ in range(M) :\n",
    "        i, j = map(int,input().split())\n",
    "        i = i-1\n",
    "\n",
    "        for k in range(1, j) :      #i번 돌 포함 j개까지 바꾸는 것이므로 그 다음공부터 카운트하면 j-1개까지 바꾸면 됨\n",
    "            if i+k < N :\n",
    "                arr[i+k] = arr[i]\n",
    "\n",
    "\n",
    "    print(f'#{tc}',*arr)"
   ]
  },
  {
   "cell_type": "code",
   "execution_count": null,
   "metadata": {},
   "outputs": [],
   "source": [
    "# 자세한 해석\n",
    "\n",
    "t = int(input())\n",
    "for tc in range(1,t+1):\n",
    "    n,m = map(int,input().split())\n",
    "    arr = list(map(int,input().split()))\n",
    "    for _ in range(m):  #뒤집는 횟수만큼 반복하며 값 받기\n",
    "        i, j = map(int,input().split())\n",
    "        i = i-1     #인덱스로 맞춰주기\n",
    "        for k in range(1,j): #<--이 부분부터 이해안감\n",
    "            # i번째부터 j개의 돌을 i 돌의 색으로 바꾼다\n",
    "            # k가 0일때 i+k 는 i+0 즉 i 자신이니까 뒤집을 필요 없음 그래서 1부터 시작\n",
    "            # 예시를 살펴보면 j개의 돌에 i도 포함되어 있음\n",
    "            # ex) i = 2, j = 3이면 2번째부터 2+1, 2+2번째의 돌을 2번째의 색으로 뒤집음\n",
    "            # 그러므로 j+1이 아니라 j 까지임 (인덱스 i+1 부터 i+j-1 까지 색을 i로 바꿈)\n",
    "            if i+k <n:      #범위 내에 있다면\n",
    "                arr[i+k] = arr[i]   # i번째 색으로 바꿔줌\n",
    "    print(f'#{tc}', *arr)"
   ]
  }
 ],
 "metadata": {
  "language_info": {
   "name": "python"
  }
 },
 "nbformat": 4,
 "nbformat_minor": 2
}
