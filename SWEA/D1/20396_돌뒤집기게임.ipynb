{
 "cells": [
  {
   "cell_type": "markdown",
   "metadata": {},
   "source": [
    "# 20396 돌뒤집기게임\n",
    "- i번째 부터 j개의 돌을 i번째 돌의 색으로 바꿔둔다."
   ]
  },
  {
   "cell_type": "code",
   "execution_count": null,
   "metadata": {},
   "outputs": [],
   "source": [
    "\n",
    "T = int(input())\n",
    "for tc in range(1,T+1) :\n",
    "    N,M = map(int,input().split())\n",
    "    arr = list(map(int,input().split()))\n",
    "    for _ in range(M) :\n",
    "        i, j = map(int,input().split())\n",
    "        i = i-1\n",
    "\n",
    "        for k in range(1, j) :      #i번 돌 포함 j개까지 바꾸는 것이므로 그 다음공부터 카운트하면 j-1개까지 바꾸면 됨\n",
    "            if i+k < N :\n",
    "                arr[i+k] = arr[i]\n",
    "\n",
    "\n",
    "    print(f'#{tc}',*arr)"
   ]
  }
 ],
 "metadata": {
  "language_info": {
   "name": "python"
  }
 },
 "nbformat": 4,
 "nbformat_minor": 2
}
