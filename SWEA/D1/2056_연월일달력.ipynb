{
 "cells": [
  {
   "cell_type": "markdown",
   "metadata": {},
   "source": [
    "# 연월일 달력\n",
    "- 날짜가 유효하다면 YYYY/MM/DD 형식으로 출력\n",
    "- 날짜가 유효하지 않다면 -1 출력\n"
   ]
  },
  {
   "cell_type": "code",
   "execution_count": 17,
   "metadata": {},
   "outputs": [
    {
     "ename": "ValueError",
     "evalue": "invalid literal for int() with base 10: ''",
     "output_type": "error",
     "traceback": [
      "\u001b[1;31m---------------------------------------------------------------------------\u001b[0m",
      "\u001b[1;31mValueError\u001b[0m                                Traceback (most recent call last)",
      "Cell \u001b[1;32mIn[17], line 1\u001b[0m\n\u001b[1;32m----> 1\u001b[0m T \u001b[38;5;241m=\u001b[39m \u001b[38;5;28;43mint\u001b[39;49m\u001b[43m(\u001b[49m\u001b[38;5;28;43minput\u001b[39;49m\u001b[43m(\u001b[49m\u001b[43m)\u001b[49m\u001b[43m)\u001b[49m\n\u001b[0;32m      2\u001b[0m \u001b[38;5;28;01mfor\u001b[39;00m tc \u001b[38;5;129;01min\u001b[39;00m \u001b[38;5;28mrange\u001b[39m(\u001b[38;5;241m1\u001b[39m,T\u001b[38;5;241m+\u001b[39m\u001b[38;5;241m1\u001b[39m) :\n\u001b[0;32m      3\u001b[0m     date \u001b[38;5;241m=\u001b[39m \u001b[38;5;28mlist\u001b[39m(\u001b[38;5;28mmap\u001b[39m(\u001b[38;5;28mint\u001b[39m,\u001b[38;5;28minput\u001b[39m()\u001b[38;5;241m.\u001b[39msplit()))\n",
      "\u001b[1;31mValueError\u001b[0m: invalid literal for int() with base 10: ''"
     ]
    }
   ],
   "source": [
    "T = int(input())\n",
    "for tc in range(1,T+1) :\n",
    "    date = list(map(int,input().split()))\n",
    "    \n",
    "    year = date[0:4]\n",
    "    month = date[4:6]\n",
    "    day = date[7:9]\n",
    "\n",
    "\n",
    "    if '01' <= month <='12' :\n",
    "        if month == '02' :\n",
    "            if '01' <= day <= '28' :\n",
    "                print(f'{year}/{month}/{day}')\n",
    "            else : \n",
    "                print(-1)\n",
    "        elif month == '04' or month == '06' or month == '09' or month == '11' :\n",
    "            if '01' <= day <= '30' :\n",
    "                print(f'{year}/{month}/{day}')\n",
    "            else :\n",
    "                print(-1)\n",
    "        else :\n",
    "            if '01' <= day <= '31' :\n",
    "                print(f'{year}/{month}/{day}')\n",
    "            else :\n",
    "                print(-1)\n",
    "    else :\n",
    "        print(-1)\n",
    "\n",
    "# 문자열은 비교연산자를 사용할 수 없음\n",
    "# day의 인덱스 범위도 오류\n",
    "\n"
   ]
  },
  {
   "cell_type": "code",
   "execution_count": 34,
   "metadata": {},
   "outputs": [
    {
     "name": "stdout",
     "output_type": "stream",
     "text": [
      "[0, 2]\n",
      "[2, 8]\n"
     ]
    },
    {
     "ename": "TypeError",
     "evalue": "sequence item 0: expected str instance, int found",
     "output_type": "error",
     "traceback": [
      "\u001b[1;31m---------------------------------------------------------------------------\u001b[0m",
      "\u001b[1;31mTypeError\u001b[0m                                 Traceback (most recent call last)",
      "Cell \u001b[1;32mIn[34], line 11\u001b[0m\n\u001b[0;32m      9\u001b[0m \u001b[38;5;28mprint\u001b[39m(month)\n\u001b[0;32m     10\u001b[0m \u001b[38;5;28mprint\u001b[39m(day)\n\u001b[1;32m---> 11\u001b[0m int_day \u001b[38;5;241m=\u001b[39m \u001b[38;5;124;43m'\u001b[39;49m\u001b[38;5;124;43m'\u001b[39;49m\u001b[38;5;241;43m.\u001b[39;49m\u001b[43mjoin\u001b[49m\u001b[43m(\u001b[49m\u001b[43mday\u001b[49m\u001b[43m)\u001b[49m\n\u001b[0;32m     12\u001b[0m \u001b[38;5;28mprint\u001b[39m(int_day)\n\u001b[0;32m     14\u001b[0m \u001b[38;5;28;01mif\u001b[39;00m month \u001b[38;5;241m==\u001b[39m \u001b[38;5;124m'\u001b[39m\u001b[38;5;124m02\u001b[39m\u001b[38;5;124m'\u001b[39m :\n",
      "\u001b[1;31mTypeError\u001b[0m: sequence item 0: expected str instance, int found"
     ]
    }
   ],
   "source": [
    "T = int(input())\n",
    "for tc in range(1,T+1) :\n",
    "    date = list(map(int,input()))\n",
    "\n",
    "    year = date[0:4]\n",
    "    month = date[4:6]\n",
    "    day = date[6:8]\n",
    "\n",
    "    print(month)\n",
    "    print(day)\n",
    "    int_day = ''.join(day)\n",
    "    print(int_day)\n",
    "\n",
    "    if month == '02' :\n",
    "        if 1 <= int(day) <= 28 :\n",
    "            print(f'#{tc} {year}/{month}/{day}')\n",
    "        else : \n",
    "            print(f'#{tc} -1')\n",
    "    elif month == '04' or month == '06' or month == '09' or month == '11' :\n",
    "        if 1 <= int(day) <= 30 :\n",
    "            print(f'#{tc} {year}/{month}/{day}')\n",
    "        else :\n",
    "            print(f'#{tc} -1')\n",
    "    elif month == '01' or month == '03' or month == '05' or month == '07' or month == '08' or month == '10' or month == '12' :\n",
    "        if 1 <= int(day) <= 31 :\n",
    "            print(f'#{tc} {year}/{month}/{day}')\n",
    "        else :\n",
    "            print(f'#{tc} -1')\n",
    "    else :\n",
    "        print(f'#{tc} -1')"
   ]
  },
  {
   "cell_type": "code",
   "execution_count": 24,
   "metadata": {},
   "outputs": [
    {
     "name": "stdout",
     "output_type": "stream",
     "text": [
      "#1 2222/02/28\n"
     ]
    }
   ],
   "source": [
    "#TEST\n",
    "\n",
    "T=1\n",
    "tc = 1\n",
    "date = '22220228'\n",
    "\n",
    "year = date[0:4]\n",
    "month = date[4:6]\n",
    "day = date[6:8]\n",
    "\n",
    "\n",
    "if month == '02' :\n",
    "    if 1 <= int(day) <= 28 :\n",
    "        print(f'#{tc} {year}/{month}/{day}')\n",
    "    else : \n",
    "        print(f'#{tc} -1')\n",
    "elif month == '04' or month == '06' or month == '09' or month == '11' :\n",
    "    if 1 <= int(day) <= 30 :\n",
    "        print(f'#{tc} {year}/{month}/{day}')\n",
    "    else :\n",
    "        print(f'#{tc} -1')\n",
    "elif month == '01' or month == '03' or month == '05' or month == '07' or month == '08' or month == '10' or month == '12' :\n",
    "    if 1 <= int(day) <= 31 :\n",
    "        print(f'#{tc} {year}/{month}/{day}')\n",
    "    else :\n",
    "        print(f'#{tc} -1')\n",
    "else :\n",
    "    print(f'#{tc} -1')\n",
    "\n"
   ]
  }
 ],
 "metadata": {
  "kernelspec": {
   "display_name": "Python 3",
   "language": "python",
   "name": "python3"
  },
  "language_info": {
   "codemirror_mode": {
    "name": "ipython",
    "version": 3
   },
   "file_extension": ".py",
   "mimetype": "text/x-python",
   "name": "python",
   "nbconvert_exporter": "python",
   "pygments_lexer": "ipython3",
   "version": "3.9.13"
  }
 },
 "nbformat": 4,
 "nbformat_minor": 2
}
