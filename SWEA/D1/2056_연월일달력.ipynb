{
 "cells": [
  {
   "cell_type": "markdown",
   "metadata": {},
   "source": [
    "# 연월일 달력\n",
    "- 날짜가 유효하다면 YYYY/MM/DD 형식으로 출력\n",
    "- 날짜가 유효하지 않다면 -1 출력\n"
   ]
  },
  {
   "cell_type": "code",
   "execution_count": null,
   "metadata": {},
   "outputs": [],
   "source": [
    "T = int(input())\n",
    "for tc in range(1,T+1) :\n",
    "    date = list(map(int,input().split()))\n",
    "    \n",
    "    year = date[0:4]\n",
    "    month = date[4:6]\n",
    "    day = date[7:9]\n",
    "\n",
    "\n",
    "    if '01' <= month <='12' :\n",
    "        if month == '02' :\n",
    "            if '01' <= day <= '28' :\n",
    "                print(f'{year}/{month}/{day}')\n",
    "            else : \n",
    "                print(-1)\n",
    "        elif month == '04' or month == '06' or month == '09' or month == '11' :\n",
    "            if '01' <= day <= '30' :\n",
    "                print(f'{year}/{month}/{day}')\n",
    "            else :\n",
    "                print(-1)\n",
    "        else :\n",
    "            if '01' <= day <= '31' :\n",
    "                print(f'{year}/{month}/{day}')\n",
    "            else :\n",
    "                print(-1)\n",
    "    else :\n",
    "        print(-1)\n",
    "\n",
    "# 문자열은 비교연산자를 사용할 수 없음\n",
    "# day의 인덱스 범위도 오류\n",
    "\n"
   ]
  },
  {
   "cell_type": "code",
   "execution_count": 2,
   "metadata": {},
   "outputs": [],
   "source": [
    "T = int(input())\n",
    "for tc in range(1,T+1) :\n",
    "    date = list(map(int,input()))\n",
    "\n",
    "    year = date[0:4]\n",
    "    month = date[4:6]\n",
    "    day = date[6:8]\n",
    "\n",
    "    print(month)\n",
    "    print(day)\n",
    "    int_day = ''.join(day)\n",
    "    print(int_day)\n",
    "\n",
    "    if month == '02' :\n",
    "        if 1 <= int(day) <= 28 :\n",
    "            print(f'#{tc} {year}/{month}/{day}')\n",
    "        else : \n",
    "            print(f'#{tc} -1')\n",
    "    elif month == '04' or month == '06' or month == '09' or month == '11' :\n",
    "        if 1 <= int(day) <= 30 :\n",
    "            print(f'#{tc} {year}/{month}/{day}')1\n",
    "        else :\n",
    "            print(f'#{tc} -1')\n",
    "    elif month == '01' or month == '03' or month == '05' or month == '07' or month == '08' or month == '10' or month == '12' :\n",
    "        if 1 <= int(day) <= 31 :\n",
    "            print(f'#{tc} {year}/{month}/{day}')\n",
    "        else :\n",
    "            print(f'#{tc} -1')\n",
    "    else :\n",
    "        print(f'#{tc} -1')"
   ]
  },
  {
   "cell_type": "code",
   "execution_count": null,
   "metadata": {},
   "outputs": [],
   "source": [
    "#TEST\n",
    "\n",
    "T=1\n",
    "tc = 1\n",
    "date = '22220228'\n",
    "\n",
    "year = date[0:4]\n",
    "month = date[4:6]\n",
    "day = date[6:8]\n",
    "\n",
    "\n",
    "if month == '02' :\n",
    "    if 1 <= int(day) <= 28 :\n",
    "        print(f'#{tc} {year}/{month}/{day}')\n",
    "    else : \n",
    "        print(f'#{tc} -1')\n",
    "elif month == '04' or month == '06' or month == '09' or month == '11' :\n",
    "    if 1 <= int(day) <= 30 :\n",
    "        print(f'#{tc} {year}/{month}/{day}')\n",
    "    else :\n",
    "        print(f'#{tc} -1')\n",
    "elif month == '01' or month == '03' or month == '05' or month == '07' or month == '08' or month == '10' or month == '12' :\n",
    "    if 1 <= int(day) <= 31 :\n",
    "        print(f'#{tc} {year}/{month}/{day}')\n",
    "    else :\n",
    "        print(f'#{tc} -1')\n",
    "else :\n",
    "    print(f'#{tc} -1')\n",
    "\n"
   ]
  }
 ],
 "metadata": {
  "kernelspec": {
   "display_name": "Python 3",
   "language": "python",
   "name": "python3"
  },
  "language_info": {
   "codemirror_mode": {
    "name": "ipython",
    "version": 3
   },
   "file_extension": ".py",
   "mimetype": "text/x-python",
   "name": "python",
   "nbconvert_exporter": "python",
   "pygments_lexer": "ipython3",
   "version": "3.9.13"
  }
 },
 "nbformat": 4,
 "nbformat_minor": 2
}
