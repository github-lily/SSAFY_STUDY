{
 "cells": [
  {
   "cell_type": "markdown",
   "metadata": {},
   "source": [
    "# 알파벳을 숫자로 변환\n",
    "- 알파벳으로 이루어진 문자열을 각각 1부터 26까지의 숫자로 변환하여 출력"
   ]
  },
  {
   "cell_type": "code",
   "execution_count": 10,
   "metadata": {},
   "outputs": [
    {
     "name": "stdout",
     "output_type": "stream",
     "text": [
      "1 2 19 4\n"
     ]
    }
   ],
   "source": [
    "text = list(input())\n",
    "alpha = ['0','A','B','C','D','E','F','G','H','I','J','K','L','M','N','O','P','Q','R','S','T','U','V','W','X','Y','Z']\n",
    "num_lst = []\n",
    "\n",
    "for i in range(len(text)) :\n",
    "    num = str(alpha.index(text[i]))\n",
    "    num_lst.append(num)\n",
    "\n",
    "\n",
    "result = \" \".join(num_lst)\n",
    "\n",
    "print(result)\n",
    "\n",
    "# 찾으려는 값의 인덱스를 출력\n",
    "# ord : 무엇"
   ]
  },
  {
   "cell_type": "code",
   "execution_count": 5,
   "metadata": {},
   "outputs": [
    {
     "name": "stdout",
     "output_type": "stream",
     "text": [
      "1 2 3 4\n"
     ]
    }
   ],
   "source": [
    "text = list(input())\n",
    "alpha = ['0','A','B','C','D','E','F','G','H','I','J','K','L','M','N','O','P','Q','R','S','T','U','V','W','X','Y','Z']\n",
    "num_lst = []\n",
    "\n",
    "for i in range(len(text)) :\n",
    "    num = str(alpha.index(text[i]))\n",
    "    num_lst.append(num)\n",
    "\n",
    "\n",
    "print(*num_lst)\n"
   ]
  },
  {
   "cell_type": "code",
   "execution_count": 8,
   "metadata": {},
   "outputs": [
    {
     "name": "stdout",
     "output_type": "stream",
     "text": [
      "1 2 3\n",
      "1 , 2\n",
      "1,2\n"
     ]
    }
   ],
   "source": [
    "print(1,2,3)\n",
    "print(1,',',2)\n",
    "print('1,2')"
   ]
  },
  {
   "cell_type": "code",
   "execution_count": 3,
   "metadata": {},
   "outputs": [
    {
     "name": "stdout",
     "output_type": "stream",
     "text": [
      "['A', 'B', 'C', 'D', 'E', 'F', 'G', 'H', 'I', 'J', 'K', 'L', 'M', 'N', 'O', 'P', 'Q', 'R', 'S', 'T', 'U', 'V', 'W', 'X', 'Y', 'Z']\n"
     ]
    }
   ],
   "source": [
    "s = []\n",
    "for i in range(ord('A'), ord('Z')+1) :\n",
    "    s.append(chr(i))\n",
    "\n",
    "print(s)"
   ]
  },
  {
   "cell_type": "code",
   "execution_count": 4,
   "metadata": {},
   "outputs": [
    {
     "name": "stdout",
     "output_type": "stream",
     "text": [
      "1 3 4 \n"
     ]
    }
   ],
   "source": [
    "text = list(input())\n",
    "alpha = ['0','A','B','C','D','E','F','G','H','I','J','K','L','M','N','O','P','Q','R','S','T','U','V','W','X','Y','Z']\n",
    "num_lst = ''\n",
    "\n",
    "#카운팅정렬 [0]*26\n",
    "\n",
    "for i in range(len(text)) :\n",
    "    num = str(alpha.index(text[i]))\n",
    "    num_lst+=num+' '\n",
    "\n",
    "\n",
    "# result = \" \".join(num_lst)\n",
    "\n",
    "print(num_lst)"
   ]
  },
  {
   "cell_type": "code",
   "execution_count": null,
   "metadata": {},
   "outputs": [],
   "source": []
  }
 ],
 "metadata": {
  "kernelspec": {
   "display_name": "Python 3",
   "language": "python",
   "name": "python3"
  },
  "language_info": {
   "codemirror_mode": {
    "name": "ipython",
    "version": 3
   },
   "file_extension": ".py",
   "mimetype": "text/x-python",
   "name": "python",
   "nbconvert_exporter": "python",
   "pygments_lexer": "ipython3",
   "version": "3.9.13"
  }
 },
 "nbformat": 4,
 "nbformat_minor": 2
}
