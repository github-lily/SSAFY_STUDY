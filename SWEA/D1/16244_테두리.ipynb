{
 "cells": [
  {
   "cell_type": "code",
   "execution_count": null,
   "metadata": {},
   "outputs": [],
   "source": [
    "T = int(input())\n",
    "for tc in range(1,T+1) :\n",
    "    r1, c1, N = map(int,input().split())\n",
    "    arr = [[0] * 10 for _ in range(10)]\n",
    "\n",
    "    arr[r1][c1] = 1\n",
    "    dr = [0,1,0,-1]\n",
    "    dc = [1,0,-1,0]\n",
    "\n",
    "\n",
    "    for i in range(4) :\n",
    "        for j in range(1,N) :\n",
    "            nr = r1 + dr[i]\n",
    "            nc = c1 + dc[i]\n",
    "            arr[nr][nc] = 1\n",
    "            r1 = nr\n",
    "            c1 = nc\n",
    "\n",
    "    print(f'#{tc}')\n",
    "    for line in arr :\n",
    "        print(*line)\n"
   ]
  }
 ],
 "metadata": {
  "language_info": {
   "name": "python"
  }
 },
 "nbformat": 4,
 "nbformat_minor": 2
}
