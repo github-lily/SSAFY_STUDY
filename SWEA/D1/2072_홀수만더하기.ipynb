{
 "cells": [
  {
   "cell_type": "markdown",
   "metadata": {},
   "source": [
    "# 홀수만 더하기"
   ]
  },
  {
   "cell_type": "code",
   "execution_count": null,
   "metadata": {},
   "outputs": [],
   "source": [
    "T = int(input())\n",
    "for tc in range(1,T+1) :\n",
    "    arr = list(map(int,input().split()))\n",
    "\n",
    "    sum = 0\n",
    "    for i in range(len(arr)) :\n",
    "        if arr[i] % 2 == 1 : #홀수일 때\n",
    "           sum += arr[i]\n",
    "        \n",
    "    print(f'#{tc} {sum}')\n",
    "    "
   ]
  }
 ],
 "metadata": {
  "language_info": {
   "name": "python"
  }
 },
 "nbformat": 4,
 "nbformat_minor": 2
}
