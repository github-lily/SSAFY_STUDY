{
 "cells": [
  {
   "cell_type": "code",
   "execution_count": null,
   "metadata": {},
   "outputs": [],
   "source": [
    "from itertools import combinations, permutations, product\n",
    "\n",
    "\n",
    "N = 4\n",
    "\n",
    "combination = list(combinations(list(range(N)), 2))\n",
    "permutation = list(permutations(list(range(N)), 2))\n",
    "prod = list(product(list(range(N)), repeat=2))\n",
    "\n",
    "print(f'combinations {combination}')\n",
    "print(f'permutations {permutation}')\n",
    "print(f'prod {prod}')\n",
    "\n",
    "\n",
    "combi = combinations(list(range(N)), 2)\n",
    "\n",
    "for comb in combi:\n",
    "    print(comb)"
   ]
  }
 ],
 "metadata": {
  "language_info": {
   "name": "python"
  }
 },
 "nbformat": 4,
 "nbformat_minor": 2
}
