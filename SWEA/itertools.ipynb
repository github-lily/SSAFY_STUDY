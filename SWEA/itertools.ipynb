{
 "cells": [
  {
   "cell_type": "code",
   "execution_count": 1,
   "metadata": {},
   "outputs": [
    {
     "name": "stdout",
     "output_type": "stream",
     "text": [
      "combinations [(0, 1), (0, 2), (0, 3), (1, 2), (1, 3), (2, 3)]\n",
      "permutations [(0, 1), (0, 2), (0, 3), (1, 0), (1, 2), (1, 3), (2, 0), (2, 1), (2, 3), (3, 0), (3, 1), (3, 2)]\n",
      "prod [(0, 0), (0, 1), (0, 2), (0, 3), (1, 0), (1, 1), (1, 2), (1, 3), (2, 0), (2, 1), (2, 2), (2, 3), (3, 0), (3, 1), (3, 2), (3, 3)]\n",
      "(0, 1)\n",
      "(0, 2)\n",
      "(0, 3)\n",
      "(1, 2)\n",
      "(1, 3)\n",
      "(2, 3)\n"
     ]
    }
   ],
   "source": [
    "from itertools import combinations, permutations, product\n",
    "\n",
    "\n",
    "N = 4\n",
    "\n",
    "combination = list(combinations(list(range(N)), 2))\n",
    "permutation = list(permutations(list(range(N)), 2))\n",
    "prod = list(product(list(range(N)), repeat=2))\n",
    "\n",
    "print(f'combinations {combination}')\n",
    "print(f'permutations {permutation}')\n",
    "print(f'prod {prod}')\n",
    "\n",
    "\n",
    "combi = combinations(list(range(N)), 2)\n",
    "\n",
    "for comb in combi:\n",
    "    print(comb)"
   ]
  }
 ],
 "metadata": {
  "kernelspec": {
   "display_name": "Python 3",
   "language": "python",
   "name": "python3"
  },
  "language_info": {
   "codemirror_mode": {
    "name": "ipython",
    "version": 3
   },
   "file_extension": ".py",
   "mimetype": "text/x-python",
   "name": "python",
   "nbconvert_exporter": "python",
   "pygments_lexer": "ipython3",
   "version": "3.9.13"
  }
 },
 "nbformat": 4,
 "nbformat_minor": 2
}
