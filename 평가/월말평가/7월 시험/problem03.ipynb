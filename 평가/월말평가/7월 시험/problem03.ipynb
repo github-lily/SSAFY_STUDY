{
 "cells": [
  {
   "cell_type": "markdown",
   "metadata": {},
   "source": [
    "# 보물 개수 구하기"
   ]
  },
  {
   "cell_type": "code",
   "execution_count": null,
   "metadata": {},
   "outputs": [],
   "source": [
    "def count_treasures(treasure_list):\n",
    "    result = {}\n",
    "    for key in treasure_list:\n",
    "        result[key] = result.get(key,0) +1\n",
    "    return result\n",
    "\n",
    "print(count_treasures([\"gold\", \"silver\", \"diamond\", \"gold\", \"silver\"]))  # {'gold': 2, 'silver': 2, 'diamond': 1}\n",
    "print(count_treasures([\"pearl\"]))  # {'pearl': 1}"
   ]
  },
  {
   "cell_type": "code",
   "execution_count": null,
   "metadata": {},
   "outputs": [],
   "source": [
    "def count_treasures(treasure_list):\n",
    "    key_list = set(treasure_list)\n",
    "\n",
    "\n",
    "    result = {}\n",
    "    for key in key_list :\n",
    "        cnt = 0\n",
    "        for val in treasure_list :\n",
    "            if key == val :\n",
    "                cnt += 1\n",
    "        result[key] = cnt\n",
    "    return result\n",
    "\n",
    "\n",
    "print(count_treasures([\"gold\", \"silver\", \"diamond\", \"gold\", \"silver\"]))  # {'gold': 2, 'silver': 2, 'diamond': 1}\n",
    "print(count_treasures([\"pearl\"]))  # {'pearl': 1}"
   ]
  },
  {
   "cell_type": "code",
   "execution_count": null,
   "metadata": {},
   "outputs": [],
   "source": [
    "def count_treasures(treasure_list):\n",
    "    result = {}\n",
    "    for key in treasure_list :\n",
    "        if key in result :\n",
    "            result[key] = result[key] +1\n",
    "        else :\n",
    "            result[key] = 1\n",
    "    return result\n",
    "\n",
    "print(count_treasures([\"gold\", \"silver\", \"diamond\", \"gold\", \"silver\"]))  # {'gold': 2, 'silver': 2, 'diamond': 1}\n",
    "print(count_treasures([\"pearl\"]))  # {'pearl': 1}\n"
   ]
  },
  {
   "cell_type": "code",
   "execution_count": null,
   "metadata": {},
   "outputs": [],
   "source": [
    "def count_treasures(treasure_list):\n",
    "    treasure_dict = {}\n",
    "    for treasure in treasure_list :\n",
    "        treasure_dict[treasure] = treasure_list.count(treasure)\n",
    "    return treasure_dict\n",
    "\n",
    "\n",
    "print(count_treasures([\"gold\", \"silver\", \"diamond\", \"gold\", \"silver\"]))  # {'gold': 2, 'silver': 2, 'diamond': 1}\n",
    "print(count_treasures([\"pearl\"]))  # {'pearl': 1}\n"
   ]
  }
 ],
 "metadata": {
  "language_info": {
   "name": "python"
  }
 },
 "nbformat": 4,
 "nbformat_minor": 2
}
