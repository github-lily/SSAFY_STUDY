{
 "cells": [
  {
   "cell_type": "markdown",
   "metadata": {},
   "source": [
    "- 통로 0, 벽 1, 경비원 2\n",
    "- 경비원은 상하좌우로 거리제한없이 감시할 수 있다\n",
    "- 벽을 통과하거나 대각선은 감시할 수 없다.\n",
    "- 경비원이 감시할 수 없는 사각지대의 개수를 구하라"
   ]
  },
  {
   "cell_type": "code",
   "execution_count": null,
   "metadata": {},
   "outputs": [],
   "source": [
    "# 입력\n",
    "1\n",
    "5\n",
    "0 0 0 1 0\n",
    "0 1 0 1 0\n",
    "0 0 1 0 2\n",
    "1 0 0 1 0\n",
    "1 0 1 0 0\n",
    "\n",
    "# 출력\n",
    "11"
   ]
  },
  {
   "cell_type": "code",
   "execution_count": null,
   "metadata": {},
   "outputs": [],
   "source": [
    "T = int(input())\n",
    "for tc in range(1,T+1) :\n",
    "    N = int(input())\n",
    "    arr = [list(map(int,input().split())) for _ in range(N)]\n",
    "\n",
    "    # 델타 : 우하좌상\n",
    "    dr = [0,1,0,-1]\n",
    "    dc = [1,0,-1,0]\n",
    "\n",
    "    # 배열 전체 순회\n",
    "    for r in range(N) :\n",
    "        for c in range(N) :\n",
    "            if arr[r][c] == 2:      #경비원을 만나면\n",
    "                for i in range(4) :\n",
    "                    for j in range(1,N) :\n",
    "                        nr = r+dr[i]*j\n",
    "                        nc = c+dc[i]*j\n",
    "                        if 0 <= nr < N and 0 <= nc < N :        # 범위 내에 있다면\n",
    "                            if arr[nr][nc] == 1 :               # 벽이라면 중단하고 다른방향 탐색\n",
    "                                break\n",
    "                            else :                              # 벽이 아니라면 감시구역(3)으로 표시\n",
    "                                arr[nr][nc] = 3\n",
    "\n",
    "    cnt = 0\n",
    "    for row in range(N) :\n",
    "        for col in range(N) :\n",
    "            if arr[row][col] == 0 :\n",
    "                cnt += 1\n",
    "\n",
    "\n",
    "    print(f'#{tc} {cnt}')"
   ]
  }
 ],
 "metadata": {
  "language_info": {
   "name": "python"
  }
 },
 "nbformat": 4,
 "nbformat_minor": 2
}
