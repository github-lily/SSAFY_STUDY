{
 "cells": [
  {
   "cell_type": "markdown",
   "metadata": {},
   "source": [
    "- 1번부터 N번 까지 N 개의 LED 등\n",
    "- i번의 배수에 해당하는 LED 등의 상태가 바뀐다.\n",
    "- 원하는 패턴을 만들기 위한 최소 스위치 조작 횟수는?\n",
    "- 초기값 : 0\n",
    "- 0 : 꺼짐\n",
    "- 1 : 켜짐"
   ]
  },
  {
   "cell_type": "code",
   "execution_count": 1,
   "metadata": {},
   "outputs": [
    {
     "ename": "SyntaxError",
     "evalue": "invalid syntax (3929406525.py, line 1)",
     "output_type": "error",
     "traceback": [
      "\u001b[1;36m  Cell \u001b[1;32mIn[1], line 1\u001b[1;36m\u001b[0m\n\u001b[1;33m    - 1번부터 N번 까지 N 개의 LED 등\u001b[0m\n\u001b[1;37m       ^\u001b[0m\n\u001b[1;31mSyntaxError\u001b[0m\u001b[1;31m:\u001b[0m invalid syntax\n"
     ]
    }
   ],
   "source": [
    "# 인덱스 주의\n",
    "\n",
    "T = int(input())\n",
    "for tc in range(1,T+1) :\n",
    "    N = int(input())\n",
    "    before = [0] * (N+1)\n",
    "    after = [0]+list(map(int,input().split()))\n",
    "\n",
    "    cnt = 0\n",
    "\n",
    "    for i in range(1,N+1) :     #1번부터니까\n",
    "        if before[i] != after[i] :\n",
    "            before[i] = after[i]\n",
    "            cnt += 1\n",
    "            for j in range(2,N+1) :\n",
    "                if i*j > N :\n",
    "                    break\n",
    "                before[i*j] = 1-before[i*j]\n",
    "\n",
    "    print(f'#{tc} {cnt}')\n"
   ]
  }
 ],
 "metadata": {
  "kernelspec": {
   "display_name": "Python 3",
   "language": "python",
   "name": "python3"
  },
  "language_info": {
   "codemirror_mode": {
    "name": "ipython",
    "version": 3
   },
   "file_extension": ".py",
   "mimetype": "text/x-python",
   "name": "python",
   "nbconvert_exporter": "python",
   "pygments_lexer": "ipython3",
   "version": "3.9.13"
  }
 },
 "nbformat": 4,
 "nbformat_minor": 2
}
