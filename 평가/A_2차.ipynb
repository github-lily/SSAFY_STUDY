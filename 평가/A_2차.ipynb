{
 "cells": [
  {
   "cell_type": "code",
   "execution_count": null,
   "metadata": {},
   "outputs": [],
   "source": [
    "https://swexpertacademy.com/main/talk/solvingClub/problemView.do?solveclubId=AZCfGcqKynYDFAVs&contestProbId=AWXQsLWKd5cDFAUo&probBoxId=AZHQ4xPa4-ADFAQP+&type=PROBLEM&problemBoxTitle=0910_%EA%B7%B8%EB%9E%98%ED%94%84&problemBoxCnt=5\n",
    "\n",
    "선수과목..\n"
   ]
  }
 ],
 "metadata": {
  "language_info": {
   "name": "python"
  }
 },
 "nbformat": 4,
 "nbformat_minor": 2
}
