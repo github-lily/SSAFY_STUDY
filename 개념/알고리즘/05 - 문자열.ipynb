{
 "cells": [
  {
   "cell_type": "markdown",
   "metadata": {},
   "source": [
    "# 문자열\n",
    "\n",
    "### 컴퓨터에서의 문자 표현\n",
    "- 글자 A를 메모리에 저장하는 방법에 대해서 생각해보자\n",
    "- 물론 칼로 A라는 글자를 새기는 방식은 아닐 것이다. 메모리는 숫자만을 저장할 수 있기 때문에 A라는 글자의 모양 그대로 비트맵으로 저장하는 방법을 사용하지 않는 한(이 방법은 메모리 낭비가 심하다) 각 문자에 대해서 대응되는 숫자를 정해 놓고 이것을 메모리에 저장하는 방법이 사용될 것이다.\n",
    "- 영어가 대소문자 합쳐서 52자이므로 6(64)비트면 모두 표현할 수 있다. 이를 코드체계라고 한다\n",
    "  - 000000 -> 'a',000001 ->'b'\n",
    "- 정보를 주고받는 과정에서 해석에 오류가 생겨 혼동을 막고자 ASCII(American Standard Code for Information Interchange)라는 문자 인코딩 표준이 제정되었다.\n",
    "- ASCII는 7-bit 인코딩으로 128문자를 표현하며 33개의 출력 불가능한 제어 문자들과 공백을 비롯한 95개의 출력 가능한 문자들로 이루어져 있다.\n",
    "- 오늘날 대부분의 컴퓨터는 문자를 읽고 쓰는데 ASCII 형식을 사용한다\n",
    "- 확장 아스키\n",
    "  - 표준 문자 이외의 악센트 문자, 도형 문자, 특수 문자, 특수 기호 등 부가적인 문자를 128개 추가할 수 있게 하는 부호\n",
    "  - 표준 아스키는 7bit를 사용하여 문자를 표현하는데 비해 확장 아스키는 1Byte내의 8-bit를 모두 사용함으로써 추가적인 문자를 표현할 수 있음\n",
    "  - 비트 : 숫자를 담는 최소 단위, 바이트 : 주소를 담는 최소 단위\n",
    "  - 한번에 처리할 수 있는 주소 단위를 기준으로 32, 64bit로 나뉨. 32비트면 2의 32승 개\n",
    "  - 컴퓨터 생산자와 소프트웨어 개발자가 여러 가지 다양한 문자에 할당할 수 있도록 하고 있다. 이렇게 할당된 확장 부호는 표준 아스키와 같이 서로 다른 프로그램이나 컴퓨터 사이에 교환되지 못한다.\n",
    "  - 그러므로 표준 아스키는 마이크로컴퓨터 하드웨어 및 소프트웨어 사이에서 세계적으로 통용되는 데 비해, 확장 아스키는 프로그램이나 컴퓨터 또는 프린터가 그것을 해독할 수 있도록 설계되어 있어야만 올바로 해독될 수 있다.\n",
    "- 그런데 컴퓨터가 발전하면서 미국 뿐 아니라 각 나라에서도 "
   ]
  },
  {
   "cell_type": "markdown",
   "metadata": {},
   "source": [
    "- s1 = list(input())\n",
    "- s2 = input()\n",
    "- 하나는 리스트, 하나는 스트링으로 받는 것.\n",
    "- 둘 다 인덱스는 사용할 수 있지만, 스트링은 인덱싱을 사용해서 값을 바꾸는건 오류가 뜸. 전체 값의 재할당은 가능\n",
    "\n",
    "### strlen()\n",
    "\n",
    "\\0 or "
   ]
  },
  {
   "cell_type": "code",
   "execution_count": null,
   "metadata": {},
   "outputs": [
    {
     "name": "stdout",
     "output_type": "stream",
     "text": [
      "['1', '2', '3', '4', '5']\n",
      "12345\n",
      "4\n",
      "4\n",
      "['1', '2', 100, '4', '5']\n",
      "678910\n"
     ]
    }
   ],
   "source": [
    "s1 = list(input())\n",
    "s2 = input()\n",
    "\n",
    "print(s1)\n",
    "print(s2)\n",
    "print(s1[3])\n",
    "print(s2[3])\n",
    "s1[2] = 100\n",
    "print(s1)\n",
    "# s2[3] = 100\n",
    "s2 = 678910\n",
    "print(s2)"
   ]
  },
  {
   "cell_type": "code",
   "execution_count": 9,
   "metadata": {},
   "outputs": [
    {
     "name": "stdout",
     "output_type": "stream",
     "text": [
      "3\n"
     ]
    }
   ],
   "source": [
    "def strlen(a) :\n",
    "    idx = 0\n",
    "    while a[idx] != '\\0' :\n",
    "        idx += 1\n",
    "    return idx\n",
    "    \n",
    "a = ['a','b','c','\\0']\n",
    "print(strlen(a))"
   ]
  },
  {
   "cell_type": "markdown",
   "metadata": {},
   "source": [
    "# 문자열 비교\n",
    "- c언어 : `strcmp()` 함수를 제공한다. (참고)\n",
    "- JAVA : `equals()` 메소드를 제공한다.\n",
    "  - 문자열 비교에서 `==` 연산은 메모리 참조가 같은지를 묻는 것 (주의, 참고)\n",
    "- 파이썬에서는 `==` 연산자와 `is` 연산자를 제공한다.\n",
    "  - == 연산자는 내부적으로 특수메서드 `_eq_()`를 호출\n",
    "  - `==` 내용 비교\n",
    "- 문자열 숫자를 정수로 전환하기\n",
    "  - int('123'), float('3.14'), str(123)"
   ]
  },
  {
   "cell_type": "code",
   "execution_count": 3,
   "metadata": {},
   "outputs": [
    {
     "name": "stdout",
     "output_type": "stream",
     "text": [
      "True\n",
      "True\n",
      "abc\n",
      "True\n",
      "False\n",
      "True\n"
     ]
    }
   ],
   "source": [
    "#[참고]\n",
    "\n",
    "s1 = 'abc'\n",
    "s2 = 'abc'\n",
    "s3 = 'def'\n",
    "s4 = s1\n",
    "s5 = s1[:2] + 'c'\n",
    "\n",
    "print(s1 ==s2)\n",
    "\n",
    "l1 = [1,2,3]\n",
    "l2 = [1,2,3]\n",
    "\n",
    "print(l1 == l2)\n",
    "\n",
    "print(s5)\n",
    "print(s2 == s5)\n",
    "print(s2 is s5)     # 모양은 같아도 참조 위치는 다름!\n",
    "print(s1 is s2)"
   ]
  },
  {
   "cell_type": "code",
   "execution_count": null,
   "metadata": {},
   "outputs": [],
   "source": [
    "s1 = 'A'\n",
    "print(ord('A'))\n",
    "print(ord(s1))  # 글자의 아스키 코드를 리턴해주는 함수\n",
    "\n",
    "print(chr(65)) #에스키 코드에 해당하는 문자를 리턴해줌\n",
    "\n",
    "\n"
   ]
  },
  {
   "cell_type": "markdown",
   "metadata": {},
   "source": [
    "# 문자열 뒤집기\n",
    "\n",
    "\n",
    "```python\n",
    "#방법 1\n",
    "arr = 'algorithm'     #immutable\n",
    "arr_rev = ''\n",
    "for i in range(len(arr)-1,-1,-1):\n",
    "  arr_rev += arr[i]\n",
    "print(arr_rev)\n",
    "print(arr)\n",
    "```\n",
    "\n",
    "\n",
    "```python\n",
    "#방법2\n",
    "print(arr[::-1])\n",
    "```\n",
    "\n",
    "\n",
    "```python\n",
    "#방법3\n",
    "print(''.join(reversed(arr)))\n",
    "```\n",
    "\n",
    "\n",
    "```python\n",
    "#방법4\n",
    "#첫글자와 끝글자를 교환, 반복 \n",
    "#교환 횟수는 n/2 (홀수일 때도 가운데는 변동 없으니 홀수 짝수 상관 없음)\n",
    "arr = 'algorithm'\n",
    "arr = list(arr)       #['a', 'l', 'g', 'o', 'r', 'i', 't', 'h', 'm']\n",
    "n = len(arr)\n",
    "for i in range(n//2) :\n",
    "  arr[i], arr[n-1-i] = arr[n-1-i], arr[i]\n",
    "  #arr[i] <--> arr[n-1-i]\n",
    "print(arr)\n",
    "```\n"
   ]
  },
  {
   "cell_type": "code",
   "execution_count": 10,
   "metadata": {},
   "outputs": [
    {
     "name": "stdout",
     "output_type": "stream",
     "text": [
      "mhtirogla\n",
      "algorithm\n",
      "mhtirogla\n",
      "<reversed object at 0x0000027867F89D90>\n",
      "mhtirogla\n"
     ]
    }
   ],
   "source": [
    "# 문자열 뒤집기\n",
    "\n",
    "#방법 1\n",
    "arr = 'algorithm'     #immutable\n",
    "arr_rev = ''\n",
    "for i in range(len(arr)-1,-1,-1):\n",
    "  arr_rev += arr[i]\n",
    "print(arr_rev)\n",
    "print(arr)\n",
    "\n",
    "print(arr[::-1])\n",
    "\n",
    "print(reversed(arr))\n",
    "print(''.join(reversed(arr)))\n"
   ]
  },
  {
   "cell_type": "code",
   "execution_count": 3,
   "metadata": {},
   "outputs": [
    {
     "name": "stdout",
     "output_type": "stream",
     "text": [
      "['a', 'l', 'g', 'o', 'r', 'i', 't', 'h', 'm']\n"
     ]
    }
   ],
   "source": [
    "arr = 'algorithm' \n",
    "arr = list(arr)\n",
    "print(arr)"
   ]
  },
  {
   "cell_type": "markdown",
   "metadata": {},
   "source": [
    "### 회문 : 뒤집어서 읽어도 원래 내용과 똑같이 읽히는 단어나 문장 \n",
    "- 소주만병만주소, 기러기, 우영우, 역삼역\n",
    "- 문자열 뒤집기를 회문에 응용할 수 있음 (뒤집기처럼 인덱스가 일치하면 회문)"
   ]
  },
  {
   "cell_type": "code",
   "execution_count": null,
   "metadata": {},
   "outputs": [],
   "source": [
    "#방법4\n",
    "#첫글자와 끝글자를 교환, 반복 \n",
    "#교환 횟수는 n/2 (홀수일 때도 가운데는 변동 없으니 홀수 짝수 상관 없음)\n",
    "arr = 'algorithm'\n",
    "arr = list(arr)       #['a', 'l', 'g', 'o', 'r', 'i', 't', 'h', 'm']\n",
    "n = len(arr)\n",
    "for i in range(n//2) :\n",
    "  arr[i], arr[n-1-i] = arr[n-1-i], arr[i]\n",
    "  #arr[i] <--> arr[n-1-i]\n",
    "print(arr)"
   ]
  }
 ],
 "metadata": {
  "kernelspec": {
   "display_name": "Python 3",
   "language": "python",
   "name": "python3"
  },
  "language_info": {
   "codemirror_mode": {
    "name": "ipython",
    "version": 3
   },
   "file_extension": ".py",
   "mimetype": "text/x-python",
   "name": "python",
   "nbconvert_exporter": "python",
   "pygments_lexer": "ipython3",
   "version": "3.9.13"
  }
 },
 "nbformat": 4,
 "nbformat_minor": 2
}
