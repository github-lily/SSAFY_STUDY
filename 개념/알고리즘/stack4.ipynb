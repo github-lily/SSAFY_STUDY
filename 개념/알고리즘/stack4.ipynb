{
 "cells": [
  {
   "cell_type": "markdown",
   "metadata": {},
   "source": [
    "# 부분집합\n"
   ]
  },
  {
   "cell_type": "code",
   "execution_count": null,
   "metadata": {},
   "outputs": [],
   "source": [
    "def backtrack(a,k,n) :\n",
    "    c = [0] * MAXCANDIDATES\n",
    "\n",
    "    if k == n :\n",
    "        process_solution"
   ]
  }
 ],
 "metadata": {
  "language_info": {
   "name": "python"
  }
 },
 "nbformat": 4,
 "nbformat_minor": 2
}
