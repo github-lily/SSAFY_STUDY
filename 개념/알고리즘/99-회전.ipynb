{
 "cells": [
  {
   "cell_type": "code",
   "execution_count": 11,
   "metadata": {},
   "outputs": [
    {
     "name": "stdout",
     "output_type": "stream",
     "text": [
      "[[9, 5, 1], [10, 6, 2], [11, 7, 3], [12, 8, 4]]\n"
     ]
    }
   ],
   "source": [
    "arr = [[1, 2, 3, 4], [5, 6, 7, 8], [9, 10, 11, 12]]\n",
    "\n",
    "## zip\n",
    "# 시계방향 90\n",
    "arr_90 = list(map(list,zip(*arr[::-1])))\n",
    "print(arr_90)"
   ]
  },
  {
   "cell_type": "code",
   "execution_count": 14,
   "metadata": {},
   "outputs": [
    {
     "name": "stdout",
     "output_type": "stream",
     "text": [
      "[[[12, 11, 10, 9], [8, 7, 6, 5], [4, 3, 2, 1]]]\n"
     ]
    }
   ],
   "source": [
    "# 시계방향 180\n",
    "arr_180 = [[a[::-1] for a in arr[::-1]]]\n",
    "print(arr_180)"
   ]
  },
  {
   "cell_type": "code",
   "execution_count": 18,
   "metadata": {},
   "outputs": [
    {
     "name": "stdout",
     "output_type": "stream",
     "text": [
      "[[1, 5, 9], [2, 6, 10], [3, 7, 11], [4, 8, 12]]\n",
      "[[1, 5, 9], [2, 6, 10], [3, 7, 11], [4, 8, 12]]\n"
     ]
    }
   ],
   "source": [
    "# 시계방향 270\n",
    "arr_270 = [x[::-1] for x in list(map(list,zip(*arr[::-1])))]\n",
    "arr_270_2 = [x[::-1] for x in arr_90]\n",
    "print(arr_270)\n",
    "print(arr_270_2)"
   ]
  }
 ],
 "metadata": {
  "kernelspec": {
   "display_name": "Python 3",
   "language": "python",
   "name": "python3"
  },
  "language_info": {
   "codemirror_mode": {
    "name": "ipython",
    "version": 3
   },
   "file_extension": ".py",
   "mimetype": "text/x-python",
   "name": "python",
   "nbconvert_exporter": "python",
   "pygments_lexer": "ipython3",
   "version": "3.9.13"
  }
 },
 "nbformat": 4,
 "nbformat_minor": 2
}
