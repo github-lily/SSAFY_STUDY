{
 "cells": [
  {
   "cell_type": "markdown",
   "metadata": {},
   "source": [
    "- step over : 함수는 건너뛰고 확인\n",
    "- step into : 함수 안으로 들어감(패키지도 따라들어감)\n",
    "- Variables에서 +버튼을 눌러 내가 보고싶은 변수(cnt, arr[0] 등)를 추가할 수 있음\n",
    "- step into my code : 내가 작성한 함수만 보고싶음 (패키지X)\n",
    "- step out : 함수 밖으로 나옴\n",
    "- 주의 : 디버그는 실행 흐름의 앞으로만 갈 수 있음 뒤로 백 안됨! \n",
    "- Run to Cursor : 커서가 있는 곳으로 이동\n",
    "- 왼쪽 끝에 녹색 Resume Program : 다음 브레이크 포인트로 이동\n",
    "- 브레이크 포인트를 찍고 마우스 우클릭을 하면 조건을 걸 수 있음\n",
    "  - ex : `i==7 and j==8 ` 이때 멈춤!"
   ]
  }
 ],
 "metadata": {
  "language_info": {
   "name": "python"
  }
 },
 "nbformat": 4,
 "nbformat_minor": 2
}
