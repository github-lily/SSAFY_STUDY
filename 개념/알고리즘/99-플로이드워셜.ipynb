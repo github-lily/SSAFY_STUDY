{
 "cells": [
  {
   "cell_type": "markdown",
   "metadata": {},
   "source": [
    "## 플로이드 워셜 알고리즘\n",
    "- 모든 노드에서 다른 모든 노드까지의 최단 경로를 모두 계산\n",
    "- 단계별로 거쳐 가는 노드를 기준으로 알고리즘을 수행\n",
    "    - 즉, 각 단계마다 특정한 노드 k를 거쳐가는 경우를 확인함\n",
    "    - a에서 b로 가는 최단 거리보다 a에서 k를 거쳐 b로 가는 거리가 더 짧은지 검사한다.\n",
    "    - D[a][b] = min(D[a][b], D[a][k]+D[k][b])\n",
    "- 다익스트라와 달리 매 단계마다 방문하지 않은 노드 중에 최단 거리를 찾는 과정이 필요하지 않음\n",
    "- 2차원 테이블에 최단 거리 정보를 저장\n",
    "- 다이나믹 프로그래밍 유형에 속함"
   ]
  },
  {
   "cell_type": "code",
   "execution_count": null,
   "metadata": {},
   "outputs": [],
   "source": [
    "INF = int(1e9)      # 무한을 의미하는 값으로 10억을 설정\n",
    "\n",
    "# 노드의 개수, 간선의 개수 입력 받음\n",
    "N = int(input())\n",
    "M = int(input())\n",
    "\n",
    "# 2차원 리스트(그래프 표현)를 만들고, 모든 값을 무한으로 초기화\n",
    "cost = [[INF] * (N+1) for _ in range(N+1)]\n",
    "\n",
    "# 자기 자신에서 자기 자신으로 이동하는 비용은 0으로 초기화\n",
    "for a in range(1,N+1) :\n",
    "    for b in range(1,N+1) :\n",
    "        if a == b :\n",
    "            cost[a][b] = 0\n",
    "\n",
    "# 각 간선에 대한 정보를 입력 받아, 그 값으로 초기화\n",
    "for _ in range(M) :\n",
    "    # a에서 b로 가는 비용은 c\n",
    "    a,b,c = map(int,input().split())\n",
    "    cost[a][b] = c\n",
    "\n",
    "# 점화식에 따라 플로이드 워셜 알고리즘을 수행\n",
    "# a 출발, b 도착\n",
    "for k in range(1,N+1) :\n",
    "    for a in range(1,N+1) :\n",
    "        for b in range(1,N+1) :\n",
    "            cost[a][b] = min(cost[a][b], cost[a][k]+cost[k][b])\n",
    "\n",
    "\n",
    "# 수행된 결과를 출력\n",
    "for a in range(1,N+1) :\n",
    "    for b in range(1,N+1) :\n",
    "        # 도달할 수 없는 경우, 무한(INFINITY)이라고 출력\n",
    "        if cost[a][b] == 1e9 :\n",
    "            print(\"INFINITY\", end=\"\")\n",
    "        # 도달할 수 있는 경우 거리를 출력\n",
    "        else :\n",
    "            print(cost[a][b], end=\" \")\n",
    "    print()"
   ]
  },
  {
   "cell_type": "code",
   "execution_count": null,
   "metadata": {},
   "outputs": [],
   "source": [
    "# 관련 문제 : 백준2660 회장뽑기"
   ]
  }
 ],
 "metadata": {
  "language_info": {
   "name": "python"
  }
 },
 "nbformat": 4,
 "nbformat_minor": 2
}
