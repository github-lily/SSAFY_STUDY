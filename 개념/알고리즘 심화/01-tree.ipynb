{
 "cells": [
  {
   "cell_type": "code",
   "execution_count": null,
   "metadata": {},
   "outputs": [],
   "source": []
  },
  {
   "cell_type": "code",
   "execution_count": null,
   "metadata": {},
   "outputs": [],
   "source": [
    "# 개념 연습(교수님 코드)\n",
    "\n",
    "'''\n",
    "13\n",
    "1 2 1 3 2 4 3 5 3 6 4 7 5 8 5 9 6 10 6 11 7 12 11 13\n",
    "'''\n",
    "\n",
    "def pre_order(T):\n",
    "    if T:\n",
    "        print(T, end = ' ')\n",
    "        pre_order(left[T])\n",
    "        pre_order(right[T])\n",
    "\n",
    "\n",
    "N = int(input())        # 1번부터 N번까지인 정점\n",
    "E = N-1\n",
    "arr = list(map(int, input().split()))\n",
    "left = [0]*(N+1)        # 부모를 인덱스로 왼쪽자식번호 저장\n",
    "right = [0]*(N+1)       #\n",
    "par = [0]*(N+1)         # 자식을 인덱스로 부모 저장\n",
    "\n",
    "for i in range(E):\n",
    "    p, c = arr[i*2], arr[i*2+1]\n",
    "# for i in range(0,E*2, 2):\n",
    "#         p, c = arr[i], arr[i + 1]\n",
    "    if left[p]==0:          # 왼쪽자식이 없으면\n",
    "        left[p] = c\n",
    "    else:\n",
    "        right[p] = c\n",
    "    par[c] = p\n",
    "\n",
    "c = N\n",
    "while par[c]!=0:        # 부모가 있으면\n",
    "    c = par[c]          # 부모를 새로운 자식으로 두고\n",
    "root = c                # 더이상 부모가 없으면 root\n",
    "print(root)\n",
    "pre_order(root)"
   ]
  }
 ],
 "metadata": {
  "language_info": {
   "name": "python"
  }
 },
 "nbformat": 4,
 "nbformat_minor": 2
}
