{
 "cells": [
  {
   "cell_type": "markdown",
   "metadata": {},
   "source": [
    "# 그룹 나누기"
   ]
  },
  {
   "cell_type": "code",
   "execution_count": 2,
   "metadata": {},
   "outputs": [
    {
     "name": "stdout",
     "output_type": "stream",
     "text": [
      "['A', 'B', 'C', 'D'] []\n",
      "['A', 'B', 'C'] ['D']\n",
      "['A', 'B', 'D'] ['C']\n",
      "['A', 'B'] ['C', 'D']\n",
      "['A', 'C', 'D'] ['B']\n",
      "['A', 'C'] ['B', 'D']\n",
      "['A', 'D'] ['B', 'C']\n",
      "['A'] ['B', 'C', 'D']\n",
      "['B', 'C', 'D'] ['A']\n",
      "['B', 'C'] ['A', 'D']\n",
      "['B', 'D'] ['A', 'C']\n",
      "['B'] ['A', 'C', 'D']\n",
      "['C', 'D'] ['A', 'B']\n",
      "['C'] ['A', 'B', 'D']\n",
      "['D'] ['A', 'B', 'C']\n",
      "[] ['A', 'B', 'C', 'D']\n"
     ]
    }
   ],
   "source": [
    "# 반복없이 순열 2개 만들기\n",
    "\n",
    "arr = 'ABCD'\n",
    "N = len(arr)\n",
    "\n",
    "def backtrack(k) :\n",
    "    if k == N :\n",
    "        # if not B : return   #B가 비어있으면 생략\n",
    "        print(A,B)\n",
    "    else :\n",
    "        # A에 arr[k]에 포함\n",
    "        A.append(arr[k])\n",
    "        backtrack(k+1)\n",
    "        A.pop()\n",
    "\n",
    "\n",
    "        # B에 arr[k]에 포함\n",
    "        B.append(arr[k])\n",
    "        backtrack(k+1)\n",
    "        B.pop()\n",
    "\n",
    "\n",
    "A,B = [],[]\n",
    "backtrack(0)\n",
    "\n",
    "## 이렇게 하면 중복 없앨 수 있음\n",
    "## A가 앞에 그룹에 들어가나 뒤에 그룹에 들어가나 상관 없음\n",
    "# A,B = [arr[0]],[]\n",
    "# backtrack(1)\n"
   ]
  },
  {
   "cell_type": "code",
   "execution_count": 8,
   "metadata": {},
   "outputs": [
    {
     "name": "stdout",
     "output_type": "stream",
     "text": [
      "['A', 'B'] ['C', 'D']\n",
      "['A', 'C'] ['B', 'D']\n",
      "['A', 'D'] ['B', 'C']\n",
      "['B', 'C'] ['A', 'D']\n",
      "['B', 'D'] ['A', 'C']\n",
      "['C', 'D'] ['A', 'B']\n"
     ]
    }
   ],
   "source": [
    "# 같은 개수로 만들기\n",
    "\n",
    "arr = 'ABCD'\n",
    "N = len(arr)\n",
    "\n",
    "def backtrack(k) :\n",
    "    if k == N :\n",
    "        if len(A) == N//2 and len(B) == N//2 :\n",
    "            print(A,B)  \n",
    "    else :\n",
    "        # A에 arr[k]에 포함\n",
    "        A.append(arr[k])\n",
    "        backtrack(k+1)\n",
    "        A.pop()\n",
    "\n",
    "\n",
    "        # B에 arr[k]에 포함\n",
    "        B.append(arr[k])\n",
    "        backtrack(k+1)\n",
    "        B.pop()\n",
    "\n",
    "\n",
    "A,B = [],[]\n",
    "backtrack(0)\n",
    "\n",
    "## 이렇게 하면 중복 없앨 수 있음\n",
    "## A가 앞에 그룹에 들어가나 뒤에 그룹에 들어가나 상관 없음\n",
    "# A,B = [arr[0]],[]\n",
    "# backtrack(1)\n"
   ]
  },
  {
   "cell_type": "code",
   "execution_count": null,
   "metadata": {},
   "outputs": [],
   "source": [
    "N = 6\n",
    "arr = [i for i in range(N)]\n",
    "\n",
    "# 2그룹으로 나누고 싶다\n",
    "def backtrack(k):\n",
    "    if len(A) == N//2:\n",
    "        print(A, B + arr[k:])\n",
    "        return\n",
    "    if len(B) == N//2:\n",
    "        print(A + arr[k:], B)\n",
    "        return\n",
    "\n",
    "    A.append(arr[k])\n",
    "    backtrack(k + 1)\n",
    "    A.pop()\n",
    "\n",
    "    B.append(arr[k])\n",
    "    backtrack(k + 1)\n",
    "    B.pop()\n",
    "\n",
    "A, B = [arr[0]], []\n",
    "backtrack(1)"
   ]
  }
 ],
 "metadata": {
  "kernelspec": {
   "display_name": "Python 3",
   "language": "python",
   "name": "python3"
  },
  "language_info": {
   "codemirror_mode": {
    "name": "ipython",
    "version": 3
   },
   "file_extension": ".py",
   "mimetype": "text/x-python",
   "name": "python",
   "nbconvert_exporter": "python",
   "pygments_lexer": "ipython3",
   "version": "3.9.13"
  }
 },
 "nbformat": 4,
 "nbformat_minor": 2
}
