{
 "cells": [
  {
   "cell_type": "markdown",
   "metadata": {},
   "source": [
    "# SW 문제 해결 역량이란 무엇인가?\n",
    "\n",
    "- 프로그래머가 사용하는 언어나 라이브러리, 자료구조, 알고리즘에 대한 지식을 적재적소에 퍼즐을 배치하듯 이들을 연결하여 큰 그림을 만드는 능력이라 할 수 있다\n",
    "- 문제 해결 역량을 향상시키기 위해서 훈련이 필요하다"
   ]
  },
  {
   "cell_type": "markdown",
   "metadata": {},
   "source": [
    "# 복잡도 분석\n",
    "### 알고리즘\n",
    "- 유한한 단계를 통해 문제를 해결하기 위한 절차나 방법\n"
   ]
  },
  {
   "cell_type": "markdown",
   "metadata": {},
   "source": [
    "# 교수님"
   ]
  },
  {
   "cell_type": "code",
   "execution_count": 8,
   "metadata": {},
   "outputs": [
    {
     "name": "stdout",
     "output_type": "stream",
     "text": [
      "46\n",
      "101110\n",
      "0101110\n",
      "46\n"
     ]
    }
   ],
   "source": [
    "num = 46\n",
    "\n",
    "# 정수형 자료 => 10진수 문자열\n",
    "# %, // 연산을 이용\n",
    "\n",
    "num_str = ''\n",
    "while num :\n",
    "    num_str = str(num%10) + num_str\n",
    "    num //= 10\n",
    "print(num_str)\n",
    "\n",
    "\n",
    "# 정수형 자료 => 2진수 문자열로 변환\n",
    "\n",
    "num = 46\n",
    "\n",
    "num_str = ''\n",
    "while num :\n",
    "    num_str = str(num%2) + num_str\n",
    "    num //= 2\n",
    "print(num_str)\n",
    "\n",
    "\n",
    "# 변환해야할 자리수가 정해졌을 때\n",
    "# 주어지는 정수값을 7자리 2진수 문자열로 변환\n",
    "num = 46\n",
    "num_str = ''\n",
    "for i in range(6,-1,-1) :\n",
    "    if num & (1<<i) :\n",
    "        num_str += '1'\n",
    "    else :\n",
    "        num_str += '0'\n",
    "print(num_str)\n",
    "\n",
    "\n",
    "# 2진수 문자열 -> 정수형 자료\n",
    "# print(int(num_str,2))\n",
    "lst = [1,0,1,1,1,0]\n",
    "val = 0\n",
    "for n in lst :\n",
    "    val = val * 2 + n\n",
    "print(val)\n"
   ]
  },
  {
   "cell_type": "code",
   "execution_count": 17,
   "metadata": {},
   "outputs": [
    {
     "data": {
      "text/plain": [
       "42"
      ]
     },
     "execution_count": 17,
     "metadata": {},
     "output_type": "execute_result"
    }
   ],
   "source": [
    ">>> int('0b101010', 2)\n",
    "42\n",
    ">>> int('0o52', 8)\n",
    "42\n",
    ">>> int('0x2a', 16)\n",
    "42"
   ]
  },
  {
   "cell_type": "code",
   "execution_count": 16,
   "metadata": {},
   "outputs": [
    {
     "name": "stdout",
     "output_type": "stream",
     "text": [
      "0\n",
      "120\n",
      "12\n",
      "7\n",
      "76\n",
      "24\n",
      "60\n",
      "121\n",
      "124\n",
      "103\n"
     ]
    }
   ],
   "source": [
    "# 연습문제 1\n",
    "# 0과 1로 이루어진 1차 배열에서 7개씩 수를 묶어 10진수로 출력하기\n",
    "\n",
    "arr = '0000000111100000011000000111100110000110000111100111100111111001100111'\n",
    "\n",
    "for s in range(0, len(arr), 7) :\n",
    "    # s => 7자리 문자열의 모든 시작 위치\n",
    "    print(int(arr[s : s+7], 2), end = \"\")\n",
    "    # int(숫자) : 10진법 / int(숫자,2) : 이진법 문자를 숫자로 변환해주는 것\n",
    "    print()\n",
    "\n",
    "    # # range(s,s+7), arr[s :s+7]\n",
    "    # num = 0\n",
    "    # for i in range(s, s+7) :\n",
    "    #     print(arr[i], end = \"\")\n",
    "    #     if arr[i] == '1' :\n",
    "    #         num = num *2 + 1\n",
    "    # print(num, int(arr[s : s+7],2))\n",
    "# for i in \n",
    "# for n in lst :\n",
    "#     val = val *2 + n\n",
    "# print(val)\n",
    "\n"
   ]
  },
  {
   "cell_type": "code",
   "execution_count": 18,
   "metadata": {},
   "outputs": [
    {
     "name": "stdout",
     "output_type": "stream",
     "text": [
      "0 120 12 7 76 24 60 121 124 103 \n"
     ]
    }
   ],
   "source": [
    "# 연습문제 1\n",
    "# 0과 1로 이루어진 1차 배열에서 7개씩 수를 묶어 10진수로 출력하기\n",
    "\n",
    "arr = '0000000111100000011000000111100110000110000111100111100111111001100111'\n",
    "\n",
    "for s in range(0,len(arr),7) :\n",
    "    num = 0\n",
    "    \n",
    "    for i in range(s,s+7) :\n",
    "        num = num << 1       # = num * 2\n",
    "        if arr[i] == '1' :\n",
    "            num |= 1        \n",
    "    print(num, end = \" \")\n",
    "print()\n"
   ]
  },
  {
   "cell_type": "code",
   "execution_count": null,
   "metadata": {},
   "outputs": [],
   "source": [
    "# 16진수 문자열 => 2진수 문자열 변환\n",
    "hex_str = '47FE'\n",
    "\n",
    "# 16진수를 정수로 변환\n",
    "num = int(hex_str, 16)\n",
    "\n",
    "# 내장함수 사용\n",
    "print(bin(num))"
   ]
  },
  {
   "cell_type": "code",
   "execution_count": 20,
   "metadata": {},
   "outputs": [
    {
     "name": "stdout",
     "output_type": "stream",
     "text": [
      "0100011111111110\n"
     ]
    }
   ],
   "source": [
    "'''\n",
    "# 16진수 문자열 => 2진수 문자열 변환\n",
    "방법1\n",
    "16개의 숫자에 대한 2진수 표현을 dict로 저장해서 사용\n",
    "'''\n",
    "\n",
    "hex_dict = {\n",
    "    '0' : '0000', '1' : '0001', '2' : '0010', '3' : '0011',\n",
    "    '4' : '0100', '5' : '0101', '6' : '0110', '7' : '0111',\n",
    "    '8' : '1000', '9' : '1001', 'A' : '1010', 'B' : '1011',\n",
    "    'C' : '1100', 'D' : '1101', 'E' : '1110', 'F' : '1111'\n",
    "}\n",
    "\n",
    "\n",
    "hex_str = '47FE'\n",
    "ans = ''\n",
    "for h in hex_str :\n",
    "    ans += hex_dict[h]\n",
    "\n",
    "print(ans)"
   ]
  },
  {
   "cell_type": "code",
   "execution_count": 23,
   "metadata": {},
   "outputs": [
    {
     "name": "stdout",
     "output_type": "stream",
     "text": [
      "0100011111111110\n"
     ]
    }
   ],
   "source": [
    "'''\n",
    "방법2. 16진수 한 자리를 정수로 변환\n",
    "'''\n",
    "hex_str = '47FE'\n",
    "\n",
    "ans = []\n",
    "for ch in hex_str :\n",
    "    num = int(ch,16)\n",
    "    # num의 하위 4개의 비트를 조사\n",
    "    ans.append('1' if num & 8 else '0') # num & (1 << 3) \n",
    "    ans.append('1' if num & 4 else '0') # num & (1 << 2) \n",
    "    ans.append('1' if num & 2 else '0') # num & (1 << 1) \n",
    "    ans.append('1' if num & 1 else '0') # num & (1 << 3) \n",
    "\n",
    "print(''.join(ans))\n"
   ]
  }
 ],
 "metadata": {
  "kernelspec": {
   "display_name": "Python 3",
   "language": "python",
   "name": "python3"
  },
  "language_info": {
   "codemirror_mode": {
    "name": "ipython",
    "version": 3
   },
   "file_extension": ".py",
   "mimetype": "text/x-python",
   "name": "python",
   "nbconvert_exporter": "python",
   "pygments_lexer": "ipython3",
   "version": "3.9.13"
  }
 },
 "nbformat": 4,
 "nbformat_minor": 2
}
