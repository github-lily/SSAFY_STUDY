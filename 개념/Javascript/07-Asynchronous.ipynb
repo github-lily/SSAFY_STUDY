{
 "cells": [
  {
   "cell_type": "markdown",
   "metadata": {},
   "source": [
    "### 목차\n",
    "- 비동기\n",
    "- javascript와 비동기\n",
    "- Ajax\n",
    "- Callback 과 Promise"
   ]
  }
 ],
 "metadata": {
  "language_info": {
   "name": "python"
  }
 },
 "nbformat": 4,
 "nbformat_minor": 2
}
