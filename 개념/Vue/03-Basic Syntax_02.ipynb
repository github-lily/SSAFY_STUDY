{
 "cells": [
  {
   "cell_type": "markdown",
   "metadata": {},
   "source": []
  },
  {
   "attachments": {
    "image-2.png": {
     "image/png": "[encoded data removed]"
    },
    "image.png": {
     "image/png": "[encoded data removed]"
    }
   },
   "cell_type": "markdown",
   "metadata": {},
   "source": [
    "# 교수님 + 실습\n",
    "## splice\n",
    "![image.png](attachment:image.png)\n",
    "arr.splice(index,삭제할 개수)\n",
    "\n",
    "## findindex\n",
    "![image-2.png](attachment:image-2.png)\n",
    "- arr.findIndex(val => val === 3)   // 2(인덱스 반환)\n",
    "- 대문자 주의\n",
    "\n",
    "## Date.now\n",
    "- 양의 정수값 리턴됨 1970-01-01부터 현재시간까지의 초를 리턴해줌\n",
    "``` javascript\n",
    "  const newTodo = {\n",
    "    id : Date.now(),    \n",
    "    text : todoText.value,\n",
    "    isCompleted: false,\n",
    "  }\n",
    "```\n",
    "\n",
    "## 새로고침해도 그동안 적어둔 데이터 안사라지게 하는 메서드\n",
    "- [Application] - [Local storage] - [file://] 에 저장됨\n",
    "- 저장\n",
    "  - `localStorage.setItem(key, JSON.stringify(obj))`\n",
    "- 읽어오기\n",
    "  - `const obj = localStorage.getItem('my-obj')`\n",
    "```javascript\n",
    "    const KEY = 'TODO-LIST'\n",
    "    const saveTodos = function() {\n",
    "      localStorage.setItem(KEY, JSON.stringify(todos.value))\n",
    "    }\n",
    "    const loadTodos = function() {\n",
    "      const todoString = localStorage.getItem(KEY)\n",
    "      return JSON.parse(todoString) || []\n",
    "      // 앞에가 false면 || 뒤가 실행됨 or와 같은 역할 \n",
    "    }\n",
    "\n",
    "    onMounted(()=> {\n",
    "      todos.value = loadTodos()\n",
    "    })\n",
    "\n",
    "    watch(todos, (newTodos, oldTodos)=> {\n",
    "\n",
    "    completedCount.value = newTodos.filter(todo => todo.isCompleted).length // filter는 배열을 반환하니까 바로 뒤에 .length를 쓸 수 있음\n",
    "    saveTodos()\n",
    "  }, {deep:true})\n",
    "```"
   ]
  }
 ],
 "metadata": {
  "language_info": {
   "name": "python"
  }
 },
 "nbformat": 4,
 "nbformat_minor": 2
}
