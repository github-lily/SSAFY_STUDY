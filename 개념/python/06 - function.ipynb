{
 "cells": [
  {
   "cell_type": "markdown",
   "metadata": {},
   "source": [
    "# 함수\n",
    "- 특정 작업을 수행하기 위한 재사용 가능한 코드 묶음\n",
    "- 코드의 재사용성이 높아지고, 가독성과 유지보수성이 향상됨. \n",
    "- 코드의 중복을 방지할 수 있음\n",
    "- def 함수이름(함수에 전달되는 매개변수명):\n",
    "- return : 함수 실행 시 반환되는 값, 함수의 실행을 종료함\n",
    "- 함수 호출\n",
    "    - 함수의 코드블록을 실행하기 위해 함수 이름을 사용해 실행하는 것\n",
    "    - 함수 이름(인자)\n",
    "    - 인자는 매개변수에 대입됨\n",
    "\n",
    "### 매개변수(Parameter)\n",
    "- 함수를 정의할 때 함수가 받을 값을 나타내는 변수\n",
    "\n",
    "### 인자(argument)\n",
    "- 함수를 호출할 때 실제로 전달되는 값"
   ]
  },
  {
   "cell_type": "markdown",
   "metadata": {},
   "source": [
    "## 인자의 종류\n",
    "\n",
    "1. 위치인자 (positional arguments)\n",
    "- 함수 호출 시 인자의 위치에 따라 전달되는 인자\n",
    "- **함수 호출 시 반드시 값을 전달해야 함**"
   ]
  },
  {
   "cell_type": "code",
   "execution_count": 5,
   "metadata": {},
   "outputs": [
    {
     "name": "stdout",
     "output_type": "stream",
     "text": [
      "alice의 나이는 15\n"
     ]
    }
   ],
   "source": [
    "def greet(name, age):\n",
    "    print(f'{name}의 나이는 {age}')\n",
    "\n",
    "greet('alice', 15)"
   ]
  },
  {
   "cell_type": "markdown",
   "metadata": {},
   "source": [
    "2. 기본 인자 값 (Default Argument Values)\n",
    "- 함수 정의에서 매개변수에 기본 값을 할당하는 것\n",
    "- 함수 호출 시 인자를 전달하지 않으면, 기본값이 매개변수에 할당됨"
   ]
  },
  {
   "cell_type": "code",
   "execution_count": 6,
   "metadata": {},
   "outputs": [
    {
     "name": "stdout",
     "output_type": "stream",
     "text": [
      "alice의 나이는 30\n",
      "bob의 나이는 40\n"
     ]
    }
   ],
   "source": [
    "def greet(name, age = 30):\n",
    "    print(f'{name}의 나이는 {age}')\n",
    "\n",
    "greet('alice')\n",
    "greet('bob', 40)"
   ]
  },
  {
   "cell_type": "markdown",
   "metadata": {},
   "source": [
    "3. 키워드 인자(Keyword Arguments)\n",
    "- 함수 호출 시 인자의 이름과 함께 값을 전달하는 인자\n",
    "- 매개변수와 인자를 일치시키지 않고, 특정 매개변수에 값을 할당할 수 있음\n",
    "- 인자의 순서는 중요하지 않으며, 인자의 이름을 명시하여 전달\n",
    "- **단, 호출 시 키워드 인자는 위치 인자 뒤에 위치해야 함!**"
   ]
  },
  {
   "cell_type": "code",
   "execution_count": 7,
   "metadata": {},
   "outputs": [
    {
     "ename": "SyntaxError",
     "evalue": "positional argument follows keyword argument (1767751858.py, line 5)",
     "output_type": "error",
     "traceback": [
      "\u001b[1;36m  Cell \u001b[1;32mIn[7], line 5\u001b[1;36m\u001b[0m\n\u001b[1;33m    greet(age = 40, 'bob')\u001b[0m\n\u001b[1;37m                         ^\u001b[0m\n\u001b[1;31mSyntaxError\u001b[0m\u001b[1;31m:\u001b[0m positional argument follows keyword argument\n"
     ]
    }
   ],
   "source": [
    "def greet(name, age):\n",
    "    print(f'{name}의 나이는 {age}')\n",
    "\n",
    "greet(name = 'alice', age = 30)\n",
    "greet(age = 40, 'bob') \n",
    "#SyntaxError: positional argument follows keyword argument"
   ]
  },
  {
   "cell_type": "markdown",
   "metadata": {},
   "source": [
    "4. 임의의 인자 목록(Arbitrary Argument Lists)\n",
    "- 정해지지 않은 개수의 인자를 처리하는 인자\n",
    "- 함수 정의 시 매개변수 앞에 '*'를 붙여 사용하며, 여러 개의 인자를 tuple로 처리"
   ]
  },
  {
   "cell_type": "code",
   "execution_count": null,
   "metadata": {},
   "outputs": [
    {
     "name": "stdout",
     "output_type": "stream",
     "text": [
      "(1, 2, 3)\n",
      "합계 : 6\n"
     ]
    }
   ],
   "source": [
    "def calculate_sum(*args):\n",
    "    print(args)\n",
    "    total = sum(args)\n",
    "    print(f'합계 : {total}')\n",
    "    \n",
    "calculate_sum(1,2,3)"
   ]
  },
  {
   "cell_type": "markdown",
   "metadata": {},
   "source": [
    "5. 임의의 키워드 인자 목록(Arbitrary Keyword Argument Lists)\n",
    "- 정해지지 않은 개수의 키워드 인자를 처리하는인자\n",
    "- 함수 정의 시 매개변수 앞에 '**'를 붙여 사용하며, 여러 개의 인자를 dict로 묶어 처리함"
   ]
  },
  {
   "cell_type": "code",
   "execution_count": 8,
   "metadata": {},
   "outputs": [
    {
     "name": "stdout",
     "output_type": "stream",
     "text": [
      "{'name': 'Eve', 'age': 30}\n"
     ]
    }
   ],
   "source": [
    "def print_info(**kwargs):\n",
    "    print(kwargs)\n",
    "\n",
    "print_info(name = 'Eve', age = 30)"
   ]
  },
  {
   "cell_type": "markdown",
   "metadata": {},
   "source": [
    "## 함수 인자 권장 작성 순서\n",
    "- 위치 → 기본 → 가변 → 가변키워드\n",
    "- 호출 시 인자를 전달하는 과정에서 혼란을 줄이기 위해 순서에 맞춰 작성\n",
    "- **단 모든 상황에서 적용되는 절대적인 규칙은 아니며, 상황에 따라 유연하게 조정**  \n",
    "- def func(pos1, default_arg='default',*args,**kwargs)"
   ]
  },
  {
   "cell_type": "markdown",
   "metadata": {},
   "source": [
    "# 재귀 함수\n",
    "- 함수 내부에서 자기 자신을 호출하는 함수\n",
    "- 예 : 팩토리얼(n!)"
   ]
  },
  {
   "cell_type": "code",
   "execution_count": null,
   "metadata": {},
   "outputs": [],
   "source": [
    "def factorial(n):\n",
    "    if n == 0:\n",
    "        return 1\n",
    "    #종료 조건 : n이 0이면 1을 반호나\n",
    "\n",
    "    else :\n",
    "        return n*factorial(n-1)\n",
    "    #재귀 호출 : n과 n-1의 팩토리얼을 곱한 결과를 반환\n",
    "    "
   ]
  },
  {
   "cell_type": "markdown",
   "metadata": {},
   "source": [
    "- 팩토리얼 함수는 자기 자신을 재귀적으로 호출하여 입력된 숫자 n의 팩토리얼을 계산하는 것\n",
    "- 재귀 호출은 n이 0이 될 때까지 반복되며, 종료 조건을 설정하여 재귀 호출이 멈추도록 함\n",
    "- 재귀 호출의 결과를 이용하여 문제를 작은 단위의 문제로 분할하고, 분할된 문제들의 결과를 조합하여 최종 결과를 도출함\n",
    "- 재귀 함수 특징\n",
    "    - 특정 알고리즘 식을 표현할 때 변수의 사용이 줄어들며, 코드의 가독성이 높아짐\n",
    "    - 1개 이상의 base case(종료되는 상황)가 존재하고, 수렴하도록 작성\n",
    "        - 그러므로 종료 조건을 명확히 해야하며, 반복되는 호출이 종료 조건을 향하도록 해야함\n",
    "- 재귀 함수를 사용하는 이유\n",
    "    1. 문제의 자연스러운 표현\n",
    "        - 복잡한 문제를 간결하고 직관적으로 표현 가능\n",
    "    2. 코드 간결성\n",
    "        - 상황에 따라 반복문보다 알고리즘 코드가 더 간결하고 명확해질 수 있음\n",
    "    3. 수학적 문제 해결\n",
    "        - 수학적 정의가 재귀적으로 표현되는 경우, 직접적으로 구현 가능"
   ]
  },
  {
   "cell_type": "markdown",
   "metadata": {},
   "source": [
    "# 내장 함수\n",
    "- 파이썬이 기본적으로 제공하는 함수로 별도의 import 없이 사용 가능\n"
   ]
  },
  {
   "cell_type": "code",
   "execution_count": null,
   "metadata": {},
   "outputs": [],
   "source": [
    "numbers = [1,2,3,4,5]\n",
    "\n",
    "print(len(numbers))\n",
    "print(max(numbers))\n",
    "print(min(numbers))\n",
    "print(sum(numbers))\n",
    "print(sorted(numbers, reverse = True))"
   ]
  },
  {
   "cell_type": "markdown",
   "metadata": {},
   "source": [
    "### 내장함수 map\n",
    "- map(function, iterable)\n",
    "- 순회 가능한 데이터구조(iterable)의 모든 요소에 함수를 적용하고, 그 결과를 map object로 반환\n"
   ]
  },
  {
   "cell_type": "code",
   "execution_count": null,
   "metadata": {},
   "outputs": [],
   "source": [
    "numbers = [1,2,3]\n",
    "result = map(str, numbers)\n",
    "\n",
    "print(result)\n",
    "print(list(result))"
   ]
  },
  {
   "cell_type": "code",
   "execution_count": 9,
   "metadata": {},
   "outputs": [
    {
     "name": "stdout",
     "output_type": "stream",
     "text": [
      "['1', '2', '3']\n"
     ]
    }
   ],
   "source": [
    "# 1 2 3 입력 시 \n",
    "numbers1 = input().split()\n",
    "print(numbers1)\n",
    "\n"
   ]
  },
  {
   "cell_type": "code",
   "execution_count": 10,
   "metadata": {},
   "outputs": [
    {
     "name": "stdout",
     "output_type": "stream",
     "text": [
      "[1, 2, 3]\n"
     ]
    }
   ],
   "source": [
    "numbers2 = list(map(int,input().split()))\n",
    "print(numbers2)"
   ]
  },
  {
   "cell_type": "markdown",
   "metadata": {},
   "source": [
    "### 내장함수 zip\n",
    "- zip(*iterable)\n",
    "- 임의의 iterable을 모아 튜플을 원소로 하는 zip object를 반환\n"
   ]
  },
  {
   "cell_type": "code",
   "execution_count": 11,
   "metadata": {},
   "outputs": [
    {
     "name": "stdout",
     "output_type": "stream",
     "text": [
      "<zip object at 0x00000298AA855E00>\n",
      "[('a', 'c'), ('b', 'd')]\n"
     ]
    }
   ],
   "source": [
    "girls =['a','b']\n",
    "boys = ['c','d']\n",
    "pair = zip(girls, boys)\n",
    "\n",
    "print(pair)\n",
    "print(list(pair))"
   ]
  },
  {
   "cell_type": "code",
   "execution_count": 12,
   "metadata": {},
   "outputs": [
    {
     "name": "stdout",
     "output_type": "stream",
     "text": [
      "(10, 20, 40)\n",
      "(20, 40, 20)\n",
      "(30, 50, 30)\n",
      "(50, 70, 50)\n"
     ]
    }
   ],
   "source": [
    "# zip 활용1 : 여러 개의 리스트를 동시에 조회\n",
    "\n",
    "kr_scores = [10, 20, 30, 50]\n",
    "math_scores = [20, 40, 50, 70]\n",
    "en_scores = [40, 20, 30, 50]\n",
    "\n",
    "for student_scores in zip(kr_scores, math_scores, en_scores):\n",
    "    print(student_scores)"
   ]
  },
  {
   "cell_type": "code",
   "execution_count": 14,
   "metadata": {},
   "outputs": [
    {
     "name": "stdout",
     "output_type": "stream",
     "text": [
      "(10, 40, 20)\n",
      "(20, 50, 40)\n",
      "(30, 39, 50)\n"
     ]
    }
   ],
   "source": [
    "# zip 활용2 : 2차원 리스트의 같은 칼럼(열) 요소를 동시에 조회할 때\n",
    "scores = [\n",
    "    [10, 20, 30],\n",
    "    [40, 50, 39],\n",
    "    [20, 40, 50],\n",
    "    ]\n",
    "for score in zip(*scores):\n",
    "    print(score)"
   ]
  },
  {
   "cell_type": "markdown",
   "metadata": {},
   "source": [
    "# 함수와 Scope\n",
    "\n",
    "### python의 범위(scope)\n",
    "- 함수는 코드 내부에 local scope와 그 외 공간인 global scope로 구분함\n",
    "\n",
    "\n",
    "- scope\n",
    "    - local scope : 함수가 만든 scope (함수 내부에서만 참조 가능, 함수가 끝나면 함께 끝남)\n",
    "    - global scope : 코드 어디에서든 참조할 수 있는 공간\n",
    "\n",
    "- variable\n",
    "    - 지역변수(local variable) : local scope 에 저장된 변수\n",
    "    - 전역변수(global variable) : global scope에 저장된 변수\n",
    "\n",
    "- 예시\n",
    "    - `num`은 local scope에 존재하기 때문에 global에서 사용할 수 없음\n",
    "    - 이는 변수의 `수명주기`와 연관이 있음\n",
    "\n",
    "    ```python\n",
    "    def func():\n",
    "        num = 20\n",
    "        print('local', num)  # local 20\n",
    "\n",
    "\n",
    "    func()\n",
    "\n",
    "    print('global', num)  # NameError: name 'num' is not defined\n",
    "    ```\n"
   ]
  },
  {
   "cell_type": "markdown",
   "metadata": {},
   "source": [
    "### 변수 수명주기(life cycle)\n",
    "- 변수의 수명 주기는 변수가 선언되는 위치와 scope에 따라 결정됨\n",
    "\n",
    "1. built-in scope\n",
    "    - 파이썬이 실행된 이후부터 영원히 유지됨\n",
    "2. global scope\n",
    "    - 모듈이 호출된 시점 이후 혹은 인터프리터가 끝날 때까지 유지\n",
    "3. local scope\n",
    "    - 함수가 호출될 때 생성되고, 함수가 종료될 때까지 유지(종료되면 끝남)"
   ]
  },
  {
   "cell_type": "markdown",
   "metadata": {},
   "source": [
    "### 이름 검색 규칙\n",
    "- 파이썬에서 사요되는 이름(식별자)들은 특정한 이름공간(namespace)에 저장되어 있음\n",
    "- 아래와 같은 순서로 이름을 찾아 나가며, LEGB Rule 이라고 부름\n",
    "    1. Local scope : 지역 범위(현재 작업 중인 범위)\n",
    "    2. Enclosed scope : 지역 범위 한 단계 위 범위\n",
    "    3. Global scope : 최상단에 위치한 범위\n",
    "    4. Built-in scope : 모든 것을 담고 있는 범위(정의하지 않고 사용할 수 있는 모든 것)\n",
    "    ※ 함수 내에서는 바깥 scope의 변수에 접근 가능하나 수정은 불가함\n",
    "\n",
    "![image](https://github.com/ragu6963/TIL/assets/32388270/15b4f0c6-7f21-4986-8349-fd8740e49573)"
   ]
  },
  {
   "cell_type": "markdown",
   "metadata": {},
   "source": [
    "- 예시 1\n",
    "    - sum이라는 이름을 global scope에서 사용하게 되면서 <br>기존에 built-in scope에 있던 내장함수 sum을 사용하지 못하게 됨\n",
    "    - sum을 참조 시 LEGB Rule에 따라 global에서 먼저 찾기 때문\n",
    "\n",
    "    ```python\n",
    "    print(sum) # <built-in function sum>\n",
    "    print(sum(range(3))) # 3\n",
    "\n",
    "    sum = 5\n",
    "\n",
    "    print(sum) # 5\n",
    "    print(sum(range(3))) # TypeError: 'int' object is not callable"
   ]
  },
  {
   "cell_type": "code",
   "execution_count": 6,
   "metadata": {},
   "outputs": [
    {
     "name": "stdout",
     "output_type": "stream",
     "text": [
      "10 2 500\n",
      "10 2 3\n",
      "1 2\n"
     ]
    }
   ],
   "source": [
    "a = 1\n",
    "b = 2\n",
    "\n",
    "\n",
    "def enclosed():\n",
    "    a = 10\n",
    "    c = 3\n",
    "\n",
    "    def local(c):\n",
    "        print(a, b, c) #10, 2, 500\n",
    "\n",
    "    local(500)\n",
    "    print(a, b, c) #10, 2, 3\n",
    "\n",
    "\n",
    "enclosed()\n",
    "print(a, b) #1, 2"
   ]
  },
  {
   "cell_type": "markdown",
   "metadata": {},
   "source": [
    "### global 키워드\n",
    "- 변수의 스코프를 전역범위로 지정하기 위해 사용\n",
    "- 일반적으로 함수 내에서 전역 변수를 수정하려는 경우에 사용함\n",
    "\n",
    "    ```python\n",
    "    num = 0 # 전역 변수\n",
    "\n",
    "\n",
    "    def increment():\n",
    "        global num # num를 전역 변수로 선언\n",
    "        num += 1\n",
    "\n",
    "\n",
    "    print(num) # 0\n",
    "    increment()\n",
    "    print(num) # 1\n",
    "    ```"
   ]
  },
  {
   "cell_type": "markdown",
   "metadata": {},
   "source": [
    "- ‘global’ 키워드 주의사항 (1/2)\n",
    "    - global 키워드 선언 전에 참조 불가\n",
    "\n",
    "    ```python\n",
    "    num = 0\n",
    "\n",
    "\n",
    "    def increment():\n",
    "        # SyntaxError: name 'num' is used prior to global declaration\n",
    "        print(num)\n",
    "        global num\n",
    "        num += 1\n",
    "    ```"
   ]
  },
  {
   "cell_type": "markdown",
   "metadata": {},
   "source": [
    "- ‘global’ 키워드 주의사항 (2/2)\n",
    "    - 매개변수에는 global 키워드 사용 불가\n",
    "\n",
    "    ```python\n",
    "    num = 0\n",
    "\n",
    "\n",
    "    def increment(num):\n",
    "        # \"num\" is assigned before global declaration\n",
    "        global num\n",
    "        num += 1\n",
    "    ```"
   ]
  },
  {
   "cell_type": "markdown",
   "metadata": {},
   "source": [
    "# 람다 표현식 (Lambda expressions)\n",
    "- 익명 함수를 만드는 데 사용되는 표현식\n",
    "- 한 줄로 간단한 함수를 정의\n",
    "\n",
    "- lambda 함수 구조\n",
    "```python\n",
    "    - lambda 매개변수: 표현식\n",
    "```\n",
    "- `lambda` 키워드\n",
    "    - 람다 함수를 선언하기 위해 사용되는 키워드\n",
    "- 매개변수\n",
    "    - 함수에 전달되는 매개변수들\n",
    "    - 여러 개의 매개변수가 있을 경우 쉼표로 구분\n",
    "- 표현식\n",
    "    - 함수의 실행되는 코드 블록으로, 결과값을 반환하는 표현식으로 작성"
   ]
  },
  {
   "cell_type": "markdown",
   "metadata": {},
   "source": [
    "#### 람다 표현식 예시\n",
    "- 간단한 연산이나 함수를 한 줄로 표현할 때 사용\n",
    "- 함수를 매개변수로 전달하는 경우에도 유용하게 활용\n",
    "\n",
    "    ```python\n",
    "    # 람다 함수 미적용 코드\n",
    "    def addition(x, y):\n",
    "        return x + y\n",
    "\n",
    "    result = addition(3, 5)\n",
    "    print(result) # 8\n",
    "    ```\n",
    "\n",
    "    ```python\n",
    "    # 람다 함수 적용 코드\n",
    "    addition = lambda x, y: x + y\n",
    "\n",
    "    result = addition(3, 5)\n",
    "    print(result) # 8\n",
    "    ```"
   ]
  },
  {
   "cell_type": "markdown",
   "metadata": {},
   "source": [
    "#### 람다 표현식 활용 (with map 함수)\n",
    "```python\n",
    "numbers = [1, 2, 3, 4, 5]\n",
    "def square(x):\n",
    "    return x**2\n",
    "\n",
    "# lambda 미사용\n",
    "squared1 = list(map(square, numbers))\n",
    "print(squared1)  # [1, 4, 9, 16, 25]\n",
    "\n",
    "# lambda 사용\n",
    "squared2 = list(map(lambda x: x**2, numbers))\n",
    "print(squared2)  # [1, 4, 9, 16, 25]\n",
    "```"
   ]
  }
 ],
 "metadata": {
  "kernelspec": {
   "display_name": "Python 3",
   "language": "python",
   "name": "python3"
  },
  "language_info": {
   "codemirror_mode": {
    "name": "ipython",
    "version": 3
   },
   "file_extension": ".py",
   "mimetype": "text/x-python",
   "name": "python",
   "nbconvert_exporter": "python",
   "pygments_lexer": "ipython3",
   "version": "3.12.3"
  }
 },
 "nbformat": 4,
 "nbformat_minor": 2
}
