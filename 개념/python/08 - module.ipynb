{
 "cells": [
  {
   "cell_type": "markdown",
   "metadata": {},
   "source": [
    "# 모듈\n",
    "- 한 파일로 묶인 변수와 함수의 모음\n",
    "- 특정한 기능을 하는 코드가 작성된 파이썬 파일  \n",
    "  \n",
    "- 모듈 예시\n",
    "    - math 내장 모듈 : 수학 관련 변수와 함수가 작성된 모듈\n",
    "\n",
    "- 내장함수 help\n",
    "    - `help(module)`을 통해 모듈 내부 기능 확인 가능"
   ]
  },
  {
   "cell_type": "markdown",
   "metadata": {},
   "source": [
    "#### 모듈 사용법\n",
    "- import 문 사용\n",
    "    ```python\n",
    "    import math\n",
    "    print(math.sqrt(4))\n",
    "    ```\n",
    "- from 절 사용\n",
    "    ``` python\n",
    "    from math import sqrt\n",
    "    print(sqrt(4))\n",
    "    ```\n",
    "- *사용\n",
    "    ```python\n",
    "    from math import *\n",
    "    ```\n",
    "    - 모듈 내 모든 요소를 한번에 import 하는 것\n",
    "    - 오류 발생 위험이 높아 권장되지 않음\n",
    "- 주의사항\n",
    "    - 모듈에서 함수명/변수명이 같은경우 마지막에 import 된 이름으로 대체됨(* 사용이 권장되지 않는 이유)\n",
    "    - 이 경우 'as' 키워드를 사용해 수정해야함\n",
    "- 'as'(alias) 키워드\n",
    "    - 두 개 이상의 모듈에서 동일한 이름의 변수, 함수 클래스 등을 가져올 때 발생하는 이름 충돌 해결\n",
    "    ```python\n",
    "\n",
    "    # 충돌\n",
    "    from math import sqrt\n",
    "    from my_mth import sqrt\n",
    "\n",
    "    # as 사용\n",
    "    from math import sqrt\n",
    "    from my_mth import sqrt as my_sqrt\n",
    "\n",
    "    sqrt(4)\n",
    "    my_sqrt(4)\n",
    "    ```\n",
    "    \n",
    "    "
   ]
  },
  {
   "cell_type": "markdown",
   "metadata": {},
   "source": [
    "# 사용자 정의 모듈\n",
    "- 직접 정의한 모듈 사용하기\n",
    "1. 모듈 my_math.py 작성\n",
    "2. 두 수의 합을 구하는 add 함수 작성\n",
    "3. my_math 모듈 import 후 add 함수 호출"
   ]
  },
  {
   "cell_type": "markdown",
   "metadata": {},
   "source": [
    "# 파이썬 표준 라이브러리\n",
    "#### (PSL, Python Standard Library)\n",
    "- 파이썬 언어와 함께 제공되는 다양한 모듈과 패키지의 모음\n",
    "- 패키지 : 연관된 모듈들을 하나의 디렉토리에 모아 놓은 것\n",
    "- 파이썬 표준 라이브러리>패키지>모듈"
   ]
  },
  {
   "cell_type": "markdown",
   "metadata": {},
   "source": [
    "- 패키지 사용하기\n",
    "    - 각 패키지의 모듈을 `import` 하여 사용하기\n",
    "        ```python\n",
    "        # sample.py\n",
    "    \n",
    "        from my_package.math import my_math\n",
    "        from my_package.statistics import tools\n",
    "    \n",
    "    \n",
    "        print(my_math.add(1, 2))  # 3\n",
    "        print(tools.mod(1, 2))  # 1\n",
    "        ```"
   ]
  },
  {
   "cell_type": "markdown",
   "metadata": {},
   "source": [
    "#### 패키지와 모듈 정리\n",
    "- 패키지는 폴더(디렉토리)\n",
    "- 모듈은 파일 (.py)\n",
    "- 모듈 안에 변수 혹은 함수가 들어있음  \n",
    "\n",
    "- import 다음 : 모듈, 모듈 내부의 변수 또는 함수\n",
    "- from 다음 : 패키지, 모듈  \n",
    "\n",
    "- from 패키지 import 모듈\n",
    "- from 패키지.모듈 import 함수\n",
    "- from 패키지. 패키지. 모듈 import 함수"
   ]
  },
  {
   "cell_type": "markdown",
   "metadata": {},
   "source": [
    "- PSL 내부 패키지\n",
    "    - 설치 없이 바로 import 하여 사용\n",
    "- 외부 패키지\n",
    "    - pip를 사용하여 설치 후 import\n",
    "\n",
    "- pip\n",
    "    - 외부 패키지들을 설치하도록 도와주는 파이썬의 패키지 관리 시스템\n",
    "    - 최신버전, 특정 버전, 최소 버전을 명시하여 설치할 수 있음\n",
    "    - `pip install requests(패키지명)`\n",
    "    \n",
    "- 패키지 사용 목적\n",
    "    - 모듈들의 이름공간을 구분하여 충돌을 방지\n",
    "    - 모듈들을 효율적으로 관리하고 재사용할 수 있도록 돕는 역할\n",
    "\n"
   ]
  }
 ],
 "metadata": {
  "language_info": {
   "name": "python"
  }
 },
 "nbformat": 4,
 "nbformat_minor": 2
}
