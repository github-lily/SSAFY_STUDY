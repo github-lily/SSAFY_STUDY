{
 "cells": [
  {
   "cell_type": "markdown",
   "metadata": {},
   "source": [
    "# 제어문\n",
    "\n",
    "- 코드 실행 흐름을 제어하는데 사용되는 구문\n",
    "- 조건에 따라 코드 블록을 실행하거나 반복적으로 코드를 실행\n",
    "- 제어문 종류\n",
    "    - 조건문\n",
    "        - `if`, `elif`, `else`\n",
    "    - 반복문\n",
    "        - `for`, `while`\n",
    "    - 반복문 제어\n",
    "        - `break`, `continue`, `pass`\n"
   ]
  },
  {
   "cell_type": "markdown",
   "metadata": {},
   "source": [
    "# 조건문 (Conditional Statement)\n",
    "- 주어진 조건식을 평가하여 해당 조건이 참인 경우에만 코드 블록을 실행하거나 건너뜀\n",
    "- if, elif, else\n",
    "- 복수 조건문 : 조건식을 동시에 검사하는 것이 아니라 위에서부터 '순차적'으로 비교\n",
    "- 중첩으로 사용 가능"
   ]
  },
  {
   "cell_type": "markdown",
   "metadata": {},
   "source": [
    "# 반복문 (Loop Statement)\n",
    "- 주어진 코드 블록을 여러 번 반복해서 실행하는 구문\n",
    "- for : 특정 작업을 반복적으로 수행\n",
    "- while : 주어진 조건이 참인 동안 반복적으로 실행"
   ]
  },
  {
   "cell_type": "markdown",
   "metadata": {},
   "source": [
    "### for\n",
    "- 임의의 시퀀스의 항목들을 그 시퀀스에 들어있는 순서대로 반복\n",
    "     ```python\n",
    "    for 변수 in 반복 가능한 객체 :\n",
    "        코드블록\n",
    "    ```\n",
    "- 반복 가능한 객체(iterable)\n",
    "    - 반복문에서 순회할 수 있는 객체\n",
    "    - 시퀀스 객체 뿐만 아니라 dict, set 도 포함\n",
    "\n",
    "- 문자열 순회\n",
    "    ```python\n",
    "    country = 'Korea'\n",
    "\n",
    "    for char in country:\n",
    "        print(char)\n",
    "\n",
    "    \"\"\"\n",
    "    K\n",
    "    o\n",
    "    r\n",
    "    e\n",
    "    a\n",
    "    \"\"\"\n",
    "    ```\n"
   ]
  },
  {
   "cell_type": "markdown",
   "metadata": {},
   "source": [
    "- range 순회\n",
    "    ```python\n",
    "    for i in range(5):\n",
    "        print(i)\n",
    "    \n",
    "    \"\"\"\n",
    "    0\n",
    "    1\n",
    "    2\n",
    "    3\n",
    "    4\n",
    "    \"\"\"\n",
    "    ```"
   ]
  },
  {
   "cell_type": "markdown",
   "metadata": {},
   "source": [
    "- dict 순회\n",
    "    ```python\n",
    "    my_dict = {\n",
    "        'x': 10,\n",
    "        'y': 20,\n",
    "        'z': 30,\n",
    "    }\n",
    "    \n",
    "    for key in my_dict:\n",
    "        print(key)\n",
    "        print(my_dict[key])\n",
    "    \n",
    "    \n",
    "    \"\"\"\n",
    "    x\n",
    "    10\n",
    "    y\n",
    "    20\n",
    "    z\n",
    "    30\n",
    "    \"\"\"\n",
    "    ```"
   ]
  },
  {
   "cell_type": "markdown",
   "metadata": {},
   "source": [
    "- 인덱스로 리스트 순회\n",
    "    - 리스트의 요소가 아닌 인덱스로 접근하여 해당 요소들을 변경하기\n",
    "        \n",
    "        ```python\n",
    "        numbers = [4, 6, 10, -8, 5]\n",
    "        \n",
    "        for i in range(len(numbers)):\n",
    "            numbers[i] = numbers[i] * 2\n",
    "        \n",
    "        print(numbers) # [8, 12, 20, -16, 10]\n",
    "        ```"
   ]
  },
  {
   "cell_type": "markdown",
   "metadata": {},
   "source": [
    "- 중첩된 반복문\n",
    "    - 안쪽 반복문은 outers 리스트의 각 항목에 대해 한 번씩 실행됨\n",
    "    - print가 호출되는 횟수 => `len(outers) * len(inners)`\n",
    "        ```python\n",
    "        outers = ['A', 'B']\n",
    "        inners = ['c', 'd']\n",
    "            \n",
    "        for outer in outers:\n",
    "            for inner in inners:\n",
    "                print(outer, inner)\n",
    "            \n",
    "        \"\"\"\n",
    "        A c\n",
    "        A d\n",
    "        B c\n",
    "        B d\n",
    "        \"\"\"\n",
    "        ```"
   ]
  },
  {
   "cell_type": "markdown",
   "metadata": {},
   "source": [
    "- 중첩 리스트 순회\n",
    "    - 안쪽 리스트 요소에 접근하려면 바깥 리스트를 순회하면서 중첩 반복을 사용해 각 안쪽 반복을 순회\n",
    "        ```python\n",
    "        elements = [['A', 'B'], ['c', 'd']]\n",
    "    \n",
    "        for elem in elements:\n",
    "            print(elem)\n",
    "    \n",
    "        \"\"\"\n",
    "        ['A', 'B']\n",
    "        ['c', 'd']\n",
    "        \"\"\"\n",
    "        ```\n",
    "        ```python\n",
    "        elements = [['A', 'B'], ['c', 'd']]\n",
    "    \n",
    "        for elem in elements:\n",
    "            for item in elem:\n",
    "                print(item)\n",
    "    \n",
    "        \"\"\"\n",
    "        A\n",
    "        B\n",
    "        c\n",
    "        d\n",
    "        \"\"\"\n",
    "        ```"
   ]
  },
  {
   "cell_type": "markdown",
   "metadata": {},
   "source": [
    "### while \n",
    "- 주어진 조건식이 참인 동안 코드를 반복해서 실행\n",
    "- 즉, 조건식이 거짓이 될 때까지 반복 실행\n",
    "- 반드시 종료 조건이 필요함\n"
   ]
  },
  {
   "cell_type": "code",
   "execution_count": null,
   "metadata": {},
   "outputs": [],
   "source": [
    "number = int(input('양의 정수를 입력해주세요.: '))\n",
    "while number <= 0:\n",
    "    if number < 0:\n",
    "        print('음수를 입력했습니다.')\n",
    "    else:\n",
    "        print('0은 양의 정수가 아닙니다.')\n",
    "    number = int(input('양의 정수를 입력해주세요.: '))\n",
    "print('잘했습니다!')"
   ]
  },
  {
   "cell_type": "markdown",
   "metadata": {},
   "source": [
    "##### for / while 비교\n",
    "- for\n",
    "    - 반복 횟수가 명확하게 정해져 있는 경우에 유용\n",
    "    - 리스트, 튜플, 문자열 등과 같은 시퀀스 형식의 데이터를 처리할 때\n",
    "- while\n",
    "    - 반복 횟수가 불명확하거나 조건에 따라 반복을 종료해야할 때 유용\n",
    "    - 사용자의 입력을 받아 특정 조건이 충족될 때까지 반복하는 경우\n",
    "    "
   ]
  },
  {
   "cell_type": "markdown",
   "metadata": {},
   "source": [
    "# 반복문 제어\n",
    "- break : 반복을 즉시 중지\n",
    "- continue : 다음 반복으로 건너뜀\n",
    "- pass : 아무런 동작도 수행하지 않고 넘어감\n",
    "    - pass 사용 예시\n",
    "        1. 코드 작성 중 미완성 부분 넘어가기(컴파일 오류 피하기)\n",
    "        2. 조건문에서 아무런 동작을 수행하지 않을 때\n",
    "        3. 무한 루프에서 조건이 충족되지 않을 때 루프를 계속 진행"
   ]
  },
  {
   "cell_type": "code",
   "execution_count": null,
   "metadata": {},
   "outputs": [],
   "source": [
    "number = int(input('양의 정수를 입력해주세요.: '))\n",
    "while number <= 0: \n",
    "    if number == -9999: \n",
    "        print('프로그램을 종료합니다.')\n",
    "        break\n",
    "    if number < 0:\n",
    "        print('음수를 입력했습니다.')\n",
    "    else:\n",
    "        print('0은 양의 정수가 아닙니다.')\n",
    "    number = int(input('양의 정수를 입력해주세요.: '))\n",
    "else :\n",
    "    print('잘했습니다!')"
   ]
  },
  {
   "cell_type": "code",
   "execution_count": null,
   "metadata": {},
   "outputs": [],
   "source": [
    "numbers = [1, 3, 5, 6, 7, 9, 10, 11]\n",
    "found_even = False\n",
    "for num in numbers:\n",
    "    if num % 2 == 0:\n",
    "        print('첫 번째 짝수를 찾았습니다:', num)\n",
    "        found_even = True\n",
    "        break\n",
    "if not found_even:\n",
    "    print('짝수를 찾지 못했습니다')"
   ]
  },
  {
   "cell_type": "code",
   "execution_count": null,
   "metadata": {},
   "outputs": [],
   "source": [
    "numbers = [1, 2, 3, 4, 5, 6, 7, 8, 9, 10]\n",
    "for num in numbers:\n",
    "    if num % 2 == 0:\n",
    "        continue\n",
    "    print(num)"
   ]
  },
  {
   "cell_type": "markdown",
   "metadata": {},
   "source": [
    "# List Comprehension\n",
    "- 간결하고 효율적인 리스트 생성 방법\n",
    "- 구조\n",
    "    ```python\n",
    "    [expression for 변수 in iterable]\n",
    "    list(expression for 변수 in iterable)\n",
    "    \n",
    "    [expression for 변수 in iterable if 조건식]\n",
    "    list(expression for 변수 in iterable if 조건식)\n",
    "    ```"
   ]
  },
  {
   "cell_type": "markdown",
   "metadata": {},
   "source": [
    "- List Comprehension 사용 전/후 비교\n",
    "\n",
    "    - 사용 전\n",
    "        ```python\n",
    "        numbers = [1, 2, 3, 4, 5]\n",
    "        squared_numbers = []\n",
    "    \n",
    "        for num in numbers:\n",
    "            squared_numbers.append(num**2)\n",
    "    \n",
    "        print(squared_numbers)  # [1, 4, 9, 16, 25]\n",
    "        ```\n",
    "    \n",
    "    - 사용 후\n",
    "        ```python\n",
    "        numbers = [1, 2, 3, 4, 5]\n",
    "        squared_numbers = [num**2 for num in numbers]\n",
    "    \n",
    "        print(squared_numbers)  # [1, 4, 9, 16, 25]\n",
    "        ```"
   ]
  },
  {
   "cell_type": "markdown",
   "metadata": {},
   "source": [
    "- List Comprehension 활용 예시\n",
    "    - 2차원 배열 생성 시 (인접행렬 생성 시)\n",
    "    \n",
    "    ```python\n",
    "    data1 = [[0] * (5) for _ in range(5)]\n",
    "    \n",
    "    # 또는\n",
    "    data2 = [[0 for _ in range(5)] for _ in range(5)]\n",
    "    \n",
    "    \"\"\"\n",
    "    [[0, 0, 0, 0, 0],\n",
    "     [0, 0, 0, 0, 0],\n",
    "     [0, 0, 0, 0, 0],\n",
    "     [0, 0, 0, 0, 0],\n",
    "     [0, 0, 0, 0, 0]]\n",
    "    \"\"\"\n",
    "    ```"
   ]
  },
  {
   "cell_type": "markdown",
   "metadata": {},
   "source": [
    "# enumerate\n",
    "- `enumberate(iterable, start = 0)'\n",
    "- iterable 객체의 각 요소에 대해 인덱스와 함께 반환하는 내장함수"
   ]
  },
  {
   "cell_type": "markdown",
   "metadata": {},
   "source": [
    "- enumerate 예시\n",
    "\n",
    "    ```python\n",
    "    fruits = ['apple', 'banana', 'cherry']\n",
    "    \n",
    "    for index, fruit in enumerate(fruits):\n",
    "    print(f'인덱스 {index}: {fruit}')\n",
    "    \n",
    "    \"\"\"\n",
    "    인덱스 0: apple\n",
    "    인덱스 1: banana\n",
    "    인덱스 2: cherry\n",
    "    \"\"\"\n",
    "    ```"
   ]
  }
 ],
 "metadata": {
  "language_info": {
   "name": "python"
  }
 },
 "nbformat": 4,
 "nbformat_minor": 2
}
