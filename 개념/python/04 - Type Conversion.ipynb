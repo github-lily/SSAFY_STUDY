{
 "cells": [
  {
   "cell_type": "markdown",
   "metadata": {},
   "source": [
    "# 형변환\n",
    "- 한 데이터 타입을 다른 데이터 타입으로 변환하는 과정\n",
    "\n",
    "#### 암시적 형변환\n",
    "- 파이썬이 자동으로 수행하는 형변환\n",
    "- 정수와 실수의 연산에서 정수가 실수로 변환됨\n",
    "- Boolean과 Numeric Type에서만 가능"
   ]
  },
  {
   "cell_type": "code",
   "execution_count": null,
   "metadata": {},
   "outputs": [],
   "source": [
    "print(3 + 5.0)\n",
    "print(True + 3)\n",
    "print(True+False)\n",
    "#True를 1, False를 0으로 암시적 형변환"
   ]
  },
  {
   "cell_type": "markdown",
   "metadata": {},
   "source": [
    "#### 명시적 형변환\n",
    "- 프로그래머가 직접 지정하는 형변환\n",
    "- 암시적 형변환이 아닌 경우를 모두 포함함"
   ]
  },
  {
   "cell_type": "code",
   "execution_count": 2,
   "metadata": {},
   "outputs": [
    {
     "name": "stdout",
     "output_type": "stream",
     "text": [
      "1\n",
      "3\n",
      "3.5\n"
     ]
    }
   ],
   "source": [
    "#str -> int\n",
    "print(int('1'))         #1\n",
    "print(int('3.5'))       #error\n",
    "print(int(3.5))         #3\n",
    "print(float('3.5'))     #3.5\n",
    "\n",
    "#int-> str : 모두 가능\n",
    "print(str(1)+'등')"
   ]
  }
 ],
 "metadata": {
  "kernelspec": {
   "display_name": "Python 3",
   "language": "python",
   "name": "python3"
  },
  "language_info": {
   "codemirror_mode": {
    "name": "ipython",
    "version": 3
   },
   "file_extension": ".py",
   "mimetype": "text/x-python",
   "name": "python",
   "nbconvert_exporter": "python",
   "pygments_lexer": "ipython3",
   "version": "3.12.3"
  }
 },
 "nbformat": 4,
 "nbformat_minor": 2
}
