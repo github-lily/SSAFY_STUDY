{
 "cells": [
  {
   "cell_type": "markdown",
   "metadata": {},
   "source": [
    "# 연산자\n",
    "\n",
    "#### 산술 연산자\n",
    "\n",
    "|     기호    \t|           연산자          \t|\n",
    "|:-----------:\t|:-------------------------:\t|\n",
    "|       -     \t|         음수   부호       \t|\n",
    "|       +     \t|            덧셈           \t|\n",
    "|       -     \t|            뺄셈           \t|\n",
    "|       *     \t|            곱셈           \t|\n",
    "|       /     \t|           나눗셈          \t|\n",
    "|      //     \t|     정수   나눗셈 (몫)    \t|\n",
    "|       %     \t|           나머지          \t|\n",
    "|      **     \t|      지수   (거듭제곱)    \t|\n",
    "\n",
    "\n",
    "\n",
    "#### 복합 연산자\n",
    "\n",
    "- 연산과 할당을 함께 함\n",
    "\n",
    "\n",
    "|     기호    \t|         예시         \t|          의미           \t|\n",
    "|:-----------:\t|:----------------:\t|:-------------------:\t|\n",
    "|      +=     \t|      a   += b    \t|      a   = a + b    \t|\n",
    "|      -=     \t|      a   -= b    \t|      a   = a - b    \t|\n",
    "|      *=     \t|      a   *= b    \t|      a   = a * b    \t|\n",
    "|      /=     \t|      a   /= b    \t|      a   = a / b    \t|\n",
    "|      //=    \t|     a   //= b    \t|     a   = a // b    \t|\n",
    "|      %=     \t|      a   %= b    \t|      a   = a % b    \t|\n",
    "|      **=    \t|     a   **= b    \t|     a   = a ** b    \t|\n",
    "\n",
    "\n"
   ]
  },
  {
   "cell_type": "markdown",
   "metadata": {},
   "source": [
    "#### 비교 연산자\n",
    "\n",
    "\n",
    "|       기호      \t|         내용       \t|\n",
    "|:---------------:\t|:------------------:\t|\n",
    "|         <       \t|         미만       \t|\n",
    "|        <=       \t|         이하       \t|\n",
    "|         >       \t|         초과       \t|\n",
    "|        >=       \t|         이상       \t|\n",
    "|        ==       \t|         같음       \t|\n",
    "|        !=       \t|     같지   않음    \t|\n",
    "|        is       \t|         같음       \t|\n",
    "|     is   not    \t|     같지   않음    \t|\n",
    "\n",
    "\n",
    "- is 비교 연산자\n",
    "    - 메모리 내에서 같은 객체를 참조하는지 확인\n",
    "    - ==는 동등성(equality), is는 식별성(identity)\n",
    "    - 값을 비교하는 ==과 다름"
   ]
  },
  {
   "cell_type": "code",
   "execution_count": 1,
   "metadata": {},
   "outputs": [
    {
     "name": "stdout",
     "output_type": "stream",
     "text": [
      "False\n",
      "True\n",
      "False\n",
      "False\n",
      "True\n",
      "False\n",
      "False\n"
     ]
    },
    {
     "name": "stderr",
     "output_type": "stream",
     "text": [
      "<>:10: SyntaxWarning: \"is\" with 'int' literal. Did you mean \"==\"?\n",
      "<>:11: SyntaxWarning: \"is\" with 'int' literal. Did you mean \"==\"?\n",
      "<>:10: SyntaxWarning: \"is\" with 'int' literal. Did you mean \"==\"?\n",
      "<>:11: SyntaxWarning: \"is\" with 'int' literal. Did you mean \"==\"?\n",
      "C:\\Users\\jhc03\\AppData\\Local\\Temp\\ipykernel_22456\\4181586380.py:10: SyntaxWarning: \"is\" with 'int' literal. Did you mean \"==\"?\n",
      "  print(1 is True) # False\n",
      "C:\\Users\\jhc03\\AppData\\Local\\Temp\\ipykernel_22456\\4181586380.py:11: SyntaxWarning: \"is\" with 'int' literal. Did you mean \"==\"?\n",
      "  print(2 is 2.0)  # False\n"
     ]
    }
   ],
   "source": [
    "print(3 > 6) # False\n",
    "print(2.0 == 2) # True\n",
    "print(2 != 2) # False\n",
    "print('HI' == 'hi') # False\n",
    "print(1 == True) # True\n",
    "\n",
    "\n",
    "print(1 is True) # False\n",
    "print(2 is 2.0)  # False\n",
    "# SyntaxWarning: \"is\" with a literal. Did you mean \"==\"?\n",
    "# ==은 값(데이터)을 비교하는 것이지만 is는 레퍼런스(주소)를 비교하기 때문\n",
    "# 위 조건은 항상 False이기 때문에 is 대신 ==를 사용해야 한다는 것을 알림"
   ]
  },
  {
   "cell_type": "markdown",
   "metadata": {},
   "source": [
    "#### 논리 연산자\n",
    "\n",
    "|     기호    \t|      연산자     \t|                                        내용                                       \t|\n",
    "|:-----------:\t|:---------------:\t|:---------------------------------------------------------------------------------:\t|\n",
    "|      and    \t|      논리곱     \t|       두   피연산자 모두 True인   경우에만      전체   표현식을 True로   평가     \t|\n",
    "|      or     \t|      논리합     \t|     두   피연산자 중 하나라도 True인   경우      전체   표현식을 True로   평가    \t|\n",
    "|      not    \t|     논리부정    \t|                               단일   피연산자를 부정                              \t|\n"
   ]
  },
  {
   "cell_type": "markdown",
   "metadata": {},
   "source": [
    "# 단축평가\n",
    "- 논리 연산에서 두 번째 피연산자를 평가하지 않고 결과를 결정하는 동작\n",
    "- 코드 실행을 최적화하고 불필요한 연산을 피하기 위해 사용함  \n",
    "- and\n",
    "    - 첫 번째 피연산자가 False인 경우  \n",
    "        : 전체 표현식은 False, 두번째 피연산자는 그 값이 무시됨\n",
    "    - 첫 번째 피연산자가 True인 경우  \n",
    "        : 전체 표현식의 결과는 두 번째 피연산자에 의해 결정  \n",
    "        : 두 번째 피연산자가 평가되고 그 결과가 전체 표현식의 결과로 반환\n",
    "\n",
    "- or\n",
    "    - 첫 번째 피연산자가 True인 경우  \n",
    "        : 전체 표현식은 True, 두 번째 피연산자는 평가되지 않고 그 값이 무시됨\n",
    "    - 첫 번째 피연산자가 False인 경우  \n",
    "        : 전체 표현식은 두번째 피연산자에 의해 결정됨  \n",
    "        : 두 번째 피연산자가 평가되고 그 결과가 전체 표현식의 결과로 반환\n"
   ]
  },
  {
   "cell_type": "code",
   "execution_count": null,
   "metadata": {},
   "outputs": [],
   "source": [
    "\n",
    "#return값 확인 연습\n",
    "print(3 and 5)      #3이 T라서 5를 return\n",
    "print(3 and 0)      #3이 T라서 0을 return\n",
    "print(0 and 3)      #0이 F라서 0을 return(0에서 끝남)\n",
    "print(0 and 0)      #앞의 0\n",
    "\n",
    "\n",
    "print(5 or 3)       #5가 T라서 뒤 안봄, 5 return\n",
    "print(3 or 0)       #3이 T라서 뒤 안봄, 3 return\n",
    "print(0 or 3)       #0이 F라서 3까지 감, 3 return\n",
    "print(0 or 0)       #뒤의 0\n",
    "\n",
    "vowels = 'aeiou'\n",
    "\n",
    "print(('a'and'b') in vowels)            #F\n",
    "print(('b'and'a') in vowels)            #T\n",
    "\n",
    "'''\n",
    "()안에 먼저 계산함!\n",
    "1) 빈 문자열이 아니면 True로 취급\n",
    "2) and 연산자의 경우, 첫번째 피연산자가 True 이므로 두번째 피연산자를 return\n",
    "3) 즉 ('a'and'b') 는 'b'를 return\n",
    "4) print('b' in vowels)가 되고 결과는 F\n",
    "\n",
    "\n",
    "1) 빈 문자열이 아니면 True로 취급\n",
    "2) ('b'and'a') 에서 'b'가 문자열이라 True, 뒤에있는 a를 return\n",
    "3) print('a' in vowels)가 되고 결과는 T\n",
    "\n",
    "'''\n"
   ]
  },
  {
   "cell_type": "markdown",
   "metadata": {},
   "source": [
    "# 멤버십 연산자\n",
    "- 특정 값이 시퀀스나 다른 컬렉션에 속하는지 여부를 확인\n",
    "\n",
    "|       기호      \t|                                    내용                                  \t|\n",
    "|:---------------:\t|:------------------------------------------------------------------------:\t|\n",
    "|        in       \t|        왼쪽   피연산자가 오른쪽 피연산자의 시퀀스에 속하는지를 확인      \t|\n",
    "|     not   in    \t|     왼쪽   피연산자가 오른쪽 피연산자의 시퀀스에 속하지 않는지를 확인    \t|\n",
    "\n"
   ]
  },
  {
   "cell_type": "markdown",
   "metadata": {},
   "source": [
    "# 시퀀스형 연산자\n",
    "- + : 결합 연산자\n",
    "- * : 반복 연산자"
   ]
  },
  {
   "cell_type": "code",
   "execution_count": 2,
   "metadata": {},
   "outputs": [
    {
     "name": "stdout",
     "output_type": "stream",
     "text": [
      "[1, 2, 'ab']\n",
      "[1, 2, 1, 2]\n"
     ]
    }
   ],
   "source": [
    "print([1,2]+['a'+'b'])\n",
    "print([1,2]*2)"
   ]
  },
  {
   "cell_type": "markdown",
   "metadata": {},
   "source": [
    "# 연산자 우선순위\n",
    "\n",
    "|     우선순위    \t|             연산자            \t|               내용             \t|\n",
    "|:---------------:\t|:-----------------------------:\t|:------------------------------:\t|\n",
    "|       높음      \t|               ()              \t|        소괄호   grouping       \t|\n",
    "|                 \t|               []              \t|        인덱싱,   슬라이싱      \t|\n",
    "|                 \t|               **              \t|             거듭제곱           \t|\n",
    "|                 \t|             +,   -            \t|     단항   연산자 양수/음수    \t|\n",
    "|                 \t|          *,   /, //, %        \t|          산술   연산자         \t|\n",
    "|                 \t|             +,   -            \t|          산술   연산자         \t|\n",
    "|                 \t|     <,   <=, >, >=, ==, !=    \t|          비교   연산자         \t|\n",
    "|                 \t|          is,   is not         \t|           객체   비교          \t|\n",
    "|                 \t|          in,   not in         \t|         멤버십   연산자        \t|\n",
    "|                 \t|               not             \t|           논리   부정          \t|\n",
    "|                 \t|               and             \t|            논리   AND          \t|\n",
    "|       낮음      \t|               or              \t|            논리   OR           \t|\n"
   ]
  }
 ],
 "metadata": {
  "kernelspec": {
   "display_name": "Python 3",
   "language": "python",
   "name": "python3"
  },
  "language_info": {
   "codemirror_mode": {
    "name": "ipython",
    "version": 3
   },
   "file_extension": ".py",
   "mimetype": "text/x-python",
   "name": "python",
   "nbconvert_exporter": "python",
   "pygments_lexer": "ipython3",
   "version": "3.12.3"
  }
 },
 "nbformat": 4,
 "nbformat_minor": 2
}
