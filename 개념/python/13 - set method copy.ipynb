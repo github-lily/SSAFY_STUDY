{
 "cells": [
  {
   "cell_type": "markdown",
   "metadata": {},
   "source": [
    "### 세트 `set`\n",
    "- 고유한 항목들의 정렬되지 않은 컬렉션"
   ]
  },
  {
   "cell_type": "markdown",
   "metadata": {},
   "source": [
    "#### 세트 메서드\n",
    "|           메서드          \t|                                설명                               \t|\n",
    "|:-------------------------:\t|:-----------------------------------------------------------------:\t|\n",
    "|          s.add(x)         \t|     세트 s에 항목   x를 추가. 이미   x가 있다면 변화 없음         \t|\n",
    "|          s.clear()        \t|     세트 s의   모든 항목을   제거                                 \t|\n",
    "|         s.remove(x)       \t|     세트 s에서   항목 x를 제거. 항목   x가 없을 경우 Key error    \t|\n",
    "|           s.pop()         \t|     세트 s에서   랜덤하게 항목을 반환하고,   해당 항목을 제거     \t|\n",
    "|        s.discard(x)       \t|     세트 s에서   항목 x를 제거                                    \t|\n",
    "|     s.update(iterable)    \t|     세트 s에   다른 iterable 요소를   추가                        \t|"
   ]
  },
  {
   "cell_type": "markdown",
   "metadata": {},
   "source": [
    "##### .add(x) ★\n",
    "- 세트에 x를 추가 \n",
    "\n",
    "    ```python\n",
    "    my_set = {'a', 'b', 'c', 1, 2, 3}\n",
    "\n",
    "    my_set.add(4)\n",
    "    print(my_set)  # {'b', 1, 'c', 2, 3, 4, 'a'}\n",
    "    \n",
    "    my_set.add(4)\n",
    "    print(my_set)  # {'b', 1, 'c', 2, 3, 4, 'a'}\n",
    "    ```"
   ]
  },
  {
   "cell_type": "markdown",
   "metadata": {},
   "source": [
    "##### .clear()\n",
    "- 세트의 모든 항목을 제거\n",
    "\n",
    "    ```py\n",
    "    my_set = {'a', 'b', 'c', 1, 2, 3}\n",
    "    \n",
    "    my_set.clear()\n",
    "    print(my_set)  # set()\n",
    "    ```"
   ]
  },
  {
   "cell_type": "markdown",
   "metadata": {},
   "source": [
    "##### .remove(x) ★\n",
    "- 세트에서 항목 x를 제거\n",
    "\n",
    "    ```python\n",
    "    my_set = {'a', 'b', 'c', 1, 2, 3}\n",
    "    \n",
    "    my_set.remove(2)\n",
    "    print(my_set)  # {'b', 1, 3, 'c', 'a'}\n",
    "    \n",
    "    my_set.remove(10)\n",
    "    print(my_set)  # KeyError\n",
    "    ```"
   ]
  },
  {
   "cell_type": "markdown",
   "metadata": {},
   "source": [
    "##### .discard()\n",
    "- 세트 s에서 항목 x를 제거. remove와 달리 에러 없음\n",
    "\n",
    "    ```python\n",
    "    my_set = {1, 2, 3}\n",
    "    \n",
    "    my_set.discard(2)\n",
    "    print(my_set)  # {1, 3}\n",
    "    \n",
    "    my_set.discard(10)\n",
    "    ```"
   ]
  },
  {
   "cell_type": "markdown",
   "metadata": {},
   "source": [
    "##### .pop()\n",
    "- 세트에서 <span style='color:red;'>임의의</span> 요소를 제거하고 <span style='color:red;'>반환</span>\n",
    "\n",
    "    ```py\n",
    "    my_set = {'a', 'b', 'c', 1, 2, 3}\n",
    "    \n",
    "    element = my_set.pop()\n",
    "    print(element)  # 1\n",
    "    print(my_set)  # {2, 3, 'b', 'a', 'c'}\n",
    "    ```"
   ]
  },
  {
   "cell_type": "markdown",
   "metadata": {},
   "source": [
    "##### .update(iterable)\n",
    "- 세트에 다른 iterable 요소를 추가\n",
    "\n",
    "    ```py\n",
    "    my_set = {'a', 'b', 'c', 1, 2, 3}\n",
    "    \n",
    "    my_set.update([1, 4, 5])\n",
    "    print(my_set)  # {1, 2, 3, 'c', 4, 5, 'b', 'a'}\n",
    "    ```"
   ]
  },
  {
   "cell_type": "markdown",
   "metadata": {},
   "source": [
    "#### 세트의 집합 메서드\n",
    "|              메서드            \t|                                         설명                                       \t|         연산자        \t|\n",
    "|:------------------------------:\t|:----------------------------------------------------------------------------------:\t|:---------------------:\t|\n",
    "|      set1.difference(set2)     \t|        set1에는 들어있지만 set2에는      없는   항목으로 세트를 생성 후 반환       \t|      set1   – set2    \t|\n",
    "|     set1.intersection(set2)    \t|           set1과 set2 모두   들어있는 항목으로      세트를   생성 후 반환          \t|     set1   & set 2    \t|\n",
    "|       set1.issubset(set2)      \t|               set1의 항목이 모두 set2에 들어있으면      True를   반환              \t|     set1   <= set2    \t|\n",
    "|      set1.issuperset(set2)     \t|               set1가 set2의   항목을 모두 포함하면      True를   반환              \t|     set1   >= set2    \t|\n",
    "|         set1.union(set2)       \t|     set1 또는 set2에(혹은   둘 다) 들어있는      항목으로   세트를 생성 후 반환    \t|     set1   \\| set2    \t|"
   ]
  },
  {
   "cell_type": "markdown",
   "metadata": {},
   "source": [
    "##### 세트의 집합 메서드\n",
    "```py\n",
    "set1 = {0, 1, 2, 3, 4}\n",
    "set2 = {1, 3, 5, 7, 9}\n",
    "\n",
    "print(set1.difference(set2))  # {0, 2, 4}\n",
    "print(set1.intersection(set2))  # {1, 3}\n",
    "print(set1.issubset(set2))  # False\n",
    "print(set1.issuperset(set2))  # False\n",
    "print(set1.union(set2))  # {0, 1, 2, 3, 4, 5, 7, 9}\n",
    "```"
   ]
  }
 ],
 "metadata": {
  "language_info": {
   "name": "python"
  }
 },
 "nbformat": 4,
 "nbformat_minor": 2
}
