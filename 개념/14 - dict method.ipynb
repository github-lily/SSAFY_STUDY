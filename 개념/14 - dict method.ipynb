{
 "cells": [
  {
   "cell_type": "markdown",
   "metadata": {},
   "source": [
    "### 딕셔너리 `dictionary`\n",
    "- 고유한 항목들의 정렬되지 않은 컬렉션\n"
   ]
  },
  {
   "cell_type": "markdown",
   "metadata": {},
   "source": [
    "#### 딕셔너리 메서드\n",
    "|            메서드           \t|                                                                                설명                                                                              \t|\n",
    "|:---------------------------:\t|:----------------------------------------------------------------------------------------------------------------------------------------------------------------:\t|\n",
    "|           D.clear()         \t|     딕셔너리 D의   모든 키/값 쌍을 제거                                                                                                                          \t|\n",
    "|           D.get(k)          \t|     키 k에   연결된 값을 반환 (키가 없으면 None을 반환)                                                                                                          \t|\n",
    "|         D.get(k,   v)       \t|     키 k에   연결된 값을 반환하거나 키가 없으면 기본 값으로 v를 반환                                                                                             \t|\n",
    "|           D.keys()          \t|     딕셔너리 D의   키를 모은 객체를 반환                                                                                                                         \t|\n",
    "|          D.values()         \t|     딕셔너리 D의   값을 모은 객체를 반환                                                                                                                         \t|\n",
    "|           D.items()         \t|     딕셔너리 D의   키/값 쌍을 모은 객체를 반환                                                                                                                   \t|\n",
    "|           D.pop(k)          \t|     딕셔너리 D에서   키 k를 제거하고 연결됐던 값을 반환 (없으면   오류)                                                                                          \t|\n",
    "|         D.pop(k,   v)       \t|     딕셔너리 D에서   키 k를 제거하고 연결됐던 값을 반환 (없으면   v를 반환)                                                                                      \t|\n",
    "|        D.setdefault(k)      \t|     딕셔너리 D에서   키 k와 연결된 값을 반환                                                                                                                     \t|\n",
    "|     D.setdefault(k,   v)    \t|     딕셔너리 D에서   키 k와 연결된 값을 반환     k가   D의 키가 아니면 값 v와   연결한 키 k를 D에   추가하고 v를 반환                                            \t|\n",
    "|        D.update(other)      \t|     other 내 각 키에 대해 D에   있는 키면 D에 있는 그 키의 값을 other에 있는 값으로 대체.     other에 있는 각 키에 대해 D에   없는 키면 키/값 쌍을 D에   추가    \t|"
   ]
  },
  {
   "cell_type": "markdown",
   "metadata": {},
   "source": [
    "##### .clear()\n",
    "- 딕셔너리 D의 모든 키/값 쌍을 제거\n",
    "\n",
    "    ```py\n",
    "    person = {'name': 'Alice', 'age': 25}\n",
    "    person.clear()\n",
    "    print(person)  # {}\n",
    "    ```"
   ]
  },
  {
   "cell_type": "markdown",
   "metadata": {},
   "source": [
    "##### .get(key[,default]) ★\n",
    "- 키 연결된 값을 반환하거나 키가 없으면 None 혹은 기본 값을 반환\n",
    "\n",
    "    ```py\n",
    "    person = {'name': 'Alice', 'age': 25}\n",
    "\n",
    "    print(person.get('name'))  # Alice\n",
    "    print(person.get('country'))  # None\n",
    "    print(person.get('country', 'Unknown'))  # Unknown\n",
    "    ```"
   ]
  },
  {
   "cell_type": "markdown",
   "metadata": {},
   "source": [
    "##### .keys() ★\n",
    "- 딕셔너리 키를 모은 객체를 반환\n",
    "\n",
    "    ```python\n",
    "    person = {'name': 'Alice', 'age': 25}\n",
    "    print(person.keys())  # dict_keys(['name', 'age’])\n",
    "\n",
    "    for k in person.keys():\n",
    "        print(k)\n",
    "    \"\"\"\n",
    "    name\n",
    "    age\n",
    "    \"\"\"\n",
    "    ```"
   ]
  },
  {
   "cell_type": "markdown",
   "metadata": {},
   "source": [
    "##### .values() ★\n",
    "- 딕셔너리 값을 모은 객체를 반환\n",
    "\n",
    "    ```py\n",
    "    person = {'name': 'Alice', 'age': 25}\n",
    "    print(person.keys())  # dict_keys(['name', 'age’])\n",
    "\n",
    "    for v in person.values():\n",
    "        print(v)\n",
    "    \"\"\"\n",
    "    Alice\n",
    "    25\n",
    "    \"\"\"\n",
    "    ```"
   ]
  },
  {
   "cell_type": "markdown",
   "metadata": {},
   "source": [
    "##### .items() ★\n",
    "- 딕셔너리 키/값 쌍을 모은 객체를 반환\n",
    "\n",
    "    ```python\n",
    "    person = {'name': 'Alice', 'age': 25}\n",
    "    \n",
    "    print(person.items())  # dict_items([('name', 'Alice'), ('age', 25)])\n",
    "    for k, v in person.items():\n",
    "        print(k, v)\n",
    "    \"\"\"\n",
    "    name Alice\n",
    "    age 25\n",
    "    \"\"\"\n",
    "    ```"
   ]
  },
  {
   "cell_type": "markdown",
   "metadata": {},
   "source": [
    "##### .pop(key[,default]) ★\n",
    "- 키를 제거하고 연결됐던 값을 반환 (없으면 에러나 default 를 반환)\n",
    "\n",
    "    ```py\n",
    "    person = {'name': 'Alice', 'age': 25}\n",
    "    \n",
    "    print(person.pop('age'))  # 25\n",
    "    print(person)  # {'name': 'Alice'}\n",
    "    print(person.pop('country', None))  # None\n",
    "    print(person.pop('country'))  # KeyError\n",
    "    ```"
   ]
  },
  {
   "cell_type": "markdown",
   "metadata": {},
   "source": [
    "##### .setdefault(key[,default])\n",
    "- 키와 연결된 값을 반환 <br>\n",
    "키가 없다면 default와 연결한 키를 딕셔너리에 추가하고 default를 반환\n",
    "\n",
    "    ```python\n",
    "    person = {'name': 'Alice', 'age': 25}\n",
    "\n",
    "    print(person.setdefault('country', 'KOREA'))  # KOREA\n",
    "    print(person)  # {'name': 'Alice', 'age': 25, 'country': 'KOREA'}\n",
    "    ```"
   ]
  },
  {
   "cell_type": "markdown",
   "metadata": {},
   "source": [
    "##### .update([other])\n",
    "- other가 제공하는 키/값 쌍으로 딕셔너리를 갱신 <br>\n",
    "기존 키는 덮어씀\n",
    "\n",
    "    ```py\n",
    "    person = {'name': 'Alice', 'age': 25}\n",
    "    other_person = {'name': 'Jane', 'gender': 'Female'}\n",
    "\n",
    "    person.update(other_person)\n",
    "    print(person)  # {'name': 'Jane', 'age': 25, 'gender': 'Female'}\n",
    "\n",
    "    person.update(age=50)\n",
    "    print(person)  # {'name': 'Jane', 'age': 50, 'gender': 'Female'}\n",
    "\n",
    "    person.update(country='KOREA')\n",
    "    print(person)  # {'name': 'Jane', 'age': 50, 'gender': 'Female', 'country': 'KOREA'}\n",
    "    ```\n"
   ]
  }
 ],
 "metadata": {
  "language_info": {
   "name": "python"
  }
 },
 "nbformat": 4,
 "nbformat_minor": 2
}
