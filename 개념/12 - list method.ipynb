{
 "cells": [
  {
   "cell_type": "markdown",
   "metadata": {},
   "source": [
    "#### 리스트 값 추가 및 삭제 메서드\n",
    "|          메서드         \t|                                                   설명                                                  \t|\n",
    "|:-----------------------:\t|:-------------------------------------------------------------------------------------------------------:\t|\n",
    "|        L.append(x)      \t|     리스트   마지막에 항목 x를   추가                                                                   \t|\n",
    "|        L.extend(m)      \t|     Iterable m의   모든 항목들을 리스트 끝에 추가 (+=과   같은 기능)                                    \t|\n",
    "|     L.insert(i,   x)    \t|     리스트   인덱스 i에 항목 x를 삽입                                                                   \t|\n",
    "|        L.remove(x)      \t|     리스트   가장 왼쪽에 있는 항목(첫 번째)   x를   제거     항목이 존재하지 않을 경우,   ValueError    \t|\n",
    "|          L.pop()        \t|     리스트   가장 오른쪽에 있는 항목(마지막)을   반환 후 제거                                           \t|\n",
    "|         L.pop(i)        \t|     리스트의 인덱스 i에   있는 항목을 반환 후 제거                                                      \t|\n",
    "|         L.clear()       \t|     리스트의 모든 항목 삭제                                                                             \t|"
   ]
  },
  {
   "cell_type": "markdown",
   "metadata": {},
   "source": [
    "##### .append(x)\n",
    "- 리스트 마지막에 항목 x를 추가\n",
    "\n",
    "    ```python\n",
    "    my_list = [1, 2, 3]\n",
    "    my_list.append(4)\n",
    "    print(my_list) # [1, 2, 3, 4]\n",
    "    ```"
   ]
  },
  {
   "cell_type": "markdown",
   "metadata": {},
   "source": [
    "##### .extend(iterable)\n",
    "- 리스트에 다른 반복 가능한 객체의 모든 항목을 추가\n",
    "    \n",
    "    ```py\n",
    "    my_list = [1, 2, 3]\n",
    "    my_list.extend([4, 5, 6])\n",
    "    print(my_list) # [1, 2, 3, 4, 5, 6]\n",
    "    ```"
   ]
  },
  {
   "cell_type": "markdown",
   "metadata": {},
   "source": [
    "##### .insert(i, x)\n",
    "- 리스트의 지정한 인덱스 I 위치에 항목 x를 삽입\n",
    "    \n",
    "    ```python\n",
    "    my_list = [1, 2, 3]\n",
    "    my_list.insert(1, 5)\n",
    "    print(my_list) # [1, 5, 2, 3]\n",
    "    ```"
   ]
  },
  {
   "cell_type": "markdown",
   "metadata": {},
   "source": [
    "##### .remove(x)\n",
    "- 리스트에서 첫 번째로 일치하는 항목을 삭제\n",
    "    \n",
    "    ```python\n",
    "    my_list = [1, 2, 3]\n",
    "    my_list.remove(2)\n",
    "    print(my_list)  # [1, 3]\n",
    "    ```\n",
    "    - 없으면 ValueError"
   ]
  },
  {
   "cell_type": "markdown",
   "metadata": {},
   "source": [
    "##### .clear()\n",
    "- 리스트의 모든 항목을 삭제\n",
    "\n",
    "    ```py\n",
    "    my_list = [1, 2, 3]\n",
    "    my_list.clear()\n",
    "    print(my_list) # []\n",
    "    ```"
   ]
  },
  {
   "cell_type": "markdown",
   "metadata": {},
   "source": [
    "##### .pop(i)\n",
    "- 리스트에서 지정한 인덱스의 항목을 제거하고 반환  \n",
    "작성하지 않을 경우 마지막 항목을 제거 \n",
    "\n",
    "    ```py\n",
    "    my_list = [1, 2, 3, 4, 5]\n",
    "    \n",
    "    item1 = my_list.pop()\n",
    "    item2 = my_list.pop(0)\n",
    "    \n",
    "    print(item1) # 5\n",
    "    print(item2) # 1\n",
    "    print(my_list) # [2, 3, 4]\n",
    "    ```"
   ]
  },
  {
   "cell_type": "markdown",
   "metadata": {},
   "source": [
    "\n",
    "#### 리스트 탐색 및 정렬 메서드\n",
    "\n",
    "|               문법              \t|                                   설명                                 \t|\n",
    "|:-------------------------------:\t|:----------------------------------------------------------------------:\t|\n",
    "|     L.index(x)    \t|     리스트에   있는 항목 중 가장 왼쪽에 있는 항목 x의 인덱스를 반환    \t|\n",
    "|            L.count(x)           \t|     리스트에서 항목   x의 개수를 반환                                  \t|\n",
    "|            L.reverse()          \t|     리스트의 순서를 역순으로 변경 (정렬 X)|\n",
    "|             L.sort()            \t|     리스트를 정렬 (매개변수   이용가능)                                \t|\n"
   ]
  },
  {
   "cell_type": "markdown",
   "metadata": {},
   "source": [
    "##### .index(x)\n",
    "- 리스트에서 첫 번째로 일치하는 항목의 인덱스를 반환\n",
    "    \n",
    "    ```python\n",
    "    my_list = [1, 2, 3]\n",
    "    index = my_list.index(2)\n",
    "    print(index)  # 1\n",
    "    ```"
   ]
  },
  {
   "cell_type": "markdown",
   "metadata": {},
   "source": [
    "##### .count(x)\n",
    "- 리스트에서 항목 x가 등장하는 횟수를 반환\n",
    "\n",
    "    ```py\n",
    "    my_list = [1, 2, 2, 3, 3, 3]\n",
    "    count = my_list.count(3)\n",
    "    print(count)  # 3\n",
    "    ```"
   ]
  },
  {
   "cell_type": "markdown",
   "metadata": {},
   "source": [
    "##### .reverse()\n",
    "- 리스트의 순서를 역순으로 변경(정렬 X)\n",
    "\n",
    "    ```py\n",
    "    my_list = [1, 3, 2, 8, 1, 9]\n",
    "    my_list.reverse()\n",
    "    print(my_list)  # [9, 1, 8, 2, 3, 1]\n",
    "    ```\n"
   ]
  },
  {
   "cell_type": "markdown",
   "metadata": {},
   "source": [
    "##### .sort()\n",
    "- 원본 리스트를 오름차순으로 정렬\n",
    "\n",
    "    ```python\n",
    "    my_list = [3, 2, 1]\n",
    "    my_list.sort()\n",
    "    print(my_list)  # [1, 2, 3]\n",
    "\n",
    "    # 내림차순\n",
    "    my_list.sort(reverse=True)\n",
    "    print(my_list)  # [3, 2, 1]\n",
    "    ```"
   ]
  }
 ],
 "metadata": {
  "language_info": {
   "name": "python"
  }
 },
 "nbformat": 4,
 "nbformat_minor": 2
}
