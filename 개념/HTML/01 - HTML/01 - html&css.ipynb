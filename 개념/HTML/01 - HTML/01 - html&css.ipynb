{
 "cells": [
  {
   "cell_type": "markdown",
   "metadata": {},
   "source": [
    "# WEB\n",
    "### 목차\n",
    "- 웹\n",
    "- 웹 구조화\n",
    "  - html\n",
    "  - structure of HTML\n",
    "  - Text Structure\n",
    "- 웹 스타일링\n",
    "  - css\n",
    "  - css 선택자\n",
    "  - 명시도\n",
    "- CSS Box Model\n",
    "  - 박스 타입\n",
    "- 참고\n",
    "  - 명시도 관련\n",
    "  - HTML 스타일 가이드\n",
    "  - CSS 스타일 가이드\n",
    "  - MDN  "
   ]
  },
  {
   "cell_type": "markdown",
   "metadata": {},
   "source": [
    "# 웹\n",
    "- World Wide Web : 인터넷으로 연결된 컴퓨터들이 정보를 공유하는 거대한 정보 공간\n",
    "- Web : web site, web application 등을 통해 사용자들이 정보를 검색하고 상호 작용하는 기술\n",
    "- Web site : 인터넷에서 여러 개의 Web page가 모인 것으로 사용자들에게 정보나 서비스를 제공하는 공간\n",
    "- Web page : HTML, CSS 등의 웹 기술을 이용하여 만들어진, web site를 구성하는 하나의 요소\n",
    "- HTML \n",
    "  - HyperText Markup Language\n",
    "  - 웹 페이지의 의미와 구조를 정의하는 언어\n",
    "- Hypertext\n",
    "  - 웹 페이지를 다른 페이지로 연결하는 링크\n",
    "  - 참조를 통해 사용자가 한 문서에서 다른 문서로 즉시 접근할 수 있는 텍스트\n",
    "  - 특징 : 비선형성, 상호연결성, 사용자 주도적 탐색\n",
    "- Markup Language\n",
    "  - 태그 등을 이용하여 문서나 데이터의 구조를 명시하는 언어\n",
    "  - HTML, Markdown\n",
    "  - ``` <h1></h1>, <p></p>```"
   ]
  },
  {
   "cell_type": "markdown",
   "metadata": {},
   "source": [
    "### Structure of HTML\n",
    "- ```<!DOCTYPE html>```\n",
    "  - 해당 문서가 html로 문서라는 것을 나타냄\n",
    "- ```<html></html>```\n",
    "  - 전체 페이지의 콘텐츠를 포함\n",
    "- ```<title></title>```\n",
    "  - 브라우저 탭 및 즐겨찾기 시 표시되는 제목으로 사용\n",
    "- ```<head></head>```\n",
    "  - HTML 문서에 관련된 설명, 설정 등 컴퓨터가 식별하는 메타데이터를 작성\n",
    "  - 사용자에게 보이지 않음\n",
    "- ```<body></body>```\n",
    "  - HTML 문서의 내용을 나타냄\n",
    "  - 페이지에 표시되는 모든 콘텐츠를 작성\n",
    "  - 한 문서에 하나의 body 요소만 존재\n"
   ]
  },
  {
   "cell_type": "markdown",
   "metadata": {},
   "source": [
    "### HTML Element(요소)\n",
    "- 하나의 요소는 여는 태그와 닫는 태그 그리고 그 안의 내용으로 구성됨\n",
    "- 즉, 태그와 컨텐츠를 합쳐 엘리먼트라고 함\n",
    "- 닫는 태그는 태그 이름 앞에 슬래시가 포함됨\n",
    "  - 닫는 태그가 없는 태그도 존재함\n",
    "\n",
    "### HTML Attributes(속성)\n",
    "- 사용자가 원하는 기준에 맞도록 요소를 설정하거나 다양한 방식으로 요소의 동작을 조절하기 위한 값\n",
    "- 목적\n",
    "  - 나타내고 싶지 않지만 추가적인 기능, 내용을 담고 싶을 때 사용\n",
    "  - css 에서 스타일 적용을 위해 해당 요소를 선택하기 위한 값으로 활용됨\n",
    "- HTML Attributes(속성) 작성 규칙\n",
    "  - 1. 속성은 요소 이름과 속성 사이에 공백이 있어야 함\n",
    "    - html은 ,가 없음 띄어쓰기로 구분함\n",
    "  - 2. 하나 이상의 속성들이 있는 경우엔 속성 사이에 공백으로 구분함\n",
    "  - 3. 속성 값은 열고 닫는 따옴표(\"\")로 감싸야 함"
   ]
  },
  {
   "cell_type": "markdown",
   "metadata": {},
   "source": [
    "### HTML Attributes(속성) 작성 규칙\n",
    "1. 속성은 요소 이름과 속성 사이에 공백이 있어야 함\n",
    "  - html은 ,가 없음 띄어쓰기로 구분함\n",
    "2. 하나 이상의 속성들이 있는 경우엔 속성 사이에 공백으로 구분함\n",
    "3. 속성 값은 열고 닫는 따옴표(\"\")로 감싸야 함\n",
    "```html\n",
    "<p class = >\n",
    "<img src = \"\" alt=\"이미지가 출력되지 않을 때 보여질 대체 텍스트, 시각장애인 분들 웹리더에 읽힐 수 있도록 넣어줘야 함\">"
   ]
  },
  {
   "cell_type": "markdown",
   "metadata": {},
   "source": [
    "# Text Structure\n",
    "- HTML의 주요 목적 중 하나는 텍스트 구조와 의미를 제공하는 것\n",
    "- HTML : HyperText Markup Language\n",
    "     - 웹 페이지의 **의미**와 구조를 정의하는 언어"
   ]
  },
  {
   "cell_type": "markdown",
   "metadata": {},
   "source": [
    "### h1 태그 \n",
    "- h1 요소는 단순히 텍스트를 크게만 만드는 것이 아닌\n",
    "- 현재 문서의 최상위 제목이라는 의미를 부여하는 것\n",
    "- 따로 스타일을 지정해주지 않아도 사이즈가 큼\n",
    "- h2, h3로 갈 수록 중제목 소제목으로 떨어짐\n",
    "\n",
    "### 리스트\n",
    "- ol : ordered list, 순서가 있는 리스트\n",
    "- ul : un ordered list. 순서가 없는 리스트\n",
    "- li : 리스트 내용\n",
    "\n",
    "###\n",
    "- ;값의 끝을 의미함\n",
    "\n",
    "\n",
    "### p\n",
    "- 문단을 의미함\n",
    "\n",
    "\n",
    "### 기타\n",
    "- 내용이 필요한 태그면 닫는 태그가 있고, 없으면 닫는 태그가 없음\n",
    "- 암기할 필요는 없음, 태그들 역할만 알면 됨"
   ]
  }
 ],
 "metadata": {
  "kernelspec": {
   "display_name": "Python 3",
   "language": "python",
   "name": "python3"
  },
  "language_info": {
   "codemirror_mode": {
    "name": "ipython",
    "version": 3
   },
   "file_extension": ".py",
   "mimetype": "text/x-python",
   "name": "python",
   "nbconvert_exporter": "python",
   "pygments_lexer": "ipython3",
   "version": "3.9.13"
  }
 },
 "nbformat": 4,
 "nbformat_minor": 2
}
