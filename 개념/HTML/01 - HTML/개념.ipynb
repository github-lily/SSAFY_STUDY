{
 "cells": [
  {
   "cell_type": "markdown",
   "metadata": {},
   "source": [
    "# Bootstrap Grid System\n",
    "\n",
    "- 웹 페이지의 레이아웃을 조정하는 데 사용되는 12개의 컬럼으로 구성된 시스템\n",
    "- 12개인 이유\n",
    "  1. 약수가 많다 : 나눌 수 있는 개수의 케이스가 많다.\n",
    "  2. 적당히 큰 수 : 너무 크거나 적으면 불편\n",
    "- 목적\n",
    "  - 반응형 디자인을 지원해 웹 페이지를 모바일, 태블릿, 데스크탑 등 다양한 기기에서 적절하게 표시할 수 있도록 도움\n",
    "- 반응형 웹디자인(Responsive Web Design)\n",
    "  - 디바이스 종류나 화면 크기에 상관없이, 어디서든 일관된 레이아웃 및 사용자 경험을 제공하는 디자인"
   ]
  },
  {
   "cell_type": "markdown",
   "metadata": {},
   "source": [
    "### Grid system 기본 요소\n",
    "1. Container : Column 들을 담고 있는 공간\n",
    "2. Column : 실제 컨텐츠를 포함하는 부분\n",
    "3. Gutter : 컬럼과 컬럼 사이의 여백 영역\n",
    "4. 1개의 row안에 12개의 column 영역이 구성 \n",
    "- 양쪽 여백을 비워둠\n",
    "\n",
    "- row의 최대 너비가 한정되어 있기 때문에 margin으로 밀면 공간 밖으로 밀려나버리기 때문에 패딩으로 조절함"
   ]
  },
  {
   "cell_type": "markdown",
   "metadata": {},
   "source": [
    "그리드 시스템 : 큰 공간을 사이즈에 맞춰 배분\n",
    "플렉스 박스 : 요소들을 행과 열로 정렬\n",
    "포지션 : 요소 하나를 집어서 어딘가에 고정시키는 것"
   ]
  }
 ],
 "metadata": {
  "language_info": {
   "name": "python"
  }
 },
 "nbformat": 4,
 "nbformat_minor": 2
}
