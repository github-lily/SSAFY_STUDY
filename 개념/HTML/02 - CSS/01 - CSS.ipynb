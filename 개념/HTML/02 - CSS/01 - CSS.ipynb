{
 "cells": [
  {
   "cell_type": "markdown",
   "metadata": {},
   "source": [
    "# 웹스타일링\n",
    "\n",
    "## CSS\n",
    "- Cascading Style sheet\n",
    "- 웹 페이지의 디자인과 레이아웃을 구성하는 언어\n",
    "\n",
    "### CSS 적용 방법\n",
    "1. 인라인(Inline) 스타일\n",
    "    - HTML 요소 안에 style 속성 값으로 작성\n",
    "    - ```<h1 style = \"color : blue\">```\n",
    "    - 코드 수정이 어렵기 때문에 자주 사용하지 않음\n",
    "2. 내부(Internal) 스타일 시트\n",
    "    - head 태그 안에 style 태그에 작성\n",
    "    - 가장 많이 사용함\n",
    "3. 외부(External) 스타일 시트\n",
    "    - 별도 CSS 파일 생성 후 HTML link 태그를 사용해 불러옴\n",
    "    - ```<link rel=\"stylesheet\" href=\"style.css\">```"
   ]
  },
  {
   "cell_type": "markdown",
   "metadata": {},
   "source": [
    "## CSS 선택자\n",
    "- HTML 요소를 선택하여 스타일을 적용할 수 있도록 하는 선택자\n",
    "- 전체 선택자(*) : HTML 모든 요소를 선택\n",
    "- 요소(tag) 선택자() : 지정한 모든 태그를 선택, 아무것도 안 쓰고 이름 바로 적음\n",
    "- 클래스 선택자(.) : 주어진 클래스 속성을 가진 모든 요소를 선택\n",
    "- 아이디 선택자(#) : 주어진 아이디 속성을 가진 요소 선택, 문서 내에 주어진 id를 가진 요소는 하나만 있어야 함\n",
    "\n",
    "## CSS 결합자\n",
    "- 자손 결합자( space ) : 첫 번째 요소의 자손 요소 전체를 선택함\n",
    "- 자식 결합자 (>) : 첫 번째 요소의 직계 자식만 선택(한 단계 아래 자식만)\n"
   ]
  },
  {
   "cell_type": "markdown",
   "metadata": {},
   "source": [
    "## 명시도(Specificity)\n",
    "- 결과적으로 요소에 적용할 CSS 선언을 결정하기 위한 알고리즘\n",
    "- CSS Selector에 가중치를 계산하여 어떤 스타일을 적용할지 결정\n",
    "- 동일한 요소를 가리키는 2개 이상의 CSS 규칙이 있는 경우 명시도 순으로 결정됨\n",
    "- 여러가지의 선택자가 있지만 다양하게 사용하면 우선순위를 매번 고려해야하기 떄문에 class 선택자만 사용함\n",
    "\n",
    "#### Cascade : 계단식\n",
    "- 한 요소에 동일한 가중치를 가진 선택자가 적용될 때 CSS에서 마지막에 나오는 선언이 사용됨\n",
    "\n",
    "### 명시도가 높은 순\n",
    "1. importance : !important\n",
    "2. inline 스타일\n",
    "3. 선택자 : id > class > 요소\n",
    "4. 소스 코드 선언 순서\n",
    "\n",
    "- important \n",
    "    - 다른 우선순위 규칙보다 우선하여 적용하는 키워드\n",
    "    - Cascade의 구조를 무시하고 강제로 스타일을 적용하는 방식이므로 권장되는 방법은 아님\n"
   ]
  },
  {
   "cell_type": "markdown",
   "metadata": {},
   "source": [
    "# CSS 상속\n",
    "- 기본적으로 CSS는 상속을 통해 부모 요소의 속성을 자식에게 상속해 재사용성을 높임\n",
    "- 외울 필요는 없고 이해하면 됨\n",
    "- 상속되는 속성\n",
    "    - Text 관련 요소(font, color, text-align), opacity, visiblity 등\n",
    "- 상속되지 않는 속성\n",
    "    - Box model 관련 요소(width, height, border, box-sizing...)\n",
    "    - position 관련 요소(position, top/right/bottom/left, z-index) 등\n"
   ]
  }
 ],
 "metadata": {
  "language_info": {
   "name": "python"
  }
 },
 "nbformat": 4,
 "nbformat_minor": 2
}
