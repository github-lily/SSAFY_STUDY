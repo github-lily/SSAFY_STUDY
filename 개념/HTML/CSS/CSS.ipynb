{
 "cells": [
  {
   "cell_type": "markdown",
   "metadata": {},
   "source": [
    "# CSS Box Model\n",
    "\n",
    "### 박스 타입\n",
    "1. Block box\n",
    "2. inline bow\n",
    "- 박스 타입에 따라 페이지에서의 배치 흐름 및 다른 박스와 관련하여 박스가 동작하는 방식이 달라짐\n",
    "\n",
    "### 박스 표시(Display) 타입\n",
    "1. Outer display type\n",
    "2. Inner display type\n",
    "\n",
    "\n",
    "### Outer display type\n",
    "- 박스가 문서 흐름에서 어떻게 동작할지를 결정\n",
    "- 속성 : black & inline\n",
    "- block 특징\n",
    "  - 항상 새로운 행으로 나뉨\n",
    "  - width 와 height 속성 사용 가능\n",
    "  - padding, margin, border로 인해 다른 요소를 상자로부터 미뤄냄\n",
    "  - width 속성을 지정하지 않으면 박스는 inline 방향으로 사용 가능한 공간을 모두 차지함\n",
    "    - 상위 컨테이너 너비 100%로 채우는 것\n",
    "  - 대표적인 block 타입 태그로는 h1~h6, p, div가 있음\n",
    "- inline 특징\n",
    "  - 새로운 행으로 넘어가지 않음\n",
    "  - width와 height 속성을 사용할 수 없음\n",
    "  - 수직 방향\n",
    "    - padding, margin, border가 적용되지만 다른 요소를 밀어낼 수는 없음\n",
    "  - 수평 방향\n",
    "    - padding, margin, border가 적용되어 다른 요소를 밀어낼 수 있음\n",
    "  - 대표적인 inline 타입 태그\n",
    "    - a, img, span, strong, em\n",
    "- Normal flow\n",
    "  - 일반적인 흐름 또는 레이아웃을 변경하지 않은 경우\n",
    "  - 웹 페이지 요소가 배치되는 방식\n",
    "  \n",
    "  \n"
   ]
  },
  {
   "cell_type": "markdown",
   "metadata": {},
   "source": [
    "# 박스 구성요소\n",
    "- content box\n",
    "  - 실제 콘텐츠가 표시되는 영역 크기\n",
    "  - width 및 height 속성을 사용하여 크기 조정\n",
    "  - 너비 200px 이라 함은 content box의 크기가 200px임을 의미함\n",
    "- Padding box\n",
    "  - 콘텐츠 주위에 공백\n",
    "  - padding 관련 속성을 사용하여 크기 조정\n",
    "- Border box\n",
    "  - 콘텐츠와 패딩을 래핑\n",
    "  - border 관련 속성을 사용하여 크기 조정\n",
    "- Margin box\n",
    "  - 콘텐츠, 페딩 및 테두리를 래핑\n",
    "  - 박스와 다른 요소 사이의 공백\n",
    "  - margin 관련 속성을 사용하여 크기 조정\n",
    "  "
   ]
  },
  {
   "cell_type": "markdown",
   "metadata": {},
   "source": [
    "# inline-block\n",
    "- 요소가 줄 바꿈 되는 것을 원하지 않으면서 너비와 높이를 적용하고 싶은 경우에 사용\n",
    "- inline과 block 요소 사이의 중간 지점을 제공하는 display 값\n",
    "- width 및 height 속성 사용 가능\n",
    "- padding, mar\n"
   ]
  },
  {
   "cell_type": "markdown",
   "metadata": {},
   "source": [
    "# CSS Position\n",
    "- 상하좌우 z축 5가지 방향으로 구성됨\n",
    "- Z축 : 모니터방향. 맨 위로 보내기 맨 아래로 보내기 같은 것\n",
    "- postition의 유형\n",
    "  - static / relative / absolute / fixed / sticky\n",
    "- static\n",
    "  - 요소를 Normal Flow에 따라 배치\n",
    "  - top, right, bottom, left 속성이 적용되지 않음\n",
    "  - 기본값\n",
    "- relative\n",
    "  - 요소를 Normal Flow에 따라 배치\n",
    "  - 자신의 원래 위치(static)을 기준으로 이동\n",
    "  - top, right, bottom, left 속성으로 위치를 조정\n",
    "  - 다른 요소의 레이아웃에 영향을 주지 않음(요소가 차지하는 공간은 static일 때와 같음)\n",
    "- absolute\n",
    "  - 요소를 Normal Flow에서 제거\n",
    "  - 가장 가까운 relative 부모 요소를 기준으로 이동\n",
    "    - 만족하는 부모 요소가 없다면 body 태그를 기준으로 함\n",
    "  - top, right, bottom, left 속성으로 위치를 조정\n",
    "  - 문서에서 요소가 차지하는 공간이 없어짐\n",
    "- fixed\n",
    "  - 요소를 Normal Flow에서 제거\n",
    "  - 현재 화면영역(viewport)을 기준으로 이동\n",
    "  - 스크롤해도 항상 같은 위치에 유지됨\n",
    "  - top, right, bottom, left 속성으로 위치를 조정\n",
    "  - 문서에서 요소가 차지하는 공간이 없어짐\n",
    "- sticky\n",
    "  - relative 와 fixed의 특성을 결합한 속성\n",
    "  - 스크롤 위치가 임계점에 도달하기 전에는 relative 처럼 동작\n",
    "  - 스크롤이 특정 임계점에 도달하면 fixed처럼 동작하여 화면에 고정됨\n",
    "  - 만약 다음 sticky 요소가 고정되어 있던 위치와 다음 sticky 요소가 고정되어야 할 위치가 겹치게 되기 때문\n"
   ]
  },
  {
   "cell_type": "markdown",
   "metadata": {},
   "source": [
    "### z-index\n",
    "- 요소의 쌓임 순서(stack order)를 정의하는 속성\n",
    "- 정수 값을 사용해 z축 순서를 지정\n",
    "- 값이 클수록 요소가 위에 쌓이게 됨\n",
    "- static이 아닌 요소에만 적용됨\n",
    "\n",
    "#### z-index 특징\n",
    "- 기본값은 auto\n",
    "- 부모 요소의 z-index 값에 영향을 받음\n",
    "- 같은 부모 내에서만 z-index 값을 비교\n",
    "- 부모의 z-index가 낮으면 자식의 z-index가 아무리 높아도 부모보다 위로 올라갈 수 없음\n",
    "  - 자식의 z-index를 높이려면 부모것도 함께 조정이 필요함\n",
    "- z-index 값이 같으면 HTML 문서 순서대로 쌓임\n",
    "\n",
    "### Position의 목적\n",
    "- 전체 페이지에 대한 레이아웃을 구성하는 것보다는 페이지 특정 항목의 위치를 조정하는 것\n"
   ]
  },
  {
   "cell_type": "markdown",
   "metadata": {},
   "source": [
    "\n"
   ]
  }
 ],
 "metadata": {
  "language_info": {
   "name": "python"
  }
 },
 "nbformat": 4,
 "nbformat_minor": 2
}
