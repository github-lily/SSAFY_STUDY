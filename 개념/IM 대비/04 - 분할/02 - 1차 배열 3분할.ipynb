{
 "cells": [
  {
   "cell_type": "markdown",
   "metadata": {},
   "source": [
    "# 1차 배열 3분할"
   ]
  },
  {
   "cell_type": "code",
   "execution_count": 5,
   "metadata": {},
   "outputs": [
    {
     "name": "stdout",
     "output_type": "stream",
     "text": [
      "[0] [1] [2, 3, 4]\n",
      "[0] [1, 2] [3, 4]\n",
      "[0] [1, 2, 3] [4]\n",
      "[0, 1] [2] [3, 4]\n",
      "[0, 1] [2, 3] [4]\n",
      "[0, 1, 2] [3] [4]\n"
     ]
    }
   ],
   "source": [
    "N = 5\n",
    "arr = [i for i in range(N)]\n",
    "\n",
    "# 끝 인덱스가 기준\n",
    "for i in range(0, N-3+1) :\n",
    "    for j in range(i+1, N-2+1) :    #i따라 유동적으로 해야하니 i+1\n",
    "        print(arr[:i+1], arr[i+1:j+1], arr[j+1:])"
   ]
  },
  {
   "cell_type": "code",
   "execution_count": 6,
   "metadata": {},
   "outputs": [
    {
     "name": "stdout",
     "output_type": "stream",
     "text": [
      "[0] [1] [2, 3, 4]\n",
      "[0] [1, 2] [3, 4]\n",
      "[0] [1, 2, 3] [4]\n",
      "[0, 1] [2] [3, 4]\n",
      "[0, 1] [2, 3] [4]\n",
      "[0, 1, 2] [3] [4]\n"
     ]
    }
   ],
   "source": [
    "N = 5\n",
    "arr = [i for i in range(N)]\n",
    "\n",
    "# 시작 인덱스 기준\n",
    "for i in range(1,N-2+1) :\n",
    "    for j in range(i+1,N-1+1) :\n",
    "        print(arr[:i],arr[i:j],arr[j:] )"
   ]
  }
 ],
 "metadata": {
  "kernelspec": {
   "display_name": "Python 3",
   "language": "python",
   "name": "python3"
  },
  "language_info": {
   "codemirror_mode": {
    "name": "ipython",
    "version": 3
   },
   "file_extension": ".py",
   "mimetype": "text/x-python",
   "name": "python",
   "nbconvert_exporter": "python",
   "pygments_lexer": "ipython3",
   "version": "3.9.13"
  }
 },
 "nbformat": 4,
 "nbformat_minor": 2
}
