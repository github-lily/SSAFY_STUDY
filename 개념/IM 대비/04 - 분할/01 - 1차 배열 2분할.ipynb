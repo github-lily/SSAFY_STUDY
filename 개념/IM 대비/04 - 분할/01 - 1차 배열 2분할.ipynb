{
 "cells": [
  {
   "cell_type": "markdown",
   "metadata": {},
   "source": [
    "# 1차 배열 2분할"
   ]
  },
  {
   "cell_type": "code",
   "execution_count": 4,
   "metadata": {},
   "outputs": [
    {
     "name": "stdout",
     "output_type": "stream",
     "text": [
      "1 2d\n",
      "1 3d\n",
      "1 4d\n",
      "2 3d\n",
      "2 4d\n",
      "3 4d\n"
     ]
    }
   ],
   "source": [
    "lst = [1, 2, 3, 4]\n",
    "N = len(lst)\n",
    "for i in range(N-1):\n",
    "    for j in range(i + 1, N):\n",
    "        print(lst[i], lst[j])"
   ]
  },
  {
   "cell_type": "code",
   "execution_count": 5,
   "metadata": {},
   "outputs": [
    {
     "name": "stdout",
     "output_type": "stream",
     "text": [
      "[1] [2, 3, 4, 5]\n",
      "[1, 2] [3, 4, 5]\n",
      "[1, 2, 3] [4, 5]\n",
      "[1, 2, 3, 4] [5]\n"
     ]
    }
   ],
   "source": [
    "lst = [1, 2, 3, 4,5]\n",
    "N = len(lst)\n",
    "\n",
    "#첫번째 구간의 끝 인덱스 버전\n",
    "\n",
    "for i in range(0, N-1) :\n",
    "    print(lst[:i+1], lst[i+1:N])"
   ]
  },
  {
   "cell_type": "code",
   "execution_count": 10,
   "metadata": {},
   "outputs": [
    {
     "name": "stdout",
     "output_type": "stream",
     "text": [
      "[0] [1, 2, 3, 4]\n",
      "[0, 1] [2, 3, 4]\n",
      "[0, 1, 2] [3, 4]\n",
      "[0, 1, 2, 3] [4]\n"
     ]
    }
   ],
   "source": [
    "N = 5\n",
    "lst = [i for i in range(N)]\n",
    "\n",
    "#두번째 구간의 첫번째 인덱스 버전\n",
    "\n",
    "for i in range(1,N) :\n",
    "    print(lst[:i], lst[i:])"
   ]
  }
 ],
 "metadata": {
  "kernelspec": {
   "display_name": "Python 3",
   "language": "python",
   "name": "python3"
  },
  "language_info": {
   "codemirror_mode": {
    "name": "ipython",
    "version": 3
   },
   "file_extension": ".py",
   "mimetype": "text/x-python",
   "name": "python",
   "nbconvert_exporter": "python",
   "pygments_lexer": "ipython3",
   "version": "3.9.13"
  }
 },
 "nbformat": 4,
 "nbformat_minor": 2
}
