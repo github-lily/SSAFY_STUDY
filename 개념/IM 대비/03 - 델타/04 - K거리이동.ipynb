{
 "cells": [
  {
   "cell_type": "markdown",
   "metadata": {},
   "source": [
    "# K 만큼 거리 이동"
   ]
  },
  {
   "cell_type": "code",
   "execution_count": null,
   "metadata": {},
   "outputs": [],
   "source": [
    "dr = [-1, 0, 1, 0]\n",
    "dc = [0, 1, 0, -1]\n",
    "\n",
    "N = 7\n",
    "arr = [[0] * N for _ in range(N)]\n",
    "\n",
    "K = 3\n",
    "r = c = 2\n",
    "\n",
    "# ------------------------\n",
    "# 반복문을 이용해서 (r, c)에서 상하좌우 K거리 직선방향\n",
    "arr[r][c] = '*'\n",
    "for i in range(4): # 네방향에 대해\n",
    "    for j in range(1, K + 1): # <-- 거리\n",
    "        nr = r + dr[i]*j\n",
    "        nc = c + dc[i]*j\n",
    "        if not(0 <= nr < N and 0 <= nc < N):\n",
    "            break\n",
    "        arr[nr][nc] = '-'\n",
    "\n",
    "\n",
    "# ------------------------\n",
    "for line in arr:\n",
    "    print(*line)\n",
    "\n"
   ]
  },
  {
   "cell_type": "code",
   "execution_count": null,
   "metadata": {},
   "outputs": [],
   "source": [
    "dr = [-1, 0, 1, 0]\n",
    "dc = [0, 1, 0, -1]\n",
    "\n",
    "N = 7\n",
    "arr = [[0] * N for _ in range(N)]\n",
    "\n",
    "K = 3\n",
    "r = c = 2"
   ]
  }
 ],
 "metadata": {
  "language_info": {
   "name": "python"
  }
 },
 "nbformat": 4,
 "nbformat_minor": 2
}
