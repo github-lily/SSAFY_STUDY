{
 "cells": [
  {
   "cell_type": "markdown",
   "metadata": {},
   "source": [
    "# 상하좌우"
   ]
  },
  {
   "cell_type": "code",
   "execution_count": 1,
   "metadata": {},
   "outputs": [
    {
     "name": "stdout",
     "output_type": "stream",
     "text": [
      "0 0 0 0 0 0 0\n",
      "0 0 0 0 0 0 0\n",
      "0 0 * - - - -\n",
      "0 0 0 0 0 0 0\n",
      "0 0 0 0 0 0 0\n",
      "0 0 0 0 0 0 0\n",
      "0 0 0 0 0 0 0\n"
     ]
    }
   ],
   "source": [
    "# 오른쪽\n",
    "\n",
    "N = 7\n",
    "arr = [[0] * N for _ in range(N)]\n",
    "r = c = 2\n",
    "\n",
    "# ------------------------\n",
    "# 반복문을 이용해서 (r, c)에서 오른쪽 직선 방향의 열값 생성\n",
    "arr[r][c] = '*'\n",
    "for i in range(c + 1, N):\n",
    "    arr[r][i] = '-'\n",
    "\n",
    "\n",
    "# ------------------------\n",
    "for line in arr:\n",
    "    print(*line)"
   ]
  },
  {
   "cell_type": "code",
   "execution_count": 2,
   "metadata": {},
   "outputs": [
    {
     "name": "stdout",
     "output_type": "stream",
     "text": [
      "0 0 0 0 0 0 0\n",
      "0 0 0 0 0 0 0\n",
      "- - * 0 0 0 0\n",
      "0 0 0 0 0 0 0\n",
      "0 0 0 0 0 0 0\n",
      "0 0 0 0 0 0 0\n",
      "0 0 0 0 0 0 0\n"
     ]
    }
   ],
   "source": [
    "# 왼쪽\n",
    "\n",
    "N = 7\n",
    "arr = [[0] * N for _ in range(N)]\n",
    "r = c = 2\n",
    "\n",
    "# ------------------------\n",
    "\n",
    "arr[r][c] = '*'\n",
    "for i in range(c - 1, -1, -1):\n",
    "    arr[r][i] = '-'\n",
    "\n",
    "\n",
    "# ------------------------\n",
    "for line in arr:\n",
    "    print(*line)"
   ]
  },
  {
   "cell_type": "code",
   "execution_count": 3,
   "metadata": {},
   "outputs": [
    {
     "name": "stdout",
     "output_type": "stream",
     "text": [
      "0 0 | 0 0 0 0\n",
      "0 0 | 0 0 0 0\n",
      "0 0 * 0 0 0 0\n",
      "0 0 0 0 0 0 0\n",
      "0 0 0 0 0 0 0\n",
      "0 0 0 0 0 0 0\n",
      "0 0 0 0 0 0 0\n"
     ]
    }
   ],
   "source": [
    "#위\n",
    "\n",
    "N = 7\n",
    "arr = [[0] * N for _ in range(N)]\n",
    "r = c = 2\n",
    "\n",
    "# ------------------------\n",
    "\n",
    "arr[r][c] = '*'\n",
    "for i in range(r - 1, -1, -1):\n",
    "    arr[i][c] = '|'\n",
    "\n",
    "\n",
    "# ------------------------\n",
    "for line in arr:\n",
    "    print(*line)"
   ]
  },
  {
   "cell_type": "code",
   "execution_count": 8,
   "metadata": {},
   "outputs": [
    {
     "name": "stdout",
     "output_type": "stream",
     "text": [
      "3\n",
      "4\n",
      "5\n",
      "6\n",
      "0 0 0 0 0 0 0\n",
      "0 0 0 0 0 0 0\n",
      "0 0 * 0 0 0 0\n",
      "0 0 | 0 0 0 0\n",
      "0 0 | 0 0 0 0\n",
      "0 0 | 0 0 0 0\n",
      "0 0 | 0 0 0 0\n"
     ]
    }
   ],
   "source": [
    "# 아래\n",
    "\n",
    "N = 7\n",
    "arr = [[0] * N for _ in range(N)]\n",
    "r = c = 2\n",
    "\n",
    "# ------------------------\n",
    "\n",
    "arr[r][c] = '*'\n",
    "for i in range(1, N):\n",
    "    nr = r + i\n",
    "    if nr >= N:\n",
    "        break\n",
    "    arr[nr][c] = '|'\n",
    "    print(nr)\n",
    "\n",
    "# for i in range(r+1,N) :\n",
    "#     arr[i][c] = '|'\n",
    "    \n",
    "\n",
    "\n",
    "# ------------------------\n",
    "for line in arr:\n",
    "    print(*line)"
   ]
  },
  {
   "cell_type": "code",
   "execution_count": null,
   "metadata": {},
   "outputs": [],
   "source": [
    "# 좌우동시\n",
    "# 돌뒤집기2 에 활용\n",
    "# 회문체크할 떄 좌우 동시 확인 필요할 때\n",
    "# 2805 농작물수확에도 사용 가능\n",
    "\n",
    "N = 10\n",
    "arr = [0] * N\n",
    "\n",
    "s = 4\n",
    "l = 4\n",
    "arr[s] = '*'\n",
    "\n",
    "for i in range(1, l + 1):\n",
    "    a = s - i\n",
    "    b = s + i\n",
    "    if a < 0 or b >= N:\n",
    "        break\n",
    "    arr[a] = arr[b] = '-'\n",
    "# ------------------------\n",
    "print(*arr)"
   ]
  },
  {
   "cell_type": "code",
   "execution_count": 11,
   "metadata": {},
   "outputs": [
    {
     "name": "stdout",
     "output_type": "stream",
     "text": [
      "0 0 0 0 0 0 0 0 0 0\n",
      "0 0 0 0 0 0 0 0 0 0\n",
      "0 0 0 0 0 0 0 0 0 0\n",
      "0 0 0 0 0 0 0 0 0 0\n",
      "0 0 0 0 0 0 0 0 0 0\n",
      "- - - - - * - - - -\n",
      "0 0 0 0 0 0 0 0 0 0\n",
      "0 0 0 0 0 0 0 0 0 0\n",
      "0 0 0 0 0 0 0 0 0 0\n",
      "0 0 0 0 0 0 0 0 0 0\n"
     ]
    }
   ],
   "source": [
    "# 2차원 배열에서 좌우동시\n",
    "\n",
    "N = 10\n",
    "arr = [[0] * N for _ in range(N)]\n",
    "r,c = 5,5\n",
    "\n",
    "arr[r][c] = '*'\n",
    "\n",
    "for i in range(0,c) :\n",
    "    arr[r][i] = '-'\n",
    "\n",
    "for j in range(c+1,N) :\n",
    "    arr[r][j] = '-'\n",
    "\n",
    "for line in arr :\n",
    "    print(*line)"
   ]
  },
  {
   "cell_type": "code",
   "execution_count": 20,
   "metadata": {},
   "outputs": [
    {
     "name": "stdout",
     "output_type": "stream",
     "text": [
      "0 0 0 0 0 0 0 0 0 0\n",
      "0 0 0 0 0 0 0 0 0 0\n",
      "0 0 0 0 0 0 0 0 0 0\n",
      "0 0 0 0 0 0 0 0 0 0\n",
      "0 0 0 0 0 0 0 0 0 0\n",
      "0 - - - - * - - - -\n",
      "0 0 0 0 0 0 0 0 0 0\n",
      "0 0 0 0 0 0 0 0 0 0\n",
      "0 0 0 0 0 0 0 0 0 0\n",
      "0 0 0 0 0 0 0 0 0 0\n"
     ]
    }
   ],
   "source": [
    "# 배열에서의 좌우 방법2\n",
    "# 이 방법은 좌표가 가운데일때만 사용할 수 있음\n",
    "# 다른 상황에선 다른 방법 쓰기 ㅎㅎ\n",
    "\n",
    "\n",
    "N = 10\n",
    "arr = [[0] * N for _ in range(N)]\n",
    "r,c = 5,5\n",
    "\n",
    "arr[r][c] = '*'\n",
    "\n",
    "# for line in arr :\n",
    "#     print(*line)\n",
    "\n",
    "# print('----------------')\n",
    "\n",
    "for i in range(1,c+1) :\n",
    "    a = c-i\n",
    "    b = c+i \n",
    "    if a < 0 or b > N-1 :   #배열의 끝\n",
    "        break\n",
    "    arr[r][a] = arr[r][b] = '-'\n",
    "\n",
    "for line in arr :\n",
    "    print(*line)"
   ]
  },
  {
   "cell_type": "code",
   "execution_count": 23,
   "metadata": {},
   "outputs": [
    {
     "name": "stdout",
     "output_type": "stream",
     "text": [
      "----------------\n",
      "0 0 0 0 0 0 0 0 0 0\n",
      "0 0 0 0 0 0 0 0 0 0\n",
      "0 0 0 0 0 0 0 0 0 0\n",
      "0 0 0 0 0 0 0 0 0 0\n",
      "- - - - * - - - - -\n",
      "0 0 0 0 0 0 0 0 0 0\n",
      "0 0 0 0 0 0 0 0 0 0\n",
      "0 0 0 0 0 0 0 0 0 0\n",
      "0 0 0 0 0 0 0 0 0 0\n",
      "0 0 0 0 0 0 0 0 0 0\n"
     ]
    }
   ],
   "source": [
    "#배열에서의 좌우 방법3 \n",
    "# 좌표가 가운데가 아닐 때 하는 방법\n",
    "# a와 b를 각각 해주면 됨\n",
    "\n",
    "N = 10\n",
    "arr = [[0] * N for _ in range(N)]\n",
    "r,c = 4,4\n",
    "\n",
    "arr[r][c] = '*'\n",
    "\n",
    "\n",
    "print('----------------')\n",
    "\n",
    "for i in range(1,N) :       #c값은 변하지 않도록 1부터 시작\n",
    "    a = c-i\n",
    "    if a < 0  :   #배열의 끝\n",
    "        break\n",
    "    arr[r][a] = '-'\n",
    "\n",
    "    \n",
    "for i in range(1,N) :\n",
    "    b = c+i \n",
    "    if b > N-1 :   #배열의 끝\n",
    "        break\n",
    "    arr[r][b] = '-'\n",
    "\n",
    "for line in arr :\n",
    "    print(*line)"
   ]
  }
 ],
 "metadata": {
  "kernelspec": {
   "display_name": "Python 3",
   "language": "python",
   "name": "python3"
  },
  "language_info": {
   "codemirror_mode": {
    "name": "ipython",
    "version": 3
   },
   "file_extension": ".py",
   "mimetype": "text/x-python",
   "name": "python",
   "nbconvert_exporter": "python",
   "pygments_lexer": "ipython3",
   "version": "3.9.13"
  }
 },
 "nbformat": 4,
 "nbformat_minor": 2
}
