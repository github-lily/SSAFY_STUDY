{
 "cells": [
  {
   "cell_type": "code",
   "execution_count": 2,
   "metadata": {},
   "outputs": [
    {
     "name": "stdout",
     "output_type": "stream",
     "text": [
      "0 0 0 0 0\n",
      "0 0 1 0 0\n",
      "0 4 * 2 0\n",
      "0 0 3 0 0\n",
      "0 0 0 0 0\n"
     ]
    }
   ],
   "source": [
    "N = 5\n",
    "arr = [[0] * N for _ in range(N)]\n",
    "\n",
    "# 기준점 (r, c)\n",
    "r = c = 2\n",
    "arr[r][c] = '*'\n",
    "\n",
    "# 상\n",
    "arr[r + -1][c + 0] = 1\n",
    "# 우\n",
    "arr[r + 0][c + 1] = 2\n",
    "# 하\n",
    "arr[r + 1][c + 0] = 3\n",
    "# 좌\n",
    "arr[r + 0][c + -1] = 4\n",
    "\n",
    "for line in arr :\n",
    "    print(*line)"
   ]
  },
  {
   "cell_type": "code",
   "execution_count": 3,
   "metadata": {},
   "outputs": [
    {
     "name": "stdout",
     "output_type": "stream",
     "text": [
      "0 0 0 4 *\n",
      "0 0 0 0 3\n",
      "0 0 0 0 0\n",
      "0 0 0 0 0\n",
      "0 0 0 0 0\n"
     ]
    }
   ],
   "source": [
    "N = 5\n",
    "arr = [[0] * N for _ in range(N)]\n",
    "\n",
    "r, c = 0, N-1\n",
    "arr[r][c] = '*'\n",
    "dr = [-1, 0, 1, 0]\n",
    "dc = [0, 1, 0, -1]\n",
    "for i in range(4):\n",
    "    nr = r + dr[i]\n",
    "    nc = c + dc[i]\n",
    "    if 0 <= nr < N and 0 <= nc < N:     #범위 벗어나지 않도록 설정하기\n",
    "        arr[nr][nc] = i + 1\n",
    "\n",
    "# -------------------------------\n",
    "for line in arr:\n",
    "    print(*line)"
   ]
  },
  {
   "cell_type": "markdown",
   "metadata": {},
   "source": [
    "# 8방향"
   ]
  },
  {
   "cell_type": "code",
   "execution_count": null,
   "metadata": {},
   "outputs": [],
   "source": [
    "dr = [0,1,1,1,0,-1,-1,-1]\n",
    "dc = [1,1,0,-1,-1,-1,0,1]\n",
    "\n",
    "\n",
    "N = 4\n",
    "arr = [[0]*N for _ in range(N)]\n",
    "r = c = N //2\n",
    "arr[r][c] = '*'\n",
    "\n",
    "for i in range(8) :\n",
    "    nr, nc = r+dr[i], c+ dc[i]      #기준점 사라지지 않게 새로운 값 설정\n",
    "    while 0 <= nr < N and 0 <= nc < N :\n",
    "        # arr[nr][nc]에 대해 작업\n",
    "        arr[nr][nc] = i + 1\n",
    "        nr += dr[i]\n",
    "        nc += dc[i]\n",
    "\n",
    "for line in arr :\n",
    "    print(*line)"
   ]
  },
  {
   "cell_type": "code",
   "execution_count": null,
   "metadata": {},
   "outputs": [],
   "source": [
    "\n",
    "dr = [0,1,1,1,0,-1,-1,-1]\n",
    "dc = [1,1,0,-1,-1,-1,0,1]\n",
    "\n",
    "\n",
    "N = 8\n",
    "arr = [[0]*N for _ in range(N)]\n",
    "r = c = N //2\n",
    "arr[r][c] = '*'\n",
    "\n",
    "\n",
    "nr, nc = r, c\n",
    "for i in range(8) :\n",
    "    for j in range(1,N) :\n",
    "        nr = r + dr[i] * j\n",
    "        nc = c + dc[i] * j\n",
    "        if 0 <= nr < N and 0 <= nc < N :\n",
    "            arr[nr][nc] = i+1\n",
    "\n",
    "for line in arr :\n",
    "    print(*line)\n"
   ]
  }
 ],
 "metadata": {
  "kernelspec": {
   "display_name": "Python 3",
   "language": "python",
   "name": "python3"
  },
  "language_info": {
   "codemirror_mode": {
    "name": "ipython",
    "version": 3
   },
   "file_extension": ".py",
   "mimetype": "text/x-python",
   "name": "python",
   "nbconvert_exporter": "python",
   "pygments_lexer": "ipython3",
   "version": "3.9.13"
  }
 },
 "nbformat": 4,
 "nbformat_minor": 2
}
