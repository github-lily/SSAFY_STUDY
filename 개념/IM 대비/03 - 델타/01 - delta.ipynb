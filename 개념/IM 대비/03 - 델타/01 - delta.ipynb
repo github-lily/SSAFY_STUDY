{
 "cells": [
  {
   "cell_type": "code",
   "execution_count": 2,
   "metadata": {},
   "outputs": [
    {
     "name": "stdout",
     "output_type": "stream",
     "text": [
      "0 0 0 0 0\n",
      "0 0 1 0 0\n",
      "0 4 * 2 0\n",
      "0 0 3 0 0\n",
      "0 0 0 0 0\n"
     ]
    }
   ],
   "source": [
    "N = 5\n",
    "arr = [[0] * N for _ in range(N)]\n",
    "\n",
    "# 기준점 (r, c)\n",
    "r = c = 2\n",
    "arr[r][c] = '*'\n",
    "\n",
    "# 상\n",
    "arr[r + -1][c + 0] = 1\n",
    "# 우\n",
    "arr[r + 0][c + 1] = 2\n",
    "# 하\n",
    "arr[r + 1][c + 0] = 3\n",
    "# 좌\n",
    "arr[r + 0][c + -1] = 4\n",
    "\n",
    "for line in arr :\n",
    "    print(*line)"
   ]
  },
  {
   "cell_type": "code",
   "execution_count": 3,
   "metadata": {},
   "outputs": [
    {
     "name": "stdout",
     "output_type": "stream",
     "text": [
      "0 0 0 4 *\n",
      "0 0 0 0 3\n",
      "0 0 0 0 0\n",
      "0 0 0 0 0\n",
      "0 0 0 0 0\n"
     ]
    }
   ],
   "source": [
    "N = 5\n",
    "arr = [[0] * N for _ in range(N)]\n",
    "\n",
    "r, c = 0, N-1\n",
    "arr[r][c] = '*'\n",
    "dr = [-1, 0, 1, 0]\n",
    "dc = [0, 1, 0, -1]\n",
    "for i in range(4):\n",
    "    nr = r + dr[i]\n",
    "    nc = c + dc[i]\n",
    "    if 0 <= nr < N and 0 <= nc < N:     #범위 벗어나지 않도록 설정하기\n",
    "        arr[nr][nc] = i + 1\n",
    "\n",
    "# -------------------------------\n",
    "for line in arr:\n",
    "    print(*line)"
   ]
  }
 ],
 "metadata": {
  "kernelspec": {
   "display_name": "Python 3",
   "language": "python",
   "name": "python3"
  },
  "language_info": {
   "codemirror_mode": {
    "name": "ipython",
    "version": 3
   },
   "file_extension": ".py",
   "mimetype": "text/x-python",
   "name": "python",
   "nbconvert_exporter": "python",
   "pygments_lexer": "ipython3",
   "version": "3.9.13"
  }
 },
 "nbformat": 4,
 "nbformat_minor": 2
}
