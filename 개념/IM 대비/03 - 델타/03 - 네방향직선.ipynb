{
 "cells": [
  {
   "cell_type": "markdown",
   "metadata": {},
   "source": [
    "# 네방향직선"
   ]
  },
  {
   "cell_type": "code",
   "execution_count": 2,
   "metadata": {},
   "outputs": [
    {
     "name": "stdout",
     "output_type": "stream",
     "text": [
      "0 0 0 0 0 0 -\n",
      "0 0 0 0 0 0 -\n",
      "0 0 0 0 0 0 -\n",
      "0 0 0 0 0 0 -\n",
      "0 0 0 0 0 0 -\n",
      "- - - - - - *\n",
      "0 0 0 0 0 0 -\n"
     ]
    }
   ],
   "source": [
    "dr = [-1, 0, 1, 0]\n",
    "dc = [0, 1, 0, -1]\n",
    "\n",
    "N = 7\n",
    "arr = [[0] * N for _ in range(N)]\n",
    "r, c = 5, 6\n",
    "# ------------------------\n",
    "# 반복문을 이용해서 (r, c)에서 상하좌우 직선방향\n",
    "arr[r][c] = '*'\n",
    "for i in range(4): # 네방향에 대해\n",
    "    for j in range(1, N): #*0이 되지 않도록 1부터 시작\n",
    "        nr = r + dr[i]*j\n",
    "        nc = c + dc[i]*j\n",
    "        if not(0 <= nr < N and 0 <= nc < N):\n",
    "            break   #범위를 벗어나면 멈춤\n",
    "        arr[nr][nc] = '-'\n",
    "\n",
    "\n",
    "# ------------------------\n",
    "for line in arr:\n",
    "    print(*line)"
   ]
  },
  {
   "cell_type": "code",
   "execution_count": 7,
   "metadata": {},
   "outputs": [
    {
     "name": "stdout",
     "output_type": "stream",
     "text": [
      "0 0 - 0 0 0 0\n",
      "0 0 - 0 0 0 0\n",
      "- - * - - - -\n",
      "0 0 - 0 0 0 0\n",
      "0 0 - 0 0 0 0\n",
      "0 0 - 0 0 0 0\n",
      "0 0 - 0 0 0 0\n"
     ]
    }
   ],
   "source": [
    "# 복기\n",
    "\n",
    "dr = [-1, 0, 1, 0]\n",
    "dc = [0, 1, 0, -1]\n",
    "r,c = 2,2\n",
    "\n",
    "N = 7\n",
    "arr = [[0] * N for _ in range(N)]\n",
    "\n",
    "arr[r][c] = '*'\n",
    "for i in range(4) :\n",
    "    for j in range(1,N) :\n",
    "        nr = r + dr[i] * j\n",
    "        nc = c + dc[i] * j\n",
    "        if not (0 <= nr < N and 0 <= nc < N) :\n",
    "            break\n",
    "        arr[nr][nc] = '-'\n",
    "\n",
    "\n",
    "# ------------------------\n",
    "for line in arr:\n",
    "    print(*line)\n",
    "    "
   ]
  }
 ],
 "metadata": {
  "kernelspec": {
   "display_name": "Python 3",
   "language": "python",
   "name": "python3"
  },
  "language_info": {
   "codemirror_mode": {
    "name": "ipython",
    "version": 3
   },
   "file_extension": ".py",
   "mimetype": "text/x-python",
   "name": "python",
   "nbconvert_exporter": "python",
   "pygments_lexer": "ipython3",
   "version": "3.9.13"
  }
 },
 "nbformat": 4,
 "nbformat_minor": 2
}
