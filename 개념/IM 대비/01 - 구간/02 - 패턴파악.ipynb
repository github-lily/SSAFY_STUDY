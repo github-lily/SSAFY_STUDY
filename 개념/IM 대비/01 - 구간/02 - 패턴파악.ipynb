{
 "cells": [
  {
   "cell_type": "code",
   "execution_count": 2,
   "metadata": {},
   "outputs": [
    {
     "name": "stdout",
     "output_type": "stream",
     "text": [
      "0 0 * 0 0\n",
      "0 * * * 0\n",
      "* * * * *\n",
      "0 * * * 0\n",
      "0 0 * 0 0\n"
     ]
    }
   ],
   "source": [
    "N = 5\n",
    "arr = [[0]*N for _ in range(N)]\n",
    "\n",
    "s = e = N//2\n",
    "for r in range(N) :\n",
    "    for k in range(s,e+1) :\n",
    "        arr[r][k] = '*'\n",
    "\n",
    "    if r < N//2 :\n",
    "        s,e = s-1, e+1\n",
    "    else :\n",
    "        s,e = s+1, e-1\n",
    "\n",
    "for line in arr :\n",
    "    print(*line)"
   ]
  },
  {
   "cell_type": "code",
   "execution_count": 5,
   "metadata": {},
   "outputs": [
    {
     "name": "stdout",
     "output_type": "stream",
     "text": [
      "0 0 * 0 0\n",
      "0 * * * 0\n",
      "* * * * *\n",
      "0 * * * 0\n",
      "0 0 * 0 0\n"
     ]
    }
   ],
   "source": [
    "\n",
    "N = 5\n",
    "arr = [[0]*N for _ in range(N)]\n",
    "\n",
    "mid = N//2\n",
    "for i in range(N) :\n",
    "    arr[i][mid] = '*'       #가운데 열 모두 체크\n",
    "    k = abs(mid-i)   #가운데로부터의 거리(절대값)  #아래는 - 나오니까 abs\n",
    "    for j in range(1, mid-k+1) :\n",
    "        arr[i][mid-j] = arr[i][mid+j] = '*'\n",
    "\n",
    "\n",
    "for line in arr :\n",
    "    print(*line)"
   ]
  },
  {
   "cell_type": "code",
   "execution_count": null,
   "metadata": {},
   "outputs": [],
   "source": [
    "# 복기\n",
    "\n",
    "\n",
    "N = 5\n",
    "arr = [[0]*N for _ in range(N)]\n",
    "\n",
    "mid = N//2\n",
    "for r in range(N) :\n",
    "    arr[r][mid] = '*'\n",
    "    k = abs(mid-r)\n",
    "    for x in range(1, mid - k + 1) :\n",
    "        arr[r][mid-x] = arr[r][mid+x] = '*'\n",
    "\n",
    "\n",
    "for line in arr :\n",
    "    print(*line)\n",
    "        "
   ]
  }
 ],
 "metadata": {
  "kernelspec": {
   "display_name": "Python 3",
   "language": "python",
   "name": "python3"
  },
  "language_info": {
   "codemirror_mode": {
    "name": "ipython",
    "version": 3
   },
   "file_extension": ".py",
   "mimetype": "text/x-python",
   "name": "python",
   "nbconvert_exporter": "python",
   "pygments_lexer": "ipython3",
   "version": "3.9.13"
  }
 },
 "nbformat": 4,
 "nbformat_minor": 2
}
