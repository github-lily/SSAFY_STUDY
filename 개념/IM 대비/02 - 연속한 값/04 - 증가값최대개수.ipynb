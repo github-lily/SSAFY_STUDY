{
 "cells": [
  {
   "cell_type": "markdown",
   "metadata": {},
   "source": [
    "# 증가값 최대개수"
   ]
  },
  {
   "cell_type": "code",
   "execution_count": 1,
   "metadata": {},
   "outputs": [
    {
     "name": "stdout",
     "output_type": "stream",
     "text": [
      "4\n"
     ]
    }
   ],
   "source": [
    "arr = [4, 5, 6, 1, 2, 3, 1, 2, 5, 6]\n",
    "N = len(arr)\n",
    "ans = 0   # 길이 K\n",
    "cnt = 1   # 초기값 주의\n",
    "\n",
    "for i in range(1, N): #i-1이니까 1부터 시작\n",
    "    if arr[i - 1] < arr[i]:     #상승하는 값이면\n",
    "        cnt += 1                #카운트 1 증가\n",
    "        if ans < cnt:           #최대개수 찾기\n",
    "            ans = cnt\n",
    "    else:\n",
    "        cnt = 1  # <---- 초기값 주의\n",
    "\n",
    "print(ans)"
   ]
  },
  {
   "cell_type": "code",
   "execution_count": 2,
   "metadata": {},
   "outputs": [
    {
     "name": "stdout",
     "output_type": "stream",
     "text": [
      "4\n"
     ]
    }
   ],
   "source": [
    "# 복기\n",
    "arr = [4, 5, 6, 1, 2, 3, 1, 2, 5, 6]\n",
    "N = len(arr)\n",
    "ans = 0\n",
    "cnt = 1\n",
    "\n",
    "for i in range(1,N) :\n",
    "    if arr[i-1] < arr[i] :\n",
    "        cnt += 1\n",
    "        if ans < cnt : ans = cnt\n",
    "    else :\n",
    "        cnt = 1\n",
    "print(ans)"
   ]
  }
 ],
 "metadata": {
  "kernelspec": {
   "display_name": "Python 3",
   "language": "python",
   "name": "python3"
  },
  "language_info": {
   "codemirror_mode": {
    "name": "ipython",
    "version": 3
   },
   "file_extension": ".py",
   "mimetype": "text/x-python",
   "name": "python",
   "nbconvert_exporter": "python",
   "pygments_lexer": "ipython3",
   "version": "3.9.13"
  }
 },
 "nbformat": 4,
 "nbformat_minor": 2
}
