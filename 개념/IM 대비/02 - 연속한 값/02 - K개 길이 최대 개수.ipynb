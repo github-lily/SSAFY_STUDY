{
 "cells": [
  {
   "cell_type": "markdown",
   "metadata": {},
   "source": [
    "# K개 길이 최대 개수"
   ]
  },
  {
   "cell_type": "code",
   "execution_count": 10,
   "metadata": {},
   "outputs": [
    {
     "name": "stdout",
     "output_type": "stream",
     "text": [
      "2\n"
     ]
    }
   ],
   "source": [
    "# 방법1\n",
    "\n",
    "arr = [1, 1, 1, 1, 0, 1, 1, 1, 0, 1, 1, 1]\n",
    "N = len(arr)\n",
    "K = 3\n",
    "ans = 0   # 길이 K\n",
    "cnt = 0\n",
    "\n",
    "for i in range(N):\n",
    "    if arr[i] == 1:\n",
    "        cnt += 1\n",
    "    else:       #arr[i] != 1\n",
    "        if K == cnt:\n",
    "            ans += 1\n",
    "        cnt = 0     #초기값으로 리셋해주기\n",
    "# 마지막에 한번 더 체크 주기!!!!!!!!\n",
    "# 끝 값이 1로 끝나는 경우 뒤 인덱스가 없어서 ans+1이 안됨\n",
    "\n",
    "if K == cnt:\n",
    "    ans += 1\n",
    "\n",
    "print(ans)"
   ]
  },
  {
   "cell_type": "code",
   "execution_count": 9,
   "metadata": {},
   "outputs": [
    {
     "name": "stdout",
     "output_type": "stream",
     "text": [
      "2\n"
     ]
    }
   ],
   "source": [
    "# 방법2\n",
    "arr = [1, 1, 1, 1, 0, 1, 1, 1, 0, 1, 1, 1]\n",
    "N = len(arr)\n",
    "K = 3\n",
    "ans = 0   # 길이 K\n",
    "cnt = 0\n",
    "\n",
    "# 끝까지 확인할 수 있도록 마지막에 무효값 0을 넣어줌\n",
    "# 이렇게 하면 if문으로 마지막에 한번 더 체크해줄 필요 없음\n",
    "arr.append(0)\n",
    "\n",
    "for i in range(N+1):        #append로 0 추가해줬으니 N+1개 확인\n",
    "    if arr[i] == 1:\n",
    "        cnt += 1\n",
    "    else:       #arr[i] != 1\n",
    "        if K == cnt:\n",
    "            ans += 1\n",
    "        cnt = 0\n",
    "    \n",
    "print(ans)"
   ]
  },
  {
   "cell_type": "code",
   "execution_count": null,
   "metadata": {},
   "outputs": [],
   "source": [
    "# 오류\n",
    "\n",
    "\n",
    "# K개 연속한 1의 개수\n",
    "ans = 0   # k개인 1의 개수 카운팅\n",
    "cnt = 0   # 1의 개수 카운팅\n",
    "k = 3\n",
    "for i in range(N):\n",
    "    if arr[i] == 1:\n",
    "        cnt += 1\n",
    "        if cnt == 3 :\n",
    "            ans += 1\n",
    "    else: # arr[i] == 0\n",
    "        cnt = 0\n",
    "\n",
    "print(ans)\n",
    "#이렇게하면 k 이상인 경우를 모두 개수로 쳐서 잘못된 답이 나옴"
   ]
  },
  {
   "cell_type": "code",
   "execution_count": 1,
   "metadata": {},
   "outputs": [
    {
     "name": "stdout",
     "output_type": "stream",
     "text": [
      "2\n"
     ]
    }
   ],
   "source": [
    "# 복기\n",
    "\n",
    "arr = [1, 1, 1, 1, 0, 1, 1, 1, 0, 1, 1, 1]\n",
    "N = len(arr)\n",
    "K = 3\n",
    "\n",
    "ans = 0\n",
    "cnt = 0\n",
    "\n",
    "for i in range(N) :\n",
    "    if arr[i] == 1:\n",
    "        cnt += 1\n",
    "    else :\n",
    "        if cnt == K :\n",
    "            ans += 1\n",
    "        cnt = 0\n",
    "if cnt == K :\n",
    "    ans += 1\n",
    "\n",
    "print(ans)"
   ]
  }
 ],
 "metadata": {
  "kernelspec": {
   "display_name": "Python 3",
   "language": "python",
   "name": "python3"
  },
  "language_info": {
   "codemirror_mode": {
    "name": "ipython",
    "version": 3
   },
   "file_extension": ".py",
   "mimetype": "text/x-python",
   "name": "python",
   "nbconvert_exporter": "python",
   "pygments_lexer": "ipython3",
   "version": "3.9.13"
  }
 },
 "nbformat": 4,
 "nbformat_minor": 2
}
