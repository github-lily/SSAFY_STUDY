{
 "cells": [
  {
   "cell_type": "markdown",
   "metadata": {},
   "source": [
    "# 연속한 1의 최대 개수"
   ]
  },
  {
   "cell_type": "code",
   "execution_count": null,
   "metadata": {},
   "outputs": [],
   "source": [
    "arr = [1, 1, 1, 0, 1, 1, 0, 1, 1, 1, 1]\n",
    "N = len(arr)\n",
    "\n",
    "ans = 0   # 최대 개수 저장\n",
    "cnt = 0   # 1의 개수 카운팅\n",
    "for i in range(N):\n",
    "    if arr[i] == 1:\n",
    "        cnt += 1\n",
    "        if ans < cnt:\n",
    "            ans = cnt\n",
    "    else: # arr[i] == 0\n",
    "        cnt = 0\n",
    "\n",
    "print(ans)\n"
   ]
  }
 ],
 "metadata": {
  "kernelspec": {
   "display_name": "Python 3",
   "language": "python",
   "name": "python3"
  },
  "language_info": {
   "codemirror_mode": {
    "name": "ipython",
    "version": 3
   },
   "file_extension": ".py",
   "mimetype": "text/x-python",
   "name": "python",
   "nbconvert_exporter": "python",
   "pygments_lexer": "ipython3",
   "version": "3.9.13"
  }
 },
 "nbformat": 4,
 "nbformat_minor": 2
}
