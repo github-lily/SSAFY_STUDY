{
 "cells": [
  {
   "cell_type": "markdown",
   "metadata": {},
   "source": [
    "# 동일값 최대개수"
   ]
  },
  {
   "cell_type": "code",
   "execution_count": 2,
   "metadata": {},
   "outputs": [
    {
     "name": "stdout",
     "output_type": "stream",
     "text": [
      "4\n"
     ]
    }
   ],
   "source": [
    "arr = [0, 0, 2, 2, 1, 3, 2, 2, 2, 1, 1, 1, 1]\n",
    "N = len(arr)\n",
    "ans = 0   # 길이 K\n",
    "cnt = 1   # 초기값 무엇? 연속한 값일 때 1씩 증가함\n",
    "#연속이라는 조건이 충족할 때 1씩 올라가는거니까 기본1부터 시작\n",
    "\n",
    "for i in range(1, N):   #i-1 이 있으니 1부터 시작\n",
    "    if arr[i - 1] == arr[i]:    #연속한 값인지 확인\n",
    "        cnt += 1\n",
    "        if ans < cnt: ans = cnt     #최대값 비교\n",
    "    else:       #연속된 값이 아니면\n",
    "        cnt = 1  # <---- 초기값 주의    #cnt 1로 리셋해줌\n",
    "# 최대값\n",
    "# if ans < cnt: ans = cnt\n",
    "print(ans)"
   ]
  },
  {
   "cell_type": "code",
   "execution_count": 3,
   "metadata": {},
   "outputs": [
    {
     "name": "stdout",
     "output_type": "stream",
     "text": [
      "4\n"
     ]
    }
   ],
   "source": [
    "# 복기\n",
    "\n",
    "arr = [0, 0, 2, 2, 1, 3, 2, 2, 2, 1, 1, 1, 1]\n",
    "N = len(arr)\n",
    "ans = 0\n",
    "cnt = 1\n",
    "\n",
    "for i in range(1,N) :\n",
    "    if arr[i-1] == arr[i] :\n",
    "        cnt += 1\n",
    "        if ans < cnt : ans = cnt\n",
    "    else :\n",
    "        cnt = 1\n",
    "print(ans)\n"
   ]
  }
 ],
 "metadata": {
  "kernelspec": {
   "display_name": "Python 3",
   "language": "python",
   "name": "python3"
  },
  "language_info": {
   "codemirror_mode": {
    "name": "ipython",
    "version": 3
   },
   "file_extension": ".py",
   "mimetype": "text/x-python",
   "name": "python",
   "nbconvert_exporter": "python",
   "pygments_lexer": "ipython3",
   "version": "3.9.13"
  }
 },
 "nbformat": 4,
 "nbformat_minor": 2
}
