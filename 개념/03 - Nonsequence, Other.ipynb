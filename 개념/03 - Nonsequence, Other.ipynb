{
 "cells": [
  {
   "cell_type": "markdown",
   "metadata": {},
   "source": [
    "# Non-sequence Type\n",
    "\n",
    "# 딕셔너리(dict)\n",
    "- key-value 쌍으로 이루어진 순서와 중복이 없는 변경 가능한 자료형\n",
    "- key는 변경 불가능한 자료형만 사용 가능함(str, int, float, tuple, range)\n",
    "- value는 모든 자료형 사용 가능\n",
    "- 중괄호({})로 표기\n"
   ]
  },
  {
   "cell_type": "code",
   "execution_count": null,
   "metadata": {},
   "outputs": [],
   "source": [
    "my_dict ={'apple' : 12, list : [1,2,3]}\n",
    "\n",
    "print(my_dict['apple'])\n",
    "print(my_dict[list])\n",
    "\n",
    "#추가\n",
    "my_dict['banana'] = 50\n",
    "print(my_dict)\n",
    "\n",
    "# 변경\n",
    "my_dict['apple'] = 100\n",
    "print(my_dict)"
   ]
  },
  {
   "cell_type": "markdown",
   "metadata": {},
   "source": [
    "# 세트(set)\n",
    "- 순서와 중복이 없는 변경 가능한 자료형\n",
    "- 교집합 : &\n",
    "- 차집합 : -\n",
    "- 합집합 : |"
   ]
  },
  {
   "cell_type": "code",
   "execution_count": 1,
   "metadata": {},
   "outputs": [
    {
     "name": "stdout",
     "output_type": "stream",
     "text": [
      "set()\n",
      "{1, 2, 3}\n",
      "{1}\n"
     ]
    }
   ],
   "source": [
    "my_set_1 = set()  #튜플과 구분할 수 있게 set()으로 표현\n",
    "my_set_2 = {1,2,3}\n",
    "my_set_3 = {1,1,1}\n",
    "\n",
    "print(my_set_1)\n",
    "print(my_set_2)\n",
    "print(my_set_3)"
   ]
  },
  {
   "cell_type": "markdown",
   "metadata": {},
   "source": [
    "# None\n",
    "- '값이 없음'을 표현하는 자료형\n",
    "- a = None 을 할당하면 None이 출력됨\n",
    "\n",
    "</br>\n",
    "\n",
    "# Boolean\n",
    "- 참(True)과 거짓(False)을 표현하는 자료형\n",
    "- 비교, 논리 연산의 평가로 사용함\n",
    "- 주로 조건, 반복문과 함께 사용함\n"
   ]
  },
  {
   "cell_type": "code",
   "execution_count": 1,
   "metadata": {},
   "outputs": [
    {
     "name": "stdout",
     "output_type": "stream",
     "text": [
      "True\n",
      "True\n"
     ]
    }
   ],
   "source": [
    "bool_1 = True\n",
    "bool_2 = False\n",
    "\n",
    "print(3>1)\n",
    "print('3' != 3)"
   ]
  },
  {
   "cell_type": "markdown",
   "metadata": {},
   "source": [
    "# Collection\n",
    "- 여러 개의 항목 또는 요소를 담는 자료 구조\n",
    "- str, list, tuple set, dict\n",
    "\n",
    "#### 컬렉션 정리\n",
    "|     컬렉션    \t|     변경 가능 여부    \t|     순서 여부    \t|          \t|\n",
    "|:-------------:\t|:---------------------:\t|:----------------:\t|:--------:\t|\n",
    "|       str     \t|            X          \t|         O        \t|  시퀀스  \t|\n",
    "|      list     \t|            O          \t|         O        \t|  시퀀스  \t|\n",
    "|      tuple    \t|            X          \t|         O        \t|  시퀀스  \t|\n",
    "|       dict     \t|            O          \t|         X        \t| 비시퀀스 \t|\n",
    "|      set     \t|            O          \t|         X        \t| 비시퀀스 \t|\n"
   ]
  }
 ],
 "metadata": {
  "kernelspec": {
   "display_name": "Python 3",
   "language": "python",
   "name": "python3"
  },
  "language_info": {
   "codemirror_mode": {
    "name": "ipython",
    "version": 3
   },
   "file_extension": ".py",
   "mimetype": "text/x-python",
   "name": "python",
   "nbconvert_exporter": "python",
   "pygments_lexer": "ipython3",
   "version": "3.12.3"
  }
 },
 "nbformat": 4,
 "nbformat_minor": 2
}
