{
 "cells": [
  {
   "cell_type": "markdown",
   "metadata": {},
   "source": [
    "#### 문자열 조회/탐색 및 검증 메서드\n",
    "|        메서드      \t|                                         설명                                        \t|\n",
    "|:------------------:\t|:-----------------------------------------------------------------------------------:\t|\n",
    "|      s.find(x)     \t|     x의   첫 번째 위치를 반환. 없으면,   -1을 반환                                  \t|\n",
    "|      s.index(x)    \t|     x의   첫 번째 위치를 반환. 없으면,   오류 발생                                  \t|\n",
    "|     s.isupper()    \t|     대문자 여부                                                                     \t|\n",
    "|     s.islower()    \t|     소문자 여부                                                                   \t|\n",
    "|     s.isalpha()    \t|     알파벳 문자 여부      *단순 알파벳이 아닌 유니코드 상 Letter (한국어도 포함)    \t|"
   ]
  },
  {
   "cell_type": "markdown",
   "metadata": {},
   "source": [
    "##### .find(x)\n",
    "- x의 첫 번째 위치를 반환. 없으면, -1을 반환\n",
    "    \n",
    "    ```python\n",
    "    print('banana'.find('a')) # 1\n",
    "\n",
    "    print('banana'.find('z')) # -1\n",
    "    ```"
   ]
  },
  {
   "cell_type": "markdown",
   "metadata": {},
   "source": [
    "##### .index(x)\n",
    "- x의 첫 번째 위치를 반환. 없으면, 오류 발생\n",
    "    \n",
    "    ```python\n",
    "    print('banana'.index('a'))  # 1\n",
    "\n",
    "    print('banana'.index('z'))  # ValueError: substring not found\n",
    "    ```"
   ]
  },
  {
   "cell_type": "markdown",
   "metadata": {},
   "source": [
    "##### .isupper(x) / .islower(x)\n",
    "- 문자열이 모두 대문자/소문자로 이루어져 있는지 확인\n",
    "\n",
    "    ```python\n",
    "    string1 = 'HELLO'\n",
    "    string2 = 'Hello'\n",
    "    print(string1.isupper()) # True\n",
    "    print(string2.isupper()) # False\n",
    "    print(string1.islower()) # False\n",
    "    print(string2.islower()) # False\n",
    "    ```"
   ]
  },
  {
   "cell_type": "markdown",
   "metadata": {},
   "source": [
    "##### .isalpha(x)\n",
    "- 문자열이 알파벳으로만 이루어져 있는지 확인\n",
    "    ```python\n",
    "    string1 = 'Hello'\n",
    "    string2 = '123'\n",
    "    print(string1.isalpha()) # True\n",
    "    print(string2.isalpha()) # False\n",
    "    ```"
   ]
  },
  {
   "cell_type": "markdown",
   "metadata": {},
   "source": [
    "#### 문자열 조작 메서드 (새 문자열 반환)\n",
    "|                  메서드                 \t|                                              설명                                            \t|\n",
    "|:---------------------------------------:\t|:--------------------------------------------------------------------------------------------:\t|\n",
    "|       s.replace(old,   new[,count])     \t|     바꿀 대상 글자를 새로운 글자로 바꿔서 반환                                               \t|\n",
    "|             s.strip([chars])            \t|     공백이나 특정 문자를 제거                                                                \t|\n",
    "|     s.split(sep=None,   maxsplit=-1)    \t|     공백이나 특정 문자를 기준으로 분리                                                       \t|\n",
    "|       'separator'.join(iterable)      \t|     구분자로 iterable의 문자열을 연결한</br>문자열을 반환                                           |\n",
    "|              s.capitalize()             \t|     가장   첫 번째   글자를   대문자로,</br> 나머지는 소문자로  변경                                                \t|\n",
    "|                 s.title()               \t|     문자열 내 띄어쓰기 기준으로 각 단어의 </br>첫 글자는 대문자로,      나머지는 소문자로 변환    \t|\n",
    "|                 s.upper()               \t|     모두   대문자로 변경                                                                     \t|\n",
    "|                 s.lower()               \t|     모두   소문자로 변경                                                                     \t|\n",
    "|               s.swapcase()              \t|     대↔소문자 서로 변경                                                                      \t|"
   ]
  },
  {
   "cell_type": "markdown",
   "metadata": {},
   "source": [
    "##### .replace(old, new[,count]) ★\n",
    "- 바꿀 대상 글자를 새로운 글자로 바꿔서 반환\n",
    "\n",
    "    ```python\n",
    "    text = 'Hello, world!'\n",
    "    new_text = text.replace('world', 'Python')\n",
    "    print(new_text) # Hello, Python!\n",
    "    ```"
   ]
  },
  {
   "cell_type": "markdown",
   "metadata": {},
   "source": [
    "##### .strip([chars]) ★\n",
    "- 문자열의 시작과 끝에 있는 공백 혹은 지정한 문자를 제거\n",
    "\n",
    "    ```python\n",
    "    text = '   Hello, world!   '\n",
    "    new_text = text.strip()\n",
    "    print(new_text) # 'Hello, world!'\n",
    "    ```"
   ]
  },
  {
   "cell_type": "markdown",
   "metadata": {},
   "source": [
    "##### .split(sep=None, maxsplit=-1) ★\n",
    "- 지정한 문자를 구분자로 문자열을 분리하여 문자열의 리스트로 반환\n",
    "\n",
    "    ```py\n",
    "    text = 'Hello, world!'\n",
    "    words = text.split(',')\n",
    "    print(words) # ['Hello', ' world!']\n",
    "    ```"
   ]
  },
  {
   "cell_type": "markdown",
   "metadata": {},
   "source": [
    "##### ‘separator’.join(iterable) ★\n",
    "- iterable 의 문자열을 연결한 문자열을 반환\n",
    "\n",
    "    ```py\n",
    "    words = ['Hello', 'world!']\n",
    "    text = '-'.join(words)\n",
    "    print(text) # 'Hello-world!'\n",
    "    ```"
   ]
  },
  {
   "cell_type": "markdown",
   "metadata": {},
   "source": [
    "##### 기타 문자열 조작 메서드\n",
    "```python\n",
    "text = 'heLLo, woRld!'\n",
    "new_text1 = text.capitalize()\n",
    "new_text2 = text.title()\n",
    "new_text3 = text.upper()\n",
    "new_text4 = text.swapcase()\n",
    "\n",
    "print(new_text1) # Hello, world!\n",
    "print(new_text2) # Hello, World!\n",
    "print(new_text3) # HELLO, WORLD!\n",
    "print(new_text4) # HEllO, WOrLD!\n",
    "```"
   ]
  },
  {
   "cell_type": "markdown",
   "metadata": {},
   "source": [
    "##### 메서드 이어서 사용하기\n",
    "- 모든 메서드는 이어서 사용 가능\n",
    "\n",
    "    ```python\n",
    "    text = 'heLLo, woRld!'\n",
    "    \n",
    "    new_text = text.swapcase().replace('l', 'z')\n",
    "    \n",
    "    print(new_text) # HEzzO, WOrLD!\n",
    "    ```"
   ]
  }
 ],
 "metadata": {
  "language_info": {
   "name": "python"
  }
 },
 "nbformat": 4,
 "nbformat_minor": 2
}
