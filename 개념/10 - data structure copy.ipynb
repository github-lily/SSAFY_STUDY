{
 "cells": [
  {
   "cell_type": "markdown",
   "metadata": {},
   "source": [
    "# 데이터 구조\n",
    "- 여러 데이터를 효과적으로 사용, 관리하기 위한 구조\n",
    "- str, list, dict 등\n",
    "- 컴퓨터 공학에서는 '자료 구조'라고 함\n",
    "- 각 데이터의 효율적인 저장, 관리를 위해 구조를 나눠 놓은 것\n",
    "- 각 데이터 구조의 메서드를 호출하여 다양한 기능을 활용함"
   ]
  },
  {
   "cell_type": "markdown",
   "metadata": {},
   "source": [
    "# 메서드\n",
    "- 객체에 속한 함수(클래스 내부에 정의되는 함수)\n",
    "- 객체의 상태를 조작하거나 동작을 수행함\n",
    "- `데이터타입 객체.메서드()`"
   ]
  },
  {
   "cell_type": "markdown",
   "metadata": {},
   "source": [
    "# 참고\n",
    "#### 문자 유형 판별 메서드\n",
    "#### 문자열에 포함된 문자들의 유형을 판별하는 메서드\n",
    "- `isdecimal()`\n",
    "    - 문자열이 모두 숫자 문자(0~9)로만 이루어져 있어야 True\n",
    "- `isdigit()`\n",
    "    - isdecimal()과 비슷하지만, 유니코드 숫자도 인식 ('①’ 도 숫자로 인식)\n",
    "- `isnumeric()`\n",
    "    - isdigit()과 유사하지만, 몇 가지 추가적인 유니코드 문자들을 인식 <br>(분수, 지수, 루트 기호도 숫자로 인식)\n",
    "\n"
   ]
  },
  {
   "cell_type": "markdown",
   "metadata": {},
   "source": [
    "- `isdecimal()` ⊆ `isdigit()` ⊆ `isnumeric()`\n",
    "\n",
    "|     isdecimal()    \t|     isdigit()    \t|     isnumeric()    \t|                  예시                \t|\n",
    "|:------------------:\t|:----------------:\t|:------------------:\t|:------------------------------------:\t|\n",
    "|         True       \t|        True      \t|         True       \t|       \"038\",   \"੦੩੮\",   \"０３８\"     \t|\n",
    "|        False       \t|        True      \t|         True       \t|          \"⁰³⁸\", \"🄀⒊⒏\", \"⓪③⑧\"         \t|\n",
    "|        False       \t|       False      \t|         True       \t|     \"⅛⅘\", \"ⅠⅢⅧ\", \"⑩⑬㊿\", \"壹貳參\"    \t|\n",
    "|        False       \t|       False      \t|        False       \t|          \"abc\", \"38.0\", \"-38\"        \t|"
   ]
  }
 ],
 "metadata": {
  "language_info": {
   "name": "python"
  }
 },
 "nbformat": 4,
 "nbformat_minor": 2
}
