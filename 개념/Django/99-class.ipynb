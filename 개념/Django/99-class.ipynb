{
 "cells": [
  {
   "cell_type": "markdown",
   "metadata": {},
   "source": [
    "1. python -m venv venv\n",
    "2. source venv/Scripts/activate\n",
    "3. pip install django\n",
    "4. pip freeze > requirements.txt\n",
    "5. django-admin startproject my_pjt . (현재 위치에 폴더 생성)\n",
    "6. python manage.py runserver\n",
    "7. python manage.py startapp articles\n",
    "8. [settings] - [INSTALLED_APPS] - 'articles'\n",
    "9. [urls.py] - from articles import views\n",
    "9. [urls.py] - [urlpatterns] - path('index/', views.index),\n",
    "10. [views.py] - def index(request) : return render(request, 'index.html')\n",
    "11. templates 폴더 생성 - index.html 파일 생성 - ! enter - body 에 사용\n"
   ]
  },
  {
   "cell_type": "markdown",
   "metadata": {},
   "source": [
    "\n",
    "1. [urls.py] - path('dinner/', views.dinner ), \n",
    "2. [views.py] - \n",
    "def dinner(request) :\n",
    "    return render(request, 'dinner.html')\n",
    "3. [templates] - dinner.html 생성, 표시용으로 body에 내용 넣기\n",
    "4. 잘 되는지 확인\n",
    "5. [views.py] 내용 추가\n",
    "def dinner(request) :\n",
    "    username = '김민정'\n",
    "    foods = ['치킨', '피자', '족발', '프로틴', '닭가슴살', '보쌈', '햄버거']\n",
    "    # render에 넘기는 데이터는 딕셔너리로 작성\n",
    "    context = {\n",
    "        'username' : username,\n",
    "        'foods' : foods,\n",
    "    }\n",
    "    return render(request, 'dinner.html', context)\n",
    "6. dinner.html 들어가서 원하는 내용으로 구성하기\n",
    "  <p>{{ username }} - {{ username|length}}</p>\n",
    "  <p>{{ foods }} - {{ foods|length}}</p>\n",
    "\n",
    "  <h3>민정이가 한 끼에 먹은 음식들 : </h3>\n",
    "  {% for food in foods %}\n",
    "    <p>\n",
    "      {{ food }}\n",
    "    </p>\n",
    "    {% if food == '프로틴' %}\n",
    "      <p> 김지훈 헬창~~~ </p>\n",
    "    {% endif %}\n",
    "  {% empty %}\n",
    "    <p>빈 리스트입니다.</p>\n",
    "  {% endfor %}\n",
    "\n",
    "다양한 걸 할 수 있음!"
   ]
  },
  {
   "cell_type": "markdown",
   "metadata": {},
   "source": [
    "bootstrap\n",
    "\n",
    "\n",
    "1. [templates] - base.html 생성\n",
    "2. bootstrap CDN 가져오기\n",
    "3. block 태그 만들기 : 여러개를 만들 수 있으므로 이름을 지정해줘야 함\n",
    "4. [index.html] -\n",
    "{% extends \"base.html\" %}\t#최상단\n",
    "\n",
    "{% block content %}\n",
    "\n",
    "<h1>index page</h1>\n",
    "\n",
    "{% endblock content %}"
   ]
  },
  {
   "cell_type": "markdown",
   "metadata": {},
   "source": [
    "app 생성\n",
    "1. python manage.py startapp pages\n",
    "2. [pjt] - [settings.py] - app 등록\n",
    "3. [articles] 폴더에 urls.py 생성\n",
    "4. urlpatterns 만들기\n",
    "5. from django.urls import path\n",
    "6. [pjt] - [urls.py]에 있던 내용 가져오기\n",
    "from . import views\n",
    "    path('index/', views.index),\n",
    "\n",
    "    path('dinner/', views.dinner ), \n",
    "\n",
    "7.  [pjt] - [urls.py] 수정\n",
    "    path('articles/', include('articles.urls')),\n",
    "\n",
    "    path('pages/', include('pages.urls'))\n"
   ]
  },
  {
   "cell_type": "markdown",
   "metadata": {},
   "source": [
    "앱이 2개 이상이 되면 index, views 등 같은 이름이 생겨서 오류가 생길 수 있음\n",
    "앱의 templates 안에 앱과 같은 이름의 파일을 하나 더 만들어서 그 안에 파일 넣기\n",
    "경로를 pages/index.html , articles/index.html 으로 수정\n",
    "\n",
    "1. 앱 아래 urls.py 를 만든다\n",
    "2. 프로젝트의 urls.py 내용을 앱 아래 urls에 옮기고 불필요한 내용은 지운다\n",
    "3. 앱/ 으로 시작하는 것들을 앱 아래 urls로 가져온다\n",
    "4. 프로젝트의 urls 에서  path('todos/', include('todos.urls')) 로 바꿔준다."
   ]
  },
  {
   "cell_type": "markdown",
   "metadata": {},
   "source": [
    "variable routing\n",
    "<articles/1/>\n",
    "\n",
    "1. articles - [urls.py] \n",
    "    path('<int:article_id>/', views.detail),\n",
    "\n",
    "2. articles - [views.py]\n",
    "def detail(request, articles_id) :\n",
    "    print(article_id)\n",
    "    print('=================================')\n",
    "\n",
    "<articles/hello/김민정/>\n",
    "※ 이게 위에 존재하면 아래에 있는 함수들이 잡아먹힘(뭘 치던 모두 문자열로 인식됨)\n",
    "\n",
    "1. articles - [urls.py] \n",
    "path('hello/<str:username>', views.hello ),\n",
    "\n",
    "2. articles - [views.py]\n",
    "def hello(request, username) :\n",
    "    context = {\n",
    "        'username' : username,\n",
    "    }\n",
    "\n",
    "    return render(request, 'articles/hello.html', context)"
   ]
  },
  {
   "cell_type": "markdown",
   "metadata": {},
   "source": [
    "throw - catch\n",
    "1. articles - [urls.py] \n",
    "    path('throw/', views.throw),\n",
    "    path('catch/', views.catch)\n",
    "\n",
    "2. articles - [views.py]"
   ]
  },
  {
   "cell_type": "markdown",
   "metadata": {},
   "source": [
    "app_name = ''\n",
    "을 입력하면 아래는 'todos : index' 형식으로 작성해야 함\n",
    "\n",
    "(변경 전-base.html)\n",
    "    <a href=\"{% url \"index\" %}\">메인 페이지</a>\n",
    "    <a href=\"{% url \"create\" %}\">할 일 추가</a> |\n",
    "    \n",
    "(변경 후)\n",
    "    <a href=\"{% url \"todos:index\" %}\">메인 페이지</a>\n",
    "    <a href=\"{% url \"todos:create\" %}\">할 일 추가</a> |\n",
    "    \n",
    "\n"
   ]
  }
 ],
 "metadata": {
  "language_info": {
   "name": "python"
  }
 },
 "nbformat": 4,
 "nbformat_minor": 2
}
