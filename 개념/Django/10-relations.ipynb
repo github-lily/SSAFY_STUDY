{
 "cells": [
  {
   "cell_type": "markdown",
   "metadata": {},
   "source": [
    "### 목차\n",
    "\n",
    "#### Many to one relationships\n",
    "- 모델 관계\n",
    "- 댓글 모델 정의\n",
    "- 댓글 생성 연습\n",
    "#### 관계 모델 참조\n",
    "- 역참조\n",
    "#### 댓글 구현\n",
    "- CREATE\n",
    "- READ\n",
    "- DELETE\n",
    "#### 참고\n",
    "- 데이터 무결성\n",
    "- admin site 댓글 등록\n",
    "- 댓글 추가 구현\n"
   ]
  },
  {
   "cell_type": "code",
   "execution_count": null,
   "metadata": {},
   "outputs": [],
   "source": [
    "class Comment(models.Model) :\n",
    "    # article = models.Foreignkey(상대 모델 클래스, 상대 모델 클래스가 삭제됐을 때 어떻게 처리할지를 정의하는 설정)\n",
    "    # 외래키는 어디에 적던 맨 마지막 칼럼으로 작성되고, 뒤에 _id가 붙음(중복으로 적지 않게 주의)\n",
    "    article = models.ForeignKey(Article, on_delete=models.CASCADE)\n",
    "    content = models.CharField(max_length=200)\n",
    "    created_at = models.DateTimeField(auto_now_add = True)\n",
    "    updated_at = models.DateTimeField(auto_now=True)\n",
    "\n",
    "'''\n",
    "1. 참조 (Comment -> Article)\n",
    "- 1번 댓글이 작성된 게시글 참조\n",
    "\n",
    "2. 역참조 (Article -> Comment)\n",
    "- 1번 게시글에 작성된 모든 댓글 참조\n",
    "- 관계를 직접 정의하지 않은 모델(Article)에서 연결된 객체(Comment)들을 조회할 수 있게 함\n",
    "'''"
   ]
  },
  {
   "cell_type": "markdown",
   "metadata": {},
   "source": []
  },
  {
   "cell_type": "code",
   "execution_count": null,
   "metadata": {},
   "outputs": [],
   "source": [
    "class CommentForm(forms.ModelForm) :\n",
    "    class Meta :\n",
    "        model = Comment\n",
    "        fields = ('content',)\n",
    "        # all로 하면 게시글 선택까지 모두 뜸"
   ]
  }
 ],
 "metadata": {
  "language_info": {
   "name": "python"
  }
 },
 "nbformat": 4,
 "nbformat_minor": 2
}
