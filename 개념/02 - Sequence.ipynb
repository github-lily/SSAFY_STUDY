{
 "cells": [
  {
   "cell_type": "markdown",
   "metadata": {},
   "source": [
    "# Data Types\n",
    "- 값의 종류와 그 값에 적용 가능한 연산과 동작을 결정하는 속성\n",
    "- 데이터 타입이 필요한 이유\n",
    "    - 값들을 구분하고, 어떻게 다뤄야 하는지를 알 수 있음\n",
    "    - 각 데이터 타입별로 각자에게 적합한 도구(함수)를 가짐\n",
    "    - 타입을 명시적으로 지정하면 코드를 읽는 사람이 변수의 의도를 더 쉽게 이해할 수 있고 잘못된 데이터 타입으로 인한 오류를 미리 예방할 수 있음\n",
    "    "
   ]
  },
  {
   "cell_type": "markdown",
   "metadata": {},
   "source": [
    "- Numeric Types\n",
    "    - int (정수), float (실수), complex (복소수)\n",
    "- Text Sequence Type\n",
    "    - str (문자열)\n",
    "- Sequence Types\n",
    "    - list, tuple, range\n",
    "- Non-sequence Types\n",
    "    -  set, dict\n",
    "- 기타\n",
    "    - Boolean, None, Functions"
   ]
  },
  {
   "cell_type": "markdown",
   "metadata": {},
   "source": [
    "## Numeric Types\n",
    "\n",
    "- int : 정수를 표현하는 자료형(5, -5, 0 등)\n",
    "    - 진수표현\n",
    "        - 2진수(binary) : 0b\n",
    "        - 8진수(octal) : 0o\n",
    "        - 16진수(hexadecimal) : 0x\n"
   ]
  },
  {
   "cell_type": "code",
   "execution_count": null,
   "metadata": {},
   "outputs": [
    {
     "name": "stdout",
     "output_type": "stream",
     "text": [
      "2\n",
      "8\n",
      "24\n",
      "16\n",
      "32\n"
     ]
    }
   ],
   "source": [
    "print(0b10)   #2\n",
    "print(0o10)   #8\n",
    "print(0o30)   #24\n",
    "print(0x10)   #16\n",
    "print(0x20)   #32"
   ]
  },
  {
   "cell_type": "markdown",
   "metadata": {},
   "source": [
    "- float : 실수를 표현하는 자료형 (3.14, -2.7)\n",
    "    - 정확히는 실수에 대한 근삿값\n",
    "    - 부동소수점 에러(Floating point rounding error)\n",
    "        - 컴퓨터가 실수를 표현하는 방식으로 인해 발생하는 작은 오차\n",
    "        - 실수를 컴퓨터의 표기방식인 2진수로 변환하는 과정에서 발생하는 근사치 표현\n",
    "        - 해결 방법 : 'decimal' 모듈을 사용해 연산의 정확성을 보장함\n"
   ]
  },
  {
   "cell_type": "code",
   "execution_count": null,
   "metadata": {},
   "outputs": [
    {
     "name": "stdout",
     "output_type": "stream",
     "text": [
      "0.10000000000000009\n",
      "0.09999999999999987\n",
      "False\n",
      "0.1\n",
      "0.1\n",
      "True\n"
     ]
    }
   ],
   "source": [
    "a = 3.2 - 3.1\n",
    "b = 1.2 - 1.1\n",
    "\n",
    "print(a) \n",
    "print(b)\n",
    "print(a==b)      #False\n",
    "\n",
    "from decimal import Decimal\n",
    "\n",
    "a=Decimal('3.2') - Decimal('3.1')\n",
    "b=Decimal('1.2') - Decimal('1.1')\n",
    "\n",
    "#주의! Decimal 을 각각 붙여줘야 함!\n",
    "\n",
    "print(a) \n",
    "print(b)\n",
    "print(a==b)       #True\n"
   ]
  },
  {
   "cell_type": "markdown",
   "metadata": {},
   "source": [
    "- 지수 표현 방식\n",
    "    - e 또는 E를 사용함"
   ]
  },
  {
   "cell_type": "code",
   "execution_count": null,
   "metadata": {},
   "outputs": [
    {
     "name": "stdout",
     "output_type": "stream",
     "text": [
      "3.14\n"
     ]
    }
   ],
   "source": [
    "number = 314e-2\n",
    "# 314를 소수점 둘째자리까지 표현\n",
    "# 즉, 314 * 0.01\n",
    "print(number)"
   ]
  },
  {
   "cell_type": "markdown",
   "metadata": {},
   "source": [
    "## Sequence Types\n",
    "- str, list, tuple, range\n",
    "- 여러 개의 값들을 순서대로 나열\n",
    "- **특징**\n",
    "    1. 순서(Sequence) : 값들이 순서대로 정리됨 (정렬되는 것은 아님!)\n",
    "    2. 인덱싱(Indexing) : 각 값에 고유한 인덱스(번호)를 가지고 있으며, 인덱스를 사용하여 특정 위치의 값을 선택하거나 수정할 수 있음\n",
    "    3. 슬라이싱(Slicing) : 인덱스 범위를 조절해 부분적인 값을 추출할 수 있음\n",
    "    4. 길이(Length) : len() 함수를 사용하여 저장된 값의 개수(길이)를 구할 수 있음\n",
    "    5. 반복(Iteration) : 반복문을 사용하여 저장된 값들을 반복적으로 처리할 수 있음\n"
   ]
  },
  {
   "attachments": {
    "image.png": {
     "image/png": "[encoded data removed]"
    }
   },
   "cell_type": "markdown",
   "metadata": {},
   "source": [
    "### 문자열(str)\n",
    "- 문자들의 순서가 있는 변경 불가능한 시퀀스 자료형\n",
    "- 작은 따옴표(') 또는 큰 따옴표(\")로 감싸서 표현함\n",
    "- 중첩 따옴표 : 따옴표 안에 따옴표를 쓰려면 다른 따옴표로 표현\n",
    "- Escape Sequence\n",
    "    - 역슬래시(backlash, '\\') 뒤에 특정 문자가 와서 특수한 기능을 하는 문자 조합\n",
    "    - 파이썬의 일반적인 문법 규칙을 잠시 탈출한다는 의미\n",
    "    - \n",
    "|     예약   문자    \t|      내용(의미)    \t|\n",
    "|:------------------:\t|:------------------:\t|\n",
    "|          `\\n`        \t|      줄   바꿈     \t|\n",
    "|          `\\t`        \t|          탭        \t|\n",
    "|          `\\\\`        \t|       백슬래시     \t|\n",
    "|          `\\’`        \t|     작은 따옴표    \t|\n",
    "|          `\\\"`        \t|     큰   따옴표    \t|\n",
    "\n",
    "- String Interpolation\n",
    "    - 문자열 내에 변수나 표현식을 삽입하는 방법\n",
    "    - f-string\n",
    "        - 문자열에 f 또는 F 접두어를 붙이고 표현식을 {expression}로 작성하는 문법\n",
    "        - 문자열에 파이썬 표현식의 값을 삽입할 수 있음\n",
    "\n",
    "- 인덱스(index)\n",
    "    - 시퀀스 내 값들에 대한 고유한 번호로, 각 값의 위치를 식별하는 데 사용되는 숫자\n",
    "    - ![image.png](attachment:image.png)\n",
    "- 슬라이싱(slicing)\n",
    "    - 시퀀스의 일부분을 선택하여 추출하는 작업\n",
    "    - 시작 인덱스와 끝 인덱스를 지정하여 해당 범위의 값을 포함하는 새로운 시퀀스를 생성\n",
    "    - my_str[a:b:c]\n",
    "        - a 이상, b 미만, C 간격으로\n",
    "        - c 가 -1이면 역순으로 뽑아옴\n",
    "- 문자열은 변경 불가(불변)\n",
    "\n"
   ]
  },
  {
   "cell_type": "code",
   "execution_count": null,
   "metadata": {},
   "outputs": [
    {
     "name": "stdout",
     "output_type": "stream",
     "text": [
      "\\얍\n",
      "olleh\n"
     ]
    }
   ],
   "source": [
    "print('\\\\얍')\n",
    "\n",
    "my_str = 'hello'\n",
    "print(my_str[::-1])"
   ]
  },
  {
   "cell_type": "code",
   "execution_count": null,
   "metadata": {},
   "outputs": [],
   "source": [
    "my_str = 'hello'\n",
    "\n",
    "my_str[1]  = 'z'\n",
    "\n",
    "#TypeError: 'str' object does not support item assignment"
   ]
  },
  {
   "cell_type": "markdown",
   "metadata": {},
   "source": [
    "# 리스트(list)\n",
    "- 여러 개의 값을 순서대로 저장하는 변경 가능한 시퀀스 자료형\n",
    "- 리스트 표현\n",
    "    - 0개 이상의 객체를 포함하며 데이터 목록을 저장\n",
    "    - 대괄호([])로 표기\n",
    "    - 데이터는 어떤 자료형도 저장할 수 있음\n",
    "- 리스트는 변경 가능(가변)\n"
   ]
  },
  {
   "cell_type": "code",
   "execution_count": 1,
   "metadata": {},
   "outputs": [
    {
     "name": "stdout",
     "output_type": "stream",
     "text": [
      "5\n",
      "!!!\n",
      "w\n",
      "[1, 100, 3, 'Python', ['hello', 'world', '!!!']]\n"
     ]
    }
   ],
   "source": [
    "my_list = [1,2,3,'Python',['hello','world','!!!']]\n",
    "\n",
    "print(len(my_list))\n",
    "print(my_list[4][-1])\n",
    "print(my_list[-1][1][0])\n",
    "\n",
    "my_list[1] = 100\n",
    "print(my_list)"
   ]
  },
  {
   "cell_type": "markdown",
   "metadata": {},
   "source": [
    "# 튜플(tuple)\n",
    "- 여러 개의 값을 순서대로 저장하는 **변경 불가능한** 시퀀스 자료형\n",
    "- 0개 이상의 객체를 포함하며 데이터 목록을 저장\n",
    "- 소괄호(())로 표기\n",
    "- 데이터는 어떤 자료형도 저장할 수 있음\n",
    "- 불변 특성을 사용하여 안전하게 여러 개의 값을 전달, 그룹화, 다중할당 할 수 있음\n",
    "- 개발자가 직접 사용하기 보다 '파이썬 내부 동작'에서 주로 사용됨\n",
    "- 쉼표(,)를 튜플 생성자로 사용하기때문에 괄호 생략 가능\n"
   ]
  },
  {
   "cell_type": "markdown",
   "metadata": {},
   "source": [
    "# Range\n",
    "- 연속된 정수 시퀀스를 생성하는 변경 불가능한 자료형\n",
    "- range(a,b,c) \n",
    "    - a 이상 b 미만, c 간격(증가값)\n",
    "    - range(n) : 0부터 n-1 까지의 시퀀스\n",
    "    - range(n,m) : n 부터 m-1까지의 숫자 시퀀스\n",
    "- 특징\n",
    "    - 증가값이 없으면 1씩 증가\n",
    "    - 증가값이 음수이면 감소, 시작 값이 끝 값보다 큼\n",
    "    - 증가값이 양수이면 증가, 시작 값이 끝 값보다 작음\n",
    "    - 증가값이 0이면 에러\n",
    "- range 값 확인방법\n",
    "    1. 리스트로 형 변환\n",
    "        - print(list(range(5)))     #[0,1,2,3,4]\n",
    "    2. 반복문과 함께 활용\n",
    "        - for i in range(1,5): print(i) # 1 2 3 4 "
   ]
  }
 ],
 "metadata": {
  "kernelspec": {
   "display_name": "Python 3",
   "language": "python",
   "name": "python3"
  },
  "language_info": {
   "codemirror_mode": {
    "name": "ipython",
    "version": 3
   },
   "file_extension": ".py",
   "mimetype": "text/x-python",
   "name": "python",
   "nbconvert_exporter": "python",
   "pygments_lexer": "ipython3",
   "version": "3.12.3"
  }
 },
 "nbformat": 4,
 "nbformat_minor": 2
}
