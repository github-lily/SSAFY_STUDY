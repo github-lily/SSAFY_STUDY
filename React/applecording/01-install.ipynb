{
 "cells": [
  {
   "cell_type": "markdown",
   "metadata": {},
   "source": [
    "# Install\n",
    "- 참고 : https://codingapple.com/unit/react1-install-create-react-app-npx/?id=2305\n",
    "## 개발 환경 셋팅\n",
    "1. nodejs 검색해서 설치\n",
    "2. vscode 에디터 검색해서 설치\n",
    "\n",
    "## 프로젝트 생성\n",
    "1. 작업용 폴더 만들기  \n",
    "2. Shift+우클릭 - PowerShell/터미널 열기  \n",
    "3. 터미널 창에 `npx create-react-app 프로젝트명` 입력  \n",
    "4. 만약 허가되지 않은 스크립트 어쩌구 에러가 뜬다면  \n",
    "5. 윈도우에 `PowerShell`검색해서 우클릭 - 관리자 권한으로 실행  \n",
    "6. `Set-ExecutionPolicy Unrestricted` 입력 후 엔터\n",
    "7. 실행규칙 변경 뜨면 `y` 입력\n",
    "8. 다시 기존 터미널로 돌아가서 `npm create-react-app 프로젝트명` 입력\n",
    "9. 설치 되면 에디터에서 File - Open Folder로 폴더 열기(프로젝트명 잘 뜨는지 확인)\n",
    "10. 미리보기는 프로젝트명 폴더 터미널에서 `npm start`"
   ]
  },
  {
   "cell_type": "markdown",
   "metadata": {},
   "source": [
    "## 프로젝트 파일 설명\n",
    "1. node_modules\n",
    "- 프로젝트 구동에 필요한 모든 라이브러리의 소스 코드를 모아둔 곳\n",
    "2. public\n",
    "- html, image 등의 static 파일을 임시 보관할 때 사용하는 곳\n",
    "3. src\n",
    "- 코드 짜는 곳. 소스 코드 보관함\n",
    "- App.js가 Mainpage\n",
    "    - 이 곳에 html로 코드를 짜면 index.js가 index.html로 변환해서 보여줌\n",
    "4. package.json\n",
    "- 프로젝트 정보\n",
    "- 자동생성됨\n"
   ]
  }
 ],
 "metadata": {
  "language_info": {
   "name": "python"
  }
 },
 "nbformat": 4,
 "nbformat_minor": 2
}
