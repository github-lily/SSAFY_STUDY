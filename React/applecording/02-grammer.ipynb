{
 "cells": [
  {
   "cell_type": "markdown",
   "metadata": {},
   "source": [
    "## 기본 셋팅\n",
    "- App.js에서 div 하나만 남기고 지우기\n",
    "\n",
    "\n",
    "## JSX 문법\n",
    "1. class 넣을 땐 `className`으로 해야함  \n",
    "2. 변수 넣을 땐 {중괄호}\n",
    "3. style 넣을 땐 `style={{스타일명:'값'}}`\n",
    "- 카멜케이스로 작성(font-size X, fontSize)\n"
   ]
  }
 ],
 "metadata": {
  "language_info": {
   "name": "python"
  }
 },
 "nbformat": 4,
 "nbformat_minor": 2
}
