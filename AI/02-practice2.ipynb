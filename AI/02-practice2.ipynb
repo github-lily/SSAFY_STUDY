{
 "cells": [
  {
   "cell_type": "markdown",
   "metadata": {},
   "source": [
    "## **🔍 Objectives**\n",
    "\n",
    "### **1. 실습 개요**\n",
    "- 📊 **공공데이터 API 실습**  \n",
    "- 🔄 **JSON, CSV, XML 데이터 처리 실습**  \n",
    "\n",
    "---\n",
    "\n",
    "### **2. 실습 진행 목적 및 배경**\n",
    "- **공공데이터 API**를 통해 구조화된 데이터를 요청하고 응답받는 기술을 익힙니다.  \n",
    "- **JSON, CSV, XML**과 같은 다양한 데이터 포맷의 구조를 이해하고 이를 변환하거나 저장하는 방법을 학습합니다.  \n",
    "- 학습자는 데이터를 수집, 처리, 저장하는 유연한 워크플로우를 체득하게 됩니다.  \n",
    "\n",
    "---\n",
    "\n",
    "### **3. 실습 수행으로 얻어갈 수 있는 역량**\n",
    "- 실시간 데이터를 **수집**하고 **분석**하는 기술 습득  \n",
    "- 데이터를 다룰 때 **포맷 변환 및 저장 능력** 향상\n",
    "\n",
    "---\n",
    "\n",
    "### **4. 데이터셋 개요 및 저작권 정보**\n",
    "\n",
    "#### **📁 데이터 개요**\n",
    "- **데이터셋 이름**: 노령 인구 통계 데이터  \n",
    "- **데이터 제공자**: 공공데이터포털 (대한민국 정부)  \n",
    "- **내용**:  \n",
    "  - 특정 연도의 노령 인구 통계를 제공 (전체 및 연령대별 인구).  \n",
    "  - **분석 목적**: 정책 분석, 학술 연구, 보고서 작성 등.  \n",
    "  - **형식**: XML 또는 JSON 응답 데이터.  \n",
    "- **컬럼명 설명**:  \n",
    "  - `year`: 데이터의 연도  \n",
    "  - `all`: 전체 노령 인구 수  \n",
    "  - `age65-69`: 65-69세 연령대 인구 수  \n",
    "  - `age70-74`: 70-74세 연령대 인구 수  \n",
    "  - `age75-79`: 75-79세 연령대 인구 수  \n",
    "  - `age80-84`: 80-84세 연령대 인구 수  \n",
    "  - `age85-89`: 85-89세 연령대 인구 수  \n",
    "  - `age90u`: 90세 이상 인구 수  \n",
    "\n",
    "#### **📜 저작권 정보**\n",
    "- **소유자**: 보건복지부  \n",
    "- **저작권 표시**: 공공의 이익을 위해 제공되며, 특정 조건에서 재사용 가능.  \n",
    "- **출처**: [공공데이터포털](https://www.data.go.kr/)  \n",
    "\n",
    "---\n",
    "\n",
    "### **5. 실습 핵심 내용**\n",
    "- 🔑 **API 키 발급 및 활용법 학습**  \n",
    "- 📂 **JSON, CSV, XML 데이터 포맷 처리 실습**  \n"
   ]
  },
  {
   "cell_type": "markdown",
   "metadata": {},
   "source": [
    "### **Prerequisites**\n",
    "\n",
    "```\n",
    "requests>=2.28.1\n",
    "pandas>=1.3.0\n",
    "jsonschema>=4.0.0\n",
    "urllib3>=1.26.12\n",
    "\n",
    "```\n"
   ]
  },
  {
   "cell_type": "code",
   "execution_count": 3,
   "metadata": {},
   "outputs": [],
   "source": [
    "!pip install requests>=2.28.1 pandas>=1.3.0 jsonschema>=4.0.0 urllib3>=1.26.12\n"
   ]
  },
  {
   "cell_type": "markdown",
   "metadata": {},
   "source": [
    "# API 데이터 수집\n",
    "- JSON과 XML 데이터 구조 숙달\n",
    "- 공공데이터 API 활용해보기\n",
    "- 네이버 API 활용해보기\n"
   ]
  },
  {
   "cell_type": "markdown",
   "metadata": {},
   "source": [
    "## 1. JSON\n",
    "### 1-1. 데이터 저장\n",
    "- 구글 드라이브를 마운트하여 구글 드라이브에 JSON 파일 저장"
   ]
  },
  {
   "cell_type": "code",
   "execution_count": null,
   "metadata": {},
   "outputs": [],
   "source": [
    "# 이건 코랩환경에서하는거\n",
    "from google.colab import drive\n",
    "drive.mount('/content/gdrive', force_remount=True)\n",
    "\n",
    "# 실행 결과 : Mounted at /content/gdrive"
   ]
  },
  {
   "cell_type": "markdown",
   "metadata": {},
   "source": [
    "- 파일을 저장할 디렉토리 생성"
   ]
  },
  {
   "cell_type": "code",
   "execution_count": 5,
   "metadata": {},
   "outputs": [
    {
     "name": "stdout",
     "output_type": "stream",
     "text": [
      "'/content/gdrive/MyDrive/' 폴더가 생성되었습니다.\n"
     ]
    }
   ],
   "source": [
    "import os\n",
    "# my_path: 각자 데이터셋 파일이 있는 경로로 설정 바랍니다.\n",
    "my_path = \"/content/gdrive/MyDrive/\"\n",
    "if not os.path.exists(my_path):\n",
    "    os.makedirs(my_path)\n",
    "    print(f\"'{my_path}' 폴더가 생성되었습니다.\")\n",
    "else:\n",
    "    print(f\"'{my_path}' 폴더가 이미 존재합니다.\")\n"
   ]
  },
  {
   "cell_type": "markdown",
   "metadata": {},
   "source": [
    "- 여러 사이트의 아이디와 비밀번호 관리하는 JSON 파일\n",
    "- 다른 사용자가 접근할 수 없는 곳에 저장해두고 불러서 사용"
   ]
  },
  {
   "cell_type": "code",
   "execution_count": 7,
   "metadata": {},
   "outputs": [],
   "source": [
    "import json\n",
    "admin={\n",
    "    '1.name' : \"hong gildong\",\n",
    "    '2.mysql' : { \"id\" :\"mysql\", \"pass\" : \"12345\" },\n",
    "    '3.naver_api':{\n",
    "        'id' : 'gildong',\n",
    "        'api_key': 'my_naver_6789',\n",
    "        'api_secret': \"12345\" },\n",
    "    }\n",
    "with open(os.path.join(my_path, 'admin_ex.json'), 'w') as f:\n",
    "    json.dump(admin, f) #들여쓰기 옵션\n"
   ]
  },
  {
   "cell_type": "markdown",
   "metadata": {},
   "source": [
    "### 1-2. JSON 읽기, 활용하기\n",
    "\n",
    "- 코랩에서 프로그래밍할 때 구글 드라이브에 저장해놓고 보안키를 불러서 사용\n",
    "- 타 사용자는 읽기 불가\n",
    "- f.read()로 텍스트 읽기\n",
    "- json.loads() 함수를 사용하여 파일 인식 처리"
   ]
  },
  {
   "cell_type": "code",
   "execution_count": 8,
   "metadata": {},
   "outputs": [
    {
     "name": "stdout",
     "output_type": "stream",
     "text": [
      "{\"1.name\": \"hong gildong\", \"2.mysql\": {\"id\": \"mysql\", \"pass\": \"12345\"}, \"3.naver_api\": {\"id\": \"gildong\", \"api_key\": \"my_naver_6789\", \"api_secret\": \"12345\"}}\n",
      "{\n",
      "    \"1.name\": \"hong gildong\",\n",
      "    \"2.mysql\": {\n",
      "        \"id\": \"mysql\",\n",
      "        \"pass\": \"12345\"\n",
      "    },\n",
      "    \"3.naver_api\": {\n",
      "        \"id\": \"gildong\",\n",
      "        \"api_key\": \"my_naver_6789\",\n",
      "        \"api_secret\": \"12345\"\n",
      "    }\n",
      "}\n",
      "my_naver_6789\n",
      "my_naver_6789 12345\n"
     ]
    }
   ],
   "source": [
    "import json\n",
    "import os\n",
    "\n",
    "\n",
    "# JSON 파일 경로 생성\n",
    "json_file_path = os.path.join(my_path, 'admin_ex.json')\n",
    "\n",
    "# JSON 파일 읽기\n",
    "with open(json_file_path, 'r') as f:\n",
    "    s = f.read()\n",
    "    admin = json.loads(s)\n",
    "    admin1 = admin['3.naver_api']  # JSON 데이터 접근\n",
    "\n",
    "# 데이터 출력\n",
    "print(s)\n",
    "print(json.dumps(admin, indent=4))  # JSON 데이터 가독성 있게 출력\n",
    "print(admin['3.naver_api']['api_key'])  # API 키 출력\n",
    "print(admin1['api_key'], admin1['api_secret'])  # API 키와 시크릿 출력\n",
    "\n"
   ]
  },
  {
   "cell_type": "markdown",
   "metadata": {},
   "source": [
    "### 1-3. 데이터프레임으로 변환 저장"
   ]
  },
  {
   "cell_type": "code",
   "execution_count": 11,
   "metadata": {},
   "outputs": [
    {
     "name": "stdout",
     "output_type": "stream",
     "text": [
      ",id,pass\n",
      "0,mysql,12345\n",
      "\n"
     ]
    },
    {
     "data": {
      "text/html": [
       "<div>\n",
       "<style scoped>\n",
       "    .dataframe tbody tr th:only-of-type {\n",
       "        vertical-align: middle;\n",
       "    }\n",
       "\n",
       "    .dataframe tbody tr th {\n",
       "        vertical-align: top;\n",
       "    }\n",
       "\n",
       "    .dataframe thead th {\n",
       "        text-align: right;\n",
       "    }\n",
       "</style>\n",
       "<table border=\"1\" class=\"dataframe\">\n",
       "  <thead>\n",
       "    <tr style=\"text-align: right;\">\n",
       "      <th></th>\n",
       "      <th>id</th>\n",
       "      <th>pass</th>\n",
       "    </tr>\n",
       "  </thead>\n",
       "  <tbody>\n",
       "    <tr>\n",
       "      <th>0</th>\n",
       "      <td>mysql</td>\n",
       "      <td>12345</td>\n",
       "    </tr>\n",
       "  </tbody>\n",
       "</table>\n",
       "</div>"
      ],
      "text/plain": [
       "      id   pass\n",
       "0  mysql  12345"
      ]
     },
     "execution_count": 11,
     "metadata": {},
     "output_type": "execute_result"
    }
   ],
   "source": [
    "import json\n",
    "import pandas as pd\n",
    "df = pd.json_normalize(admin['2.mysql'])\n",
    "json_csv = df.to_csv()\n",
    "print(json_csv)\n",
    "df\n"
   ]
  },
  {
   "cell_type": "markdown",
   "metadata": {},
   "source": [
    "## 2. XML\n",
    "### 2-1. 데이터 구조\n",
    "- HTML과 유사한 구조\n",
    "- JSON과 유사하게 데이터를 주고 받음"
   ]
  },
  {
   "cell_type": "code",
   "execution_count": 13,
   "metadata": {
    "vscode": {
     "languageId": "xml"
    }
   },
   "outputs": [
    {
     "name": "stdout",
     "output_type": "stream",
     "text": [
      "Overwriting test.xml\n"
     ]
    }
   ],
   "source": [
    "%%writefile test.xml\n",
    "<?xml version=\"1.0\" encoding=\"utf-8\"?>\n",
    "<world name = \"주소록과 네이버 API 서비스키\">\n",
    "    <people name='김민국'>\n",
    "        <age>15</age>\n",
    "        <tall>183cm</tall>\n",
    "        <add>서울시 서대문구</add>\n",
    "    </people>\n",
    "    <people name='박한솔' >\n",
    "        <age>30</age>\n",
    "        <tall>175cm</tall>\n",
    "        <add>서울시 용산구</add>\n",
    "    </people>\n",
    "    <naver_api>\n",
    "        <client_id>JXRlq56Db1L0PA</client_id>\n",
    "        <client_secret>hwiniqqkgvH</client_secret>\n",
    "    </naver_api>\n",
    "</world>\n"
   ]
  },
  {
   "cell_type": "markdown",
   "metadata": {},
   "source": [
    "### 2-2. XML 데이터 파싱\n",
    "\n",
    "- root 노드에 world\n",
    "- 하위 자식 노드에 두 개의 people 존재\n",
    "- <> 태그 내에 들어가 있는 것 : 속성 (attributes)\n",
    "- 속성의 이름인 name의 value인 '김민국', '박한솔'\n",
    "- 파이썬에서 xml 문서를 파싱하기 위해서는 xml.etree.ElementTree 모듈 사용\n",
    "- 시작 태그와 /의 종료 태그 사이에 위치한 텍스트들이 실제 표현하고자 하는 내용\n",
    "- XML을 읽어 특정 내용을 추출하기 위해서 XML 문서를 ET.parse로 파싱하고 getroot() 메소드를 이용해 루트 태그를 추출하고 반복문을 이용해 자식 노드의 태그와 속성 추출"
   ]
  },
  {
   "cell_type": "code",
   "execution_count": 20,
   "metadata": {},
   "outputs": [
    {
     "name": "stdout",
     "output_type": "stream",
     "text": [
      "root.tag :  world\n",
      "name : 주소록과 네이버 API 서비스키\n",
      "183cm\n",
      "--------------------------------\n",
      "people {'name': '김민국'}\n",
      "people {'name': '박한솔'}\n",
      "naver_api {}\n",
      "--------------------------------\n",
      "서울시 서대문구\n",
      "서울시 용산구\n"
     ]
    }
   ],
   "source": [
    "import xml.etree.ElementTree as ET\n",
    "tree = ET.parse(\"test.xml\")\n",
    "root = tree.getroot()\n",
    "print('root.tag : ',root.tag)\n",
    "print('name :', root.get('name'))\n",
    "print(root[0][1].text)\n",
    "print('--------------------------------')\n",
    "for child in root:\n",
    "    print(child.tag, child.attrib)\n",
    "print('--------------------------------')\n",
    "for add in root.iter('add'):\n",
    "    print(add.text)\n"
   ]
  },
  {
   "cell_type": "markdown",
   "metadata": {},
   "source": [
    "- bs4 활용하여 파싱 후 텍스트 데이터 추출"
   ]
  },
  {
   "cell_type": "code",
   "execution_count": 25,
   "metadata": {},
   "outputs": [
    {
     "name": "stdout",
     "output_type": "stream",
     "text": [
      "김민국\n",
      "15\n",
      "183cm\n",
      "서울시 서대문구\n",
      "----------------------\n",
      "박한솔\n",
      "30\n",
      "175cm\n",
      "서울시 용산구\n",
      "----------------------\n",
      "JXRlq56Db1L0PA hwiniqqkgvH\n"
     ]
    }
   ],
   "source": [
    "from bs4 import BeautifulSoup as bs\n",
    "with open(\"test.xml\", 'r',encoding='utf-8') as f:\n",
    "    xml_doc = f.read()\n",
    "soup = bs(xml_doc, 'xml')\n",
    "for row in soup.find_all('people'):\n",
    "    print(row.get('name'))\n",
    "    print(row.age.text)\n",
    "    print(row.tall.text)\n",
    "    print(row.add.text)\n",
    "    print('----------------------')\n",
    "print(soup.world.naver_api.client_id.text, soup.world.naver_api.client_secret.text)\n"
   ]
  },
  {
   "cell_type": "markdown",
   "metadata": {},
   "source": [
    "### 2-3. 데이터 프레임으로 저장\n",
    "- 세부적인 자식노드의 속성은 attrib.get() 메서드 이용해서 내용을 추출\n",
    "- 태그 사이의 내용은 tag.text를 이용하여 추출"
   ]
  },
  {
   "cell_type": "code",
   "execution_count": 26,
   "metadata": {},
   "outputs": [
    {
     "data": {
      "text/html": [
       "<div>\n",
       "<style scoped>\n",
       "    .dataframe tbody tr th:only-of-type {\n",
       "        vertical-align: middle;\n",
       "    }\n",
       "\n",
       "    .dataframe tbody tr th {\n",
       "        vertical-align: top;\n",
       "    }\n",
       "\n",
       "    .dataframe thead th {\n",
       "        text-align: right;\n",
       "    }\n",
       "</style>\n",
       "<table border=\"1\" class=\"dataframe\">\n",
       "  <thead>\n",
       "    <tr style=\"text-align: right;\">\n",
       "      <th></th>\n",
       "      <th>이름</th>\n",
       "      <th>나이</th>\n",
       "      <th>키</th>\n",
       "      <th>주소</th>\n",
       "    </tr>\n",
       "  </thead>\n",
       "  <tbody>\n",
       "    <tr>\n",
       "      <th>0</th>\n",
       "      <td>김민국</td>\n",
       "      <td>15</td>\n",
       "      <td>183cm</td>\n",
       "      <td>서울시 서대문구</td>\n",
       "    </tr>\n",
       "    <tr>\n",
       "      <th>1</th>\n",
       "      <td>박한솔</td>\n",
       "      <td>30</td>\n",
       "      <td>175cm</td>\n",
       "      <td>서울시 용산구</td>\n",
       "    </tr>\n",
       "  </tbody>\n",
       "</table>\n",
       "</div>"
      ],
      "text/plain": [
       "    이름  나이      키        주소\n",
       "0  김민국  15  183cm  서울시 서대문구\n",
       "1  박한솔  30  175cm   서울시 용산구"
      ]
     },
     "execution_count": 26,
     "metadata": {},
     "output_type": "execute_result"
    }
   ],
   "source": [
    "import pandas as pd\n",
    "persons=[]\n",
    "for p in soup.find_all('people') :\n",
    "    persons.append({ \"이름\" : p.get(\"name\"),\n",
    "                 '나이': p.age.text,\n",
    "                 \"키\": p.tall.text,\n",
    "                 '주소':p.add.text})\n",
    "df = pd.DataFrame(persons)\n",
    "df\n"
   ]
  },
  {
   "cell_type": "markdown",
   "metadata": {},
   "source": [
    "- UTF-8이 아닌 EUC-KR이나 cp949일경우 decode('cp949')로 변경\n",
    "- urllib과 bs4의 find 문 활용한 웹 크롤링 방식"
   ]
  },
  {
   "cell_type": "code",
   "execution_count": 27,
   "metadata": {},
   "outputs": [
    {
     "name": "stdout",
     "output_type": "stream",
     "text": [
      "참조 :https://wikidocs.net/1278461. HTML 구조의 이해HTML은 웹 문서를 만들기 위하여 사용하는 기본적인 웹 언어의 한 종류이다. 하이퍼텍스트를 작성하기 위해 개발되었으며 인터넷 서비스의 하나인 월드와이드웹(WWW)을 통해서 볼 수 있는 문서를 만들 때 사용하는 웹 언어의 한 종류이다. 특히 인터넷에서 웹을 통해 접근되는 대부분의 웹 페이지들은 HTML로 작성되는데 문서의 글자 크기, 글자색, 글자모양, 그래픽, 문서이동(하이퍼링크) 등을 정의하는 명령어들이 있다. HTML에서 사용하는 명령어는 태그(tag)라고 하는데 꺽쇠괄호'<>'를 사용하여 나타낸다. HTML 문서는 크게 Head 부분과 Body로 나누어지는데 Head 부분에는 문서의 제목을 포함한 기본적인 정보들을 포함하고 있으며 Body 부분에는 실제 웹 페이지에 나타나는 본문 내용으로 구성된다. 그래서 이러한 구조를 간단하게 요약해서 표기하면 아래와 같은 그림으로 표현할 수 있다.좀더 구체적으로 위에 그림 중에 본문 문단을 의미하는 p 태그의 코드 기준으로 설명하면 HTML 요소는 시작 태그와 /로 시작하는 종료 태그 사이에 내용들이 들어 있으며, 시작 태그 안에는 속성명(Attributes) 'class'와 속성값(Values) 'para'를 포함하고 있고, '빅데이터 분석과 활용'이라는 내용을 포함하고 있는 태그이다.보다 다양한 HTML 태그에 대한 이해를 위해서 자주 사용하는 태그들을 표의 형태로 정리하면 아래와 같다.이러한 구조를 사람이 보기 편한 Text 문서로 파싱하기 위해서는 BeautifulSoup라는 라이브러리를 이용해야 한다.이라는 파이썬 라이브러리는 이와 같이 HTML 문서를 파싱하여 텍스트 데이터를 추출할 수 있는 유용한 도구이다.2.HTML 문서의 사례와 텍스트 추출이해를 돕기위해 아래와 같이 HTML 소스코드를 아래와 같이 작성하여 '웹크롤링 연습.html'로 파일을 저장하고 웹브라우저로 열어보면 HTML로 작성된 문서의 규칙을 이해할 수 있다.이해를 돕기위해 아래와 같이 HTML 소스코드를 아래와 같이 작성하여 '웹크롤링 연습.html'로 파일을 저장하고 웹브라우저로 열어보면 HTML로 작성된 문서의 규칙을 이해할 수 있다.<html><head><title>웹크롤링 연습</title></head><body><p class=\"title\"><b><h1>HTML 연습</h1></b></p><p class=\"link\">인터넷 링크를 작성하는 방법은<a class=\"blog\" href='https://ai-bigdataanalysis.blogspot.com/' id=\"link1\">인공지능 기반 덱스트 데이터 분석 블로그</a>와<a class=\"wikidocs\" href=\"https://wikidocs.net/book/6280\" id=\"link2\">인공지능 기반 빅데이터 자연어 처리와 통계 분석</a>처럼HTML 링크로 작성할 수 있습니다.</p><p class=\"story\">그리고 HTML 문서는 글자의 크기도 조정 가능해서<h2>크게</h2>작성할 수도 있고, <h4>작게</h4> 작성할 수도 있습니다.</p></body></html>위에 있는 소스코드로 작성된 HTML 파일을 웹브라우저로 열면 아래와 같은 형태의 웹페이지로 출력됨을 알 수 있다. 특히 여기서 인공지능 기반 덱스트 데이터 분석 블로그와 인공지능 기반 빅데이터 자연어 처리와 통계 분석의 경우는 a 태그에서 href 속성을 이용한 링크로 연결되어 다른 웹페이지로 이동할 수 있다.<html><head><title>웹크롤링 연습</title></head><body><p class=\"title\"><b><h1>HTML 연습</h1></b></p><p class=\"link\">인터넷 링크를 작성하는 방법은<a class=\"blog\" href='https://ai-bigdataanalysis.blogspot.com/' id=\"link1\">인공지능 기반 덱스트 데이터 분석 블로그</a>와<a class=\"wikidocs\" href=\"https://wikidocs.net/book/6280\" id=\"link2\">인공지능 기반 빅데이터 자연어 처리와 통계 분석</a>처럼HTML 링크로 작성할 수 있습니다.</p><p class=\"story\">그리고 HTML 문서는 글자의 크기도 조정 가능해서<h2>크게</h2>작성할 수도 있고, <h4>작게</h4> 작성할 수도 있습니다.</p></body></html>위에 있는 소스코드로 작성된 HTML 파일을 웹브라우저로 열면 아래와 같은 형태의 웹페이지로 출력됨을 알 수 있다. 특히 여기서 인공지능 기반 덱스트 데이터 분석 블로그와 인공지능 기반 빅데이터 자연어 처리와 통계 분석의 경우는 a 태그에서 href 속성을 이용한 링크로 연결되어 다른 웹페이지로 이동할 수 있다.와코랩을 이용해서 위에 그림으로 설명한 P 태그의 내용을 추출하는 방법을 설명하면 아래와 같은 코드를 실행시키면 추출이 가능하다.먼저 뷰티풀소프라는 라이브러리를 아래와 같이 설치한다.먼저 뷰티풀소프라는 라이브러리를 아래와 같이 설치한다.!pip install bs4그리고 태그를 파싱해서 그안에 담겨있는 텍스트를 추출하거나 속성에 해당하는 속성값을 추출는 방법을 정리하면 아래와 같다.그리고 태그를 파싱해서 그안에 담겨있는 텍스트를 추출하거나 속성에 해당하는 속성값을 추출는 방법을 정리하면 아래와 같다.fromimportas'''<p class='para'>빅데이터 분석과 활용</p>''''html.parser'print\"p\"print\"p\"\"class\"3. 웹크롤링 방법 사례3. 웹크롤링 방법 사례웹크롤링을 하기 위해 우선적으로 해야할 일은 우리가 정보를 추출하고자하는 웹페이지의 로봇배제기준을 확인하여 추출이 가능한 웹페이지인지 확인해야한다. 현재 이 블로그의 로봇배제기준을 확인하려면 웹페이지 주소창에 있는 주소에 추가하여 /robots.txt 를 추가하여 확인하는 것이다.웹크롤링을 하기 위해 우선적으로 해야할 일은 우리가 정보를 추출하고자하는 웹페이지의 로봇배제기준을 확인하여 추출이 가능한 웹페이지인지 확인해야한다. 현재 이 블로그의 로봇배제기준을 확인하려면 웹페이지 주소창에 있는 주소에 추가하여 /robots.txt 를 추가하여 확인하는 것이다.가. 기본정보 추출가. 기본정보 추출기본적인 웹페이지의 정보를 크롤링하기 위해서는 아래와 같이 requests나 urllib 라이브러리를 이용하여 HTML 정보를 불러오고 이를 BeautifulSoup으로 파싱하여 구체적인 텍스트 정보를 얻을 수있다.기본적인 웹페이지의 정보를 크롤링하기 위해서는 아래와 같이 requests나 urllib 라이브러리를 이용하여 HTML 정보를 불러오고 이를 BeautifulSoup으로 파싱하여 구체적인 텍스트 정보를 얻을 수있다.import requestsimport requestsfrom bs4 import BeautifulSoup as bsfrom bs4 import BeautifulSoup as bsurl = \"https://enjoystat.blogspot.com/2024/03/html.html\"url = \"https://enjoystat.blogspot.com/2024/03/html.html\"resp = requests.get(url)resp = requests.get(url)print(resp)print(resp)html_src = resp.texthtml_src = resp.textsoup = bs(html_src, 'html.parser')soup = bs(html_src, 'html.parser')나. 태그사이에 있는 정보 추출나. 태그사이에 있는 정보 추출태그사이에 있는 정보를 추출하기 위해서는 f12 또는 Ctrl+Shift+I로 소스코드가 팝업되도록 펼치고, 좌상단 element select 또는 Ctrl+Shift+C로 마우스 선택기를 활성화하여 추출하고자하는 행에서 우측마우 클릭하고, copy - copy selector 선택 복사하여 아래와 같이 Select_one문에 붙여넣기하여 기본정보를 추출할 수 있다.태그사이에 있는 정보를 추출하기 위해서는 f12 또는 Ctrl+Shift+I로 소스코드가 팝업되도록 펼치고, 좌상단 element select 또는 Ctrl+Shift+C로 마우스 선택기를 활성화하여 추출하고자하는 행에서 우측마우 클릭하고, copy - copy selector 선택 복사하여 아래와 같이 Select_one문에 붙여넣기하여 기본정보를 추출할 수 있다.soup.select_one(\"#Blog1 > div.blog-posts.hfeed > div > div > div > div.post.hentry.uncustomized-post-template > h3\").text.strip()soup.select_one(\"#Blog1 > div.blog-posts.hfeed > div > div > div > div.post.hentry.uncustomized-post-template > h3\").text.strip()다. 속성값 추출다. 속성값 추출태그 내에 작성되어 있는 속성값을 추출하기 위해서는 get(\"속성명\") 메소드를 활용하여 속성값을 추출할 수 있다.태그 내에 작성되어 있는 속성값을 추출하기 위해서는 get(\"속성명\") 메소드를 활용하여 속성값을 추출할 수 있다.print(soup.select_one(\"#Profile1 > div > a\").get(\"href\"))print(soup.select_one(\"#Profile1 > div > a\").get(\"href\"))라. 반복되는 내용 추출라. 반복되는 내용 추출웹페이지에 있는 세부 텍스트 내용은 통상 패러그래프 태그인 P 태그에 반복적으로 들어있기 때문에 아래와 같이 for문을 이용하여 추출할 수 있다.웹페이지에 있는 세부 텍스트 내용은 통상 패러그래프 태그인 P 태그에 반복적으로 들어있기 때문에 아래와 같이 for문을 이용하여 추출할 수 있다.text =\"\"text =\"\"body=soup.find(\"div\", {\"class\":\"post-body entry-content\"})body=soup.find(\"div\", {\"class\":\"post-body entry-content\"})for para in body.select(\"p\"):for para in body.select(\"p\"):text=text+para.text.strip()text=text+para.text.strip()texttext\n"
     ]
    }
   ],
   "source": [
    "# urllib 라이브러리에서 urlopen 함수를 import\n",
    "from urllib.request import urlopen\n",
    "\n",
    "# BeautifulSoup 모듈에서 BeautifulSoup 클래스를 bs라는 이름으로 import\n",
    "from bs4 import BeautifulSoup as bs\n",
    "\n",
    "# 웹 페이지 요청 및 응답 객체 가져오기\n",
    "# 'https://ai-bigdataanalysis.blogspot.com/2024/03/html.html' 페이지에 접근하여 응답 객체를 response 변수에 저장\n",
    "response = urlopen('https://ai-bigdataanalysis.blogspot.com/2024/03/html.html')\n",
    "\n",
    "# 응답된 HTML 문서를 읽어와서 바이너리 데이터를 문자열로 디코딩\n",
    "html_doc = response.read().decode()\n",
    "\n",
    "# BeautifulSoup 객체 생성 및 HTML 파싱\n",
    "# HTML 소스를 BeautifulSoup을 사용하여 파싱하고 soup 변수에 저장\n",
    "soup = bs(html_doc, 'html.parser')\n",
    "\n",
    "# 특정 div 태그를 선택하여 해당 콘텐츠 가져오기\n",
    "# 클래스가 'post-body entry-content'인 div 태그를 찾음\n",
    "content = soup.find(\"div\", {\"class\": \"post-body entry-content\"})\n",
    "\n",
    "# 텍스트를 저장할 변수 초기화\n",
    "text = \"\"\n",
    "\n",
    "# 찾은 div 태그 내부에서 모든 <span> 태그를 순회하면서 텍스트를 추출\n",
    "if content:  # content가 None이 아닐 경우에만 실행\n",
    "    for para in content.find_all(\"span\"):\n",
    "        # 각 <span> 태그의 텍스트를 가져와서 양쪽 공백 제거 후 text 변수에 추가\n",
    "        text += para.text.strip()\n",
    "\n",
    "# 최종적으로 수집된 텍스트 출력\n",
    "print(text)\n"
   ]
  },
  {
   "cell_type": "markdown",
   "metadata": {},
   "source": [
    "## 3. 공공데이터 API\n",
    "- 각 자료들을 활용하기 위한 Service key 확보 (강의 내용 확인)\n",
    "- 미리 공공데이터 API 발급 신청을 완료한 상태에서 진행이 가능합니다\n",
    "- 각 파일들을 다운로드 받아서 어떻게 다른지 직접 확인해봅니다\n",
    "### 3-1. XML API 활용\n",
    "- API_KEY: 발급받은 공공데이터 포털 API 키를 입력합니다\n",
    "- BASE_URL: 공공데이터 API의 엔드포인트 URL을 입력합니다\n",
    "- params: API 문서에서 요구하는 파라미터를 추가로 정의합니다\n",
    "- XML 파싱: 응답 데이터를 XML로 파싱하고 필요한 정보를 추출합니다"
   ]
  },
  {
   "attachments": {
    "image-2.png": {
     "image/png": "[encoded data removed]"
    },
    "image.png": {
     "image/png": "[encoded data removed]"
    }
   },
   "cell_type": "markdown",
   "metadata": {},
   "source": [
    "![image.png](attachment:image.png)\n",
    "![image-2.png](attachment:image-2.png)\n",
    "- 참고문서에 있는 한글 파일 다운로드\n",
    "- 한글 파일에서 요청메시지 항목을 찾기\n",
    "- 요청 메시지의 검정색 가려져 있는 부분이 엔드포인트 URL\n",
    "- 요청 메시지의 인증키 뒷 부분(numOfRow=10, pageNo=1, apiType=XML, year=2019)가 params에 해당됨\n",
    "- 서비스키는 해당 웹사이트 페이지에 일반인증키가 해당됨"
   ]
  },
  {
   "cell_type": "code",
   "execution_count": null,
   "metadata": {},
   "outputs": [],
   "source": [
    "from google.colab import drive\n",
    "drive.mount('/content/gdrive', force_remount=True)"
   ]
  },
  {
   "cell_type": "markdown",
   "metadata": {},
   "source": [
    "- 디렉토리 존재 유무 확인 필수\n",
    "- 새로운 XML 파일 생성"
   ]
  },
  {
   "cell_type": "code",
   "execution_count": 28,
   "metadata": {
    "vscode": {
     "languageId": "xml"
    }
   },
   "outputs": [
    {
     "name": "stdout",
     "output_type": "stream",
     "text": [
      "Writing /content/gdrive/MyDrive/elderly_person.xml\n"
     ]
    }
   ],
   "source": [
    "%%writefile /content/gdrive/MyDrive/elderly_person.xml\n",
    "<?xml version=\"1.0\" encoding=\"utf-8\"?>\n",
    "<body>\n",
    "    <elderly>\n",
    "    <serviceKey>qti9hzkkxlvaMjcYZ4mXJgiIjBBNk0K0zpniWtIKAHbrv5aE0WqKoSvrN2ZEd8GoLhGWgKAMKsP7wV6GbyazjQ%3D%3D</serviceKey>\n",
    "    </elderly>\n",
    "</body>\n"
   ]
  },
  {
   "cell_type": "markdown",
   "metadata": {},
   "source": [
    "- 파일을 읽고 서비스 키를 추출한다"
   ]
  },
  {
   "cell_type": "code",
   "execution_count": 30,
   "metadata": {},
   "outputs": [],
   "source": [
    "import bs4\n",
    "# 공통 경로 설정\n",
    "my_path = \"/content/gdrive/MyDrive\"\n",
    "\n",
    "# 파일 경로 생성\n",
    "file_path = os.path.join(my_path, \"elderly_person.xml\")\n",
    "\n",
    "# XML 파일 읽기\n",
    "with open(file_path, 'r') as f:\n",
    "    xml_doc = f.read()\n",
    "elderly_person = bs4.BeautifulSoup(xml_doc, features=\"xml\")\n",
    "my_key = elderly_person.body.elderly.serviceKey.text\n"
   ]
  },
  {
   "cell_type": "markdown",
   "metadata": {},
   "source": [
    "- 요청에 필요한 항목들을 정리한다 (항목들을 모두 연결하면 한글 파일의 요청메시지와 같아짐)"
   ]
  },
  {
   "cell_type": "code",
   "execution_count": 31,
   "metadata": {},
   "outputs": [
    {
     "name": "stdout",
     "output_type": "stream",
     "text": [
      "http://apis.data.go.kr/1352000/ODMS_STAT_24/callStat24Api?&numOfRows=10&pageNo=1&apiType=XML&year=2019&serviceKey=qti9hzkkxlvaMjcYZ4mXJgiIjBBNk0K0zpniWtIKAHbrv5aE0WqKoSvrN2ZEd8GoLhGWgKAMKsP7wV6GbyazjQ%3D%3D\n"
     ]
    }
   ],
   "source": [
    "url = 'http://apis.data.go.kr/1352000/ODMS_STAT_24/callStat24Api?'\n",
    "params ='&numOfRows=10&pageNo=1&apiType=XML&year=2019'\n",
    "servicekey = f'&serviceKey={my_key}'\n",
    "print(url+params+servicekey)\n"
   ]
  },
  {
   "cell_type": "markdown",
   "metadata": {},
   "source": [
    "- 한글 파일의 응답메시지를 참고하면 <item>에 필요한 정보들이 있는 것을 확인할 수 있다"
   ]
  },
  {
   "cell_type": "code",
   "execution_count": 32,
   "metadata": {},
   "outputs": [],
   "source": [
    "from urllib.request import urlopen\n",
    "from bs4 import BeautifulSoup\n",
    "\n",
    "result=urlopen(url+servicekey+params)\n",
    "house=BeautifulSoup(result, 'lxml-xml')\n",
    "items=house.find_all('item')"
   ]
  },
  {
   "cell_type": "code",
   "execution_count": 33,
   "metadata": {},
   "outputs": [
    {
     "name": "stdout",
     "output_type": "stream",
     "text": [
      "[<item>\n",
      "<year>2019</year>\n",
      "<all>1500413</all>\n",
      "<age65-69>379377</age65-69>\n",
      "<age70-74>339066</age70-74>\n",
      "<age75-79>348966</age75-79>\n",
      "<age80-84>260141</age80-84>\n",
      "<age85-89>126045</age85-89>\n",
      "<age90u>46818</age90u>\n",
      "</item>]\n"
     ]
    }
   ],
   "source": [
    "print(items) #출력으로 확인하며 응답메시지와 비교하면 같다는 것을 알 수 있다"
   ]
  },
  {
   "cell_type": "markdown",
   "metadata": {},
   "source": [
    "- 가져온 정보들을 csv 파일로 저장"
   ]
  },
  {
   "cell_type": "code",
   "execution_count": 34,
   "metadata": {},
   "outputs": [
    {
     "name": "stdout",
     "output_type": "stream",
     "text": [
      "CSV 파일이 생성되었습니다: /content/gdrive/MyDrive\\elderly_person.xml.csv\n",
      "\n",
      "CSV 파일의 내용:\n",
      "['year', 'all', 'age65-69', 'age70-74', 'age75-79', 'age80-84', 'age85-89', 'age90u']\n",
      "['2019', '1500413', '379377', '339066', '348966', '260141', '126045', '46818']\n"
     ]
    }
   ],
   "source": [
    "import os\n",
    "import csv\n",
    "import pandas as pd\n",
    "\n",
    "# CSV 파일 경로 생성\n",
    "csv_file_path = os.path.join(my_path, \"elderly_person.xml.csv\")\n",
    "\n",
    "# CSV 파일 생성 및 데이터 저장\n",
    "with open(csv_file_path, mode='w', newline='', encoding='utf-8') as file:\n",
    "    writer = csv.writer(file)\n",
    "\n",
    "    # 헤더 작성\n",
    "    header = ['year', 'all', 'age65-69', 'age70-74', 'age75-79', 'age80-84', 'age85-89', 'age90u']\n",
    "    writer.writerow(header)\n",
    "\n",
    "    # 데이터 추출 및 작성\n",
    "    # items는 BeautifulSoup 또는 다른 데이터 소스로부터 생성된 리스트라고 가정\n",
    "    for item in items:\n",
    "        row = [\n",
    "            item.find('year').text if item.find('year') else '',\n",
    "            item.find('all').text if item.find('all') else '',\n",
    "            item.find('age65-69').text if item.find('age65-69') else '',\n",
    "            item.find('age70-74').text if item.find('age70-74') else '',\n",
    "            item.find('age75-79').text if item.find('age75-79') else '',\n",
    "            item.find('age80-84').text if item.find('age80-84') else '',\n",
    "            item.find('age85-89').text if item.find('age85-89') else '',\n",
    "            item.find('age90u').text if item.find('age90u') else '',\n",
    "        ]\n",
    "        writer.writerow(row)\n",
    "\n",
    "print(f\"CSV 파일이 생성되었습니다: {csv_file_path}\")\n",
    "\n",
    "# 저장된 CSV 파일 읽기 및 출력\n",
    "print(\"\\nCSV 파일의 내용:\")\n",
    "with open(csv_file_path, mode='r', encoding='utf-8') as file:\n",
    "    csv_reader = csv.reader(file)\n",
    "    for row in csv_reader:\n",
    "        print(row)\n"
   ]
  },
  {
   "cell_type": "markdown",
   "metadata": {},
   "source": [
    "### 3-2. JSON API 활용\n",
    "- apiType만 바뀜"
   ]
  },
  {
   "cell_type": "code",
   "execution_count": 35,
   "metadata": {},
   "outputs": [
    {
     "name": "stdout",
     "output_type": "stream",
     "text": [
      "JSON 파일이 생성되었습니다: /content/gdrive/MyDrive\\elderly.json\n"
     ]
    }
   ],
   "source": [
    "# JSON 데이터 생성 및 저장\n",
    "elderly_person = {\n",
    "    'elderly': {\n",
    "        \"serviceKey\": \"qti9hzkkxlvaMjcYZ4mXJgiIjBBNk0K0zpniWtIKAHbrv5aE0WqKoSvrN2ZEd8GoLhGWgKAMKsP7wV6GbyazjQ%3D%3D\"\n",
    "    }\n",
    "}\n",
    "\n",
    "# JSON 파일 경로 생성\n",
    "json_file_path = os.path.join(my_path, \"elderly.json\")\n",
    "\n",
    "with open(json_file_path, 'w') as f:\n",
    "    json.dump(elderly_person, f)\n",
    "\n",
    "print(f\"JSON 파일이 생성되었습니다: {json_file_path}\")"
   ]
  },
  {
   "cell_type": "code",
   "execution_count": 36,
   "metadata": {},
   "outputs": [],
   "source": [
    "# JSON 파일 읽기\n",
    "with open(json_file_path, 'r') as f:\n",
    "    data = json.load(f)\n",
    "\n",
    "# 서비스 키 추출\n",
    "service_key = data['elderly']['serviceKey']\n",
    "\n",
    "# API 호출\n",
    "url = 'http://apis.data.go.kr/1352000/ODMS_STAT_24/callStat24Api?'\n",
    "params = '&numOfRows=10&pageNo=1&apiType=XML&year=2019'\n",
    "servicekey = f'&serviceKey={service_key}'\n",
    "result = urlopen(url + params + servicekey)\n"
   ]
  },
  {
   "cell_type": "markdown",
   "metadata": {},
   "source": [
    "- 가져온 파일들을 json 형식으로 저장"
   ]
  },
  {
   "cell_type": "code",
   "execution_count": 37,
   "metadata": {},
   "outputs": [
    {
     "name": "stdout",
     "output_type": "stream",
     "text": [
      "XML 응답 데이터를 JSON 형식으로 저장하였습니다: /content/gdrive/MyDrive\\elderly_data.json\n",
      "\n",
      "저장된 JSON 데이터:\n",
      "{\n",
      "    \"items\": [\n",
      "        {\n",
      "            \"year\": \"2019\",\n",
      "            \"all\": \"1500413\",\n",
      "            \"age65-69\": \"379377\",\n",
      "            \"age70-74\": \"339066\",\n",
      "            \"age75-79\": \"348966\",\n",
      "            \"age80-84\": \"260141\",\n",
      "            \"age85-89\": \"126045\",\n",
      "            \"age90u\": \"46818\"\n",
      "        }\n",
      "    ]\n",
      "}\n"
     ]
    }
   ],
   "source": [
    "house = BeautifulSoup(result, 'lxml-xml')\n",
    "items = house.find_all('item')\n",
    "\n",
    "# JSON 출력 파일 경로 생성\n",
    "json_output_file = os.path.join(my_path, \"elderly_data.json\")\n",
    "\n",
    "# JSON 변환 및 저장\n",
    "json_data = {\"items\": []}\n",
    "\n",
    "for item in items:\n",
    "    json_data[\"items\"].append({\n",
    "        \"year\": item.find('year').text if item.find('year') else '',\n",
    "        \"all\": item.find('all').text if item.find('all') else '',\n",
    "        \"age65-69\": item.find('age65-69').text if item.find('age65-69') else '',\n",
    "        \"age70-74\": item.find('age70-74').text if item.find('age70-74') else '',\n",
    "        \"age75-79\": item.find('age75-79').text if item.find('age75-79') else '',\n",
    "        \"age80-84\": item.find('age80-84').text if item.find('age80-84') else '',\n",
    "        \"age85-89\": item.find('age85-89').text if item.find('age85-89') else '',\n",
    "        \"age90u\": item.find('age90u').text if item.find('age90u') else '',\n",
    "    })\n",
    "\n",
    "# JSON 데이터 저장\n",
    "with open(json_output_file, 'w', encoding='utf-8') as json_file:\n",
    "    json.dump(json_data, json_file, ensure_ascii=False, indent=4)\n",
    "\n",
    "print(f\"XML 응답 데이터를 JSON 형식으로 저장하였습니다: {json_output_file}\")\n",
    "\n",
    "# 저장된 JSON 데이터 출력\n",
    "print(\"\\n저장된 JSON 데이터:\")\n",
    "print(json.dumps(json_data, ensure_ascii=False, indent=4))"
   ]
  }
 ],
 "metadata": {
  "kernelspec": {
   "display_name": "Python 3",
   "language": "python",
   "name": "python3"
  },
  "language_info": {
   "codemirror_mode": {
    "name": "ipython",
    "version": 3
   },
   "file_extension": ".py",
   "mimetype": "text/x-python",
   "name": "python",
   "nbconvert_exporter": "python",
   "pygments_lexer": "ipython3",
   "version": "3.9.13"
  }
 },
 "nbformat": 4,
 "nbformat_minor": 2
}
