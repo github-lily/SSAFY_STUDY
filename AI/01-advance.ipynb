{
 "cells": [
  {
   "cell_type": "markdown",
   "metadata": {},
   "source": [
    "# 머신러닝 모델 자료\n",
    "## Random Forest\n",
    "`https://mozenworld.tistory.com/entry/%EB%A8%B8%EC%8B%A0%EB%9F%AC%EB%8B%9D-%EB%AA%A8%EB%8D%B8-%EC%86%8C%EA%B0%9C-4-%EB%9E%9C%EB%8D%A4-%ED%8F%AC%EB%A0%88%EC%8A%A4%ED%8A%B8-Random-Forest`\n",
    "- 해당 블로그에는 실습에 사용된 Random Forest 모델에 대해 자세히 작성되어 있습니다. 사용하는 코드도 천천히 따라할 수 있고, 이 모델이 어떻게 동작하는지 여러 정보들을 종합해 작성하여 머신러닝 모델에 대한 시야를 넓히는 데 될 것입니다.\n",
    "앞으로 모델링 실습을 진행할 때, Random Forest가 어떤 식으로 동작하는지 확인하고 파라미터를 변경해가며 코드를 실행하며 분석합니다.\n",
    "\n",
    "\n",
    "## Logistic Regression\n",
    "`https://aws.amazon.com/ko/what-is/logistic-regression/`\n",
    "- 이 글에는 실습에 사용된 Logistic Regression 모델에 대해 자세히 작성되어 있습니다. 해당 모델이 중요한 이유, 응용 분야 등 단순히 동작 방식에 대한 설명에만 국한하지 않고 여러 방면으로 설명을 하고 있습니다.\n",
    "앞으로 모델링 실습을 진행할 때, Logistic Regression에 대한 구조와 응용법을 배우고 이 모델을 어떤 상황에 적용하면 좋을 지 생각해봅니다. 또 다른 페이지를 검색하여 코드 적용법을 확인하면 더욱 좋습니다.\n",
    "\n",
    "\n",
    "## 한국 데이터 산업 진흥원\n",
    "`https://kdata.or.kr/kr/board/dataonair_data/boardList.do?pageIndex=1&bbsIdx=&searchCfgCatePc=&searchCondition=all&searchKeyword=`\n",
    "- 이 자료는 한국데이터산업진흥원에서 제공하는 데이터 교육 자료입니다. 데이터 수집, 전처리, 모델 학습, 활용 시나리오 등을 블록 그림을 이용하여 체계적으로 설명하고 있습니다.\n",
    "데이터 사이언스 캔버스 카테고리의 글을 차례대로 읽으며 데이터를 처리하는 체계적인 프로세스를 확인할 수 있습니다.\n",
    "\n",
    "\n",
    "## Data-Centric AI 논문\n",
    "`https://arxiv.org/pdf/2301.04819v3`\n",
    "- 이 논문에서는 Data-Centric AI가 무엇인지, 왜 중요한지에 대해 언급하고 앞으로 나아가야 할 방향에 대해 제시하고 있습니다. 강의에서 모두 담기 힘들었던 데이터의 중요성을 조금 더 구체적으로 체감할 수 있을 것입니다.\n",
    "학습자는 이 논문을 읽으며 데이터가 모델에 있어 얼마나 중요한지 익힐 수 있습니다."
   ]
  }
 ],
 "metadata": {
  "language_info": {
   "name": "python"
  }
 },
 "nbformat": 4,
 "nbformat_minor": 2
}
