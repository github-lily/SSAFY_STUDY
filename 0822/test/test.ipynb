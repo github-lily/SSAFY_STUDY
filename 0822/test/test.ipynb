{
 "cells": [
  {
   "cell_type": "code",
   "execution_count": 1,
   "metadata": {},
   "outputs": [
    {
     "name": "stdout",
     "output_type": "stream",
     "text": [
      "[0, 0, 0, 0]\n",
      "[0, 0, 0, 1]\n",
      "[0, 0, 1, 0]\n",
      "[0, 0, 1, 1]\n",
      "[0, 1, 0, 0]\n",
      "[0, 1, 0, 1]\n",
      "[0, 1, 1, 0]\n",
      "[0, 1, 1, 1]\n",
      "[1, 0, 0, 0]\n",
      "[1, 0, 0, 1]\n",
      "[1, 0, 1, 0]\n",
      "[1, 0, 1, 1]\n",
      "[1, 1, 0, 0]\n",
      "[1, 1, 0, 1]\n",
      "[1, 1, 1, 0]\n",
      "[1, 1, 1, 1]\n"
     ]
    }
   ],
   "source": [
    "bit = [0,0,0,0]\n",
    "for i in range(2) :\n",
    "    bit[0] = i\n",
    "    for j in range(2) :\n",
    "        bit[1] = j\n",
    "        for k in range(2) :\n",
    "            bit[2] = k\n",
    "            for l in range(2) :\n",
    "                bit[3] = l\n",
    "                print(bit)"
   ]
  }
 ],
 "metadata": {
  "kernelspec": {
   "display_name": "Python 3",
   "language": "python",
   "name": "python3"
  },
  "language_info": {
   "codemirror_mode": {
    "name": "ipython",
    "version": 3
   },
   "file_extension": ".py",
   "mimetype": "text/x-python",
   "name": "python",
   "nbconvert_exporter": "python",
   "pygments_lexer": "ipython3",
   "version": "3.9.13"
  }
 },
 "nbformat": 4,
 "nbformat_minor": 2
}
